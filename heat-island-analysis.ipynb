{
 "cells": [
  {
   "cell_type": "markdown",
   "metadata": {},
   "source": [
    "# Urban Heat Island Analysis"
   ]
  },
  {
   "cell_type": "markdown",
   "metadata": {},
   "source": [
    "#### Importing libraries and setting column width"
   ]
  },
  {
   "cell_type": "code",
   "execution_count": 3,
   "metadata": {},
   "outputs": [],
   "source": [
    "import os\n",
    "import json\n",
    "import requests\n",
    "import pandas as pd\n",
    "from langchain_openai import ChatOpenAI #, JsonOutputParser\n",
    "from langchain_core.prompts import ChatPromptTemplate, PromptTemplate\n",
    "from langchain_core.output_parsers import JsonOutputParser, StrOutputParser\n",
    "from pydantic import BaseModel, Field, validator, create_model\n",
    "from typing import List, Optional, Text, Dict\n",
    "from pprint import pprint\n",
    "from IPython.display import display, Markdown\n",
    "import plotly.express as px\n",
    "import plotly.graph_objects as go\n",
    "import xarray as xr\n",
    "import geopandas as gpd\n",
    "from shapely.geometry import Point, box\n",
    "import fiona"
   ]
  },
  {
   "cell_type": "code",
   "execution_count": 4,
   "metadata": {},
   "outputs": [],
   "source": [
    "pd.set_option('display.max_colwidth', 250)"
   ]
  },
  {
   "cell_type": "markdown",
   "metadata": {},
   "source": [
    "### Grabbing Open AI key"
   ]
  },
  {
   "cell_type": "code",
   "execution_count": 5,
   "metadata": {},
   "outputs": [],
   "source": [
    "# our OpenAI token\n",
    "creds_file_open_ai = r\"c:/Users/Chris/.secret/open_ai.txt\"\n",
    "with open(creds_file_open_ai) as f:\n",
    "    creds_open_ai = f.read()\n",
    "\n",
    "os.environ['OPENAI_API_KEY'] = creds_open_ai"
   ]
  },
  {
   "cell_type": "markdown",
   "metadata": {},
   "source": [
    "You can access MODIS LST data through various APIs provided by NASA and other institutions. One of the most commonly used APIs is the **NASA Earthdata Search API**. Additionally, you can use the `pyproj` and `sentinelsat` libraries to access and download MODIS data.\n",
    "\n",
    "### Accessing MODIS LST Data via NASA Earthdata API\n",
    "\n",
    "To use the NASA Earthdata API, you will need to:\n",
    "\n",
    "1. **Register for a NASA Earthdata Account:**\n",
    "   - You need an Earthdata account to access the data. You can register at [Earthdata Login](https://urs.earthdata.nasa.gov/users/new).\n",
    "\n",
    "2. **Use `pyproj` for Coordinate Transformations:**\n",
    "   - If needed, you can use `pyproj` to handle coordinate transformations.\n",
    "\n",
    "3. **Use `sentinelsat` or Other Libraries:**\n",
    "   - Use libraries like `sentinelsat` for programmatic access to Earth observation data.\n",
    "\n",
    "Here’s how you can access MODIS LST data using the NASA Earthdata API and the `pyproj` library:"
   ]
  },
  {
   "cell_type": "markdown",
   "metadata": {},
   "source": [
    "## JMI Addition: Generate a Token\n",
    "- https://urs.earthdata.nasa.gov/users/jirvingphd/user_tokens \n",
    "    - Use \"Authorization: Bearer\" header.\n",
    "\n",
    "To use the NASA Earthdata API with a token, you need to generate a token from the NASA Earthdata Login (EDL) and use it in your API requests.\n",
    "\n",
    "### Step-by-Step Guide\n",
    "\n",
    "1. **Generate a Token from NASA Earthdata Login:**\n",
    "   - Log in to your [NASA Earthdata Login](https://urs.earthdata.nasa.gov).\n",
    "   - Navigate to the \"My Profile\" section.\n",
    "   - Generate a new token under the \"User Profile\" section.\n",
    "\n",
    "2. **Use the Token in Your API Requests:**\n",
    "   - Use the generated token in the `Authorization` header of your API requests."
   ]
  },
  {
   "cell_type": "code",
   "execution_count": 6,
   "metadata": {},
   "outputs": [
    {
     "name": "stdout",
     "output_type": "stream",
     "text": [
      "dict_keys(['token'])\n"
     ]
    }
   ],
   "source": [
    "# where we stored the token locally on our PC\n",
    "creds_json = \"./earthdata_creds.json\"\n",
    "with open(creds_json) as f:\n",
    "    creds = json.load(f)\n",
    "print(creds.keys())\n",
    "\n",
    "# Your NASA Earthdata token\n",
    "token = creds['token']"
   ]
  },
  {
   "cell_type": "code",
   "execution_count": 7,
   "metadata": {},
   "outputs": [
    {
     "name": "stdout",
     "output_type": "stream",
     "text": [
      "{'feed': {'updated': '2024-07-05T02:48:07.067Z', 'id': 'https://cmr.earthdata.nasa.gov:443/search/granules.json?short_name=MOD11A2&version=061&temporal=2023-06-01T00%3A00%3A00Z%2C2023-08-31T23%3A59%3A59Z&bounding_box=-95.5%2C29.7%2C-95.0%2C30.2&page_size=10&page_num=1', 'title': 'ECHO granule metadata', 'entry': [{'producer_granule_id': 'MOD11A2.A2023145.h09v06.061.2023154043201', 'time_start': '2023-05-25T00:00:00.000Z', 'cloud_cover': '0.0', 'updated': '2023-06-02T23:36:49.187Z', 'dataset_id': 'MODIS/Terra Land Surface Temperature/Emissivity 8-Day L3 Global 1km SIN Grid V061', 'data_center': 'LPCLOUD', 'title': 'MOD11A2.A2023145.h09v06.061.2023154043201', 'coordinate_system': 'GEODETIC', 'day_night_flag': 'BOTH', 'time_end': '2023-06-01T23:59:59.000Z', 'id': 'G2704231088-LPCLOUD', 'original_format': 'ECHO10', 'granule_size': '3.23938', 'browse_flag': True, 'polygons': [['20.0041667 -95.7854937 20.0041667 -85.1431699 29.9958333 -92.3808679 29.9958333 -103.9278538 20.0041667 -95.7854937']], 'collection_concept_id': 'C2269056084-LPCLOUD', 'online_access_flag': True, 'links': [{'rel': 'http://esipfed.org/ns/fedsearch/1.1/data#', 'title': 'Download MOD11A2.A2023145.h09v06.061.2023154043201.hdf', 'hreflang': 'en-US', 'href': 'https://data.lpdaac.earthdatacloud.nasa.gov/lp-prod-protected/MOD11A2.061/MOD11A2.A2023145.h09v06.061.2023154043201/MOD11A2.A2023145.h09v06.061.2023154043201.hdf'}, {'rel': 'http://esipfed.org/ns/fedsearch/1.1/s3#', 'title': 'This link provides direct download access via S3 to the granule', 'hreflang': 'en-US', 'href': 's3://lp-prod-protected/MOD11A2.061/MOD11A2.A2023145.h09v06.061.2023154043201/MOD11A2.A2023145.h09v06.061.2023154043201.hdf'}, {'rel': 'http://esipfed.org/ns/fedsearch/1.1/documentation#', 'type': 'text/html', 'title': 'The Landing Page for this file may be accessed directly from this link (DOI)', 'hreflang': 'en-US', 'href': 'https://doi.org/10.5067/MODIS/MOD11A2.061'}, {'rel': 'http://esipfed.org/ns/fedsearch/1.1/metadata#', 'title': 'Download MOD11A2.A2023145.h09v06.061.2023154043201.cmr.xml (EXTENDED METADATA)', 'hreflang': 'en-US', 'href': 'https://data.lpdaac.earthdatacloud.nasa.gov/lp-prod-protected/MOD11A2.061/MOD11A2.A2023145.h09v06.061.2023154043201/MOD11A2.A2023145.h09v06.061.2023154043201.cmr.xml'}, {'rel': 'http://esipfed.org/ns/fedsearch/1.1/metadata#', 'title': 'This link provides direct download access via S3 to the granule (EXTENDED METADATA)', 'hreflang': 'en-US', 'href': 's3://lp-prod-protected/MOD11A2.061/MOD11A2.A2023145.h09v06.061.2023154043201/MOD11A2.A2023145.h09v06.061.2023154043201.cmr.xml'}, {'rel': 'http://esipfed.org/ns/fedsearch/1.1/metadata#', 'title': 'api endpoint to retrieve temporary credentials valid for same-region direct s3 access (VIEW RELATED INFORMATION)', 'hreflang': 'en-US', 'href': 'https://data.lpdaac.earthdatacloud.nasa.gov/s3credentials'}, {'rel': 'http://esipfed.org/ns/fedsearch/1.1/browse#', 'title': 'Download BROWSE.MOD11A2.A2023145.h09v06.061.2023154003201.1.jpg', 'hreflang': 'en-US', 'href': 'https://data.lpdaac.earthdatacloud.nasa.gov/lp-prod-public/MOD11A2.061/MOD11A2.A2023145.h09v06.061.2023154043201/BROWSE.MOD11A2.A2023145.h09v06.061.2023154003201.1.jpg'}, {'rel': 'http://esipfed.org/ns/fedsearch/1.1/browse#', 'title': 'This link provides direct download access via S3 to the granule', 'hreflang': 'en-US', 'href': 's3://lp-prod-public/MOD11A2.061/MOD11A2.A2023145.h09v06.061.2023154043201/BROWSE.MOD11A2.A2023145.h09v06.061.2023154003201.1.jpg'}, {'rel': 'http://esipfed.org/ns/fedsearch/1.1/browse#', 'title': 'Download BROWSE.MOD11A2.A2023145.h09v06.061.2023154003201.2.jpg', 'hreflang': 'en-US', 'href': 'https://data.lpdaac.earthdatacloud.nasa.gov/lp-prod-public/MOD11A2.061/MOD11A2.A2023145.h09v06.061.2023154043201/BROWSE.MOD11A2.A2023145.h09v06.061.2023154003201.2.jpg'}, {'rel': 'http://esipfed.org/ns/fedsearch/1.1/browse#', 'title': 'This link provides direct download access via S3 to the granule', 'hreflang': 'en-US', 'href': 's3://lp-prod-public/MOD11A2.061/MOD11A2.A2023145.h09v06.061.2023154043201/BROWSE.MOD11A2.A2023145.h09v06.061.2023154003201.2.jpg'}, {'inherited': True, 'rel': 'http://esipfed.org/ns/fedsearch/1.1/metadata#', 'hreflang': 'en-US', 'href': 'https://doi.org/10.5067/MODIS/MOD11A2.061'}, {'inherited': True, 'rel': 'http://esipfed.org/ns/fedsearch/1.1/metadata#', 'hreflang': 'en-US', 'href': 'https://lpdaac.usgs.gov/'}, {'inherited': True, 'length': '3.6MB', 'rel': 'http://esipfed.org/ns/fedsearch/1.1/data#', 'hreflang': 'en-US', 'href': 'https://e4ftl01.cr.usgs.gov/MOLT/MOD11A2.061/'}, {'inherited': True, 'length': '3.6MB', 'rel': 'http://esipfed.org/ns/fedsearch/1.1/data#', 'hreflang': 'en-US', 'href': 'https://search.earthdata.nasa.gov/search/granules?p=C2269056084-LPCLOUD'}, {'inherited': True, 'rel': 'http://esipfed.org/ns/fedsearch/1.1/data#', 'hreflang': 'en-US', 'href': 'https://appeears.earthdatacloud.nasa.gov/'}, {'inherited': True, 'rel': 'http://esipfed.org/ns/fedsearch/1.1/service#', 'hreflang': 'en-US', 'href': 'https://opendap.cr.usgs.gov/opendap/hyrax/DP131/MOLT/MOD11A2.061/contents.html'}, {'inherited': True, 'rel': 'http://esipfed.org/ns/fedsearch/1.1/documentation#', 'hreflang': 'en-US', 'href': 'https://lpdaac.usgs.gov/documents/119/MOD11_ATBD.pdf'}, {'inherited': True, 'rel': 'http://esipfed.org/ns/fedsearch/1.1/documentation#', 'hreflang': 'en-US', 'href': 'https://lpdaac.usgs.gov/documents/715/MOD11_User_Guide_V61.pdf'}, {'inherited': True, 'rel': 'http://esipfed.org/ns/fedsearch/1.1/documentation#', 'hreflang': 'en-US', 'href': 'https://ladsweb.modaps.eosdis.nasa.gov/filespec/MODIS/61/MOD11A2'}, {'inherited': True, 'rel': 'http://esipfed.org/ns/fedsearch/1.1/documentation#', 'hreflang': 'en-US', 'href': 'https://modis-land.gsfc.nasa.gov/ValStatus.php?ProductID=MOD11'}, {'inherited': True, 'rel': 'http://esipfed.org/ns/fedsearch/1.1/documentation#', 'hreflang': 'en-US', 'href': 'https://modis-land.gsfc.nasa.gov/MODLAND_val.html'}, {'inherited': True, 'rel': 'http://esipfed.org/ns/fedsearch/1.1/documentation#', 'hreflang': 'en-US', 'href': 'https://landweb.modaps.eosdis.nasa.gov/cgi-bin/QA_WWW/qaFlagPage.cgi?sat=terra&ver=C6'}]}, {'producer_granule_id': 'MOD11A2.A2023145.h09v05.061.2023154041457', 'time_start': '2023-05-25T00:00:00.000Z', 'cloud_cover': '4.0', 'updated': '2023-06-02T23:20:57.547Z', 'dataset_id': 'MODIS/Terra Land Surface Temperature/Emissivity 8-Day L3 Global 1km SIN Grid V061', 'data_center': 'LPCLOUD', 'title': 'MOD11A2.A2023145.h09v05.061.2023154041457', 'coordinate_system': 'GEODETIC', 'day_night_flag': 'BOTH', 'time_end': '2023-06-01T23:59:59.000Z', 'id': 'G2704231280-LPCLOUD', 'original_format': 'ECHO10', 'granule_size': '8.02038', 'browse_flag': True, 'polygons': [['30.0041667 -103.9365814 30.0041667 -92.3886251 39.9958333 -104.4380348 39.9958333 -117.4920864 30.0041667 -103.9365814']], 'collection_concept_id': 'C2269056084-LPCLOUD', 'online_access_flag': True, 'links': [{'rel': 'http://esipfed.org/ns/fedsearch/1.1/data#', 'title': 'Download MOD11A2.A2023145.h09v05.061.2023154041457.hdf', 'hreflang': 'en-US', 'href': 'https://data.lpdaac.earthdatacloud.nasa.gov/lp-prod-protected/MOD11A2.061/MOD11A2.A2023145.h09v05.061.2023154041457/MOD11A2.A2023145.h09v05.061.2023154041457.hdf'}, {'rel': 'http://esipfed.org/ns/fedsearch/1.1/s3#', 'title': 'This link provides direct download access via S3 to the granule', 'hreflang': 'en-US', 'href': 's3://lp-prod-protected/MOD11A2.061/MOD11A2.A2023145.h09v05.061.2023154041457/MOD11A2.A2023145.h09v05.061.2023154041457.hdf'}, {'rel': 'http://esipfed.org/ns/fedsearch/1.1/documentation#', 'type': 'text/html', 'title': 'The Landing Page for this file may be accessed directly from this link (DOI)', 'hreflang': 'en-US', 'href': 'https://doi.org/10.5067/MODIS/MOD11A2.061'}, {'rel': 'http://esipfed.org/ns/fedsearch/1.1/metadata#', 'title': 'Download MOD11A2.A2023145.h09v05.061.2023154041457.cmr.xml (EXTENDED METADATA)', 'hreflang': 'en-US', 'href': 'https://data.lpdaac.earthdatacloud.nasa.gov/lp-prod-protected/MOD11A2.061/MOD11A2.A2023145.h09v05.061.2023154041457/MOD11A2.A2023145.h09v05.061.2023154041457.cmr.xml'}, {'rel': 'http://esipfed.org/ns/fedsearch/1.1/metadata#', 'title': 'This link provides direct download access via S3 to the granule (EXTENDED METADATA)', 'hreflang': 'en-US', 'href': 's3://lp-prod-protected/MOD11A2.061/MOD11A2.A2023145.h09v05.061.2023154041457/MOD11A2.A2023145.h09v05.061.2023154041457.cmr.xml'}, {'rel': 'http://esipfed.org/ns/fedsearch/1.1/metadata#', 'title': 'api endpoint to retrieve temporary credentials valid for same-region direct s3 access (VIEW RELATED INFORMATION)', 'hreflang': 'en-US', 'href': 'https://data.lpdaac.earthdatacloud.nasa.gov/s3credentials'}, {'rel': 'http://esipfed.org/ns/fedsearch/1.1/browse#', 'title': 'Download BROWSE.MOD11A2.A2023145.h09v05.061.2023154001459.1.jpg', 'hreflang': 'en-US', 'href': 'https://data.lpdaac.earthdatacloud.nasa.gov/lp-prod-public/MOD11A2.061/MOD11A2.A2023145.h09v05.061.2023154041457/BROWSE.MOD11A2.A2023145.h09v05.061.2023154001459.1.jpg'}, {'rel': 'http://esipfed.org/ns/fedsearch/1.1/browse#', 'title': 'This link provides direct download access via S3 to the granule', 'hreflang': 'en-US', 'href': 's3://lp-prod-public/MOD11A2.061/MOD11A2.A2023145.h09v05.061.2023154041457/BROWSE.MOD11A2.A2023145.h09v05.061.2023154001459.1.jpg'}, {'rel': 'http://esipfed.org/ns/fedsearch/1.1/browse#', 'title': 'Download BROWSE.MOD11A2.A2023145.h09v05.061.2023154001459.2.jpg', 'hreflang': 'en-US', 'href': 'https://data.lpdaac.earthdatacloud.nasa.gov/lp-prod-public/MOD11A2.061/MOD11A2.A2023145.h09v05.061.2023154041457/BROWSE.MOD11A2.A2023145.h09v05.061.2023154001459.2.jpg'}, {'rel': 'http://esipfed.org/ns/fedsearch/1.1/browse#', 'title': 'This link provides direct download access via S3 to the granule', 'hreflang': 'en-US', 'href': 's3://lp-prod-public/MOD11A2.061/MOD11A2.A2023145.h09v05.061.2023154041457/BROWSE.MOD11A2.A2023145.h09v05.061.2023154001459.2.jpg'}, {'inherited': True, 'rel': 'http://esipfed.org/ns/fedsearch/1.1/metadata#', 'hreflang': 'en-US', 'href': 'https://doi.org/10.5067/MODIS/MOD11A2.061'}, {'inherited': True, 'rel': 'http://esipfed.org/ns/fedsearch/1.1/metadata#', 'hreflang': 'en-US', 'href': 'https://lpdaac.usgs.gov/'}, {'inherited': True, 'length': '3.6MB', 'rel': 'http://esipfed.org/ns/fedsearch/1.1/data#', 'hreflang': 'en-US', 'href': 'https://e4ftl01.cr.usgs.gov/MOLT/MOD11A2.061/'}, {'inherited': True, 'length': '3.6MB', 'rel': 'http://esipfed.org/ns/fedsearch/1.1/data#', 'hreflang': 'en-US', 'href': 'https://search.earthdata.nasa.gov/search/granules?p=C2269056084-LPCLOUD'}, {'inherited': True, 'rel': 'http://esipfed.org/ns/fedsearch/1.1/data#', 'hreflang': 'en-US', 'href': 'https://appeears.earthdatacloud.nasa.gov/'}, {'inherited': True, 'rel': 'http://esipfed.org/ns/fedsearch/1.1/service#', 'hreflang': 'en-US', 'href': 'https://opendap.cr.usgs.gov/opendap/hyrax/DP131/MOLT/MOD11A2.061/contents.html'}, {'inherited': True, 'rel': 'http://esipfed.org/ns/fedsearch/1.1/documentation#', 'hreflang': 'en-US', 'href': 'https://lpdaac.usgs.gov/documents/119/MOD11_ATBD.pdf'}, {'inherited': True, 'rel': 'http://esipfed.org/ns/fedsearch/1.1/documentation#', 'hreflang': 'en-US', 'href': 'https://lpdaac.usgs.gov/documents/715/MOD11_User_Guide_V61.pdf'}, {'inherited': True, 'rel': 'http://esipfed.org/ns/fedsearch/1.1/documentation#', 'hreflang': 'en-US', 'href': 'https://ladsweb.modaps.eosdis.nasa.gov/filespec/MODIS/61/MOD11A2'}, {'inherited': True, 'rel': 'http://esipfed.org/ns/fedsearch/1.1/documentation#', 'hreflang': 'en-US', 'href': 'https://modis-land.gsfc.nasa.gov/ValStatus.php?ProductID=MOD11'}, {'inherited': True, 'rel': 'http://esipfed.org/ns/fedsearch/1.1/documentation#', 'hreflang': 'en-US', 'href': 'https://modis-land.gsfc.nasa.gov/MODLAND_val.html'}, {'inherited': True, 'rel': 'http://esipfed.org/ns/fedsearch/1.1/documentation#', 'hreflang': 'en-US', 'href': 'https://landweb.modaps.eosdis.nasa.gov/cgi-bin/QA_WWW/qaFlagPage.cgi?sat=terra&ver=C6'}]}, {'producer_granule_id': 'MOD11A2.A2023153.h09v06.061.2023164032102', 'time_start': '2023-06-02T00:00:00.000Z', 'cloud_cover': '0.0', 'updated': '2023-06-12T23:06:08.832Z', 'dataset_id': 'MODIS/Terra Land Surface Temperature/Emissivity 8-Day L3 Global 1km SIN Grid V061', 'data_center': 'LPCLOUD', 'title': 'MOD11A2.A2023153.h09v06.061.2023164032102', 'coordinate_system': 'GEODETIC', 'day_night_flag': 'BOTH', 'time_end': '2023-06-09T23:59:59.000Z', 'id': 'G2709329705-LPCLOUD', 'original_format': 'ECHO10', 'granule_size': '3.17643', 'browse_flag': True, 'polygons': [['20.0041667 -95.7854937 20.0041667 -85.1431699 29.9958333 -92.3808679 29.9958333 -103.9278538 20.0041667 -95.7854937']], 'collection_concept_id': 'C2269056084-LPCLOUD', 'online_access_flag': True, 'links': [{'rel': 'http://esipfed.org/ns/fedsearch/1.1/data#', 'title': 'Download MOD11A2.A2023153.h09v06.061.2023164032102.hdf', 'hreflang': 'en-US', 'href': 'https://data.lpdaac.earthdatacloud.nasa.gov/lp-prod-protected/MOD11A2.061/MOD11A2.A2023153.h09v06.061.2023164032102/MOD11A2.A2023153.h09v06.061.2023164032102.hdf'}, {'rel': 'http://esipfed.org/ns/fedsearch/1.1/s3#', 'title': 'This link provides direct download access via S3 to the granule', 'hreflang': 'en-US', 'href': 's3://lp-prod-protected/MOD11A2.061/MOD11A2.A2023153.h09v06.061.2023164032102/MOD11A2.A2023153.h09v06.061.2023164032102.hdf'}, {'rel': 'http://esipfed.org/ns/fedsearch/1.1/documentation#', 'type': 'text/html', 'title': 'The Landing Page for this file may be accessed directly from this link (DOI)', 'hreflang': 'en-US', 'href': 'https://doi.org/10.5067/MODIS/MOD11A2.061'}, {'rel': 'http://esipfed.org/ns/fedsearch/1.1/metadata#', 'title': 'Download MOD11A2.A2023153.h09v06.061.2023164032102.cmr.xml (EXTENDED METADATA)', 'hreflang': 'en-US', 'href': 'https://data.lpdaac.earthdatacloud.nasa.gov/lp-prod-protected/MOD11A2.061/MOD11A2.A2023153.h09v06.061.2023164032102/MOD11A2.A2023153.h09v06.061.2023164032102.cmr.xml'}, {'rel': 'http://esipfed.org/ns/fedsearch/1.1/metadata#', 'title': 'This link provides direct download access via S3 to the granule (EXTENDED METADATA)', 'hreflang': 'en-US', 'href': 's3://lp-prod-protected/MOD11A2.061/MOD11A2.A2023153.h09v06.061.2023164032102/MOD11A2.A2023153.h09v06.061.2023164032102.cmr.xml'}, {'rel': 'http://esipfed.org/ns/fedsearch/1.1/metadata#', 'title': 'api endpoint to retrieve temporary credentials valid for same-region direct s3 access (VIEW RELATED INFORMATION)', 'hreflang': 'en-US', 'href': 'https://data.lpdaac.earthdatacloud.nasa.gov/s3credentials'}, {'rel': 'http://esipfed.org/ns/fedsearch/1.1/browse#', 'title': 'Download BROWSE.MOD11A2.A2023153.h09v06.061.2023163232104.1.jpg', 'hreflang': 'en-US', 'href': 'https://data.lpdaac.earthdatacloud.nasa.gov/lp-prod-public/MOD11A2.061/MOD11A2.A2023153.h09v06.061.2023164032102/BROWSE.MOD11A2.A2023153.h09v06.061.2023163232104.1.jpg'}, {'rel': 'http://esipfed.org/ns/fedsearch/1.1/browse#', 'title': 'This link provides direct download access via S3 to the granule', 'hreflang': 'en-US', 'href': 's3://lp-prod-public/MOD11A2.061/MOD11A2.A2023153.h09v06.061.2023164032102/BROWSE.MOD11A2.A2023153.h09v06.061.2023163232104.1.jpg'}, {'rel': 'http://esipfed.org/ns/fedsearch/1.1/browse#', 'title': 'Download BROWSE.MOD11A2.A2023153.h09v06.061.2023163232104.2.jpg', 'hreflang': 'en-US', 'href': 'https://data.lpdaac.earthdatacloud.nasa.gov/lp-prod-public/MOD11A2.061/MOD11A2.A2023153.h09v06.061.2023164032102/BROWSE.MOD11A2.A2023153.h09v06.061.2023163232104.2.jpg'}, {'rel': 'http://esipfed.org/ns/fedsearch/1.1/browse#', 'title': 'This link provides direct download access via S3 to the granule', 'hreflang': 'en-US', 'href': 's3://lp-prod-public/MOD11A2.061/MOD11A2.A2023153.h09v06.061.2023164032102/BROWSE.MOD11A2.A2023153.h09v06.061.2023163232104.2.jpg'}, {'inherited': True, 'rel': 'http://esipfed.org/ns/fedsearch/1.1/metadata#', 'hreflang': 'en-US', 'href': 'https://doi.org/10.5067/MODIS/MOD11A2.061'}, {'inherited': True, 'rel': 'http://esipfed.org/ns/fedsearch/1.1/metadata#', 'hreflang': 'en-US', 'href': 'https://lpdaac.usgs.gov/'}, {'inherited': True, 'length': '3.6MB', 'rel': 'http://esipfed.org/ns/fedsearch/1.1/data#', 'hreflang': 'en-US', 'href': 'https://e4ftl01.cr.usgs.gov/MOLT/MOD11A2.061/'}, {'inherited': True, 'length': '3.6MB', 'rel': 'http://esipfed.org/ns/fedsearch/1.1/data#', 'hreflang': 'en-US', 'href': 'https://search.earthdata.nasa.gov/search/granules?p=C2269056084-LPCLOUD'}, {'inherited': True, 'rel': 'http://esipfed.org/ns/fedsearch/1.1/data#', 'hreflang': 'en-US', 'href': 'https://appeears.earthdatacloud.nasa.gov/'}, {'inherited': True, 'rel': 'http://esipfed.org/ns/fedsearch/1.1/service#', 'hreflang': 'en-US', 'href': 'https://opendap.cr.usgs.gov/opendap/hyrax/DP131/MOLT/MOD11A2.061/contents.html'}, {'inherited': True, 'rel': 'http://esipfed.org/ns/fedsearch/1.1/documentation#', 'hreflang': 'en-US', 'href': 'https://lpdaac.usgs.gov/documents/119/MOD11_ATBD.pdf'}, {'inherited': True, 'rel': 'http://esipfed.org/ns/fedsearch/1.1/documentation#', 'hreflang': 'en-US', 'href': 'https://lpdaac.usgs.gov/documents/715/MOD11_User_Guide_V61.pdf'}, {'inherited': True, 'rel': 'http://esipfed.org/ns/fedsearch/1.1/documentation#', 'hreflang': 'en-US', 'href': 'https://ladsweb.modaps.eosdis.nasa.gov/filespec/MODIS/61/MOD11A2'}, {'inherited': True, 'rel': 'http://esipfed.org/ns/fedsearch/1.1/documentation#', 'hreflang': 'en-US', 'href': 'https://modis-land.gsfc.nasa.gov/ValStatus.php?ProductID=MOD11'}, {'inherited': True, 'rel': 'http://esipfed.org/ns/fedsearch/1.1/documentation#', 'hreflang': 'en-US', 'href': 'https://modis-land.gsfc.nasa.gov/MODLAND_val.html'}, {'inherited': True, 'rel': 'http://esipfed.org/ns/fedsearch/1.1/documentation#', 'hreflang': 'en-US', 'href': 'https://landweb.modaps.eosdis.nasa.gov/cgi-bin/QA_WWW/qaFlagPage.cgi?sat=terra&ver=C6'}]}, {'producer_granule_id': 'MOD11A2.A2023153.h09v05.061.2023164034529', 'time_start': '2023-06-02T00:00:00.000Z', 'cloud_cover': '3.0', 'updated': '2023-06-12T23:49:49.631Z', 'dataset_id': 'MODIS/Terra Land Surface Temperature/Emissivity 8-Day L3 Global 1km SIN Grid V061', 'data_center': 'LPCLOUD', 'title': 'MOD11A2.A2023153.h09v05.061.2023164034529', 'coordinate_system': 'GEODETIC', 'day_night_flag': 'BOTH', 'time_end': '2023-06-09T23:59:59.000Z', 'id': 'G2709350019-LPCLOUD', 'original_format': 'ECHO10', 'granule_size': '8.37', 'browse_flag': True, 'polygons': [['30.0041667 -103.9365814 30.0041667 -92.3886251 39.9958333 -104.4380348 39.9958333 -117.4920864 30.0041667 -103.9365814']], 'collection_concept_id': 'C2269056084-LPCLOUD', 'online_access_flag': True, 'links': [{'rel': 'http://esipfed.org/ns/fedsearch/1.1/data#', 'title': 'Download MOD11A2.A2023153.h09v05.061.2023164034529.hdf', 'hreflang': 'en-US', 'href': 'https://data.lpdaac.earthdatacloud.nasa.gov/lp-prod-protected/MOD11A2.061/MOD11A2.A2023153.h09v05.061.2023164034529/MOD11A2.A2023153.h09v05.061.2023164034529.hdf'}, {'rel': 'http://esipfed.org/ns/fedsearch/1.1/s3#', 'title': 'This link provides direct download access via S3 to the granule', 'hreflang': 'en-US', 'href': 's3://lp-prod-protected/MOD11A2.061/MOD11A2.A2023153.h09v05.061.2023164034529/MOD11A2.A2023153.h09v05.061.2023164034529.hdf'}, {'rel': 'http://esipfed.org/ns/fedsearch/1.1/documentation#', 'type': 'text/html', 'title': 'The Landing Page for this file may be accessed directly from this link (DOI)', 'hreflang': 'en-US', 'href': 'https://doi.org/10.5067/MODIS/MOD11A2.061'}, {'rel': 'http://esipfed.org/ns/fedsearch/1.1/metadata#', 'title': 'Download MOD11A2.A2023153.h09v05.061.2023164034529.cmr.xml (EXTENDED METADATA)', 'hreflang': 'en-US', 'href': 'https://data.lpdaac.earthdatacloud.nasa.gov/lp-prod-protected/MOD11A2.061/MOD11A2.A2023153.h09v05.061.2023164034529/MOD11A2.A2023153.h09v05.061.2023164034529.cmr.xml'}, {'rel': 'http://esipfed.org/ns/fedsearch/1.1/metadata#', 'title': 'This link provides direct download access via S3 to the granule (EXTENDED METADATA)', 'hreflang': 'en-US', 'href': 's3://lp-prod-protected/MOD11A2.061/MOD11A2.A2023153.h09v05.061.2023164034529/MOD11A2.A2023153.h09v05.061.2023164034529.cmr.xml'}, {'rel': 'http://esipfed.org/ns/fedsearch/1.1/metadata#', 'title': 'api endpoint to retrieve temporary credentials valid for same-region direct s3 access (VIEW RELATED INFORMATION)', 'hreflang': 'en-US', 'href': 'https://data.lpdaac.earthdatacloud.nasa.gov/s3credentials'}, {'rel': 'http://esipfed.org/ns/fedsearch/1.1/browse#', 'title': 'Download BROWSE.MOD11A2.A2023153.h09v05.061.2023163234531.1.jpg', 'hreflang': 'en-US', 'href': 'https://data.lpdaac.earthdatacloud.nasa.gov/lp-prod-public/MOD11A2.061/MOD11A2.A2023153.h09v05.061.2023164034529/BROWSE.MOD11A2.A2023153.h09v05.061.2023163234531.1.jpg'}, {'rel': 'http://esipfed.org/ns/fedsearch/1.1/browse#', 'title': 'This link provides direct download access via S3 to the granule', 'hreflang': 'en-US', 'href': 's3://lp-prod-public/MOD11A2.061/MOD11A2.A2023153.h09v05.061.2023164034529/BROWSE.MOD11A2.A2023153.h09v05.061.2023163234531.1.jpg'}, {'rel': 'http://esipfed.org/ns/fedsearch/1.1/browse#', 'title': 'Download BROWSE.MOD11A2.A2023153.h09v05.061.2023163234531.2.jpg', 'hreflang': 'en-US', 'href': 'https://data.lpdaac.earthdatacloud.nasa.gov/lp-prod-public/MOD11A2.061/MOD11A2.A2023153.h09v05.061.2023164034529/BROWSE.MOD11A2.A2023153.h09v05.061.2023163234531.2.jpg'}, {'rel': 'http://esipfed.org/ns/fedsearch/1.1/browse#', 'title': 'This link provides direct download access via S3 to the granule', 'hreflang': 'en-US', 'href': 's3://lp-prod-public/MOD11A2.061/MOD11A2.A2023153.h09v05.061.2023164034529/BROWSE.MOD11A2.A2023153.h09v05.061.2023163234531.2.jpg'}, {'inherited': True, 'rel': 'http://esipfed.org/ns/fedsearch/1.1/metadata#', 'hreflang': 'en-US', 'href': 'https://doi.org/10.5067/MODIS/MOD11A2.061'}, {'inherited': True, 'rel': 'http://esipfed.org/ns/fedsearch/1.1/metadata#', 'hreflang': 'en-US', 'href': 'https://lpdaac.usgs.gov/'}, {'inherited': True, 'length': '3.6MB', 'rel': 'http://esipfed.org/ns/fedsearch/1.1/data#', 'hreflang': 'en-US', 'href': 'https://e4ftl01.cr.usgs.gov/MOLT/MOD11A2.061/'}, {'inherited': True, 'length': '3.6MB', 'rel': 'http://esipfed.org/ns/fedsearch/1.1/data#', 'hreflang': 'en-US', 'href': 'https://search.earthdata.nasa.gov/search/granules?p=C2269056084-LPCLOUD'}, {'inherited': True, 'rel': 'http://esipfed.org/ns/fedsearch/1.1/data#', 'hreflang': 'en-US', 'href': 'https://appeears.earthdatacloud.nasa.gov/'}, {'inherited': True, 'rel': 'http://esipfed.org/ns/fedsearch/1.1/service#', 'hreflang': 'en-US', 'href': 'https://opendap.cr.usgs.gov/opendap/hyrax/DP131/MOLT/MOD11A2.061/contents.html'}, {'inherited': True, 'rel': 'http://esipfed.org/ns/fedsearch/1.1/documentation#', 'hreflang': 'en-US', 'href': 'https://lpdaac.usgs.gov/documents/119/MOD11_ATBD.pdf'}, {'inherited': True, 'rel': 'http://esipfed.org/ns/fedsearch/1.1/documentation#', 'hreflang': 'en-US', 'href': 'https://lpdaac.usgs.gov/documents/715/MOD11_User_Guide_V61.pdf'}, {'inherited': True, 'rel': 'http://esipfed.org/ns/fedsearch/1.1/documentation#', 'hreflang': 'en-US', 'href': 'https://ladsweb.modaps.eosdis.nasa.gov/filespec/MODIS/61/MOD11A2'}, {'inherited': True, 'rel': 'http://esipfed.org/ns/fedsearch/1.1/documentation#', 'hreflang': 'en-US', 'href': 'https://modis-land.gsfc.nasa.gov/ValStatus.php?ProductID=MOD11'}, {'inherited': True, 'rel': 'http://esipfed.org/ns/fedsearch/1.1/documentation#', 'hreflang': 'en-US', 'href': 'https://modis-land.gsfc.nasa.gov/MODLAND_val.html'}, {'inherited': True, 'rel': 'http://esipfed.org/ns/fedsearch/1.1/documentation#', 'hreflang': 'en-US', 'href': 'https://landweb.modaps.eosdis.nasa.gov/cgi-bin/QA_WWW/qaFlagPage.cgi?sat=terra&ver=C6'}]}, {'producer_granule_id': 'MOD11A2.A2023161.h09v06.061.2023170174522', 'time_start': '2023-06-10T00:00:00.000Z', 'cloud_cover': '0.0', 'updated': '2023-06-19T12:57:31.217Z', 'dataset_id': 'MODIS/Terra Land Surface Temperature/Emissivity 8-Day L3 Global 1km SIN Grid V061', 'data_center': 'LPCLOUD', 'title': 'MOD11A2.A2023161.h09v06.061.2023170174522', 'coordinate_system': 'GEODETIC', 'day_night_flag': 'BOTH', 'time_end': '2023-06-17T23:59:59.000Z', 'id': 'G2715588619-LPCLOUD', 'original_format': 'ECHO10', 'granule_size': '3.04064', 'browse_flag': True, 'polygons': [['20.0041667 -95.7854937 20.0041667 -85.1431699 29.9958333 -92.3808679 29.9958333 -103.9278538 20.0041667 -95.7854937']], 'collection_concept_id': 'C2269056084-LPCLOUD', 'online_access_flag': True, 'links': [{'rel': 'http://esipfed.org/ns/fedsearch/1.1/data#', 'title': 'Download MOD11A2.A2023161.h09v06.061.2023170174522.hdf', 'hreflang': 'en-US', 'href': 'https://data.lpdaac.earthdatacloud.nasa.gov/lp-prod-protected/MOD11A2.061/MOD11A2.A2023161.h09v06.061.2023170174522/MOD11A2.A2023161.h09v06.061.2023170174522.hdf'}, {'rel': 'http://esipfed.org/ns/fedsearch/1.1/s3#', 'title': 'This link provides direct download access via S3 to the granule', 'hreflang': 'en-US', 'href': 's3://lp-prod-protected/MOD11A2.061/MOD11A2.A2023161.h09v06.061.2023170174522/MOD11A2.A2023161.h09v06.061.2023170174522.hdf'}, {'rel': 'http://esipfed.org/ns/fedsearch/1.1/documentation#', 'type': 'text/html', 'title': 'The Landing Page for this file may be accessed directly from this link (DOI)', 'hreflang': 'en-US', 'href': 'https://doi.org/10.5067/MODIS/MOD11A2.061'}, {'rel': 'http://esipfed.org/ns/fedsearch/1.1/metadata#', 'title': 'Download MOD11A2.A2023161.h09v06.061.2023170174522.cmr.xml (EXTENDED METADATA)', 'hreflang': 'en-US', 'href': 'https://data.lpdaac.earthdatacloud.nasa.gov/lp-prod-protected/MOD11A2.061/MOD11A2.A2023161.h09v06.061.2023170174522/MOD11A2.A2023161.h09v06.061.2023170174522.cmr.xml'}, {'rel': 'http://esipfed.org/ns/fedsearch/1.1/metadata#', 'title': 'This link provides direct download access via S3 to the granule (EXTENDED METADATA)', 'hreflang': 'en-US', 'href': 's3://lp-prod-protected/MOD11A2.061/MOD11A2.A2023161.h09v06.061.2023170174522/MOD11A2.A2023161.h09v06.061.2023170174522.cmr.xml'}, {'rel': 'http://esipfed.org/ns/fedsearch/1.1/metadata#', 'title': 'api endpoint to retrieve temporary credentials valid for same-region direct s3 access (VIEW RELATED INFORMATION)', 'hreflang': 'en-US', 'href': 'https://data.lpdaac.earthdatacloud.nasa.gov/s3credentials'}, {'rel': 'http://esipfed.org/ns/fedsearch/1.1/browse#', 'title': 'Download BROWSE.MOD11A2.A2023161.h09v06.061.2023170134522.1.jpg', 'hreflang': 'en-US', 'href': 'https://data.lpdaac.earthdatacloud.nasa.gov/lp-prod-public/MOD11A2.061/MOD11A2.A2023161.h09v06.061.2023170174522/BROWSE.MOD11A2.A2023161.h09v06.061.2023170134522.1.jpg'}, {'rel': 'http://esipfed.org/ns/fedsearch/1.1/browse#', 'title': 'This link provides direct download access via S3 to the granule', 'hreflang': 'en-US', 'href': 's3://lp-prod-public/MOD11A2.061/MOD11A2.A2023161.h09v06.061.2023170174522/BROWSE.MOD11A2.A2023161.h09v06.061.2023170134522.1.jpg'}, {'rel': 'http://esipfed.org/ns/fedsearch/1.1/browse#', 'title': 'Download BROWSE.MOD11A2.A2023161.h09v06.061.2023170134522.2.jpg', 'hreflang': 'en-US', 'href': 'https://data.lpdaac.earthdatacloud.nasa.gov/lp-prod-public/MOD11A2.061/MOD11A2.A2023161.h09v06.061.2023170174522/BROWSE.MOD11A2.A2023161.h09v06.061.2023170134522.2.jpg'}, {'rel': 'http://esipfed.org/ns/fedsearch/1.1/browse#', 'title': 'This link provides direct download access via S3 to the granule', 'hreflang': 'en-US', 'href': 's3://lp-prod-public/MOD11A2.061/MOD11A2.A2023161.h09v06.061.2023170174522/BROWSE.MOD11A2.A2023161.h09v06.061.2023170134522.2.jpg'}, {'inherited': True, 'rel': 'http://esipfed.org/ns/fedsearch/1.1/metadata#', 'hreflang': 'en-US', 'href': 'https://doi.org/10.5067/MODIS/MOD11A2.061'}, {'inherited': True, 'rel': 'http://esipfed.org/ns/fedsearch/1.1/metadata#', 'hreflang': 'en-US', 'href': 'https://lpdaac.usgs.gov/'}, {'inherited': True, 'length': '3.6MB', 'rel': 'http://esipfed.org/ns/fedsearch/1.1/data#', 'hreflang': 'en-US', 'href': 'https://e4ftl01.cr.usgs.gov/MOLT/MOD11A2.061/'}, {'inherited': True, 'length': '3.6MB', 'rel': 'http://esipfed.org/ns/fedsearch/1.1/data#', 'hreflang': 'en-US', 'href': 'https://search.earthdata.nasa.gov/search/granules?p=C2269056084-LPCLOUD'}, {'inherited': True, 'rel': 'http://esipfed.org/ns/fedsearch/1.1/data#', 'hreflang': 'en-US', 'href': 'https://appeears.earthdatacloud.nasa.gov/'}, {'inherited': True, 'rel': 'http://esipfed.org/ns/fedsearch/1.1/service#', 'hreflang': 'en-US', 'href': 'https://opendap.cr.usgs.gov/opendap/hyrax/DP131/MOLT/MOD11A2.061/contents.html'}, {'inherited': True, 'rel': 'http://esipfed.org/ns/fedsearch/1.1/documentation#', 'hreflang': 'en-US', 'href': 'https://lpdaac.usgs.gov/documents/119/MOD11_ATBD.pdf'}, {'inherited': True, 'rel': 'http://esipfed.org/ns/fedsearch/1.1/documentation#', 'hreflang': 'en-US', 'href': 'https://lpdaac.usgs.gov/documents/715/MOD11_User_Guide_V61.pdf'}, {'inherited': True, 'rel': 'http://esipfed.org/ns/fedsearch/1.1/documentation#', 'hreflang': 'en-US', 'href': 'https://ladsweb.modaps.eosdis.nasa.gov/filespec/MODIS/61/MOD11A2'}, {'inherited': True, 'rel': 'http://esipfed.org/ns/fedsearch/1.1/documentation#', 'hreflang': 'en-US', 'href': 'https://modis-land.gsfc.nasa.gov/ValStatus.php?ProductID=MOD11'}, {'inherited': True, 'rel': 'http://esipfed.org/ns/fedsearch/1.1/documentation#', 'hreflang': 'en-US', 'href': 'https://modis-land.gsfc.nasa.gov/MODLAND_val.html'}, {'inherited': True, 'rel': 'http://esipfed.org/ns/fedsearch/1.1/documentation#', 'hreflang': 'en-US', 'href': 'https://landweb.modaps.eosdis.nasa.gov/cgi-bin/QA_WWW/qaFlagPage.cgi?sat=terra&ver=C6'}]}, {'producer_granule_id': 'MOD11A2.A2023161.h09v05.061.2023170174847', 'time_start': '2023-06-10T00:00:00.000Z', 'cloud_cover': '2.0', 'updated': '2023-06-19T13:10:16.444Z', 'dataset_id': 'MODIS/Terra Land Surface Temperature/Emissivity 8-Day L3 Global 1km SIN Grid V061', 'data_center': 'LPCLOUD', 'title': 'MOD11A2.A2023161.h09v05.061.2023170174847', 'coordinate_system': 'GEODETIC', 'day_night_flag': 'BOTH', 'time_end': '2023-06-17T23:59:59.000Z', 'id': 'G2715598329-LPCLOUD', 'original_format': 'ECHO10', 'granule_size': '7.96', 'browse_flag': True, 'polygons': [['30.0041667 -103.9365814 30.0041667 -92.3886251 39.9958333 -104.4380348 39.9958333 -117.4920864 30.0041667 -103.9365814']], 'collection_concept_id': 'C2269056084-LPCLOUD', 'online_access_flag': True, 'links': [{'rel': 'http://esipfed.org/ns/fedsearch/1.1/data#', 'title': 'Download MOD11A2.A2023161.h09v05.061.2023170174847.hdf', 'hreflang': 'en-US', 'href': 'https://data.lpdaac.earthdatacloud.nasa.gov/lp-prod-protected/MOD11A2.061/MOD11A2.A2023161.h09v05.061.2023170174847/MOD11A2.A2023161.h09v05.061.2023170174847.hdf'}, {'rel': 'http://esipfed.org/ns/fedsearch/1.1/s3#', 'title': 'This link provides direct download access via S3 to the granule', 'hreflang': 'en-US', 'href': 's3://lp-prod-protected/MOD11A2.061/MOD11A2.A2023161.h09v05.061.2023170174847/MOD11A2.A2023161.h09v05.061.2023170174847.hdf'}, {'rel': 'http://esipfed.org/ns/fedsearch/1.1/documentation#', 'type': 'text/html', 'title': 'The Landing Page for this file may be accessed directly from this link (DOI)', 'hreflang': 'en-US', 'href': 'https://doi.org/10.5067/MODIS/MOD11A2.061'}, {'rel': 'http://esipfed.org/ns/fedsearch/1.1/metadata#', 'title': 'Download MOD11A2.A2023161.h09v05.061.2023170174847.cmr.xml (EXTENDED METADATA)', 'hreflang': 'en-US', 'href': 'https://data.lpdaac.earthdatacloud.nasa.gov/lp-prod-protected/MOD11A2.061/MOD11A2.A2023161.h09v05.061.2023170174847/MOD11A2.A2023161.h09v05.061.2023170174847.cmr.xml'}, {'rel': 'http://esipfed.org/ns/fedsearch/1.1/metadata#', 'title': 'This link provides direct download access via S3 to the granule (EXTENDED METADATA)', 'hreflang': 'en-US', 'href': 's3://lp-prod-protected/MOD11A2.061/MOD11A2.A2023161.h09v05.061.2023170174847/MOD11A2.A2023161.h09v05.061.2023170174847.cmr.xml'}, {'rel': 'http://esipfed.org/ns/fedsearch/1.1/metadata#', 'title': 'api endpoint to retrieve temporary credentials valid for same-region direct s3 access (VIEW RELATED INFORMATION)', 'hreflang': 'en-US', 'href': 'https://data.lpdaac.earthdatacloud.nasa.gov/s3credentials'}, {'rel': 'http://esipfed.org/ns/fedsearch/1.1/browse#', 'title': 'Download BROWSE.MOD11A2.A2023161.h09v05.061.2023170134849.1.jpg', 'hreflang': 'en-US', 'href': 'https://data.lpdaac.earthdatacloud.nasa.gov/lp-prod-public/MOD11A2.061/MOD11A2.A2023161.h09v05.061.2023170174847/BROWSE.MOD11A2.A2023161.h09v05.061.2023170134849.1.jpg'}, {'rel': 'http://esipfed.org/ns/fedsearch/1.1/browse#', 'title': 'This link provides direct download access via S3 to the granule', 'hreflang': 'en-US', 'href': 's3://lp-prod-public/MOD11A2.061/MOD11A2.A2023161.h09v05.061.2023170174847/BROWSE.MOD11A2.A2023161.h09v05.061.2023170134849.1.jpg'}, {'rel': 'http://esipfed.org/ns/fedsearch/1.1/browse#', 'title': 'Download BROWSE.MOD11A2.A2023161.h09v05.061.2023170134849.2.jpg', 'hreflang': 'en-US', 'href': 'https://data.lpdaac.earthdatacloud.nasa.gov/lp-prod-public/MOD11A2.061/MOD11A2.A2023161.h09v05.061.2023170174847/BROWSE.MOD11A2.A2023161.h09v05.061.2023170134849.2.jpg'}, {'rel': 'http://esipfed.org/ns/fedsearch/1.1/browse#', 'title': 'This link provides direct download access via S3 to the granule', 'hreflang': 'en-US', 'href': 's3://lp-prod-public/MOD11A2.061/MOD11A2.A2023161.h09v05.061.2023170174847/BROWSE.MOD11A2.A2023161.h09v05.061.2023170134849.2.jpg'}, {'inherited': True, 'rel': 'http://esipfed.org/ns/fedsearch/1.1/metadata#', 'hreflang': 'en-US', 'href': 'https://doi.org/10.5067/MODIS/MOD11A2.061'}, {'inherited': True, 'rel': 'http://esipfed.org/ns/fedsearch/1.1/metadata#', 'hreflang': 'en-US', 'href': 'https://lpdaac.usgs.gov/'}, {'inherited': True, 'length': '3.6MB', 'rel': 'http://esipfed.org/ns/fedsearch/1.1/data#', 'hreflang': 'en-US', 'href': 'https://e4ftl01.cr.usgs.gov/MOLT/MOD11A2.061/'}, {'inherited': True, 'length': '3.6MB', 'rel': 'http://esipfed.org/ns/fedsearch/1.1/data#', 'hreflang': 'en-US', 'href': 'https://search.earthdata.nasa.gov/search/granules?p=C2269056084-LPCLOUD'}, {'inherited': True, 'rel': 'http://esipfed.org/ns/fedsearch/1.1/data#', 'hreflang': 'en-US', 'href': 'https://appeears.earthdatacloud.nasa.gov/'}, {'inherited': True, 'rel': 'http://esipfed.org/ns/fedsearch/1.1/service#', 'hreflang': 'en-US', 'href': 'https://opendap.cr.usgs.gov/opendap/hyrax/DP131/MOLT/MOD11A2.061/contents.html'}, {'inherited': True, 'rel': 'http://esipfed.org/ns/fedsearch/1.1/documentation#', 'hreflang': 'en-US', 'href': 'https://lpdaac.usgs.gov/documents/119/MOD11_ATBD.pdf'}, {'inherited': True, 'rel': 'http://esipfed.org/ns/fedsearch/1.1/documentation#', 'hreflang': 'en-US', 'href': 'https://lpdaac.usgs.gov/documents/715/MOD11_User_Guide_V61.pdf'}, {'inherited': True, 'rel': 'http://esipfed.org/ns/fedsearch/1.1/documentation#', 'hreflang': 'en-US', 'href': 'https://ladsweb.modaps.eosdis.nasa.gov/filespec/MODIS/61/MOD11A2'}, {'inherited': True, 'rel': 'http://esipfed.org/ns/fedsearch/1.1/documentation#', 'hreflang': 'en-US', 'href': 'https://modis-land.gsfc.nasa.gov/ValStatus.php?ProductID=MOD11'}, {'inherited': True, 'rel': 'http://esipfed.org/ns/fedsearch/1.1/documentation#', 'hreflang': 'en-US', 'href': 'https://modis-land.gsfc.nasa.gov/MODLAND_val.html'}, {'inherited': True, 'rel': 'http://esipfed.org/ns/fedsearch/1.1/documentation#', 'hreflang': 'en-US', 'href': 'https://landweb.modaps.eosdis.nasa.gov/cgi-bin/QA_WWW/qaFlagPage.cgi?sat=terra&ver=C6'}]}, {'producer_granule_id': 'MOD11A2.A2023169.h09v06.061.2023178032028', 'time_start': '2023-06-18T00:00:00.000Z', 'cloud_cover': '0.0', 'updated': '2023-06-26T22:25:12.256Z', 'dataset_id': 'MODIS/Terra Land Surface Temperature/Emissivity 8-Day L3 Global 1km SIN Grid V061', 'data_center': 'LPCLOUD', 'title': 'MOD11A2.A2023169.h09v06.061.2023178032028', 'coordinate_system': 'GEODETIC', 'day_night_flag': 'BOTH', 'time_end': '2023-06-25T23:59:59.000Z', 'id': 'G2720713652-LPCLOUD', 'original_format': 'ECHO10', 'granule_size': '2.93445', 'browse_flag': True, 'polygons': [['20.0041667 -95.7854937 20.0041667 -85.1431699 29.9958333 -92.3808679 29.9958333 -103.9278538 20.0041667 -95.7854937']], 'collection_concept_id': 'C2269056084-LPCLOUD', 'online_access_flag': True, 'links': [{'rel': 'http://esipfed.org/ns/fedsearch/1.1/data#', 'title': 'Download MOD11A2.A2023169.h09v06.061.2023178032028.hdf', 'hreflang': 'en-US', 'href': 'https://data.lpdaac.earthdatacloud.nasa.gov/lp-prod-protected/MOD11A2.061/MOD11A2.A2023169.h09v06.061.2023178032028/MOD11A2.A2023169.h09v06.061.2023178032028.hdf'}, {'rel': 'http://esipfed.org/ns/fedsearch/1.1/s3#', 'title': 'This link provides direct download access via S3 to the granule', 'hreflang': 'en-US', 'href': 's3://lp-prod-protected/MOD11A2.061/MOD11A2.A2023169.h09v06.061.2023178032028/MOD11A2.A2023169.h09v06.061.2023178032028.hdf'}, {'rel': 'http://esipfed.org/ns/fedsearch/1.1/documentation#', 'type': 'text/html', 'title': 'The Landing Page for this file may be accessed directly from this link (DOI)', 'hreflang': 'en-US', 'href': 'https://doi.org/10.5067/MODIS/MOD11A2.061'}, {'rel': 'http://esipfed.org/ns/fedsearch/1.1/metadata#', 'title': 'Download MOD11A2.A2023169.h09v06.061.2023178032028.cmr.xml (EXTENDED METADATA)', 'hreflang': 'en-US', 'href': 'https://data.lpdaac.earthdatacloud.nasa.gov/lp-prod-protected/MOD11A2.061/MOD11A2.A2023169.h09v06.061.2023178032028/MOD11A2.A2023169.h09v06.061.2023178032028.cmr.xml'}, {'rel': 'http://esipfed.org/ns/fedsearch/1.1/metadata#', 'title': 'This link provides direct download access via S3 to the granule (EXTENDED METADATA)', 'hreflang': 'en-US', 'href': 's3://lp-prod-protected/MOD11A2.061/MOD11A2.A2023169.h09v06.061.2023178032028/MOD11A2.A2023169.h09v06.061.2023178032028.cmr.xml'}, {'rel': 'http://esipfed.org/ns/fedsearch/1.1/metadata#', 'title': 'api endpoint to retrieve temporary credentials valid for same-region direct s3 access (VIEW RELATED INFORMATION)', 'hreflang': 'en-US', 'href': 'https://data.lpdaac.earthdatacloud.nasa.gov/s3credentials'}, {'rel': 'http://esipfed.org/ns/fedsearch/1.1/browse#', 'title': 'Download BROWSE.MOD11A2.A2023169.h09v06.061.2023177232028.1.jpg', 'hreflang': 'en-US', 'href': 'https://data.lpdaac.earthdatacloud.nasa.gov/lp-prod-public/MOD11A2.061/MOD11A2.A2023169.h09v06.061.2023178032028/BROWSE.MOD11A2.A2023169.h09v06.061.2023177232028.1.jpg'}, {'rel': 'http://esipfed.org/ns/fedsearch/1.1/browse#', 'title': 'This link provides direct download access via S3 to the granule', 'hreflang': 'en-US', 'href': 's3://lp-prod-public/MOD11A2.061/MOD11A2.A2023169.h09v06.061.2023178032028/BROWSE.MOD11A2.A2023169.h09v06.061.2023177232028.1.jpg'}, {'rel': 'http://esipfed.org/ns/fedsearch/1.1/browse#', 'title': 'Download BROWSE.MOD11A2.A2023169.h09v06.061.2023177232028.2.jpg', 'hreflang': 'en-US', 'href': 'https://data.lpdaac.earthdatacloud.nasa.gov/lp-prod-public/MOD11A2.061/MOD11A2.A2023169.h09v06.061.2023178032028/BROWSE.MOD11A2.A2023169.h09v06.061.2023177232028.2.jpg'}, {'rel': 'http://esipfed.org/ns/fedsearch/1.1/browse#', 'title': 'This link provides direct download access via S3 to the granule', 'hreflang': 'en-US', 'href': 's3://lp-prod-public/MOD11A2.061/MOD11A2.A2023169.h09v06.061.2023178032028/BROWSE.MOD11A2.A2023169.h09v06.061.2023177232028.2.jpg'}, {'inherited': True, 'rel': 'http://esipfed.org/ns/fedsearch/1.1/metadata#', 'hreflang': 'en-US', 'href': 'https://doi.org/10.5067/MODIS/MOD11A2.061'}, {'inherited': True, 'rel': 'http://esipfed.org/ns/fedsearch/1.1/metadata#', 'hreflang': 'en-US', 'href': 'https://lpdaac.usgs.gov/'}, {'inherited': True, 'length': '3.6MB', 'rel': 'http://esipfed.org/ns/fedsearch/1.1/data#', 'hreflang': 'en-US', 'href': 'https://e4ftl01.cr.usgs.gov/MOLT/MOD11A2.061/'}, {'inherited': True, 'length': '3.6MB', 'rel': 'http://esipfed.org/ns/fedsearch/1.1/data#', 'hreflang': 'en-US', 'href': 'https://search.earthdata.nasa.gov/search/granules?p=C2269056084-LPCLOUD'}, {'inherited': True, 'rel': 'http://esipfed.org/ns/fedsearch/1.1/data#', 'hreflang': 'en-US', 'href': 'https://appeears.earthdatacloud.nasa.gov/'}, {'inherited': True, 'rel': 'http://esipfed.org/ns/fedsearch/1.1/service#', 'hreflang': 'en-US', 'href': 'https://opendap.cr.usgs.gov/opendap/hyrax/DP131/MOLT/MOD11A2.061/contents.html'}, {'inherited': True, 'rel': 'http://esipfed.org/ns/fedsearch/1.1/documentation#', 'hreflang': 'en-US', 'href': 'https://lpdaac.usgs.gov/documents/119/MOD11_ATBD.pdf'}, {'inherited': True, 'rel': 'http://esipfed.org/ns/fedsearch/1.1/documentation#', 'hreflang': 'en-US', 'href': 'https://lpdaac.usgs.gov/documents/715/MOD11_User_Guide_V61.pdf'}, {'inherited': True, 'rel': 'http://esipfed.org/ns/fedsearch/1.1/documentation#', 'hreflang': 'en-US', 'href': 'https://ladsweb.modaps.eosdis.nasa.gov/filespec/MODIS/61/MOD11A2'}, {'inherited': True, 'rel': 'http://esipfed.org/ns/fedsearch/1.1/documentation#', 'hreflang': 'en-US', 'href': 'https://modis-land.gsfc.nasa.gov/ValStatus.php?ProductID=MOD11'}, {'inherited': True, 'rel': 'http://esipfed.org/ns/fedsearch/1.1/documentation#', 'hreflang': 'en-US', 'href': 'https://modis-land.gsfc.nasa.gov/MODLAND_val.html'}, {'inherited': True, 'rel': 'http://esipfed.org/ns/fedsearch/1.1/documentation#', 'hreflang': 'en-US', 'href': 'https://landweb.modaps.eosdis.nasa.gov/cgi-bin/QA_WWW/qaFlagPage.cgi?sat=terra&ver=C6'}]}, {'producer_granule_id': 'MOD11A2.A2023169.h09v05.061.2023178033518', 'time_start': '2023-06-18T00:00:00.000Z', 'cloud_cover': '0.0', 'updated': '2023-06-26T22:50:14.727Z', 'dataset_id': 'MODIS/Terra Land Surface Temperature/Emissivity 8-Day L3 Global 1km SIN Grid V061', 'data_center': 'LPCLOUD', 'title': 'MOD11A2.A2023169.h09v05.061.2023178033518', 'coordinate_system': 'GEODETIC', 'day_night_flag': 'BOTH', 'time_end': '2023-06-25T23:59:59.000Z', 'id': 'G2720724342-LPCLOUD', 'original_format': 'ECHO10', 'granule_size': '7.28551', 'browse_flag': True, 'polygons': [['30.0041667 -103.9365814 30.0041667 -92.3886251 39.9958333 -104.4380348 39.9958333 -117.4920864 30.0041667 -103.9365814']], 'collection_concept_id': 'C2269056084-LPCLOUD', 'online_access_flag': True, 'links': [{'rel': 'http://esipfed.org/ns/fedsearch/1.1/data#', 'title': 'Download MOD11A2.A2023169.h09v05.061.2023178033518.hdf', 'hreflang': 'en-US', 'href': 'https://data.lpdaac.earthdatacloud.nasa.gov/lp-prod-protected/MOD11A2.061/MOD11A2.A2023169.h09v05.061.2023178033518/MOD11A2.A2023169.h09v05.061.2023178033518.hdf'}, {'rel': 'http://esipfed.org/ns/fedsearch/1.1/s3#', 'title': 'This link provides direct download access via S3 to the granule', 'hreflang': 'en-US', 'href': 's3://lp-prod-protected/MOD11A2.061/MOD11A2.A2023169.h09v05.061.2023178033518/MOD11A2.A2023169.h09v05.061.2023178033518.hdf'}, {'rel': 'http://esipfed.org/ns/fedsearch/1.1/documentation#', 'type': 'text/html', 'title': 'The Landing Page for this file may be accessed directly from this link (DOI)', 'hreflang': 'en-US', 'href': 'https://doi.org/10.5067/MODIS/MOD11A2.061'}, {'rel': 'http://esipfed.org/ns/fedsearch/1.1/metadata#', 'title': 'Download MOD11A2.A2023169.h09v05.061.2023178033518.cmr.xml (EXTENDED METADATA)', 'hreflang': 'en-US', 'href': 'https://data.lpdaac.earthdatacloud.nasa.gov/lp-prod-protected/MOD11A2.061/MOD11A2.A2023169.h09v05.061.2023178033518/MOD11A2.A2023169.h09v05.061.2023178033518.cmr.xml'}, {'rel': 'http://esipfed.org/ns/fedsearch/1.1/metadata#', 'title': 'This link provides direct download access via S3 to the granule (EXTENDED METADATA)', 'hreflang': 'en-US', 'href': 's3://lp-prod-protected/MOD11A2.061/MOD11A2.A2023169.h09v05.061.2023178033518/MOD11A2.A2023169.h09v05.061.2023178033518.cmr.xml'}, {'rel': 'http://esipfed.org/ns/fedsearch/1.1/metadata#', 'title': 'api endpoint to retrieve temporary credentials valid for same-region direct s3 access (VIEW RELATED INFORMATION)', 'hreflang': 'en-US', 'href': 'https://data.lpdaac.earthdatacloud.nasa.gov/s3credentials'}, {'rel': 'http://esipfed.org/ns/fedsearch/1.1/browse#', 'title': 'Download BROWSE.MOD11A2.A2023169.h09v05.061.2023177233519.1.jpg', 'hreflang': 'en-US', 'href': 'https://data.lpdaac.earthdatacloud.nasa.gov/lp-prod-public/MOD11A2.061/MOD11A2.A2023169.h09v05.061.2023178033518/BROWSE.MOD11A2.A2023169.h09v05.061.2023177233519.1.jpg'}, {'rel': 'http://esipfed.org/ns/fedsearch/1.1/browse#', 'title': 'This link provides direct download access via S3 to the granule', 'hreflang': 'en-US', 'href': 's3://lp-prod-public/MOD11A2.061/MOD11A2.A2023169.h09v05.061.2023178033518/BROWSE.MOD11A2.A2023169.h09v05.061.2023177233519.1.jpg'}, {'rel': 'http://esipfed.org/ns/fedsearch/1.1/browse#', 'title': 'Download BROWSE.MOD11A2.A2023169.h09v05.061.2023177233519.2.jpg', 'hreflang': 'en-US', 'href': 'https://data.lpdaac.earthdatacloud.nasa.gov/lp-prod-public/MOD11A2.061/MOD11A2.A2023169.h09v05.061.2023178033518/BROWSE.MOD11A2.A2023169.h09v05.061.2023177233519.2.jpg'}, {'rel': 'http://esipfed.org/ns/fedsearch/1.1/browse#', 'title': 'This link provides direct download access via S3 to the granule', 'hreflang': 'en-US', 'href': 's3://lp-prod-public/MOD11A2.061/MOD11A2.A2023169.h09v05.061.2023178033518/BROWSE.MOD11A2.A2023169.h09v05.061.2023177233519.2.jpg'}, {'inherited': True, 'rel': 'http://esipfed.org/ns/fedsearch/1.1/metadata#', 'hreflang': 'en-US', 'href': 'https://doi.org/10.5067/MODIS/MOD11A2.061'}, {'inherited': True, 'rel': 'http://esipfed.org/ns/fedsearch/1.1/metadata#', 'hreflang': 'en-US', 'href': 'https://lpdaac.usgs.gov/'}, {'inherited': True, 'length': '3.6MB', 'rel': 'http://esipfed.org/ns/fedsearch/1.1/data#', 'hreflang': 'en-US', 'href': 'https://e4ftl01.cr.usgs.gov/MOLT/MOD11A2.061/'}, {'inherited': True, 'length': '3.6MB', 'rel': 'http://esipfed.org/ns/fedsearch/1.1/data#', 'hreflang': 'en-US', 'href': 'https://search.earthdata.nasa.gov/search/granules?p=C2269056084-LPCLOUD'}, {'inherited': True, 'rel': 'http://esipfed.org/ns/fedsearch/1.1/data#', 'hreflang': 'en-US', 'href': 'https://appeears.earthdatacloud.nasa.gov/'}, {'inherited': True, 'rel': 'http://esipfed.org/ns/fedsearch/1.1/service#', 'hreflang': 'en-US', 'href': 'https://opendap.cr.usgs.gov/opendap/hyrax/DP131/MOLT/MOD11A2.061/contents.html'}, {'inherited': True, 'rel': 'http://esipfed.org/ns/fedsearch/1.1/documentation#', 'hreflang': 'en-US', 'href': 'https://lpdaac.usgs.gov/documents/119/MOD11_ATBD.pdf'}, {'inherited': True, 'rel': 'http://esipfed.org/ns/fedsearch/1.1/documentation#', 'hreflang': 'en-US', 'href': 'https://lpdaac.usgs.gov/documents/715/MOD11_User_Guide_V61.pdf'}, {'inherited': True, 'rel': 'http://esipfed.org/ns/fedsearch/1.1/documentation#', 'hreflang': 'en-US', 'href': 'https://ladsweb.modaps.eosdis.nasa.gov/filespec/MODIS/61/MOD11A2'}, {'inherited': True, 'rel': 'http://esipfed.org/ns/fedsearch/1.1/documentation#', 'hreflang': 'en-US', 'href': 'https://modis-land.gsfc.nasa.gov/ValStatus.php?ProductID=MOD11'}, {'inherited': True, 'rel': 'http://esipfed.org/ns/fedsearch/1.1/documentation#', 'hreflang': 'en-US', 'href': 'https://modis-land.gsfc.nasa.gov/MODLAND_val.html'}, {'inherited': True, 'rel': 'http://esipfed.org/ns/fedsearch/1.1/documentation#', 'hreflang': 'en-US', 'href': 'https://landweb.modaps.eosdis.nasa.gov/cgi-bin/QA_WWW/qaFlagPage.cgi?sat=terra&ver=C6'}]}, {'producer_granule_id': 'MOD11A2.A2023177.h09v06.061.2023191223224', 'time_start': '2023-06-26T00:00:00.000Z', 'cloud_cover': '0.0', 'updated': '2023-07-10T17:56:46.839Z', 'dataset_id': 'MODIS/Terra Land Surface Temperature/Emissivity 8-Day L3 Global 1km SIN Grid V061', 'data_center': 'LPCLOUD', 'title': 'MOD11A2.A2023177.h09v06.061.2023191223224', 'coordinate_system': 'GEODETIC', 'day_night_flag': 'BOTH', 'time_end': '2023-07-03T23:59:59.000Z', 'id': 'G2730471847-LPCLOUD', 'original_format': 'ECHO10', 'granule_size': '3.02013', 'browse_flag': True, 'polygons': [['20.0041667 -95.7854937 20.0041667 -85.1431699 29.9958333 -92.3808679 29.9958333 -103.9278538 20.0041667 -95.7854937']], 'collection_concept_id': 'C2269056084-LPCLOUD', 'online_access_flag': True, 'links': [{'rel': 'http://esipfed.org/ns/fedsearch/1.1/data#', 'title': 'Download MOD11A2.A2023177.h09v06.061.2023191223224.hdf', 'hreflang': 'en-US', 'href': 'https://data.lpdaac.earthdatacloud.nasa.gov/lp-prod-protected/MOD11A2.061/MOD11A2.A2023177.h09v06.061.2023191223224/MOD11A2.A2023177.h09v06.061.2023191223224.hdf'}, {'rel': 'http://esipfed.org/ns/fedsearch/1.1/s3#', 'title': 'This link provides direct download access via S3 to the granule', 'hreflang': 'en-US', 'href': 's3://lp-prod-protected/MOD11A2.061/MOD11A2.A2023177.h09v06.061.2023191223224/MOD11A2.A2023177.h09v06.061.2023191223224.hdf'}, {'rel': 'http://esipfed.org/ns/fedsearch/1.1/documentation#', 'type': 'text/html', 'title': 'The Landing Page for this file may be accessed directly from this link (DOI)', 'hreflang': 'en-US', 'href': 'https://doi.org/10.5067/MODIS/MOD11A2.061'}, {'rel': 'http://esipfed.org/ns/fedsearch/1.1/metadata#', 'title': 'Download MOD11A2.A2023177.h09v06.061.2023191223224.cmr.xml (EXTENDED METADATA)', 'hreflang': 'en-US', 'href': 'https://data.lpdaac.earthdatacloud.nasa.gov/lp-prod-protected/MOD11A2.061/MOD11A2.A2023177.h09v06.061.2023191223224/MOD11A2.A2023177.h09v06.061.2023191223224.cmr.xml'}, {'rel': 'http://esipfed.org/ns/fedsearch/1.1/metadata#', 'title': 'This link provides direct download access via S3 to the granule (EXTENDED METADATA)', 'hreflang': 'en-US', 'href': 's3://lp-prod-protected/MOD11A2.061/MOD11A2.A2023177.h09v06.061.2023191223224/MOD11A2.A2023177.h09v06.061.2023191223224.cmr.xml'}, {'rel': 'http://esipfed.org/ns/fedsearch/1.1/metadata#', 'title': 'api endpoint to retrieve temporary credentials valid for same-region direct s3 access (VIEW RELATED INFORMATION)', 'hreflang': 'en-US', 'href': 'https://data.lpdaac.earthdatacloud.nasa.gov/s3credentials'}, {'rel': 'http://esipfed.org/ns/fedsearch/1.1/browse#', 'title': 'Download BROWSE.MOD11A2.A2023177.h09v06.061.2023191183224.1.jpg', 'hreflang': 'en-US', 'href': 'https://data.lpdaac.earthdatacloud.nasa.gov/lp-prod-public/MOD11A2.061/MOD11A2.A2023177.h09v06.061.2023191223224/BROWSE.MOD11A2.A2023177.h09v06.061.2023191183224.1.jpg'}, {'rel': 'http://esipfed.org/ns/fedsearch/1.1/browse#', 'title': 'This link provides direct download access via S3 to the granule', 'hreflang': 'en-US', 'href': 's3://lp-prod-public/MOD11A2.061/MOD11A2.A2023177.h09v06.061.2023191223224/BROWSE.MOD11A2.A2023177.h09v06.061.2023191183224.1.jpg'}, {'rel': 'http://esipfed.org/ns/fedsearch/1.1/browse#', 'title': 'Download BROWSE.MOD11A2.A2023177.h09v06.061.2023191183224.2.jpg', 'hreflang': 'en-US', 'href': 'https://data.lpdaac.earthdatacloud.nasa.gov/lp-prod-public/MOD11A2.061/MOD11A2.A2023177.h09v06.061.2023191223224/BROWSE.MOD11A2.A2023177.h09v06.061.2023191183224.2.jpg'}, {'rel': 'http://esipfed.org/ns/fedsearch/1.1/browse#', 'title': 'This link provides direct download access via S3 to the granule', 'hreflang': 'en-US', 'href': 's3://lp-prod-public/MOD11A2.061/MOD11A2.A2023177.h09v06.061.2023191223224/BROWSE.MOD11A2.A2023177.h09v06.061.2023191183224.2.jpg'}, {'inherited': True, 'rel': 'http://esipfed.org/ns/fedsearch/1.1/metadata#', 'hreflang': 'en-US', 'href': 'https://doi.org/10.5067/MODIS/MOD11A2.061'}, {'inherited': True, 'rel': 'http://esipfed.org/ns/fedsearch/1.1/metadata#', 'hreflang': 'en-US', 'href': 'https://lpdaac.usgs.gov/'}, {'inherited': True, 'length': '3.6MB', 'rel': 'http://esipfed.org/ns/fedsearch/1.1/data#', 'hreflang': 'en-US', 'href': 'https://e4ftl01.cr.usgs.gov/MOLT/MOD11A2.061/'}, {'inherited': True, 'length': '3.6MB', 'rel': 'http://esipfed.org/ns/fedsearch/1.1/data#', 'hreflang': 'en-US', 'href': 'https://search.earthdata.nasa.gov/search/granules?p=C2269056084-LPCLOUD'}, {'inherited': True, 'rel': 'http://esipfed.org/ns/fedsearch/1.1/data#', 'hreflang': 'en-US', 'href': 'https://appeears.earthdatacloud.nasa.gov/'}, {'inherited': True, 'rel': 'http://esipfed.org/ns/fedsearch/1.1/service#', 'hreflang': 'en-US', 'href': 'https://opendap.cr.usgs.gov/opendap/hyrax/DP131/MOLT/MOD11A2.061/contents.html'}, {'inherited': True, 'rel': 'http://esipfed.org/ns/fedsearch/1.1/documentation#', 'hreflang': 'en-US', 'href': 'https://lpdaac.usgs.gov/documents/119/MOD11_ATBD.pdf'}, {'inherited': True, 'rel': 'http://esipfed.org/ns/fedsearch/1.1/documentation#', 'hreflang': 'en-US', 'href': 'https://lpdaac.usgs.gov/documents/715/MOD11_User_Guide_V61.pdf'}, {'inherited': True, 'rel': 'http://esipfed.org/ns/fedsearch/1.1/documentation#', 'hreflang': 'en-US', 'href': 'https://ladsweb.modaps.eosdis.nasa.gov/filespec/MODIS/61/MOD11A2'}, {'inherited': True, 'rel': 'http://esipfed.org/ns/fedsearch/1.1/documentation#', 'hreflang': 'en-US', 'href': 'https://modis-land.gsfc.nasa.gov/ValStatus.php?ProductID=MOD11'}, {'inherited': True, 'rel': 'http://esipfed.org/ns/fedsearch/1.1/documentation#', 'hreflang': 'en-US', 'href': 'https://modis-land.gsfc.nasa.gov/MODLAND_val.html'}, {'inherited': True, 'rel': 'http://esipfed.org/ns/fedsearch/1.1/documentation#', 'hreflang': 'en-US', 'href': 'https://landweb.modaps.eosdis.nasa.gov/cgi-bin/QA_WWW/qaFlagPage.cgi?sat=terra&ver=C6'}]}, {'producer_granule_id': 'MOD11A2.A2023177.h09v05.061.2023191223728', 'time_start': '2023-06-26T00:00:00.000Z', 'cloud_cover': '0.0', 'updated': '2023-07-10T18:08:49.159Z', 'dataset_id': 'MODIS/Terra Land Surface Temperature/Emissivity 8-Day L3 Global 1km SIN Grid V061', 'data_center': 'LPCLOUD', 'title': 'MOD11A2.A2023177.h09v05.061.2023191223728', 'coordinate_system': 'GEODETIC', 'day_night_flag': 'BOTH', 'time_end': '2023-07-03T23:59:59.000Z', 'id': 'G2730475989-LPCLOUD', 'original_format': 'ECHO10', 'granule_size': '7.38438', 'browse_flag': True, 'polygons': [['30.0041667 -103.9365814 30.0041667 -92.3886251 39.9958333 -104.4380348 39.9958333 -117.4920864 30.0041667 -103.9365814']], 'collection_concept_id': 'C2269056084-LPCLOUD', 'online_access_flag': True, 'links': [{'rel': 'http://esipfed.org/ns/fedsearch/1.1/data#', 'title': 'Download MOD11A2.A2023177.h09v05.061.2023191223728.hdf', 'hreflang': 'en-US', 'href': 'https://data.lpdaac.earthdatacloud.nasa.gov/lp-prod-protected/MOD11A2.061/MOD11A2.A2023177.h09v05.061.2023191223728/MOD11A2.A2023177.h09v05.061.2023191223728.hdf'}, {'rel': 'http://esipfed.org/ns/fedsearch/1.1/s3#', 'title': 'This link provides direct download access via S3 to the granule', 'hreflang': 'en-US', 'href': 's3://lp-prod-protected/MOD11A2.061/MOD11A2.A2023177.h09v05.061.2023191223728/MOD11A2.A2023177.h09v05.061.2023191223728.hdf'}, {'rel': 'http://esipfed.org/ns/fedsearch/1.1/documentation#', 'type': 'text/html', 'title': 'The Landing Page for this file may be accessed directly from this link (DOI)', 'hreflang': 'en-US', 'href': 'https://doi.org/10.5067/MODIS/MOD11A2.061'}, {'rel': 'http://esipfed.org/ns/fedsearch/1.1/metadata#', 'title': 'Download MOD11A2.A2023177.h09v05.061.2023191223728.cmr.xml (EXTENDED METADATA)', 'hreflang': 'en-US', 'href': 'https://data.lpdaac.earthdatacloud.nasa.gov/lp-prod-protected/MOD11A2.061/MOD11A2.A2023177.h09v05.061.2023191223728/MOD11A2.A2023177.h09v05.061.2023191223728.cmr.xml'}, {'rel': 'http://esipfed.org/ns/fedsearch/1.1/metadata#', 'title': 'This link provides direct download access via S3 to the granule (EXTENDED METADATA)', 'hreflang': 'en-US', 'href': 's3://lp-prod-protected/MOD11A2.061/MOD11A2.A2023177.h09v05.061.2023191223728/MOD11A2.A2023177.h09v05.061.2023191223728.cmr.xml'}, {'rel': 'http://esipfed.org/ns/fedsearch/1.1/metadata#', 'title': 'api endpoint to retrieve temporary credentials valid for same-region direct s3 access (VIEW RELATED INFORMATION)', 'hreflang': 'en-US', 'href': 'https://data.lpdaac.earthdatacloud.nasa.gov/s3credentials'}, {'rel': 'http://esipfed.org/ns/fedsearch/1.1/browse#', 'title': 'Download BROWSE.MOD11A2.A2023177.h09v05.061.2023191183729.1.jpg', 'hreflang': 'en-US', 'href': 'https://data.lpdaac.earthdatacloud.nasa.gov/lp-prod-public/MOD11A2.061/MOD11A2.A2023177.h09v05.061.2023191223728/BROWSE.MOD11A2.A2023177.h09v05.061.2023191183729.1.jpg'}, {'rel': 'http://esipfed.org/ns/fedsearch/1.1/browse#', 'title': 'This link provides direct download access via S3 to the granule', 'hreflang': 'en-US', 'href': 's3://lp-prod-public/MOD11A2.061/MOD11A2.A2023177.h09v05.061.2023191223728/BROWSE.MOD11A2.A2023177.h09v05.061.2023191183729.1.jpg'}, {'rel': 'http://esipfed.org/ns/fedsearch/1.1/browse#', 'title': 'Download BROWSE.MOD11A2.A2023177.h09v05.061.2023191183729.2.jpg', 'hreflang': 'en-US', 'href': 'https://data.lpdaac.earthdatacloud.nasa.gov/lp-prod-public/MOD11A2.061/MOD11A2.A2023177.h09v05.061.2023191223728/BROWSE.MOD11A2.A2023177.h09v05.061.2023191183729.2.jpg'}, {'rel': 'http://esipfed.org/ns/fedsearch/1.1/browse#', 'title': 'This link provides direct download access via S3 to the granule', 'hreflang': 'en-US', 'href': 's3://lp-prod-public/MOD11A2.061/MOD11A2.A2023177.h09v05.061.2023191223728/BROWSE.MOD11A2.A2023177.h09v05.061.2023191183729.2.jpg'}, {'inherited': True, 'rel': 'http://esipfed.org/ns/fedsearch/1.1/metadata#', 'hreflang': 'en-US', 'href': 'https://doi.org/10.5067/MODIS/MOD11A2.061'}, {'inherited': True, 'rel': 'http://esipfed.org/ns/fedsearch/1.1/metadata#', 'hreflang': 'en-US', 'href': 'https://lpdaac.usgs.gov/'}, {'inherited': True, 'length': '3.6MB', 'rel': 'http://esipfed.org/ns/fedsearch/1.1/data#', 'hreflang': 'en-US', 'href': 'https://e4ftl01.cr.usgs.gov/MOLT/MOD11A2.061/'}, {'inherited': True, 'length': '3.6MB', 'rel': 'http://esipfed.org/ns/fedsearch/1.1/data#', 'hreflang': 'en-US', 'href': 'https://search.earthdata.nasa.gov/search/granules?p=C2269056084-LPCLOUD'}, {'inherited': True, 'rel': 'http://esipfed.org/ns/fedsearch/1.1/data#', 'hreflang': 'en-US', 'href': 'https://appeears.earthdatacloud.nasa.gov/'}, {'inherited': True, 'rel': 'http://esipfed.org/ns/fedsearch/1.1/service#', 'hreflang': 'en-US', 'href': 'https://opendap.cr.usgs.gov/opendap/hyrax/DP131/MOLT/MOD11A2.061/contents.html'}, {'inherited': True, 'rel': 'http://esipfed.org/ns/fedsearch/1.1/documentation#', 'hreflang': 'en-US', 'href': 'https://lpdaac.usgs.gov/documents/119/MOD11_ATBD.pdf'}, {'inherited': True, 'rel': 'http://esipfed.org/ns/fedsearch/1.1/documentation#', 'hreflang': 'en-US', 'href': 'https://lpdaac.usgs.gov/documents/715/MOD11_User_Guide_V61.pdf'}, {'inherited': True, 'rel': 'http://esipfed.org/ns/fedsearch/1.1/documentation#', 'hreflang': 'en-US', 'href': 'https://ladsweb.modaps.eosdis.nasa.gov/filespec/MODIS/61/MOD11A2'}, {'inherited': True, 'rel': 'http://esipfed.org/ns/fedsearch/1.1/documentation#', 'hreflang': 'en-US', 'href': 'https://modis-land.gsfc.nasa.gov/ValStatus.php?ProductID=MOD11'}, {'inherited': True, 'rel': 'http://esipfed.org/ns/fedsearch/1.1/documentation#', 'hreflang': 'en-US', 'href': 'https://modis-land.gsfc.nasa.gov/MODLAND_val.html'}, {'inherited': True, 'rel': 'http://esipfed.org/ns/fedsearch/1.1/documentation#', 'hreflang': 'en-US', 'href': 'https://landweb.modaps.eosdis.nasa.gov/cgi-bin/QA_WWW/qaFlagPage.cgi?sat=terra&ver=C6'}]}]}}\n"
     ]
    }
   ],
   "source": [
    "# Define the search URL and parameters\n",
    "search_url = 'https://cmr.earthdata.nasa.gov/search/granules.json'\n",
    "params = {\n",
    "    'short_name': 'MOD11A2',  # MODIS/Terra Land Surface Temperature/Emissivity 8-Day L3 Global 1km SIN Grid\n",
    "    'version': '061', \n",
    "    'temporal': '2023-06-01T00:00:00Z,2023-08-31T23:59:59Z',  # Desired temporal range\n",
    "    'bounding_box': '-95.5,29.7,-95.0,30.2',  # Bounding box for Houston urban area\n",
    "    'page_size': 10,  # Number of results per page\n",
    "    'page_num': 1\n",
    "}\n",
    "\n",
    "# Headers with the token\n",
    "headers = {\n",
    "    'Authorization': f'Bearer {token}'\n",
    "}\n",
    "\n",
    "# Send the request\n",
    "response = requests.get(search_url, params=params, headers=headers)\n",
    "\n",
    "# Check for a successful response\n",
    "if response.status_code == 200:\n",
    "    data = response.json()\n",
    "    print(data)\n",
    "else:\n",
    "    print(f\"Error: {response.status_code} - {response.text}\")"
   ]
  },
  {
   "cell_type": "code",
   "execution_count": 8,
   "metadata": {},
   "outputs": [
    {
     "data": {
      "text/html": [
       "<div>\n",
       "<style scoped>\n",
       "    .dataframe tbody tr th:only-of-type {\n",
       "        vertical-align: middle;\n",
       "    }\n",
       "\n",
       "    .dataframe tbody tr th {\n",
       "        vertical-align: top;\n",
       "    }\n",
       "\n",
       "    .dataframe thead th {\n",
       "        text-align: right;\n",
       "    }\n",
       "</style>\n",
       "<table border=\"1\" class=\"dataframe\">\n",
       "  <thead>\n",
       "    <tr style=\"text-align: right;\">\n",
       "      <th></th>\n",
       "      <th>updated</th>\n",
       "      <th>id</th>\n",
       "      <th>title</th>\n",
       "      <th>entry</th>\n",
       "    </tr>\n",
       "  </thead>\n",
       "  <tbody>\n",
       "    <tr>\n",
       "      <th>0</th>\n",
       "      <td>2024-07-05T02:48:07.067Z</td>\n",
       "      <td>https://cmr.earthdata.nasa.gov:443/search/granules.json?short_name=MOD11A2&amp;version=061&amp;temporal=2023-06-01T00%3A00%3A00Z%2C2023-08-31T23%3A59%3A59Z&amp;bounding_box=-95.5%2C29.7%2C-95.0%2C30.2&amp;page_size=10&amp;page_num=1</td>\n",
       "      <td>ECHO granule metadata</td>\n",
       "      <td>{'producer_granule_id': 'MOD11A2.A2023145.h09v06.061.2023154043201', 'time_start': '2023-05-25T00:00:00.000Z', 'cloud_cover': '0.0', 'updated': '2023-06-02T23:36:49.187Z', 'dataset_id': 'MODIS/Terra Land Surface Temperature/Emissivity 8-Day L3 Gl...</td>\n",
       "    </tr>\n",
       "    <tr>\n",
       "      <th>1</th>\n",
       "      <td>2024-07-05T02:48:07.067Z</td>\n",
       "      <td>https://cmr.earthdata.nasa.gov:443/search/granules.json?short_name=MOD11A2&amp;version=061&amp;temporal=2023-06-01T00%3A00%3A00Z%2C2023-08-31T23%3A59%3A59Z&amp;bounding_box=-95.5%2C29.7%2C-95.0%2C30.2&amp;page_size=10&amp;page_num=1</td>\n",
       "      <td>ECHO granule metadata</td>\n",
       "      <td>{'producer_granule_id': 'MOD11A2.A2023145.h09v05.061.2023154041457', 'time_start': '2023-05-25T00:00:00.000Z', 'cloud_cover': '4.0', 'updated': '2023-06-02T23:20:57.547Z', 'dataset_id': 'MODIS/Terra Land Surface Temperature/Emissivity 8-Day L3 Gl...</td>\n",
       "    </tr>\n",
       "    <tr>\n",
       "      <th>2</th>\n",
       "      <td>2024-07-05T02:48:07.067Z</td>\n",
       "      <td>https://cmr.earthdata.nasa.gov:443/search/granules.json?short_name=MOD11A2&amp;version=061&amp;temporal=2023-06-01T00%3A00%3A00Z%2C2023-08-31T23%3A59%3A59Z&amp;bounding_box=-95.5%2C29.7%2C-95.0%2C30.2&amp;page_size=10&amp;page_num=1</td>\n",
       "      <td>ECHO granule metadata</td>\n",
       "      <td>{'producer_granule_id': 'MOD11A2.A2023153.h09v06.061.2023164032102', 'time_start': '2023-06-02T00:00:00.000Z', 'cloud_cover': '0.0', 'updated': '2023-06-12T23:06:08.832Z', 'dataset_id': 'MODIS/Terra Land Surface Temperature/Emissivity 8-Day L3 Gl...</td>\n",
       "    </tr>\n",
       "    <tr>\n",
       "      <th>3</th>\n",
       "      <td>2024-07-05T02:48:07.067Z</td>\n",
       "      <td>https://cmr.earthdata.nasa.gov:443/search/granules.json?short_name=MOD11A2&amp;version=061&amp;temporal=2023-06-01T00%3A00%3A00Z%2C2023-08-31T23%3A59%3A59Z&amp;bounding_box=-95.5%2C29.7%2C-95.0%2C30.2&amp;page_size=10&amp;page_num=1</td>\n",
       "      <td>ECHO granule metadata</td>\n",
       "      <td>{'producer_granule_id': 'MOD11A2.A2023153.h09v05.061.2023164034529', 'time_start': '2023-06-02T00:00:00.000Z', 'cloud_cover': '3.0', 'updated': '2023-06-12T23:49:49.631Z', 'dataset_id': 'MODIS/Terra Land Surface Temperature/Emissivity 8-Day L3 Gl...</td>\n",
       "    </tr>\n",
       "    <tr>\n",
       "      <th>4</th>\n",
       "      <td>2024-07-05T02:48:07.067Z</td>\n",
       "      <td>https://cmr.earthdata.nasa.gov:443/search/granules.json?short_name=MOD11A2&amp;version=061&amp;temporal=2023-06-01T00%3A00%3A00Z%2C2023-08-31T23%3A59%3A59Z&amp;bounding_box=-95.5%2C29.7%2C-95.0%2C30.2&amp;page_size=10&amp;page_num=1</td>\n",
       "      <td>ECHO granule metadata</td>\n",
       "      <td>{'producer_granule_id': 'MOD11A2.A2023161.h09v06.061.2023170174522', 'time_start': '2023-06-10T00:00:00.000Z', 'cloud_cover': '0.0', 'updated': '2023-06-19T12:57:31.217Z', 'dataset_id': 'MODIS/Terra Land Surface Temperature/Emissivity 8-Day L3 Gl...</td>\n",
       "    </tr>\n",
       "    <tr>\n",
       "      <th>5</th>\n",
       "      <td>2024-07-05T02:48:07.067Z</td>\n",
       "      <td>https://cmr.earthdata.nasa.gov:443/search/granules.json?short_name=MOD11A2&amp;version=061&amp;temporal=2023-06-01T00%3A00%3A00Z%2C2023-08-31T23%3A59%3A59Z&amp;bounding_box=-95.5%2C29.7%2C-95.0%2C30.2&amp;page_size=10&amp;page_num=1</td>\n",
       "      <td>ECHO granule metadata</td>\n",
       "      <td>{'producer_granule_id': 'MOD11A2.A2023161.h09v05.061.2023170174847', 'time_start': '2023-06-10T00:00:00.000Z', 'cloud_cover': '2.0', 'updated': '2023-06-19T13:10:16.444Z', 'dataset_id': 'MODIS/Terra Land Surface Temperature/Emissivity 8-Day L3 Gl...</td>\n",
       "    </tr>\n",
       "    <tr>\n",
       "      <th>6</th>\n",
       "      <td>2024-07-05T02:48:07.067Z</td>\n",
       "      <td>https://cmr.earthdata.nasa.gov:443/search/granules.json?short_name=MOD11A2&amp;version=061&amp;temporal=2023-06-01T00%3A00%3A00Z%2C2023-08-31T23%3A59%3A59Z&amp;bounding_box=-95.5%2C29.7%2C-95.0%2C30.2&amp;page_size=10&amp;page_num=1</td>\n",
       "      <td>ECHO granule metadata</td>\n",
       "      <td>{'producer_granule_id': 'MOD11A2.A2023169.h09v06.061.2023178032028', 'time_start': '2023-06-18T00:00:00.000Z', 'cloud_cover': '0.0', 'updated': '2023-06-26T22:25:12.256Z', 'dataset_id': 'MODIS/Terra Land Surface Temperature/Emissivity 8-Day L3 Gl...</td>\n",
       "    </tr>\n",
       "    <tr>\n",
       "      <th>7</th>\n",
       "      <td>2024-07-05T02:48:07.067Z</td>\n",
       "      <td>https://cmr.earthdata.nasa.gov:443/search/granules.json?short_name=MOD11A2&amp;version=061&amp;temporal=2023-06-01T00%3A00%3A00Z%2C2023-08-31T23%3A59%3A59Z&amp;bounding_box=-95.5%2C29.7%2C-95.0%2C30.2&amp;page_size=10&amp;page_num=1</td>\n",
       "      <td>ECHO granule metadata</td>\n",
       "      <td>{'producer_granule_id': 'MOD11A2.A2023169.h09v05.061.2023178033518', 'time_start': '2023-06-18T00:00:00.000Z', 'cloud_cover': '0.0', 'updated': '2023-06-26T22:50:14.727Z', 'dataset_id': 'MODIS/Terra Land Surface Temperature/Emissivity 8-Day L3 Gl...</td>\n",
       "    </tr>\n",
       "    <tr>\n",
       "      <th>8</th>\n",
       "      <td>2024-07-05T02:48:07.067Z</td>\n",
       "      <td>https://cmr.earthdata.nasa.gov:443/search/granules.json?short_name=MOD11A2&amp;version=061&amp;temporal=2023-06-01T00%3A00%3A00Z%2C2023-08-31T23%3A59%3A59Z&amp;bounding_box=-95.5%2C29.7%2C-95.0%2C30.2&amp;page_size=10&amp;page_num=1</td>\n",
       "      <td>ECHO granule metadata</td>\n",
       "      <td>{'producer_granule_id': 'MOD11A2.A2023177.h09v06.061.2023191223224', 'time_start': '2023-06-26T00:00:00.000Z', 'cloud_cover': '0.0', 'updated': '2023-07-10T17:56:46.839Z', 'dataset_id': 'MODIS/Terra Land Surface Temperature/Emissivity 8-Day L3 Gl...</td>\n",
       "    </tr>\n",
       "    <tr>\n",
       "      <th>9</th>\n",
       "      <td>2024-07-05T02:48:07.067Z</td>\n",
       "      <td>https://cmr.earthdata.nasa.gov:443/search/granules.json?short_name=MOD11A2&amp;version=061&amp;temporal=2023-06-01T00%3A00%3A00Z%2C2023-08-31T23%3A59%3A59Z&amp;bounding_box=-95.5%2C29.7%2C-95.0%2C30.2&amp;page_size=10&amp;page_num=1</td>\n",
       "      <td>ECHO granule metadata</td>\n",
       "      <td>{'producer_granule_id': 'MOD11A2.A2023177.h09v05.061.2023191223728', 'time_start': '2023-06-26T00:00:00.000Z', 'cloud_cover': '0.0', 'updated': '2023-07-10T18:08:49.159Z', 'dataset_id': 'MODIS/Terra Land Surface Temperature/Emissivity 8-Day L3 Gl...</td>\n",
       "    </tr>\n",
       "  </tbody>\n",
       "</table>\n",
       "</div>"
      ],
      "text/plain": [
       "                    updated  \\\n",
       "0  2024-07-05T02:48:07.067Z   \n",
       "1  2024-07-05T02:48:07.067Z   \n",
       "2  2024-07-05T02:48:07.067Z   \n",
       "3  2024-07-05T02:48:07.067Z   \n",
       "4  2024-07-05T02:48:07.067Z   \n",
       "5  2024-07-05T02:48:07.067Z   \n",
       "6  2024-07-05T02:48:07.067Z   \n",
       "7  2024-07-05T02:48:07.067Z   \n",
       "8  2024-07-05T02:48:07.067Z   \n",
       "9  2024-07-05T02:48:07.067Z   \n",
       "\n",
       "                                                                                                                                                                                                                     id  \\\n",
       "0  https://cmr.earthdata.nasa.gov:443/search/granules.json?short_name=MOD11A2&version=061&temporal=2023-06-01T00%3A00%3A00Z%2C2023-08-31T23%3A59%3A59Z&bounding_box=-95.5%2C29.7%2C-95.0%2C30.2&page_size=10&page_num=1   \n",
       "1  https://cmr.earthdata.nasa.gov:443/search/granules.json?short_name=MOD11A2&version=061&temporal=2023-06-01T00%3A00%3A00Z%2C2023-08-31T23%3A59%3A59Z&bounding_box=-95.5%2C29.7%2C-95.0%2C30.2&page_size=10&page_num=1   \n",
       "2  https://cmr.earthdata.nasa.gov:443/search/granules.json?short_name=MOD11A2&version=061&temporal=2023-06-01T00%3A00%3A00Z%2C2023-08-31T23%3A59%3A59Z&bounding_box=-95.5%2C29.7%2C-95.0%2C30.2&page_size=10&page_num=1   \n",
       "3  https://cmr.earthdata.nasa.gov:443/search/granules.json?short_name=MOD11A2&version=061&temporal=2023-06-01T00%3A00%3A00Z%2C2023-08-31T23%3A59%3A59Z&bounding_box=-95.5%2C29.7%2C-95.0%2C30.2&page_size=10&page_num=1   \n",
       "4  https://cmr.earthdata.nasa.gov:443/search/granules.json?short_name=MOD11A2&version=061&temporal=2023-06-01T00%3A00%3A00Z%2C2023-08-31T23%3A59%3A59Z&bounding_box=-95.5%2C29.7%2C-95.0%2C30.2&page_size=10&page_num=1   \n",
       "5  https://cmr.earthdata.nasa.gov:443/search/granules.json?short_name=MOD11A2&version=061&temporal=2023-06-01T00%3A00%3A00Z%2C2023-08-31T23%3A59%3A59Z&bounding_box=-95.5%2C29.7%2C-95.0%2C30.2&page_size=10&page_num=1   \n",
       "6  https://cmr.earthdata.nasa.gov:443/search/granules.json?short_name=MOD11A2&version=061&temporal=2023-06-01T00%3A00%3A00Z%2C2023-08-31T23%3A59%3A59Z&bounding_box=-95.5%2C29.7%2C-95.0%2C30.2&page_size=10&page_num=1   \n",
       "7  https://cmr.earthdata.nasa.gov:443/search/granules.json?short_name=MOD11A2&version=061&temporal=2023-06-01T00%3A00%3A00Z%2C2023-08-31T23%3A59%3A59Z&bounding_box=-95.5%2C29.7%2C-95.0%2C30.2&page_size=10&page_num=1   \n",
       "8  https://cmr.earthdata.nasa.gov:443/search/granules.json?short_name=MOD11A2&version=061&temporal=2023-06-01T00%3A00%3A00Z%2C2023-08-31T23%3A59%3A59Z&bounding_box=-95.5%2C29.7%2C-95.0%2C30.2&page_size=10&page_num=1   \n",
       "9  https://cmr.earthdata.nasa.gov:443/search/granules.json?short_name=MOD11A2&version=061&temporal=2023-06-01T00%3A00%3A00Z%2C2023-08-31T23%3A59%3A59Z&bounding_box=-95.5%2C29.7%2C-95.0%2C30.2&page_size=10&page_num=1   \n",
       "\n",
       "                   title  \\\n",
       "0  ECHO granule metadata   \n",
       "1  ECHO granule metadata   \n",
       "2  ECHO granule metadata   \n",
       "3  ECHO granule metadata   \n",
       "4  ECHO granule metadata   \n",
       "5  ECHO granule metadata   \n",
       "6  ECHO granule metadata   \n",
       "7  ECHO granule metadata   \n",
       "8  ECHO granule metadata   \n",
       "9  ECHO granule metadata   \n",
       "\n",
       "                                                                                                                                                                                                                                                       entry  \n",
       "0  {'producer_granule_id': 'MOD11A2.A2023145.h09v06.061.2023154043201', 'time_start': '2023-05-25T00:00:00.000Z', 'cloud_cover': '0.0', 'updated': '2023-06-02T23:36:49.187Z', 'dataset_id': 'MODIS/Terra Land Surface Temperature/Emissivity 8-Day L3 Gl...  \n",
       "1  {'producer_granule_id': 'MOD11A2.A2023145.h09v05.061.2023154041457', 'time_start': '2023-05-25T00:00:00.000Z', 'cloud_cover': '4.0', 'updated': '2023-06-02T23:20:57.547Z', 'dataset_id': 'MODIS/Terra Land Surface Temperature/Emissivity 8-Day L3 Gl...  \n",
       "2  {'producer_granule_id': 'MOD11A2.A2023153.h09v06.061.2023164032102', 'time_start': '2023-06-02T00:00:00.000Z', 'cloud_cover': '0.0', 'updated': '2023-06-12T23:06:08.832Z', 'dataset_id': 'MODIS/Terra Land Surface Temperature/Emissivity 8-Day L3 Gl...  \n",
       "3  {'producer_granule_id': 'MOD11A2.A2023153.h09v05.061.2023164034529', 'time_start': '2023-06-02T00:00:00.000Z', 'cloud_cover': '3.0', 'updated': '2023-06-12T23:49:49.631Z', 'dataset_id': 'MODIS/Terra Land Surface Temperature/Emissivity 8-Day L3 Gl...  \n",
       "4  {'producer_granule_id': 'MOD11A2.A2023161.h09v06.061.2023170174522', 'time_start': '2023-06-10T00:00:00.000Z', 'cloud_cover': '0.0', 'updated': '2023-06-19T12:57:31.217Z', 'dataset_id': 'MODIS/Terra Land Surface Temperature/Emissivity 8-Day L3 Gl...  \n",
       "5  {'producer_granule_id': 'MOD11A2.A2023161.h09v05.061.2023170174847', 'time_start': '2023-06-10T00:00:00.000Z', 'cloud_cover': '2.0', 'updated': '2023-06-19T13:10:16.444Z', 'dataset_id': 'MODIS/Terra Land Surface Temperature/Emissivity 8-Day L3 Gl...  \n",
       "6  {'producer_granule_id': 'MOD11A2.A2023169.h09v06.061.2023178032028', 'time_start': '2023-06-18T00:00:00.000Z', 'cloud_cover': '0.0', 'updated': '2023-06-26T22:25:12.256Z', 'dataset_id': 'MODIS/Terra Land Surface Temperature/Emissivity 8-Day L3 Gl...  \n",
       "7  {'producer_granule_id': 'MOD11A2.A2023169.h09v05.061.2023178033518', 'time_start': '2023-06-18T00:00:00.000Z', 'cloud_cover': '0.0', 'updated': '2023-06-26T22:50:14.727Z', 'dataset_id': 'MODIS/Terra Land Surface Temperature/Emissivity 8-Day L3 Gl...  \n",
       "8  {'producer_granule_id': 'MOD11A2.A2023177.h09v06.061.2023191223224', 'time_start': '2023-06-26T00:00:00.000Z', 'cloud_cover': '0.0', 'updated': '2023-07-10T17:56:46.839Z', 'dataset_id': 'MODIS/Terra Land Surface Temperature/Emissivity 8-Day L3 Gl...  \n",
       "9  {'producer_granule_id': 'MOD11A2.A2023177.h09v05.061.2023191223728', 'time_start': '2023-06-26T00:00:00.000Z', 'cloud_cover': '0.0', 'updated': '2023-07-10T18:08:49.159Z', 'dataset_id': 'MODIS/Terra Land Surface Temperature/Emissivity 8-Day L3 Gl...  "
      ]
     },
     "execution_count": 8,
     "metadata": {},
     "output_type": "execute_result"
    }
   ],
   "source": [
    "# viewing the data we received from the API\n",
    "pd.DataFrame(data['feed'])"
   ]
  },
  {
   "cell_type": "code",
   "execution_count": 9,
   "metadata": {},
   "outputs": [
    {
     "data": {
      "text/html": [
       "<div>\n",
       "<style scoped>\n",
       "    .dataframe tbody tr th:only-of-type {\n",
       "        vertical-align: middle;\n",
       "    }\n",
       "\n",
       "    .dataframe tbody tr th {\n",
       "        vertical-align: top;\n",
       "    }\n",
       "\n",
       "    .dataframe thead th {\n",
       "        text-align: right;\n",
       "    }\n",
       "</style>\n",
       "<table border=\"1\" class=\"dataframe\">\n",
       "  <thead>\n",
       "    <tr style=\"text-align: right;\">\n",
       "      <th></th>\n",
       "      <th>producer_granule_id</th>\n",
       "      <th>time_start</th>\n",
       "      <th>cloud_cover</th>\n",
       "      <th>updated</th>\n",
       "      <th>dataset_id</th>\n",
       "      <th>data_center</th>\n",
       "      <th>title</th>\n",
       "      <th>coordinate_system</th>\n",
       "      <th>day_night_flag</th>\n",
       "      <th>time_end</th>\n",
       "      <th>id</th>\n",
       "      <th>original_format</th>\n",
       "      <th>granule_size</th>\n",
       "      <th>browse_flag</th>\n",
       "      <th>polygons</th>\n",
       "      <th>collection_concept_id</th>\n",
       "      <th>online_access_flag</th>\n",
       "      <th>links</th>\n",
       "    </tr>\n",
       "  </thead>\n",
       "  <tbody>\n",
       "    <tr>\n",
       "      <th>0</th>\n",
       "      <td>MOD11A2.A2023145.h09v06.061.2023154043201</td>\n",
       "      <td>2023-05-25T00:00:00.000Z</td>\n",
       "      <td>0.0</td>\n",
       "      <td>2023-06-02T23:36:49.187Z</td>\n",
       "      <td>MODIS/Terra Land Surface Temperature/Emissivity 8-Day L3 Global 1km SIN Grid V061</td>\n",
       "      <td>LPCLOUD</td>\n",
       "      <td>MOD11A2.A2023145.h09v06.061.2023154043201</td>\n",
       "      <td>GEODETIC</td>\n",
       "      <td>BOTH</td>\n",
       "      <td>2023-06-01T23:59:59.000Z</td>\n",
       "      <td>G2704231088-LPCLOUD</td>\n",
       "      <td>ECHO10</td>\n",
       "      <td>3.23938</td>\n",
       "      <td>True</td>\n",
       "      <td>[[20.0041667 -95.7854937 20.0041667 -85.1431699 29.9958333 -92.3808679 29.9958333 -103.9278538 20.0041667 -95.7854937]]</td>\n",
       "      <td>C2269056084-LPCLOUD</td>\n",
       "      <td>True</td>\n",
       "      <td>[{'rel': 'http://esipfed.org/ns/fedsearch/1.1/data#', 'title': 'Download MOD11A2.A2023145.h09v06.061.2023154043201.hdf', 'hreflang': 'en-US', 'href': 'https://data.lpdaac.earthdatacloud.nasa.gov/lp-prod-protected/MOD11A2.061/MOD11A2.A2023145.h09v...</td>\n",
       "    </tr>\n",
       "    <tr>\n",
       "      <th>1</th>\n",
       "      <td>MOD11A2.A2023145.h09v05.061.2023154041457</td>\n",
       "      <td>2023-05-25T00:00:00.000Z</td>\n",
       "      <td>4.0</td>\n",
       "      <td>2023-06-02T23:20:57.547Z</td>\n",
       "      <td>MODIS/Terra Land Surface Temperature/Emissivity 8-Day L3 Global 1km SIN Grid V061</td>\n",
       "      <td>LPCLOUD</td>\n",
       "      <td>MOD11A2.A2023145.h09v05.061.2023154041457</td>\n",
       "      <td>GEODETIC</td>\n",
       "      <td>BOTH</td>\n",
       "      <td>2023-06-01T23:59:59.000Z</td>\n",
       "      <td>G2704231280-LPCLOUD</td>\n",
       "      <td>ECHO10</td>\n",
       "      <td>8.02038</td>\n",
       "      <td>True</td>\n",
       "      <td>[[30.0041667 -103.9365814 30.0041667 -92.3886251 39.9958333 -104.4380348 39.9958333 -117.4920864 30.0041667 -103.9365814]]</td>\n",
       "      <td>C2269056084-LPCLOUD</td>\n",
       "      <td>True</td>\n",
       "      <td>[{'rel': 'http://esipfed.org/ns/fedsearch/1.1/data#', 'title': 'Download MOD11A2.A2023145.h09v05.061.2023154041457.hdf', 'hreflang': 'en-US', 'href': 'https://data.lpdaac.earthdatacloud.nasa.gov/lp-prod-protected/MOD11A2.061/MOD11A2.A2023145.h09v...</td>\n",
       "    </tr>\n",
       "    <tr>\n",
       "      <th>2</th>\n",
       "      <td>MOD11A2.A2023153.h09v06.061.2023164032102</td>\n",
       "      <td>2023-06-02T00:00:00.000Z</td>\n",
       "      <td>0.0</td>\n",
       "      <td>2023-06-12T23:06:08.832Z</td>\n",
       "      <td>MODIS/Terra Land Surface Temperature/Emissivity 8-Day L3 Global 1km SIN Grid V061</td>\n",
       "      <td>LPCLOUD</td>\n",
       "      <td>MOD11A2.A2023153.h09v06.061.2023164032102</td>\n",
       "      <td>GEODETIC</td>\n",
       "      <td>BOTH</td>\n",
       "      <td>2023-06-09T23:59:59.000Z</td>\n",
       "      <td>G2709329705-LPCLOUD</td>\n",
       "      <td>ECHO10</td>\n",
       "      <td>3.17643</td>\n",
       "      <td>True</td>\n",
       "      <td>[[20.0041667 -95.7854937 20.0041667 -85.1431699 29.9958333 -92.3808679 29.9958333 -103.9278538 20.0041667 -95.7854937]]</td>\n",
       "      <td>C2269056084-LPCLOUD</td>\n",
       "      <td>True</td>\n",
       "      <td>[{'rel': 'http://esipfed.org/ns/fedsearch/1.1/data#', 'title': 'Download MOD11A2.A2023153.h09v06.061.2023164032102.hdf', 'hreflang': 'en-US', 'href': 'https://data.lpdaac.earthdatacloud.nasa.gov/lp-prod-protected/MOD11A2.061/MOD11A2.A2023153.h09v...</td>\n",
       "    </tr>\n",
       "    <tr>\n",
       "      <th>3</th>\n",
       "      <td>MOD11A2.A2023153.h09v05.061.2023164034529</td>\n",
       "      <td>2023-06-02T00:00:00.000Z</td>\n",
       "      <td>3.0</td>\n",
       "      <td>2023-06-12T23:49:49.631Z</td>\n",
       "      <td>MODIS/Terra Land Surface Temperature/Emissivity 8-Day L3 Global 1km SIN Grid V061</td>\n",
       "      <td>LPCLOUD</td>\n",
       "      <td>MOD11A2.A2023153.h09v05.061.2023164034529</td>\n",
       "      <td>GEODETIC</td>\n",
       "      <td>BOTH</td>\n",
       "      <td>2023-06-09T23:59:59.000Z</td>\n",
       "      <td>G2709350019-LPCLOUD</td>\n",
       "      <td>ECHO10</td>\n",
       "      <td>8.37</td>\n",
       "      <td>True</td>\n",
       "      <td>[[30.0041667 -103.9365814 30.0041667 -92.3886251 39.9958333 -104.4380348 39.9958333 -117.4920864 30.0041667 -103.9365814]]</td>\n",
       "      <td>C2269056084-LPCLOUD</td>\n",
       "      <td>True</td>\n",
       "      <td>[{'rel': 'http://esipfed.org/ns/fedsearch/1.1/data#', 'title': 'Download MOD11A2.A2023153.h09v05.061.2023164034529.hdf', 'hreflang': 'en-US', 'href': 'https://data.lpdaac.earthdatacloud.nasa.gov/lp-prod-protected/MOD11A2.061/MOD11A2.A2023153.h09v...</td>\n",
       "    </tr>\n",
       "    <tr>\n",
       "      <th>4</th>\n",
       "      <td>MOD11A2.A2023161.h09v06.061.2023170174522</td>\n",
       "      <td>2023-06-10T00:00:00.000Z</td>\n",
       "      <td>0.0</td>\n",
       "      <td>2023-06-19T12:57:31.217Z</td>\n",
       "      <td>MODIS/Terra Land Surface Temperature/Emissivity 8-Day L3 Global 1km SIN Grid V061</td>\n",
       "      <td>LPCLOUD</td>\n",
       "      <td>MOD11A2.A2023161.h09v06.061.2023170174522</td>\n",
       "      <td>GEODETIC</td>\n",
       "      <td>BOTH</td>\n",
       "      <td>2023-06-17T23:59:59.000Z</td>\n",
       "      <td>G2715588619-LPCLOUD</td>\n",
       "      <td>ECHO10</td>\n",
       "      <td>3.04064</td>\n",
       "      <td>True</td>\n",
       "      <td>[[20.0041667 -95.7854937 20.0041667 -85.1431699 29.9958333 -92.3808679 29.9958333 -103.9278538 20.0041667 -95.7854937]]</td>\n",
       "      <td>C2269056084-LPCLOUD</td>\n",
       "      <td>True</td>\n",
       "      <td>[{'rel': 'http://esipfed.org/ns/fedsearch/1.1/data#', 'title': 'Download MOD11A2.A2023161.h09v06.061.2023170174522.hdf', 'hreflang': 'en-US', 'href': 'https://data.lpdaac.earthdatacloud.nasa.gov/lp-prod-protected/MOD11A2.061/MOD11A2.A2023161.h09v...</td>\n",
       "    </tr>\n",
       "  </tbody>\n",
       "</table>\n",
       "</div>"
      ],
      "text/plain": [
       "                         producer_granule_id                time_start  \\\n",
       "0  MOD11A2.A2023145.h09v06.061.2023154043201  2023-05-25T00:00:00.000Z   \n",
       "1  MOD11A2.A2023145.h09v05.061.2023154041457  2023-05-25T00:00:00.000Z   \n",
       "2  MOD11A2.A2023153.h09v06.061.2023164032102  2023-06-02T00:00:00.000Z   \n",
       "3  MOD11A2.A2023153.h09v05.061.2023164034529  2023-06-02T00:00:00.000Z   \n",
       "4  MOD11A2.A2023161.h09v06.061.2023170174522  2023-06-10T00:00:00.000Z   \n",
       "\n",
       "  cloud_cover                   updated  \\\n",
       "0         0.0  2023-06-02T23:36:49.187Z   \n",
       "1         4.0  2023-06-02T23:20:57.547Z   \n",
       "2         0.0  2023-06-12T23:06:08.832Z   \n",
       "3         3.0  2023-06-12T23:49:49.631Z   \n",
       "4         0.0  2023-06-19T12:57:31.217Z   \n",
       "\n",
       "                                                                          dataset_id  \\\n",
       "0  MODIS/Terra Land Surface Temperature/Emissivity 8-Day L3 Global 1km SIN Grid V061   \n",
       "1  MODIS/Terra Land Surface Temperature/Emissivity 8-Day L3 Global 1km SIN Grid V061   \n",
       "2  MODIS/Terra Land Surface Temperature/Emissivity 8-Day L3 Global 1km SIN Grid V061   \n",
       "3  MODIS/Terra Land Surface Temperature/Emissivity 8-Day L3 Global 1km SIN Grid V061   \n",
       "4  MODIS/Terra Land Surface Temperature/Emissivity 8-Day L3 Global 1km SIN Grid V061   \n",
       "\n",
       "  data_center                                      title coordinate_system  \\\n",
       "0     LPCLOUD  MOD11A2.A2023145.h09v06.061.2023154043201          GEODETIC   \n",
       "1     LPCLOUD  MOD11A2.A2023145.h09v05.061.2023154041457          GEODETIC   \n",
       "2     LPCLOUD  MOD11A2.A2023153.h09v06.061.2023164032102          GEODETIC   \n",
       "3     LPCLOUD  MOD11A2.A2023153.h09v05.061.2023164034529          GEODETIC   \n",
       "4     LPCLOUD  MOD11A2.A2023161.h09v06.061.2023170174522          GEODETIC   \n",
       "\n",
       "  day_night_flag                  time_end                   id  \\\n",
       "0           BOTH  2023-06-01T23:59:59.000Z  G2704231088-LPCLOUD   \n",
       "1           BOTH  2023-06-01T23:59:59.000Z  G2704231280-LPCLOUD   \n",
       "2           BOTH  2023-06-09T23:59:59.000Z  G2709329705-LPCLOUD   \n",
       "3           BOTH  2023-06-09T23:59:59.000Z  G2709350019-LPCLOUD   \n",
       "4           BOTH  2023-06-17T23:59:59.000Z  G2715588619-LPCLOUD   \n",
       "\n",
       "  original_format granule_size  browse_flag  \\\n",
       "0          ECHO10      3.23938         True   \n",
       "1          ECHO10      8.02038         True   \n",
       "2          ECHO10      3.17643         True   \n",
       "3          ECHO10         8.37         True   \n",
       "4          ECHO10      3.04064         True   \n",
       "\n",
       "                                                                                                                     polygons  \\\n",
       "0     [[20.0041667 -95.7854937 20.0041667 -85.1431699 29.9958333 -92.3808679 29.9958333 -103.9278538 20.0041667 -95.7854937]]   \n",
       "1  [[30.0041667 -103.9365814 30.0041667 -92.3886251 39.9958333 -104.4380348 39.9958333 -117.4920864 30.0041667 -103.9365814]]   \n",
       "2     [[20.0041667 -95.7854937 20.0041667 -85.1431699 29.9958333 -92.3808679 29.9958333 -103.9278538 20.0041667 -95.7854937]]   \n",
       "3  [[30.0041667 -103.9365814 30.0041667 -92.3886251 39.9958333 -104.4380348 39.9958333 -117.4920864 30.0041667 -103.9365814]]   \n",
       "4     [[20.0041667 -95.7854937 20.0041667 -85.1431699 29.9958333 -92.3808679 29.9958333 -103.9278538 20.0041667 -95.7854937]]   \n",
       "\n",
       "  collection_concept_id  online_access_flag  \\\n",
       "0   C2269056084-LPCLOUD                True   \n",
       "1   C2269056084-LPCLOUD                True   \n",
       "2   C2269056084-LPCLOUD                True   \n",
       "3   C2269056084-LPCLOUD                True   \n",
       "4   C2269056084-LPCLOUD                True   \n",
       "\n",
       "                                                                                                                                                                                                                                                       links  \n",
       "0  [{'rel': 'http://esipfed.org/ns/fedsearch/1.1/data#', 'title': 'Download MOD11A2.A2023145.h09v06.061.2023154043201.hdf', 'hreflang': 'en-US', 'href': 'https://data.lpdaac.earthdatacloud.nasa.gov/lp-prod-protected/MOD11A2.061/MOD11A2.A2023145.h09v...  \n",
       "1  [{'rel': 'http://esipfed.org/ns/fedsearch/1.1/data#', 'title': 'Download MOD11A2.A2023145.h09v05.061.2023154041457.hdf', 'hreflang': 'en-US', 'href': 'https://data.lpdaac.earthdatacloud.nasa.gov/lp-prod-protected/MOD11A2.061/MOD11A2.A2023145.h09v...  \n",
       "2  [{'rel': 'http://esipfed.org/ns/fedsearch/1.1/data#', 'title': 'Download MOD11A2.A2023153.h09v06.061.2023164032102.hdf', 'hreflang': 'en-US', 'href': 'https://data.lpdaac.earthdatacloud.nasa.gov/lp-prod-protected/MOD11A2.061/MOD11A2.A2023153.h09v...  \n",
       "3  [{'rel': 'http://esipfed.org/ns/fedsearch/1.1/data#', 'title': 'Download MOD11A2.A2023153.h09v05.061.2023164034529.hdf', 'hreflang': 'en-US', 'href': 'https://data.lpdaac.earthdatacloud.nasa.gov/lp-prod-protected/MOD11A2.061/MOD11A2.A2023153.h09v...  \n",
       "4  [{'rel': 'http://esipfed.org/ns/fedsearch/1.1/data#', 'title': 'Download MOD11A2.A2023161.h09v06.061.2023170174522.hdf', 'hreflang': 'en-US', 'href': 'https://data.lpdaac.earthdatacloud.nasa.gov/lp-prod-protected/MOD11A2.061/MOD11A2.A2023161.h09v...  "
      ]
     },
     "execution_count": 9,
     "metadata": {},
     "output_type": "execute_result"
    }
   ],
   "source": [
    "entries_df = pd.DataFrame(data['feed']['entry'])\n",
    "entries_df.head()"
   ]
  },
  {
   "cell_type": "code",
   "execution_count": 10,
   "metadata": {},
   "outputs": [
    {
     "data": {
      "text/plain": [
       "['https://data.lpdaac.earthdatacloud.nasa.gov/lp-prod-protected/MOD11A2.061/MOD11A2.A2023145.h09v06.061.2023154043201/MOD11A2.A2023145.h09v06.061.2023154043201.hdf',\n",
       " 'https://data.lpdaac.earthdatacloud.nasa.gov/lp-prod-protected/MOD11A2.061/MOD11A2.A2023145.h09v05.061.2023154041457/MOD11A2.A2023145.h09v05.061.2023154041457.hdf',\n",
       " 'https://data.lpdaac.earthdatacloud.nasa.gov/lp-prod-protected/MOD11A2.061/MOD11A2.A2023153.h09v06.061.2023164032102/MOD11A2.A2023153.h09v06.061.2023164032102.hdf',\n",
       " 'https://data.lpdaac.earthdatacloud.nasa.gov/lp-prod-protected/MOD11A2.061/MOD11A2.A2023153.h09v05.061.2023164034529/MOD11A2.A2023153.h09v05.061.2023164034529.hdf',\n",
       " 'https://data.lpdaac.earthdatacloud.nasa.gov/lp-prod-protected/MOD11A2.061/MOD11A2.A2023161.h09v06.061.2023170174522/MOD11A2.A2023161.h09v06.061.2023170174522.hdf',\n",
       " 'https://data.lpdaac.earthdatacloud.nasa.gov/lp-prod-protected/MOD11A2.061/MOD11A2.A2023161.h09v05.061.2023170174847/MOD11A2.A2023161.h09v05.061.2023170174847.hdf',\n",
       " 'https://data.lpdaac.earthdatacloud.nasa.gov/lp-prod-protected/MOD11A2.061/MOD11A2.A2023169.h09v06.061.2023178032028/MOD11A2.A2023169.h09v06.061.2023178032028.hdf',\n",
       " 'https://data.lpdaac.earthdatacloud.nasa.gov/lp-prod-protected/MOD11A2.061/MOD11A2.A2023169.h09v05.061.2023178033518/MOD11A2.A2023169.h09v05.061.2023178033518.hdf',\n",
       " 'https://data.lpdaac.earthdatacloud.nasa.gov/lp-prod-protected/MOD11A2.061/MOD11A2.A2023177.h09v06.061.2023191223224/MOD11A2.A2023177.h09v06.061.2023191223224.hdf',\n",
       " 'https://data.lpdaac.earthdatacloud.nasa.gov/lp-prod-protected/MOD11A2.061/MOD11A2.A2023177.h09v05.061.2023191223728/MOD11A2.A2023177.h09v05.061.2023191223728.hdf']"
      ]
     },
     "execution_count": 10,
     "metadata": {},
     "output_type": "execute_result"
    }
   ],
   "source": [
    "# Extract granule URLs from the search results\n",
    "granule_urls = [granule['links'][0]['href'] for granule in data['feed']['entry'] if 'links' in granule and granule['links']]\n",
    "granule_urls"
   ]
  },
  {
   "cell_type": "markdown",
   "metadata": {},
   "source": [
    "## 🤖Using ChatGPT to Set New Coordinates"
   ]
  },
  {
   "cell_type": "markdown",
   "metadata": {},
   "source": [
    "1. **Sign up for OpenAI's API:** \n",
    "   - Visit the [OpenAI website](https://www.openai.com) and sign up for an API key.\n",
    "\n",
    "2. **Create a `.secret` folder:**\n",
    "   ```bash\n",
    "   cd ~\n",
    "   mkdir .secret\n",
    "   ```\n",
    "\n",
    "3. **Save your API key as a text file in the `.secret` folder:**\n",
    "   - Open a text editor and paste your API key.\n",
    "   - Save the file as `open-ai.txt` in the `.secret` folder. For example, you can use the following command in the terminal to create the file and save the API key:\n",
    "   ```bash\n",
    "   echo \"your_openai_api_key_here\" > ~/.secret/open-ai.txt\n",
    "   ```\n",
    "\n",
    "4. **Export the key from the file to your `.bash_profile`:**\n",
    "   - Open your `.bash_profile` for editing:\n",
    "   ```bash\n",
    "   code ~/.bash_profile\n",
    "   ```\n",
    "   - Add the following line to export the API key:\n",
    "   ```bash\n",
    "   export OPENAI_API_KEY=$(cat ~/.secret/open-ai.txt)\n",
    "   ```\n",
    "   - Save the file and exit the editor \n",
    "\n",
    "5. **Reload your `.bash_profile` to apply the changes:**\n",
    "   ```bash\n",
    "   source ~/.bash_profile\n",
    "   ```\n",
    "\n",
    "After following these steps, your API key will be available in your environment variables as `OPENAI_API_KEY`."
   ]
  },
  {
   "cell_type": "markdown",
   "metadata": {},
   "source": [
    "### Using LangChain with ChatGPT"
   ]
  },
  {
   "cell_type": "code",
   "execution_count": 11,
   "metadata": {},
   "outputs": [],
   "source": [
    "## Defining the structured output desired from chat gpt\n",
    "## Tip was to use make_model\n",
    "# https://stackoverflow.com/questions/63257839/best-way-to-specify-nested-dict-with-pydantic\n",
    "class Coordinates(BaseModel):\n",
    "    SW: List[float]\n",
    "    NE: List[float]\n",
    "    \n",
    "class RegionCoordinates(BaseModel):\n",
    "    rural: Optional[Coordinates]\n",
    "    urban: Optional[Coordinates]\n",
    "                            \n",
    "class DataParams(BaseModel):\n",
    "    \"\"\"\n",
    "    Represents the parameters for data analysis.\n",
    "\n",
    "    Attributes:\n",
    "        city_region_name (str): The name of the city or region.\n",
    "        coordinates (Optional[RegionCoordinates]): The coordinates of the city or region.\n",
    "        time (Dict[str, str]): A dictionary containing time-related information.\n",
    "    \"\"\"\n",
    "    city_region_name: str\n",
    "    coordinates: Optional[RegionCoordinates]\n",
    "    time: Dict[str, str]"
   ]
  },
  {
   "cell_type": "markdown",
   "metadata": {},
   "source": [
    "### Created a function that asks ChatGPT for suggested parameters"
   ]
  },
  {
   "cell_type": "code",
   "execution_count": 12,
   "metadata": {},
   "outputs": [],
   "source": [
    "def suggest_data_params(query: str, temperature=0.1, model_type='gpt-4o',\n",
    "                       return_llm = False, return_json=True) -> str:\n",
    "    \"\"\"\n",
    "    Suggests data parameters for downloading MODIS data for a specific region and time range.\n",
    "    \n",
    "    Args:\n",
    "        query (str): The query describing the requirements for the data download.\n",
    "        temperature (float, optional): The temperature parameter for the language model. Defaults to 0.1.\n",
    "        model_type (str, optional): The type of language model to use. Defaults to 'gpt-4o'.\n",
    "        return_llm (bool, optional): Whether to return the language model chain. Defaults to False.\n",
    "        return_json (bool, optional): Whether to return the response as JSON. Defaults to True.\n",
    "    \n",
    "    Returns:\n",
    "        str: The response from the language model chain or the JSON response, depending on the value of return_json.\n",
    "    \"\"\"\n",
    "    \n",
    "    # The prompt template for suggesting data parameters\n",
    "    prompt = \"\"\"\n",
    "    I am performing an urban heat island analysis project with MODIS data comparing urban areas vs. rural areas. \n",
    "    I need to download MODIS data for 2 nearby non-overlapping regions (urban area and rural area outside of city) and time range.\n",
    "    Help me select the urban and rural regions and time following the instructions below.\n",
    "    {query}\n",
    "    \n",
    "    Provide me the data parameters for the download (city_region_name, coordinates as SW [lat,long] NE [lat,long], time_start named 'start', time_end named 'end') in the following format:\n",
    "    Format Instructions:\n",
    "    {format_instructions}\n",
    "    \"\"\"\n",
    "    # Create a ChatPromptTemplate object\n",
    "    final_prompt_template = PromptTemplate.from_template(prompt)\n",
    "\n",
    "    # Get api key for OpenAI from the environment or session state (if on Streamlit)\n",
    "    try:\n",
    "        api_key = st.session_state.OPENAI_API_KEY\n",
    "    except:\n",
    "        api_key = os.getenv('OPENAI_API_KEY')\n",
    "        \n",
    "    # Instantiate the language model and setting the specific model (chat-gpto is newest and reasonable price)\n",
    "    # and  set the temperature (creativity level)\n",
    "    llm = ChatOpenAI(temperature=temperature, model=model_type, api_key=api_key)\n",
    "    \n",
    "    if return_json:\n",
    "        # # JsonOutputParser will use the data model classes from above\n",
    "        parser = JsonOutputParser(pydantic_object=DataParams,)    \n",
    "        # Add formatting instructions for pydantic\n",
    "        instructions =  parser.get_format_instructions()\n",
    "            \n",
    "    else:\n",
    "        ## StrOutputParser will return the response as a string\n",
    "        parser = StrOutputParser(output_key=\"response\")\n",
    "        # Manually defining the format instructions\n",
    "        instructions = \"Respond with text for each topic as a nested list with the topic number,  descriptive label,top words, and short insight.\"\n",
    "        \n",
    "    ## Adding the instructions to the prompt template\n",
    "    final_prompt_template = final_prompt_template.partial(format_instructions=instructions)\n",
    "    \n",
    "    \n",
    "    # Making the final chain\n",
    "    llm_chain = final_prompt_template | llm | parser\n",
    "    \n",
    "    # Return the chain if specified\n",
    "    if return_llm:\n",
    "        return llm_chain\n",
    "    else:\n",
    "    \n",
    "        # Invoke the chain with the query to get the response\n",
    "        response = llm_chain.invoke(input=dict(query=query))\n",
    "        return response"
   ]
  },
  {
   "cell_type": "code",
   "execution_count": 13,
   "metadata": {},
   "outputs": [
    {
     "data": {
      "text/plain": [
       "{'city_region_name': 'Atlanta, GA',\n",
       " 'coordinates': {'urban': {'SW': [33.749, -84.388], 'NE': [33.799, -84.338]},\n",
       "  'rural': {'SW': [33.5, -84.5], 'NE': [33.55, -84.45]}},\n",
       " 'time': {'start': '2023-06-01', 'end': '2023-08-31'}}"
      ]
     },
     "execution_count": 13,
     "metadata": {},
     "output_type": "execute_result"
    }
   ],
   "source": [
    "GET_NEW_LOCATION = False\n",
    "# Where we are storing our parameters\n",
    "fpath_params = \"./config/data_params.json\"\n",
    "\n",
    "# If we want a new location\n",
    "if GET_NEW_LOCATION:\n",
    "    # ask ChatGPT to suggest another set of parameters\n",
    "    chatgpt_params = suggest_data_params(query=\"\"\"Select a region in the southern USA to avoid political bias/spin \n",
    "                                        and a time range to highlight the effects of climate change (like 06/01/2023-08/31/2023).\n",
    "                                        Make sure to select a region that does not cover a body of water.\n",
    "                                        Select small regions from the selected area to minimize the size of the dataset.\n",
    "                                        Do not use Texas.\"\"\", \n",
    "                                        return_json=True, temperature=0.0)\n",
    "\n",
    "\n",
    "else:\n",
    "    # otherwise, use the parameters we already have\n",
    "    with open(fpath_params) as f:\n",
    "        chatgpt_params = json.load(f)\n",
    "\n",
    "chatgpt_params"
   ]
  },
  {
   "cell_type": "code",
   "execution_count": 14,
   "metadata": {},
   "outputs": [],
   "source": [
    "data_params = chatgpt_params\n",
    "coordinates = data_params['coordinates']\n",
    "time_range = data_params['time']"
   ]
  },
  {
   "cell_type": "code",
   "execution_count": 15,
   "metadata": {},
   "outputs": [],
   "source": [
    "## Save params to disk, but check if file exists first and ask user if they want to overwrite\n",
    "# Save data params\n",
    "if GET_NEW_LOCATION == True:\n",
    "\n",
    "    # Check if file exists\n",
    "    if os.path.exists(fpath_params):\n",
    "        with open(fpath_params) as f:\n",
    "            current = json.load(f)\n",
    "\n",
    "        # ask user if they want to overwrite what is currently stored in the json file    \n",
    "        ans = input(f\"File {fpath_params} exists.\\t\\n\\nParams: {current}\\nOverwrite? (y/n)\")\n",
    "        if ans.lower() == 'n':\n",
    "            print(\"Not overwriting file.\")\n",
    "        else:\n",
    "            print(f\"Overwriting file with data params: {chatgpt_params}\")\n",
    "            with open(fpath_params, 'w') as f:\n",
    "                json.dump(chatgpt_params, f)\n",
    "    else:\n",
    "        # save parameters to json file\n",
    "        print(f\"Saving data params to {fpath_params}\")\n",
    "        with open(fpath_params, 'w') as f:\n",
    "            json.dump(chatgpt_params, f)"
   ]
  },
  {
   "cell_type": "markdown",
   "metadata": {},
   "source": [
    "## Search and Download Data with Pagination and Return List of Entries/Links"
   ]
  },
  {
   "cell_type": "markdown",
   "metadata": {},
   "source": [
    "Now that we have the parameters for the locations, we need to ask the NASA Earthdata API for the data  "
   ]
  },
  {
   "cell_type": "code",
   "execution_count": 16,
   "metadata": {},
   "outputs": [],
   "source": [
    "def search_and_download(region_name, bounding_box, time_range, token, dest_folder='./data/MODIS-LST/',\n",
    "                        force_download=False, verbose=True):\n",
    "    \"\"\"\n",
    "    Searches for granules using the NASA Earthdata API and downloads the data files for a given region.\n",
    "\n",
    "    Args:\n",
    "        region_name (str): The name of the region.\n",
    "        bounding_box (dict): The bounding box coordinates of the region in the format {'SW': [lat, lon], 'NE': [lat, lon]}.\n",
    "        time_range (dict): The temporal range of the data in the format {'start': 'YYYY-MM-DD', 'end': 'YYYY-MM-DD'}.\n",
    "        token (str): The access token for the NASA Earthdata API.\n",
    "        dest_folder (str, optional): The destination folder to save the downloaded data files. Defaults to './data/MODIS-LST/'.\n",
    "\n",
    "    Returns:\n",
    "        list: A list of dictionaries containing the region name and the URL of each downloaded data file.\n",
    "    \"\"\"\n",
    "    # Base URL for searching granules\n",
    "    search_url = 'https://cmr.earthdata.nasa.gov/search/granules.json'\n",
    "    \n",
    "    # Pagination settings\n",
    "    page_size = 10\n",
    "    page_num = 1\n",
    "    total_hits = None\n",
    "\n",
    "    # List to store entries and links\n",
    "    entries_links = []\n",
    "\n",
    "    while True:\n",
    "        # Set up the parameters for the search query\n",
    "        params = {\n",
    "            'short_name': 'MOD11A2',  # Dataset short name\n",
    "            'version': '061',         # Dataset version\n",
    "            'temporal': f\"{time_range['start']},{time_range['end']}\",  # Temporal range\n",
    "            'bounding_box': f\"{bounding_box['SW'][1]},{bounding_box['SW'][0]},{bounding_box['NE'][1]},{bounding_box['NE'][0]}\",  # Bounding box coordinates\n",
    "            'page_size': page_size,   # Number of results per page\n",
    "            'page_num': page_num      # Current page number\n",
    "        }\n",
    "        \n",
    "        # Authorization header with the token\n",
    "        headers = {\n",
    "            'Authorization': f'Bearer {token}'\n",
    "        }\n",
    "\n",
    "        # Send the request to the NASA Earthdata API\n",
    "        response = requests.get(search_url, params=params, headers=headers)\n",
    "\n",
    "        if response.status_code == 200:\n",
    "            # Parse the JSON response\n",
    "            data = response.json()\n",
    "\n",
    "\n",
    "            ## JMI: Confirm this total_hits code works as expected\n",
    "            # Determine the total number of hits on the first request\n",
    "            if total_hits is None:\n",
    "                total_hits = int(response.headers.get('CMR-Hits', 0))\n",
    "                print(f\"Total hits for {region_name}: {total_hits}\")\n",
    "\n",
    "            # Check if there are entries in the response\n",
    "            if data['feed']['entry']:\n",
    "                for entry in data['feed']['entry']:\n",
    "                    # Extract relevant metadata from each entry\n",
    "                    granule_id = entry.get('id', 'N/A')\n",
    "                    dataset_id = entry.get('dataset_id', 'N/A')\n",
    "                    start_time = entry.get('time_start', 'N/A')\n",
    "                    end_time = entry.get('time_end', 'N/A')\n",
    "                    spatial_extent = entry.get('boxes', ['N/A'])[0]\n",
    "                    \n",
    "                    \n",
    "                    # Extract the data links for downloading\n",
    "                    data_links = [link['href'] for link in entry['links'] if 'data#' in link['rel']]\n",
    "                    \n",
    "                    # Download each data link and store the entries and links\n",
    "                    for url in data_links:\n",
    "                        dir_for_dl = os.path.join(dest_folder, region_name)\n",
    "                        # Define the filename based on the URL (to check if the file is a directory)\n",
    "                        filename = os.path.join(dir_for_dl,#dest_folder, \n",
    "                                                url.split('/')[-1])\n",
    "                        \n",
    "                \n",
    "                        # Check if directory\n",
    "                        if os.path.isdir(filename):\n",
    "                            if verbose:\n",
    "                                print(f\"- Skipping directory {filename}\")\n",
    "                            continue\n",
    "                        \n",
    "                        if \"s3credentials\" in filename:\n",
    "                            if verbose:\n",
    "                                print(f\"- Skipping S3 credentials link {filename}\")\n",
    "                            continue\n",
    "                        \n",
    "                        if '?p' in filename:\n",
    "                            if verbose:\n",
    "                                print(f\"- Skipping link with query parameters {filename}\")\n",
    "                            continue\n",
    "                        # Remove question marks\n",
    "                        filename = filename.replace(\"?\", \"-\")\n",
    "                        \n",
    "                        \n",
    "                        filepath = download_file(url, dir_for_dl, token, force_download=force_download, \n",
    "                                                 verbose=True # Always be verbose for download\n",
    "                                                 )\n",
    "                        entries_links.append({'region': region_name, 'url': url,\"fpath\":filepath, 'granule_id': granule_id, 'dataset_id': dataset_id,\n",
    "                                            'start_time': start_time, 'end_time': end_time, 'spatial_extent': spatial_extent})\n",
    "                        # print(\"\\n\")\n",
    "            else:\n",
    "                print(f\"\\n[!] No entries found for region: {region_name}\")\n",
    "\n",
    "            # Check if we have fetched all results\n",
    "            if page_num * page_size >= total_hits:\n",
    "                break\n",
    "            else:\n",
    "                page_num += 1\n",
    "        else:\n",
    "            print(f\"\\n[!] Error: {response.status_code} - {response.text}\")\n",
    "            break\n",
    "\n",
    "    return entries_links"
   ]
  },
  {
   "cell_type": "code",
   "execution_count": 17,
   "metadata": {},
   "outputs": [],
   "source": [
    "def download_file(url, dest_folder, token, force_download=False, verbose=True):\n",
    "    \"\"\"\n",
    "    Downloads a file from the given URL and saves it to the specified destination folder.\n",
    "\n",
    "    Args:\n",
    "        url (str): The URL of the file to download.\n",
    "        dest_folder (str): The destination folder where the file will be saved.\n",
    "        token (str): The authorization token for accessing the file.\n",
    "        force_download (bool, optional): If set to True, the file will be downloaded even if it already exists in the destination folder. Defaults to False.\n",
    "\n",
    "    Returns:\n",
    "        str: The path of the downloaded file.\n",
    "\n",
    "    Raises:\n",
    "        None\n",
    "\n",
    "    \"\"\"\n",
    "    # Create the destination folder if it doesn't exist\n",
    "    if not os.path.exists(dest_folder):\n",
    "        os.makedirs(dest_folder)\n",
    "    \n",
    "    # Define the filename based on the URL\n",
    "    filename = os.path.join(dest_folder, url.split('/')[-1])\n",
    "    \n",
    "    # Check if the file already exists\n",
    "    if os.path.exists(filename) and not force_download:\n",
    "        if verbose:\n",
    "            print(f\"- File {filename} already exists, skipping download.\")\n",
    "        return filename\n",
    "\n",
    "    # Authorization header with the token\n",
    "    headers = {\n",
    "        'Authorization': f'Bearer {token}'\n",
    "    }\n",
    "    \n",
    "    try:\n",
    "        # Send the request to download the file\n",
    "        response = requests.get(url, headers=headers)\n",
    "        \n",
    "    except Exception as e:\n",
    "        print(f\"- [!] An error occurred while downloading {url}: {e}\")\n",
    "        return\n",
    "    \n",
    "    # Save the file if the request is successful\n",
    "    if response.status_code == 200:\n",
    "        with open(filename, 'wb') as f:\n",
    "            f.write(response.content)\n",
    "        if verbose:\n",
    "            print(f\"- Downloaded {filename}\")\n",
    "    else:\n",
    "        print(f\"- [!] Failed to download {url}: {response.status_code}\")\n",
    "    \n",
    "    return filename"
   ]
  },
  {
   "cell_type": "code",
   "execution_count": 18,
   "metadata": {},
   "outputs": [
    {
     "data": {
      "application/vnd.plotly.v1+json": {
       "config": {
        "plotlyServerURL": "https://plot.ly"
       },
       "data": [
        {
         "hovertemplate": "Group=urban<br>Latitude=%{lat}<br>Longitude=%{lon}<extra></extra>",
         "lat": [
          33.749,
          33.749,
          33.749,
          33.749,
          33.749,
          33.749,
          33.749,
          33.749,
          33.749,
          33.749,
          33.754555555555555,
          33.754555555555555,
          33.754555555555555,
          33.754555555555555,
          33.754555555555555,
          33.754555555555555,
          33.754555555555555,
          33.754555555555555,
          33.754555555555555,
          33.754555555555555,
          33.760111111111115,
          33.760111111111115,
          33.760111111111115,
          33.760111111111115,
          33.760111111111115,
          33.760111111111115,
          33.760111111111115,
          33.760111111111115,
          33.760111111111115,
          33.760111111111115,
          33.76566666666667,
          33.76566666666667,
          33.76566666666667,
          33.76566666666667,
          33.76566666666667,
          33.76566666666667,
          33.76566666666667,
          33.76566666666667,
          33.76566666666667,
          33.76566666666667,
          33.77122222222222,
          33.77122222222222,
          33.77122222222222,
          33.77122222222222,
          33.77122222222222,
          33.77122222222222,
          33.77122222222222,
          33.77122222222222,
          33.77122222222222,
          33.77122222222222,
          33.77677777777778,
          33.77677777777778,
          33.77677777777778,
          33.77677777777778,
          33.77677777777778,
          33.77677777777778,
          33.77677777777778,
          33.77677777777778,
          33.77677777777778,
          33.77677777777778,
          33.782333333333334,
          33.782333333333334,
          33.782333333333334,
          33.782333333333334,
          33.782333333333334,
          33.782333333333334,
          33.782333333333334,
          33.782333333333334,
          33.782333333333334,
          33.782333333333334,
          33.78788888888889,
          33.78788888888889,
          33.78788888888889,
          33.78788888888889,
          33.78788888888889,
          33.78788888888889,
          33.78788888888889,
          33.78788888888889,
          33.78788888888889,
          33.78788888888889,
          33.79344444444445,
          33.79344444444445,
          33.79344444444445,
          33.79344444444445,
          33.79344444444445,
          33.79344444444445,
          33.79344444444445,
          33.79344444444445,
          33.79344444444445,
          33.79344444444445,
          33.799,
          33.799,
          33.799,
          33.799,
          33.799,
          33.799,
          33.799,
          33.799,
          33.799,
          33.799
         ],
         "legendgroup": "urban",
         "lon": [
          -84.388,
          -84.38244444444445,
          -84.37688888888889,
          -84.37133333333334,
          -84.36577777777778,
          -84.36022222222222,
          -84.35466666666666,
          -84.34911111111111,
          -84.34355555555555,
          -84.338,
          -84.388,
          -84.38244444444445,
          -84.37688888888889,
          -84.37133333333334,
          -84.36577777777778,
          -84.36022222222222,
          -84.35466666666666,
          -84.34911111111111,
          -84.34355555555555,
          -84.338,
          -84.388,
          -84.38244444444445,
          -84.37688888888889,
          -84.37133333333334,
          -84.36577777777778,
          -84.36022222222222,
          -84.35466666666666,
          -84.34911111111111,
          -84.34355555555555,
          -84.338,
          -84.388,
          -84.38244444444445,
          -84.37688888888889,
          -84.37133333333334,
          -84.36577777777778,
          -84.36022222222222,
          -84.35466666666666,
          -84.34911111111111,
          -84.34355555555555,
          -84.338,
          -84.388,
          -84.38244444444445,
          -84.37688888888889,
          -84.37133333333334,
          -84.36577777777778,
          -84.36022222222222,
          -84.35466666666666,
          -84.34911111111111,
          -84.34355555555555,
          -84.338,
          -84.388,
          -84.38244444444445,
          -84.37688888888889,
          -84.37133333333334,
          -84.36577777777778,
          -84.36022222222222,
          -84.35466666666666,
          -84.34911111111111,
          -84.34355555555555,
          -84.338,
          -84.388,
          -84.38244444444445,
          -84.37688888888889,
          -84.37133333333334,
          -84.36577777777778,
          -84.36022222222222,
          -84.35466666666666,
          -84.34911111111111,
          -84.34355555555555,
          -84.338,
          -84.388,
          -84.38244444444445,
          -84.37688888888889,
          -84.37133333333334,
          -84.36577777777778,
          -84.36022222222222,
          -84.35466666666666,
          -84.34911111111111,
          -84.34355555555555,
          -84.338,
          -84.388,
          -84.38244444444445,
          -84.37688888888889,
          -84.37133333333334,
          -84.36577777777778,
          -84.36022222222222,
          -84.35466666666666,
          -84.34911111111111,
          -84.34355555555555,
          -84.338,
          -84.388,
          -84.38244444444445,
          -84.37688888888889,
          -84.37133333333334,
          -84.36577777777778,
          -84.36022222222222,
          -84.35466666666666,
          -84.34911111111111,
          -84.34355555555555,
          -84.338
         ],
         "marker": {
          "color": "#636efa"
         },
         "mode": "markers",
         "name": "urban",
         "showlegend": true,
         "subplot": "mapbox",
         "type": "scattermapbox"
        },
        {
         "hovertemplate": "Group=rural<br>Latitude=%{lat}<br>Longitude=%{lon}<extra></extra>",
         "lat": [
          33.5,
          33.5,
          33.5,
          33.5,
          33.5,
          33.5,
          33.5,
          33.5,
          33.5,
          33.5,
          33.50555555555555,
          33.50555555555555,
          33.50555555555555,
          33.50555555555555,
          33.50555555555555,
          33.50555555555555,
          33.50555555555555,
          33.50555555555555,
          33.50555555555555,
          33.50555555555555,
          33.51111111111111,
          33.51111111111111,
          33.51111111111111,
          33.51111111111111,
          33.51111111111111,
          33.51111111111111,
          33.51111111111111,
          33.51111111111111,
          33.51111111111111,
          33.51111111111111,
          33.516666666666666,
          33.516666666666666,
          33.516666666666666,
          33.516666666666666,
          33.516666666666666,
          33.516666666666666,
          33.516666666666666,
          33.516666666666666,
          33.516666666666666,
          33.516666666666666,
          33.52222222222222,
          33.52222222222222,
          33.52222222222222,
          33.52222222222222,
          33.52222222222222,
          33.52222222222222,
          33.52222222222222,
          33.52222222222222,
          33.52222222222222,
          33.52222222222222,
          33.52777777777778,
          33.52777777777778,
          33.52777777777778,
          33.52777777777778,
          33.52777777777778,
          33.52777777777778,
          33.52777777777778,
          33.52777777777778,
          33.52777777777778,
          33.52777777777778,
          33.53333333333333,
          33.53333333333333,
          33.53333333333333,
          33.53333333333333,
          33.53333333333333,
          33.53333333333333,
          33.53333333333333,
          33.53333333333333,
          33.53333333333333,
          33.53333333333333,
          33.538888888888884,
          33.538888888888884,
          33.538888888888884,
          33.538888888888884,
          33.538888888888884,
          33.538888888888884,
          33.538888888888884,
          33.538888888888884,
          33.538888888888884,
          33.538888888888884,
          33.544444444444444,
          33.544444444444444,
          33.544444444444444,
          33.544444444444444,
          33.544444444444444,
          33.544444444444444,
          33.544444444444444,
          33.544444444444444,
          33.544444444444444,
          33.544444444444444,
          33.55,
          33.55,
          33.55,
          33.55,
          33.55,
          33.55,
          33.55,
          33.55,
          33.55,
          33.55
         ],
         "legendgroup": "rural",
         "lon": [
          -84.5,
          -84.49444444444444,
          -84.4888888888889,
          -84.48333333333333,
          -84.47777777777777,
          -84.47222222222223,
          -84.46666666666667,
          -84.46111111111111,
          -84.45555555555556,
          -84.45,
          -84.5,
          -84.49444444444444,
          -84.4888888888889,
          -84.48333333333333,
          -84.47777777777777,
          -84.47222222222223,
          -84.46666666666667,
          -84.46111111111111,
          -84.45555555555556,
          -84.45,
          -84.5,
          -84.49444444444444,
          -84.4888888888889,
          -84.48333333333333,
          -84.47777777777777,
          -84.47222222222223,
          -84.46666666666667,
          -84.46111111111111,
          -84.45555555555556,
          -84.45,
          -84.5,
          -84.49444444444444,
          -84.4888888888889,
          -84.48333333333333,
          -84.47777777777777,
          -84.47222222222223,
          -84.46666666666667,
          -84.46111111111111,
          -84.45555555555556,
          -84.45,
          -84.5,
          -84.49444444444444,
          -84.4888888888889,
          -84.48333333333333,
          -84.47777777777777,
          -84.47222222222223,
          -84.46666666666667,
          -84.46111111111111,
          -84.45555555555556,
          -84.45,
          -84.5,
          -84.49444444444444,
          -84.4888888888889,
          -84.48333333333333,
          -84.47777777777777,
          -84.47222222222223,
          -84.46666666666667,
          -84.46111111111111,
          -84.45555555555556,
          -84.45,
          -84.5,
          -84.49444444444444,
          -84.4888888888889,
          -84.48333333333333,
          -84.47777777777777,
          -84.47222222222223,
          -84.46666666666667,
          -84.46111111111111,
          -84.45555555555556,
          -84.45,
          -84.5,
          -84.49444444444444,
          -84.4888888888889,
          -84.48333333333333,
          -84.47777777777777,
          -84.47222222222223,
          -84.46666666666667,
          -84.46111111111111,
          -84.45555555555556,
          -84.45,
          -84.5,
          -84.49444444444444,
          -84.4888888888889,
          -84.48333333333333,
          -84.47777777777777,
          -84.47222222222223,
          -84.46666666666667,
          -84.46111111111111,
          -84.45555555555556,
          -84.45,
          -84.5,
          -84.49444444444444,
          -84.4888888888889,
          -84.48333333333333,
          -84.47777777777777,
          -84.47222222222223,
          -84.46666666666667,
          -84.46111111111111,
          -84.45555555555556,
          -84.45
         ],
         "marker": {
          "color": "#EF553B"
         },
         "mode": "markers",
         "name": "rural",
         "showlegend": true,
         "subplot": "mapbox",
         "type": "scattermapbox"
        },
        {
         "geo": "geo",
         "hovertemplate": "lat=%{lat}<br>lon=%{lon}<extra></extra>",
         "lat": [
          33.749,
          33.749,
          33.799,
          33.799,
          33.749
         ],
         "legendgroup": "",
         "line": {
          "color": "#636efa",
          "dash": "solid"
         },
         "lon": [
          -84.388,
          -84.338,
          -84.338,
          -84.388,
          -84.388
         ],
         "marker": {
          "symbol": "circle"
         },
         "mode": "lines",
         "name": "",
         "showlegend": false,
         "type": "scattergeo"
        },
        {
         "geo": "geo",
         "hovertemplate": "lat=%{lat}<br>lon=%{lon}<extra></extra>",
         "lat": [
          33.5,
          33.5,
          33.55,
          33.55,
          33.5
         ],
         "legendgroup": "",
         "line": {
          "color": "#636efa",
          "dash": "solid"
         },
         "lon": [
          -84.5,
          -84.45,
          -84.45,
          -84.5,
          -84.5
         ],
         "marker": {
          "symbol": "circle"
         },
         "mode": "lines",
         "name": "",
         "showlegend": false,
         "type": "scattergeo"
        }
       ],
       "layout": {
        "height": 600,
        "legend": {
         "title": {
          "text": "Group"
         },
         "tracegroupgap": 0
        },
        "mapbox": {
         "center": {
          "lat": 33.649499999999996,
          "lon": -84.41900000000001
         },
         "domain": {
          "x": [
           0,
           1
          ],
          "y": [
           0,
           1
          ]
         },
         "style": "carto-positron",
         "zoom": 8
        },
        "template": {
         "data": {
          "bar": [
           {
            "error_x": {
             "color": "#2a3f5f"
            },
            "error_y": {
             "color": "#2a3f5f"
            },
            "marker": {
             "line": {
              "color": "#E5ECF6",
              "width": 0.5
             },
             "pattern": {
              "fillmode": "overlay",
              "size": 10,
              "solidity": 0.2
             }
            },
            "type": "bar"
           }
          ],
          "barpolar": [
           {
            "marker": {
             "line": {
              "color": "#E5ECF6",
              "width": 0.5
             },
             "pattern": {
              "fillmode": "overlay",
              "size": 10,
              "solidity": 0.2
             }
            },
            "type": "barpolar"
           }
          ],
          "carpet": [
           {
            "aaxis": {
             "endlinecolor": "#2a3f5f",
             "gridcolor": "white",
             "linecolor": "white",
             "minorgridcolor": "white",
             "startlinecolor": "#2a3f5f"
            },
            "baxis": {
             "endlinecolor": "#2a3f5f",
             "gridcolor": "white",
             "linecolor": "white",
             "minorgridcolor": "white",
             "startlinecolor": "#2a3f5f"
            },
            "type": "carpet"
           }
          ],
          "choropleth": [
           {
            "colorbar": {
             "outlinewidth": 0,
             "ticks": ""
            },
            "type": "choropleth"
           }
          ],
          "contour": [
           {
            "colorbar": {
             "outlinewidth": 0,
             "ticks": ""
            },
            "colorscale": [
             [
              0,
              "#0d0887"
             ],
             [
              0.1111111111111111,
              "#46039f"
             ],
             [
              0.2222222222222222,
              "#7201a8"
             ],
             [
              0.3333333333333333,
              "#9c179e"
             ],
             [
              0.4444444444444444,
              "#bd3786"
             ],
             [
              0.5555555555555556,
              "#d8576b"
             ],
             [
              0.6666666666666666,
              "#ed7953"
             ],
             [
              0.7777777777777778,
              "#fb9f3a"
             ],
             [
              0.8888888888888888,
              "#fdca26"
             ],
             [
              1,
              "#f0f921"
             ]
            ],
            "type": "contour"
           }
          ],
          "contourcarpet": [
           {
            "colorbar": {
             "outlinewidth": 0,
             "ticks": ""
            },
            "type": "contourcarpet"
           }
          ],
          "heatmap": [
           {
            "colorbar": {
             "outlinewidth": 0,
             "ticks": ""
            },
            "colorscale": [
             [
              0,
              "#0d0887"
             ],
             [
              0.1111111111111111,
              "#46039f"
             ],
             [
              0.2222222222222222,
              "#7201a8"
             ],
             [
              0.3333333333333333,
              "#9c179e"
             ],
             [
              0.4444444444444444,
              "#bd3786"
             ],
             [
              0.5555555555555556,
              "#d8576b"
             ],
             [
              0.6666666666666666,
              "#ed7953"
             ],
             [
              0.7777777777777778,
              "#fb9f3a"
             ],
             [
              0.8888888888888888,
              "#fdca26"
             ],
             [
              1,
              "#f0f921"
             ]
            ],
            "type": "heatmap"
           }
          ],
          "heatmapgl": [
           {
            "colorbar": {
             "outlinewidth": 0,
             "ticks": ""
            },
            "colorscale": [
             [
              0,
              "#0d0887"
             ],
             [
              0.1111111111111111,
              "#46039f"
             ],
             [
              0.2222222222222222,
              "#7201a8"
             ],
             [
              0.3333333333333333,
              "#9c179e"
             ],
             [
              0.4444444444444444,
              "#bd3786"
             ],
             [
              0.5555555555555556,
              "#d8576b"
             ],
             [
              0.6666666666666666,
              "#ed7953"
             ],
             [
              0.7777777777777778,
              "#fb9f3a"
             ],
             [
              0.8888888888888888,
              "#fdca26"
             ],
             [
              1,
              "#f0f921"
             ]
            ],
            "type": "heatmapgl"
           }
          ],
          "histogram": [
           {
            "marker": {
             "pattern": {
              "fillmode": "overlay",
              "size": 10,
              "solidity": 0.2
             }
            },
            "type": "histogram"
           }
          ],
          "histogram2d": [
           {
            "colorbar": {
             "outlinewidth": 0,
             "ticks": ""
            },
            "colorscale": [
             [
              0,
              "#0d0887"
             ],
             [
              0.1111111111111111,
              "#46039f"
             ],
             [
              0.2222222222222222,
              "#7201a8"
             ],
             [
              0.3333333333333333,
              "#9c179e"
             ],
             [
              0.4444444444444444,
              "#bd3786"
             ],
             [
              0.5555555555555556,
              "#d8576b"
             ],
             [
              0.6666666666666666,
              "#ed7953"
             ],
             [
              0.7777777777777778,
              "#fb9f3a"
             ],
             [
              0.8888888888888888,
              "#fdca26"
             ],
             [
              1,
              "#f0f921"
             ]
            ],
            "type": "histogram2d"
           }
          ],
          "histogram2dcontour": [
           {
            "colorbar": {
             "outlinewidth": 0,
             "ticks": ""
            },
            "colorscale": [
             [
              0,
              "#0d0887"
             ],
             [
              0.1111111111111111,
              "#46039f"
             ],
             [
              0.2222222222222222,
              "#7201a8"
             ],
             [
              0.3333333333333333,
              "#9c179e"
             ],
             [
              0.4444444444444444,
              "#bd3786"
             ],
             [
              0.5555555555555556,
              "#d8576b"
             ],
             [
              0.6666666666666666,
              "#ed7953"
             ],
             [
              0.7777777777777778,
              "#fb9f3a"
             ],
             [
              0.8888888888888888,
              "#fdca26"
             ],
             [
              1,
              "#f0f921"
             ]
            ],
            "type": "histogram2dcontour"
           }
          ],
          "mesh3d": [
           {
            "colorbar": {
             "outlinewidth": 0,
             "ticks": ""
            },
            "type": "mesh3d"
           }
          ],
          "parcoords": [
           {
            "line": {
             "colorbar": {
              "outlinewidth": 0,
              "ticks": ""
             }
            },
            "type": "parcoords"
           }
          ],
          "pie": [
           {
            "automargin": true,
            "type": "pie"
           }
          ],
          "scatter": [
           {
            "fillpattern": {
             "fillmode": "overlay",
             "size": 10,
             "solidity": 0.2
            },
            "type": "scatter"
           }
          ],
          "scatter3d": [
           {
            "line": {
             "colorbar": {
              "outlinewidth": 0,
              "ticks": ""
             }
            },
            "marker": {
             "colorbar": {
              "outlinewidth": 0,
              "ticks": ""
             }
            },
            "type": "scatter3d"
           }
          ],
          "scattercarpet": [
           {
            "marker": {
             "colorbar": {
              "outlinewidth": 0,
              "ticks": ""
             }
            },
            "type": "scattercarpet"
           }
          ],
          "scattergeo": [
           {
            "marker": {
             "colorbar": {
              "outlinewidth": 0,
              "ticks": ""
             }
            },
            "type": "scattergeo"
           }
          ],
          "scattergl": [
           {
            "marker": {
             "colorbar": {
              "outlinewidth": 0,
              "ticks": ""
             }
            },
            "type": "scattergl"
           }
          ],
          "scattermapbox": [
           {
            "marker": {
             "colorbar": {
              "outlinewidth": 0,
              "ticks": ""
             }
            },
            "type": "scattermapbox"
           }
          ],
          "scatterpolar": [
           {
            "marker": {
             "colorbar": {
              "outlinewidth": 0,
              "ticks": ""
             }
            },
            "type": "scatterpolar"
           }
          ],
          "scatterpolargl": [
           {
            "marker": {
             "colorbar": {
              "outlinewidth": 0,
              "ticks": ""
             }
            },
            "type": "scatterpolargl"
           }
          ],
          "scatterternary": [
           {
            "marker": {
             "colorbar": {
              "outlinewidth": 0,
              "ticks": ""
             }
            },
            "type": "scatterternary"
           }
          ],
          "surface": [
           {
            "colorbar": {
             "outlinewidth": 0,
             "ticks": ""
            },
            "colorscale": [
             [
              0,
              "#0d0887"
             ],
             [
              0.1111111111111111,
              "#46039f"
             ],
             [
              0.2222222222222222,
              "#7201a8"
             ],
             [
              0.3333333333333333,
              "#9c179e"
             ],
             [
              0.4444444444444444,
              "#bd3786"
             ],
             [
              0.5555555555555556,
              "#d8576b"
             ],
             [
              0.6666666666666666,
              "#ed7953"
             ],
             [
              0.7777777777777778,
              "#fb9f3a"
             ],
             [
              0.8888888888888888,
              "#fdca26"
             ],
             [
              1,
              "#f0f921"
             ]
            ],
            "type": "surface"
           }
          ],
          "table": [
           {
            "cells": {
             "fill": {
              "color": "#EBF0F8"
             },
             "line": {
              "color": "white"
             }
            },
            "header": {
             "fill": {
              "color": "#C8D4E3"
             },
             "line": {
              "color": "white"
             }
            },
            "type": "table"
           }
          ]
         },
         "layout": {
          "annotationdefaults": {
           "arrowcolor": "#2a3f5f",
           "arrowhead": 0,
           "arrowwidth": 1
          },
          "autotypenumbers": "strict",
          "coloraxis": {
           "colorbar": {
            "outlinewidth": 0,
            "ticks": ""
           }
          },
          "colorscale": {
           "diverging": [
            [
             0,
             "#8e0152"
            ],
            [
             0.1,
             "#c51b7d"
            ],
            [
             0.2,
             "#de77ae"
            ],
            [
             0.3,
             "#f1b6da"
            ],
            [
             0.4,
             "#fde0ef"
            ],
            [
             0.5,
             "#f7f7f7"
            ],
            [
             0.6,
             "#e6f5d0"
            ],
            [
             0.7,
             "#b8e186"
            ],
            [
             0.8,
             "#7fbc41"
            ],
            [
             0.9,
             "#4d9221"
            ],
            [
             1,
             "#276419"
            ]
           ],
           "sequential": [
            [
             0,
             "#0d0887"
            ],
            [
             0.1111111111111111,
             "#46039f"
            ],
            [
             0.2222222222222222,
             "#7201a8"
            ],
            [
             0.3333333333333333,
             "#9c179e"
            ],
            [
             0.4444444444444444,
             "#bd3786"
            ],
            [
             0.5555555555555556,
             "#d8576b"
            ],
            [
             0.6666666666666666,
             "#ed7953"
            ],
            [
             0.7777777777777778,
             "#fb9f3a"
            ],
            [
             0.8888888888888888,
             "#fdca26"
            ],
            [
             1,
             "#f0f921"
            ]
           ],
           "sequentialminus": [
            [
             0,
             "#0d0887"
            ],
            [
             0.1111111111111111,
             "#46039f"
            ],
            [
             0.2222222222222222,
             "#7201a8"
            ],
            [
             0.3333333333333333,
             "#9c179e"
            ],
            [
             0.4444444444444444,
             "#bd3786"
            ],
            [
             0.5555555555555556,
             "#d8576b"
            ],
            [
             0.6666666666666666,
             "#ed7953"
            ],
            [
             0.7777777777777778,
             "#fb9f3a"
            ],
            [
             0.8888888888888888,
             "#fdca26"
            ],
            [
             1,
             "#f0f921"
            ]
           ]
          },
          "colorway": [
           "#636efa",
           "#EF553B",
           "#00cc96",
           "#ab63fa",
           "#FFA15A",
           "#19d3f3",
           "#FF6692",
           "#B6E880",
           "#FF97FF",
           "#FECB52"
          ],
          "font": {
           "color": "#2a3f5f"
          },
          "geo": {
           "bgcolor": "white",
           "lakecolor": "white",
           "landcolor": "#E5ECF6",
           "showlakes": true,
           "showland": true,
           "subunitcolor": "white"
          },
          "hoverlabel": {
           "align": "left"
          },
          "hovermode": "closest",
          "mapbox": {
           "style": "light"
          },
          "paper_bgcolor": "white",
          "plot_bgcolor": "#E5ECF6",
          "polar": {
           "angularaxis": {
            "gridcolor": "white",
            "linecolor": "white",
            "ticks": ""
           },
           "bgcolor": "#E5ECF6",
           "radialaxis": {
            "gridcolor": "white",
            "linecolor": "white",
            "ticks": ""
           }
          },
          "scene": {
           "xaxis": {
            "backgroundcolor": "#E5ECF6",
            "gridcolor": "white",
            "gridwidth": 2,
            "linecolor": "white",
            "showbackground": true,
            "ticks": "",
            "zerolinecolor": "white"
           },
           "yaxis": {
            "backgroundcolor": "#E5ECF6",
            "gridcolor": "white",
            "gridwidth": 2,
            "linecolor": "white",
            "showbackground": true,
            "ticks": "",
            "zerolinecolor": "white"
           },
           "zaxis": {
            "backgroundcolor": "#E5ECF6",
            "gridcolor": "white",
            "gridwidth": 2,
            "linecolor": "white",
            "showbackground": true,
            "ticks": "",
            "zerolinecolor": "white"
           }
          },
          "shapedefaults": {
           "line": {
            "color": "#2a3f5f"
           }
          },
          "ternary": {
           "aaxis": {
            "gridcolor": "white",
            "linecolor": "white",
            "ticks": ""
           },
           "baxis": {
            "gridcolor": "white",
            "linecolor": "white",
            "ticks": ""
           },
           "bgcolor": "#E5ECF6",
           "caxis": {
            "gridcolor": "white",
            "linecolor": "white",
            "ticks": ""
           }
          },
          "title": {
           "x": 0.05
          },
          "xaxis": {
           "automargin": true,
           "gridcolor": "white",
           "linecolor": "white",
           "ticks": "",
           "title": {
            "standoff": 15
           },
           "zerolinecolor": "white",
           "zerolinewidth": 2
          },
          "yaxis": {
           "automargin": true,
           "gridcolor": "white",
           "linecolor": "white",
           "ticks": "",
           "title": {
            "standoff": 15
           },
           "zerolinecolor": "white",
           "zerolinewidth": 2
          }
         }
        },
        "title": {
         "text": "Land and Sea Classification of Sample Points within Bounding Boxes"
        }
       }
      }
     },
     "metadata": {},
     "output_type": "display_data"
    }
   ],
   "source": [
    "## Plot the region suggested\n",
    "# Function to generate sample points within a bounding box\n",
    "def generate_sample_points(sw, ne, num_points=10):\n",
    "    latitudes = [sw[0] + i * (ne[0] - sw[0]) / (num_points - 1) for i in range(num_points)]\n",
    "    longitudes = [sw[1] + i * (ne[1] - sw[1]) / (num_points - 1) for i in range(num_points)]\n",
    "    return [(lat, lon) for lat in latitudes for lon in longitudes]\n",
    "# Dataframe to store results\n",
    "results = []\n",
    "\n",
    "# Check if any coordinates within the bounding boxes are over sea\n",
    "for region, bounds in data_params['coordinates'].items():\n",
    "    \n",
    "    sw = bounds['SW']\n",
    "    ne = bounds['NE']\n",
    "    \n",
    "    \n",
    "    # Generate sample points within the bounding box\n",
    "    sample_points = generate_sample_points(sw, ne, num_points=10)\n",
    "    \n",
    "    for lat, lon in sample_points:\n",
    "        results.append({'Region': region, 'Latitude': lat, 'Longitude': lon, 'Group': region})\n",
    "\n",
    "# Convert results to DataFrame\n",
    "results_df = pd.DataFrame(results)\n",
    "\n",
    "# Plot the results using plotly express\n",
    "# fig = px.scatter_geo(\n",
    "#     results_df,\n",
    "#     lat='Latitude',\n",
    "#     lon='Longitude',\n",
    "#     color='Group',\n",
    "#     symbol='Group',\n",
    "#     # category_orders={'LandOrSea': ['land', 'sea']},\n",
    "#     title='Land and Sea Classification of Sample Points within Bounding Boxes',\n",
    "#     # labels={'LandOrSea': 'Classification'},\n",
    "#     scope='usa'\n",
    "# )\n",
    "\n",
    "fig = px.scatter_mapbox(results_df, lat=\"Latitude\", lon=\"Longitude\", color='Group',\n",
    "                        # color_continuous_scale=\"Viridis\", \n",
    "                        mapbox_style=\"carto-positron\",\n",
    "                        title=\"Land and Sea Classification of Sample Points within Bounding Boxes\",\n",
    "                        height=600)\n",
    "\n",
    "# Add the bounding boxes to the map\n",
    "for region, bounds in coordinates.items():\n",
    "    fig.add_trace(\n",
    "        px.line_geo(\n",
    "            pd.DataFrame({\n",
    "                'lat': [bounds['SW'][0], bounds['SW'][0], bounds['NE'][0], bounds['NE'][0], bounds['SW'][0]],\n",
    "                'lon': [bounds['SW'][1], bounds['NE'][1], bounds['NE'][1], bounds['SW'][1], bounds['SW'][1]]\n",
    "            }),\n",
    "            lat='lat',\n",
    "            lon='lon'\n",
    "        ).data[0]\n",
    "    )\n",
    "\n",
    "# fig.update_geos(\n",
    "#     visible=False, resolution=50,\n",
    "#     showcountries=True, countrycolor=\"Black\",\n",
    "#     showsubunits=True, subunitcolor=\"Blue\"\n",
    "# )\n",
    "\n",
    "fig.update_layout(\n",
    "    height=600,\n",
    "    # margin={\"r\":0,\"t\":0,\"l\":0,\"b\":0}\n",
    ")\n",
    "\n",
    "fig.show()"
   ]
  },
  {
   "cell_type": "code",
   "execution_count": 19,
   "metadata": {},
   "outputs": [
    {
     "data": {
      "text/plain": [
       "'./data/MODIS-LST/Atlanta_GA/'"
      ]
     },
     "execution_count": 19,
     "metadata": {},
     "output_type": "execute_result"
    }
   ],
   "source": [
    "# Set DATA_DIR using region name from data params\n",
    "DATA_DIR = f\"./data/MODIS-LST/{data_params['city_region_name'].replace(',','_').replace(' ','')}/\"\n",
    "DATA_DIR"
   ]
  },
  {
   "cell_type": "markdown",
   "metadata": {},
   "source": [
    "This code will search for and download MODIS LST data for the specified area and time period, storing the data files in the specified directory."
   ]
  },
  {
   "cell_type": "code",
   "execution_count": 20,
   "metadata": {},
   "outputs": [
    {
     "name": "stdout",
     "output_type": "stream",
     "text": [
      "Total hits for urban: 13\n",
      "- Downloaded ./data/MODIS-LST/Atlanta_GA/urban\\MOD11A2.A2023145.h11v05.061.2023154043129.hdf\n",
      "- Downloaded ./data/MODIS-LST/Atlanta_GA/urban\\MOD11A2.A2023145.h11v05.061.2023154043129.cmr.xml\n",
      "- File ./data/MODIS-LST/Atlanta_GA/urban\\MOD11A2.A2023145.h11v05.061.2023154043129.cmr.xml already exists, skipping download.\n",
      "- Downloaded ./data/MODIS-LST/Atlanta_GA/urban\\MOD11A2.061\n",
      "- Downloaded ./data/MODIS-LST/Atlanta_GA/urban\\MOD11A2.A2023153.h11v05.061.2023164034254.hdf\n",
      "- Downloaded ./data/MODIS-LST/Atlanta_GA/urban\\MOD11A2.A2023153.h11v05.061.2023164034254.cmr.xml\n",
      "- File ./data/MODIS-LST/Atlanta_GA/urban\\MOD11A2.A2023153.h11v05.061.2023164034254.cmr.xml already exists, skipping download.\n",
      "- File ./data/MODIS-LST/Atlanta_GA/urban\\MOD11A2.061 already exists, skipping download.\n",
      "- Downloaded ./data/MODIS-LST/Atlanta_GA/urban\\MOD11A2.A2023161.h11v05.061.2023170175014.hdf\n",
      "- Downloaded ./data/MODIS-LST/Atlanta_GA/urban\\MOD11A2.A2023161.h11v05.061.2023170175014.cmr.xml\n",
      "- File ./data/MODIS-LST/Atlanta_GA/urban\\MOD11A2.A2023161.h11v05.061.2023170175014.cmr.xml already exists, skipping download.\n",
      "- File ./data/MODIS-LST/Atlanta_GA/urban\\MOD11A2.061 already exists, skipping download.\n",
      "- Downloaded ./data/MODIS-LST/Atlanta_GA/urban\\MOD11A2.A2023169.h11v05.061.2023178033141.hdf\n",
      "- Downloaded ./data/MODIS-LST/Atlanta_GA/urban\\MOD11A2.A2023169.h11v05.061.2023178033141.cmr.xml\n",
      "- File ./data/MODIS-LST/Atlanta_GA/urban\\MOD11A2.A2023169.h11v05.061.2023178033141.cmr.xml already exists, skipping download.\n",
      "- File ./data/MODIS-LST/Atlanta_GA/urban\\MOD11A2.061 already exists, skipping download.\n",
      "- Downloaded ./data/MODIS-LST/Atlanta_GA/urban\\MOD11A2.A2023177.h11v05.061.2023191225430.hdf\n",
      "- Downloaded ./data/MODIS-LST/Atlanta_GA/urban\\MOD11A2.A2023177.h11v05.061.2023191225430.cmr.xml\n",
      "- File ./data/MODIS-LST/Atlanta_GA/urban\\MOD11A2.A2023177.h11v05.061.2023191225430.cmr.xml already exists, skipping download.\n",
      "- File ./data/MODIS-LST/Atlanta_GA/urban\\MOD11A2.061 already exists, skipping download.\n",
      "- Downloaded ./data/MODIS-LST/Atlanta_GA/urban\\MOD11A2.A2023185.h11v05.061.2023201061621.hdf\n",
      "- Downloaded ./data/MODIS-LST/Atlanta_GA/urban\\MOD11A2.A2023185.h11v05.061.2023201061621.cmr.xml\n",
      "- File ./data/MODIS-LST/Atlanta_GA/urban\\MOD11A2.A2023185.h11v05.061.2023201061621.cmr.xml already exists, skipping download.\n",
      "- File ./data/MODIS-LST/Atlanta_GA/urban\\MOD11A2.061 already exists, skipping download.\n",
      "- Downloaded ./data/MODIS-LST/Atlanta_GA/urban\\MOD11A2.A2023193.h11v05.061.2023214104120.hdf\n",
      "- Downloaded ./data/MODIS-LST/Atlanta_GA/urban\\MOD11A2.A2023193.h11v05.061.2023214104120.cmr.xml\n",
      "- File ./data/MODIS-LST/Atlanta_GA/urban\\MOD11A2.A2023193.h11v05.061.2023214104120.cmr.xml already exists, skipping download.\n",
      "- File ./data/MODIS-LST/Atlanta_GA/urban\\MOD11A2.061 already exists, skipping download.\n",
      "- Downloaded ./data/MODIS-LST/Atlanta_GA/urban\\MOD11A2.A2023201.h11v05.061.2023215145656.hdf\n",
      "- Downloaded ./data/MODIS-LST/Atlanta_GA/urban\\MOD11A2.A2023201.h11v05.061.2023215145656.cmr.xml\n",
      "- File ./data/MODIS-LST/Atlanta_GA/urban\\MOD11A2.A2023201.h11v05.061.2023215145656.cmr.xml already exists, skipping download.\n",
      "- File ./data/MODIS-LST/Atlanta_GA/urban\\MOD11A2.061 already exists, skipping download.\n",
      "- Downloaded ./data/MODIS-LST/Atlanta_GA/urban\\MOD11A2.A2023209.h11v05.061.2023220022419.hdf\n",
      "- Downloaded ./data/MODIS-LST/Atlanta_GA/urban\\MOD11A2.A2023209.h11v05.061.2023220022419.cmr.xml\n",
      "- File ./data/MODIS-LST/Atlanta_GA/urban\\MOD11A2.A2023209.h11v05.061.2023220022419.cmr.xml already exists, skipping download.\n",
      "- File ./data/MODIS-LST/Atlanta_GA/urban\\MOD11A2.061 already exists, skipping download.\n",
      "- Downloaded ./data/MODIS-LST/Atlanta_GA/urban\\MOD11A2.A2023217.h11v05.061.2023226041117.hdf\n",
      "- Downloaded ./data/MODIS-LST/Atlanta_GA/urban\\MOD11A2.A2023217.h11v05.061.2023226041117.cmr.xml\n",
      "- File ./data/MODIS-LST/Atlanta_GA/urban\\MOD11A2.A2023217.h11v05.061.2023226041117.cmr.xml already exists, skipping download.\n",
      "- File ./data/MODIS-LST/Atlanta_GA/urban\\MOD11A2.061 already exists, skipping download.\n",
      "- Downloaded ./data/MODIS-LST/Atlanta_GA/urban\\MOD11A2.A2023225.h11v05.061.2023235043208.hdf\n",
      "- Downloaded ./data/MODIS-LST/Atlanta_GA/urban\\MOD11A2.A2023225.h11v05.061.2023235043208.cmr.xml\n",
      "- File ./data/MODIS-LST/Atlanta_GA/urban\\MOD11A2.A2023225.h11v05.061.2023235043208.cmr.xml already exists, skipping download.\n",
      "- File ./data/MODIS-LST/Atlanta_GA/urban\\MOD11A2.061 already exists, skipping download.\n",
      "- Downloaded ./data/MODIS-LST/Atlanta_GA/urban\\MOD11A2.A2023233.h11v05.061.2023242041007.hdf\n",
      "- Downloaded ./data/MODIS-LST/Atlanta_GA/urban\\MOD11A2.A2023233.h11v05.061.2023242041007.cmr.xml\n",
      "- File ./data/MODIS-LST/Atlanta_GA/urban\\MOD11A2.A2023233.h11v05.061.2023242041007.cmr.xml already exists, skipping download.\n",
      "- File ./data/MODIS-LST/Atlanta_GA/urban\\MOD11A2.061 already exists, skipping download.\n",
      "- Downloaded ./data/MODIS-LST/Atlanta_GA/urban\\MOD11A2.A2023241.h11v05.061.2023251221826.hdf\n",
      "- Downloaded ./data/MODIS-LST/Atlanta_GA/urban\\MOD11A2.A2023241.h11v05.061.2023251221826.cmr.xml\n",
      "- File ./data/MODIS-LST/Atlanta_GA/urban\\MOD11A2.A2023241.h11v05.061.2023251221826.cmr.xml already exists, skipping download.\n",
      "- File ./data/MODIS-LST/Atlanta_GA/urban\\MOD11A2.061 already exists, skipping download.\n",
      "\n",
      "\n",
      "\n",
      "Total hits for rural: 13\n",
      "- Downloaded ./data/MODIS-LST/Atlanta_GA/rural\\MOD11A2.A2023145.h10v05.061.2023154043348.hdf\n",
      "- Downloaded ./data/MODIS-LST/Atlanta_GA/rural\\MOD11A2.A2023145.h10v05.061.2023154043348.cmr.xml\n",
      "- File ./data/MODIS-LST/Atlanta_GA/rural\\MOD11A2.A2023145.h10v05.061.2023154043348.cmr.xml already exists, skipping download.\n",
      "- Downloaded ./data/MODIS-LST/Atlanta_GA/rural\\MOD11A2.061\n",
      "- Downloaded ./data/MODIS-LST/Atlanta_GA/rural\\MOD11A2.A2023153.h10v05.061.2023164034945.hdf\n",
      "- Downloaded ./data/MODIS-LST/Atlanta_GA/rural\\MOD11A2.A2023153.h10v05.061.2023164034945.cmr.xml\n",
      "- File ./data/MODIS-LST/Atlanta_GA/rural\\MOD11A2.A2023153.h10v05.061.2023164034945.cmr.xml already exists, skipping download.\n",
      "- File ./data/MODIS-LST/Atlanta_GA/rural\\MOD11A2.061 already exists, skipping download.\n",
      "- Downloaded ./data/MODIS-LST/Atlanta_GA/rural\\MOD11A2.A2023161.h10v05.061.2023170174955.hdf\n",
      "- Downloaded ./data/MODIS-LST/Atlanta_GA/rural\\MOD11A2.A2023161.h10v05.061.2023170174955.cmr.xml\n",
      "- File ./data/MODIS-LST/Atlanta_GA/rural\\MOD11A2.A2023161.h10v05.061.2023170174955.cmr.xml already exists, skipping download.\n",
      "- File ./data/MODIS-LST/Atlanta_GA/rural\\MOD11A2.061 already exists, skipping download.\n",
      "- Downloaded ./data/MODIS-LST/Atlanta_GA/rural\\MOD11A2.A2023169.h10v05.061.2023178032855.hdf\n",
      "- Downloaded ./data/MODIS-LST/Atlanta_GA/rural\\MOD11A2.A2023169.h10v05.061.2023178032855.cmr.xml\n",
      "- File ./data/MODIS-LST/Atlanta_GA/rural\\MOD11A2.A2023169.h10v05.061.2023178032855.cmr.xml already exists, skipping download.\n",
      "- File ./data/MODIS-LST/Atlanta_GA/rural\\MOD11A2.061 already exists, skipping download.\n",
      "- Downloaded ./data/MODIS-LST/Atlanta_GA/rural\\MOD11A2.A2023177.h10v05.061.2023191230902.hdf\n",
      "- Downloaded ./data/MODIS-LST/Atlanta_GA/rural\\MOD11A2.A2023177.h10v05.061.2023191230902.cmr.xml\n",
      "- File ./data/MODIS-LST/Atlanta_GA/rural\\MOD11A2.A2023177.h10v05.061.2023191230902.cmr.xml already exists, skipping download.\n",
      "- File ./data/MODIS-LST/Atlanta_GA/rural\\MOD11A2.061 already exists, skipping download.\n",
      "- Downloaded ./data/MODIS-LST/Atlanta_GA/rural\\MOD11A2.A2023185.h10v05.061.2023201061108.hdf\n",
      "- Downloaded ./data/MODIS-LST/Atlanta_GA/rural\\MOD11A2.A2023185.h10v05.061.2023201061108.cmr.xml\n",
      "- File ./data/MODIS-LST/Atlanta_GA/rural\\MOD11A2.A2023185.h10v05.061.2023201061108.cmr.xml already exists, skipping download.\n",
      "- File ./data/MODIS-LST/Atlanta_GA/rural\\MOD11A2.061 already exists, skipping download.\n",
      "- Downloaded ./data/MODIS-LST/Atlanta_GA/rural\\MOD11A2.A2023193.h10v05.061.2023214105100.hdf\n",
      "- Downloaded ./data/MODIS-LST/Atlanta_GA/rural\\MOD11A2.A2023193.h10v05.061.2023214105100.cmr.xml\n",
      "- File ./data/MODIS-LST/Atlanta_GA/rural\\MOD11A2.A2023193.h10v05.061.2023214105100.cmr.xml already exists, skipping download.\n",
      "- File ./data/MODIS-LST/Atlanta_GA/rural\\MOD11A2.061 already exists, skipping download.\n",
      "- Downloaded ./data/MODIS-LST/Atlanta_GA/rural\\MOD11A2.A2023201.h10v05.061.2023215144427.hdf\n",
      "- Downloaded ./data/MODIS-LST/Atlanta_GA/rural\\MOD11A2.A2023201.h10v05.061.2023215144427.cmr.xml\n",
      "- File ./data/MODIS-LST/Atlanta_GA/rural\\MOD11A2.A2023201.h10v05.061.2023215144427.cmr.xml already exists, skipping download.\n",
      "- File ./data/MODIS-LST/Atlanta_GA/rural\\MOD11A2.061 already exists, skipping download.\n",
      "- Downloaded ./data/MODIS-LST/Atlanta_GA/rural\\MOD11A2.A2023209.h10v05.061.2023220023112.hdf\n",
      "- Downloaded ./data/MODIS-LST/Atlanta_GA/rural\\MOD11A2.A2023209.h10v05.061.2023220023112.cmr.xml\n",
      "- File ./data/MODIS-LST/Atlanta_GA/rural\\MOD11A2.A2023209.h10v05.061.2023220023112.cmr.xml already exists, skipping download.\n",
      "- File ./data/MODIS-LST/Atlanta_GA/rural\\MOD11A2.061 already exists, skipping download.\n",
      "- Downloaded ./data/MODIS-LST/Atlanta_GA/rural\\MOD11A2.A2023217.h10v05.061.2023226040536.hdf\n",
      "- Downloaded ./data/MODIS-LST/Atlanta_GA/rural\\MOD11A2.A2023217.h10v05.061.2023226040536.cmr.xml\n",
      "- File ./data/MODIS-LST/Atlanta_GA/rural\\MOD11A2.A2023217.h10v05.061.2023226040536.cmr.xml already exists, skipping download.\n",
      "- File ./data/MODIS-LST/Atlanta_GA/rural\\MOD11A2.061 already exists, skipping download.\n",
      "- Downloaded ./data/MODIS-LST/Atlanta_GA/rural\\MOD11A2.A2023225.h10v05.061.2023235044712.hdf\n",
      "- Downloaded ./data/MODIS-LST/Atlanta_GA/rural\\MOD11A2.A2023225.h10v05.061.2023235044712.cmr.xml\n",
      "- File ./data/MODIS-LST/Atlanta_GA/rural\\MOD11A2.A2023225.h10v05.061.2023235044712.cmr.xml already exists, skipping download.\n",
      "- File ./data/MODIS-LST/Atlanta_GA/rural\\MOD11A2.061 already exists, skipping download.\n",
      "- Downloaded ./data/MODIS-LST/Atlanta_GA/rural\\MOD11A2.A2023233.h10v05.061.2023242040346.hdf\n",
      "- Downloaded ./data/MODIS-LST/Atlanta_GA/rural\\MOD11A2.A2023233.h10v05.061.2023242040346.cmr.xml\n",
      "- File ./data/MODIS-LST/Atlanta_GA/rural\\MOD11A2.A2023233.h10v05.061.2023242040346.cmr.xml already exists, skipping download.\n",
      "- File ./data/MODIS-LST/Atlanta_GA/rural\\MOD11A2.061 already exists, skipping download.\n",
      "- Downloaded ./data/MODIS-LST/Atlanta_GA/rural\\MOD11A2.A2023241.h10v05.061.2023251223543.hdf\n",
      "- Downloaded ./data/MODIS-LST/Atlanta_GA/rural\\MOD11A2.A2023241.h10v05.061.2023251223543.cmr.xml\n",
      "- File ./data/MODIS-LST/Atlanta_GA/rural\\MOD11A2.A2023241.h10v05.061.2023251223543.cmr.xml already exists, skipping download.\n",
      "- File ./data/MODIS-LST/Atlanta_GA/rural\\MOD11A2.061 already exists, skipping download.\n",
      "\n",
      "\n",
      "\n"
     ]
    }
   ],
   "source": [
    "# List to store all entries and links\n",
    "all_entries_links = []\n",
    "\n",
    "# Iterate through the regions and download data\n",
    "for region_name, bounding_box in data_params['coordinates'].items():\n",
    "    time_range = data_params['time']\n",
    "    # group_links=  []\n",
    "    entries_links = search_and_download(region_name, bounding_box, time_range, token=creds['token'],\n",
    "                                        dest_folder=DATA_DIR, force_download=False, \n",
    "                                        verbose=False # new verbose flag\n",
    "                                        )\n",
    "    all_entries_links.extend(entries_links)\n",
    "    print('\\n\\n')"
   ]
  },
  {
   "cell_type": "markdown",
   "metadata": {},
   "source": [
    "### Explanation\n",
    "\n",
    "1. **Define Coordinates and Time Range:**\n",
    "   - `coordinates`: Dictionary containing bounding box coordinates for each region.\n",
    "   - `time_range`: Dictionary containing the start and end times for the data search in a flexible format.\n",
    "   - Use `pd.to_datetime` to convert the flexible date format to the required format (`'%Y-%m-%dT%H:%M:%SZ'`) for the API call.\n",
    "\n",
    "2. **Search and Download Data with Pagination and Return List of Entries/Links:**\n",
    "   - **`search_and_download` function:**\n",
    "     - **Parameters:** `region_name`, `bounding_box`, `time_range`, `dest_folder`, `token`.\n",
    "     - Constructs the search URL and parameters with the correct time format.\n",
    "     - Sends the GET request with authorization.\n",
    "     - Parses the JSON response.\n",
    "     - Handles pagination to retrieve all pages of results.\n",
    "     - Downloads data files for each granule entry.\n",
    "     - Stores the entries and links in a list and returns the list.\n",
    "   \n",
    "   - **`download_file` function:**\n",
    "     - **Parameters:** `url`, `dest_folder`, `token`.\n",
    "     - Creates the destination folder if it doesn't exist.\n",
    "     - Downloads the file from the URL with authorization.\n",
    "     - Saves the file to the specified folder.\n",
    "   \n",
    "   - **Main Loop:**\n",
    "     - Iterates through each region in the `coordinates` dictionary.\n",
    "     - Calls `search_and_download` for each region to download the data.\n",
    "     - Collects all entries and links in a list.\n",
    "   \n",
    "   - **Save to CSV:**\n",
    "     - Converts the list of entries and links to a pandas DataFrame.\n",
    "     - Saves the DataFrame to a CSV file.\n",
    "\n",
    "By following this approach, you can keep track of which region the data belongs to and save the entries and links to a CSV file for further analysis or reference."
   ]
  },
  {
   "cell_type": "markdown",
   "metadata": {},
   "source": [
    "### Saving Files into a Dataframe"
   ]
  },
  {
   "cell_type": "code",
   "execution_count": 22,
   "metadata": {},
   "outputs": [
    {
     "data": {
      "text/html": [
       "<div>\n",
       "<style scoped>\n",
       "    .dataframe tbody tr th:only-of-type {\n",
       "        vertical-align: middle;\n",
       "    }\n",
       "\n",
       "    .dataframe tbody tr th {\n",
       "        vertical-align: top;\n",
       "    }\n",
       "\n",
       "    .dataframe thead th {\n",
       "        text-align: right;\n",
       "    }\n",
       "</style>\n",
       "<table border=\"1\" class=\"dataframe\">\n",
       "  <thead>\n",
       "    <tr style=\"text-align: right;\">\n",
       "      <th></th>\n",
       "      <th>region</th>\n",
       "      <th>url</th>\n",
       "      <th>fpath</th>\n",
       "      <th>granule_id</th>\n",
       "      <th>dataset_id</th>\n",
       "      <th>start_time</th>\n",
       "      <th>end_time</th>\n",
       "      <th>spatial_extent</th>\n",
       "    </tr>\n",
       "  </thead>\n",
       "  <tbody>\n",
       "    <tr>\n",
       "      <th>0</th>\n",
       "      <td>urban</td>\n",
       "      <td>https://data.lpdaac.earthdatacloud.nasa.gov/lp-prod-protected/MOD11A2.061/MOD11A2.A2023145.h11v05.061.2023154043129/MOD11A2.A2023145.h11v05.061.2023154043129.hdf</td>\n",
       "      <td>./data/MODIS-LST/Atlanta_GA/urban\\MOD11A2.A2023145.h11v05.061.2023154043129.hdf</td>\n",
       "      <td>G2704231484-LPCLOUD</td>\n",
       "      <td>MODIS/Terra Land Surface Temperature/Emissivity 8-Day L3 Global 1km SIN Grid V061</td>\n",
       "      <td>2023-05-25T00:00:00.000Z</td>\n",
       "      <td>2023-06-01T23:59:59.000Z</td>\n",
       "      <td>NaN</td>\n",
       "    </tr>\n",
       "    <tr>\n",
       "      <th>1</th>\n",
       "      <td>urban</td>\n",
       "      <td>https://data.lpdaac.earthdatacloud.nasa.gov/lp-prod-protected/MOD11A2.061/MOD11A2.A2023145.h11v05.061.2023154043129/MOD11A2.A2023145.h11v05.061.2023154043129.cmr.xml</td>\n",
       "      <td>./data/MODIS-LST/Atlanta_GA/urban\\MOD11A2.A2023145.h11v05.061.2023154043129.cmr.xml</td>\n",
       "      <td>G2704231484-LPCLOUD</td>\n",
       "      <td>MODIS/Terra Land Surface Temperature/Emissivity 8-Day L3 Global 1km SIN Grid V061</td>\n",
       "      <td>2023-05-25T00:00:00.000Z</td>\n",
       "      <td>2023-06-01T23:59:59.000Z</td>\n",
       "      <td>NaN</td>\n",
       "    </tr>\n",
       "    <tr>\n",
       "      <th>2</th>\n",
       "      <td>urban</td>\n",
       "      <td>s3://lp-prod-protected/MOD11A2.061/MOD11A2.A2023145.h11v05.061.2023154043129/MOD11A2.A2023145.h11v05.061.2023154043129.cmr.xml</td>\n",
       "      <td>./data/MODIS-LST/Atlanta_GA/urban\\MOD11A2.A2023145.h11v05.061.2023154043129.cmr.xml</td>\n",
       "      <td>G2704231484-LPCLOUD</td>\n",
       "      <td>MODIS/Terra Land Surface Temperature/Emissivity 8-Day L3 Global 1km SIN Grid V061</td>\n",
       "      <td>2023-05-25T00:00:00.000Z</td>\n",
       "      <td>2023-06-01T23:59:59.000Z</td>\n",
       "      <td>NaN</td>\n",
       "    </tr>\n",
       "    <tr>\n",
       "      <th>3</th>\n",
       "      <td>urban</td>\n",
       "      <td>https://doi.org/10.5067/MODIS/MOD11A2.061</td>\n",
       "      <td>./data/MODIS-LST/Atlanta_GA/urban\\MOD11A2.061</td>\n",
       "      <td>G2704231484-LPCLOUD</td>\n",
       "      <td>MODIS/Terra Land Surface Temperature/Emissivity 8-Day L3 Global 1km SIN Grid V061</td>\n",
       "      <td>2023-05-25T00:00:00.000Z</td>\n",
       "      <td>2023-06-01T23:59:59.000Z</td>\n",
       "      <td>NaN</td>\n",
       "    </tr>\n",
       "    <tr>\n",
       "      <th>4</th>\n",
       "      <td>urban</td>\n",
       "      <td>https://data.lpdaac.earthdatacloud.nasa.gov/lp-prod-protected/MOD11A2.061/MOD11A2.A2023153.h11v05.061.2023164034254/MOD11A2.A2023153.h11v05.061.2023164034254.hdf</td>\n",
       "      <td>./data/MODIS-LST/Atlanta_GA/urban\\MOD11A2.A2023153.h11v05.061.2023164034254.hdf</td>\n",
       "      <td>G2709346843-LPCLOUD</td>\n",
       "      <td>MODIS/Terra Land Surface Temperature/Emissivity 8-Day L3 Global 1km SIN Grid V061</td>\n",
       "      <td>2023-06-02T00:00:00.000Z</td>\n",
       "      <td>2023-06-09T23:59:59.000Z</td>\n",
       "      <td>NaN</td>\n",
       "    </tr>\n",
       "  </tbody>\n",
       "</table>\n",
       "</div>"
      ],
      "text/plain": [
       "  region  \\\n",
       "0  urban   \n",
       "1  urban   \n",
       "2  urban   \n",
       "3  urban   \n",
       "4  urban   \n",
       "\n",
       "                                                                                                                                                                     url  \\\n",
       "0      https://data.lpdaac.earthdatacloud.nasa.gov/lp-prod-protected/MOD11A2.061/MOD11A2.A2023145.h11v05.061.2023154043129/MOD11A2.A2023145.h11v05.061.2023154043129.hdf   \n",
       "1  https://data.lpdaac.earthdatacloud.nasa.gov/lp-prod-protected/MOD11A2.061/MOD11A2.A2023145.h11v05.061.2023154043129/MOD11A2.A2023145.h11v05.061.2023154043129.cmr.xml   \n",
       "2                                         s3://lp-prod-protected/MOD11A2.061/MOD11A2.A2023145.h11v05.061.2023154043129/MOD11A2.A2023145.h11v05.061.2023154043129.cmr.xml   \n",
       "3                                                                                                                              https://doi.org/10.5067/MODIS/MOD11A2.061   \n",
       "4      https://data.lpdaac.earthdatacloud.nasa.gov/lp-prod-protected/MOD11A2.061/MOD11A2.A2023153.h11v05.061.2023164034254/MOD11A2.A2023153.h11v05.061.2023164034254.hdf   \n",
       "\n",
       "                                                                                 fpath  \\\n",
       "0      ./data/MODIS-LST/Atlanta_GA/urban\\MOD11A2.A2023145.h11v05.061.2023154043129.hdf   \n",
       "1  ./data/MODIS-LST/Atlanta_GA/urban\\MOD11A2.A2023145.h11v05.061.2023154043129.cmr.xml   \n",
       "2  ./data/MODIS-LST/Atlanta_GA/urban\\MOD11A2.A2023145.h11v05.061.2023154043129.cmr.xml   \n",
       "3                                        ./data/MODIS-LST/Atlanta_GA/urban\\MOD11A2.061   \n",
       "4      ./data/MODIS-LST/Atlanta_GA/urban\\MOD11A2.A2023153.h11v05.061.2023164034254.hdf   \n",
       "\n",
       "            granule_id  \\\n",
       "0  G2704231484-LPCLOUD   \n",
       "1  G2704231484-LPCLOUD   \n",
       "2  G2704231484-LPCLOUD   \n",
       "3  G2704231484-LPCLOUD   \n",
       "4  G2709346843-LPCLOUD   \n",
       "\n",
       "                                                                          dataset_id  \\\n",
       "0  MODIS/Terra Land Surface Temperature/Emissivity 8-Day L3 Global 1km SIN Grid V061   \n",
       "1  MODIS/Terra Land Surface Temperature/Emissivity 8-Day L3 Global 1km SIN Grid V061   \n",
       "2  MODIS/Terra Land Surface Temperature/Emissivity 8-Day L3 Global 1km SIN Grid V061   \n",
       "3  MODIS/Terra Land Surface Temperature/Emissivity 8-Day L3 Global 1km SIN Grid V061   \n",
       "4  MODIS/Terra Land Surface Temperature/Emissivity 8-Day L3 Global 1km SIN Grid V061   \n",
       "\n",
       "                 start_time                  end_time  spatial_extent  \n",
       "0  2023-05-25T00:00:00.000Z  2023-06-01T23:59:59.000Z             NaN  \n",
       "1  2023-05-25T00:00:00.000Z  2023-06-01T23:59:59.000Z             NaN  \n",
       "2  2023-05-25T00:00:00.000Z  2023-06-01T23:59:59.000Z             NaN  \n",
       "3  2023-05-25T00:00:00.000Z  2023-06-01T23:59:59.000Z             NaN  \n",
       "4  2023-06-02T00:00:00.000Z  2023-06-09T23:59:59.000Z             NaN  "
      ]
     },
     "execution_count": 22,
     "metadata": {},
     "output_type": "execute_result"
    }
   ],
   "source": [
    "# putting files into a dataframe\n",
    "files_df = pd.DataFrame(all_entries_links)\n",
    "\n",
    "# Save the data to a CSV file\n",
    "fpath_all_files_csv = \"./data/MODIS-LST/all_files_df.csv\"\n",
    "files_df.to_csv(fpath_all_files_csv,index=False)\n",
    "pd.read_csv(fpath_all_files_csv).head()"
   ]
  },
  {
   "cell_type": "markdown",
   "metadata": {},
   "source": [
    "The code below separates the "
   ]
  },
  {
   "cell_type": "code",
   "execution_count": 24,
   "metadata": {},
   "outputs": [
    {
     "data": {
      "text/html": [
       "<div>\n",
       "<style scoped>\n",
       "    .dataframe tbody tr th:only-of-type {\n",
       "        vertical-align: middle;\n",
       "    }\n",
       "\n",
       "    .dataframe tbody tr th {\n",
       "        vertical-align: top;\n",
       "    }\n",
       "\n",
       "    .dataframe thead th {\n",
       "        text-align: right;\n",
       "    }\n",
       "</style>\n",
       "<table border=\"1\" class=\"dataframe\">\n",
       "  <thead>\n",
       "    <tr style=\"text-align: right;\">\n",
       "      <th></th>\n",
       "      <th>region</th>\n",
       "      <th>url</th>\n",
       "      <th>fpath</th>\n",
       "      <th>granule_id</th>\n",
       "      <th>dataset_id</th>\n",
       "      <th>start_time</th>\n",
       "      <th>end_time</th>\n",
       "      <th>spatial_extent</th>\n",
       "      <th>type</th>\n",
       "    </tr>\n",
       "  </thead>\n",
       "  <tbody>\n",
       "    <tr>\n",
       "      <th>0</th>\n",
       "      <td>urban</td>\n",
       "      <td>https://data.lpdaac.earthdatacloud.nasa.gov/lp-prod-protected/MOD11A2.061/MOD11A2.A2023145.h11v05.061.2023154043129/MOD11A2.A2023145.h11v05.061.2023154043129.hdf</td>\n",
       "      <td>./data/MODIS-LST/Atlanta_GA/urban\\MOD11A2.A2023145.h11v05.061.2023154043129.hdf</td>\n",
       "      <td>G2704231484-LPCLOUD</td>\n",
       "      <td>MODIS/Terra Land Surface Temperature/Emissivity 8-Day L3 Global 1km SIN Grid V061</td>\n",
       "      <td>2023-05-25T00:00:00.000Z</td>\n",
       "      <td>2023-06-01T23:59:59.000Z</td>\n",
       "      <td>N/A</td>\n",
       "      <td>hdf</td>\n",
       "    </tr>\n",
       "    <tr>\n",
       "      <th>1</th>\n",
       "      <td>urban</td>\n",
       "      <td>https://data.lpdaac.earthdatacloud.nasa.gov/lp-prod-protected/MOD11A2.061/MOD11A2.A2023145.h11v05.061.2023154043129/MOD11A2.A2023145.h11v05.061.2023154043129.cmr.xml</td>\n",
       "      <td>./data/MODIS-LST/Atlanta_GA/urban\\MOD11A2.A2023145.h11v05.061.2023154043129.cmr.xml</td>\n",
       "      <td>G2704231484-LPCLOUD</td>\n",
       "      <td>MODIS/Terra Land Surface Temperature/Emissivity 8-Day L3 Global 1km SIN Grid V061</td>\n",
       "      <td>2023-05-25T00:00:00.000Z</td>\n",
       "      <td>2023-06-01T23:59:59.000Z</td>\n",
       "      <td>N/A</td>\n",
       "      <td>xml</td>\n",
       "    </tr>\n",
       "    <tr>\n",
       "      <th>2</th>\n",
       "      <td>urban</td>\n",
       "      <td>s3://lp-prod-protected/MOD11A2.061/MOD11A2.A2023145.h11v05.061.2023154043129/MOD11A2.A2023145.h11v05.061.2023154043129.cmr.xml</td>\n",
       "      <td>./data/MODIS-LST/Atlanta_GA/urban\\MOD11A2.A2023145.h11v05.061.2023154043129.cmr.xml</td>\n",
       "      <td>G2704231484-LPCLOUD</td>\n",
       "      <td>MODIS/Terra Land Surface Temperature/Emissivity 8-Day L3 Global 1km SIN Grid V061</td>\n",
       "      <td>2023-05-25T00:00:00.000Z</td>\n",
       "      <td>2023-06-01T23:59:59.000Z</td>\n",
       "      <td>N/A</td>\n",
       "      <td>xml</td>\n",
       "    </tr>\n",
       "    <tr>\n",
       "      <th>4</th>\n",
       "      <td>urban</td>\n",
       "      <td>https://data.lpdaac.earthdatacloud.nasa.gov/lp-prod-protected/MOD11A2.061/MOD11A2.A2023153.h11v05.061.2023164034254/MOD11A2.A2023153.h11v05.061.2023164034254.hdf</td>\n",
       "      <td>./data/MODIS-LST/Atlanta_GA/urban\\MOD11A2.A2023153.h11v05.061.2023164034254.hdf</td>\n",
       "      <td>G2709346843-LPCLOUD</td>\n",
       "      <td>MODIS/Terra Land Surface Temperature/Emissivity 8-Day L3 Global 1km SIN Grid V061</td>\n",
       "      <td>2023-06-02T00:00:00.000Z</td>\n",
       "      <td>2023-06-09T23:59:59.000Z</td>\n",
       "      <td>N/A</td>\n",
       "      <td>hdf</td>\n",
       "    </tr>\n",
       "    <tr>\n",
       "      <th>5</th>\n",
       "      <td>urban</td>\n",
       "      <td>https://data.lpdaac.earthdatacloud.nasa.gov/lp-prod-protected/MOD11A2.061/MOD11A2.A2023153.h11v05.061.2023164034254/MOD11A2.A2023153.h11v05.061.2023164034254.cmr.xml</td>\n",
       "      <td>./data/MODIS-LST/Atlanta_GA/urban\\MOD11A2.A2023153.h11v05.061.2023164034254.cmr.xml</td>\n",
       "      <td>G2709346843-LPCLOUD</td>\n",
       "      <td>MODIS/Terra Land Surface Temperature/Emissivity 8-Day L3 Global 1km SIN Grid V061</td>\n",
       "      <td>2023-06-02T00:00:00.000Z</td>\n",
       "      <td>2023-06-09T23:59:59.000Z</td>\n",
       "      <td>N/A</td>\n",
       "      <td>xml</td>\n",
       "    </tr>\n",
       "  </tbody>\n",
       "</table>\n",
       "</div>"
      ],
      "text/plain": [
       "  region  \\\n",
       "0  urban   \n",
       "1  urban   \n",
       "2  urban   \n",
       "4  urban   \n",
       "5  urban   \n",
       "\n",
       "                                                                                                                                                                     url  \\\n",
       "0      https://data.lpdaac.earthdatacloud.nasa.gov/lp-prod-protected/MOD11A2.061/MOD11A2.A2023145.h11v05.061.2023154043129/MOD11A2.A2023145.h11v05.061.2023154043129.hdf   \n",
       "1  https://data.lpdaac.earthdatacloud.nasa.gov/lp-prod-protected/MOD11A2.061/MOD11A2.A2023145.h11v05.061.2023154043129/MOD11A2.A2023145.h11v05.061.2023154043129.cmr.xml   \n",
       "2                                         s3://lp-prod-protected/MOD11A2.061/MOD11A2.A2023145.h11v05.061.2023154043129/MOD11A2.A2023145.h11v05.061.2023154043129.cmr.xml   \n",
       "4      https://data.lpdaac.earthdatacloud.nasa.gov/lp-prod-protected/MOD11A2.061/MOD11A2.A2023153.h11v05.061.2023164034254/MOD11A2.A2023153.h11v05.061.2023164034254.hdf   \n",
       "5  https://data.lpdaac.earthdatacloud.nasa.gov/lp-prod-protected/MOD11A2.061/MOD11A2.A2023153.h11v05.061.2023164034254/MOD11A2.A2023153.h11v05.061.2023164034254.cmr.xml   \n",
       "\n",
       "                                                                                 fpath  \\\n",
       "0      ./data/MODIS-LST/Atlanta_GA/urban\\MOD11A2.A2023145.h11v05.061.2023154043129.hdf   \n",
       "1  ./data/MODIS-LST/Atlanta_GA/urban\\MOD11A2.A2023145.h11v05.061.2023154043129.cmr.xml   \n",
       "2  ./data/MODIS-LST/Atlanta_GA/urban\\MOD11A2.A2023145.h11v05.061.2023154043129.cmr.xml   \n",
       "4      ./data/MODIS-LST/Atlanta_GA/urban\\MOD11A2.A2023153.h11v05.061.2023164034254.hdf   \n",
       "5  ./data/MODIS-LST/Atlanta_GA/urban\\MOD11A2.A2023153.h11v05.061.2023164034254.cmr.xml   \n",
       "\n",
       "            granule_id  \\\n",
       "0  G2704231484-LPCLOUD   \n",
       "1  G2704231484-LPCLOUD   \n",
       "2  G2704231484-LPCLOUD   \n",
       "4  G2709346843-LPCLOUD   \n",
       "5  G2709346843-LPCLOUD   \n",
       "\n",
       "                                                                          dataset_id  \\\n",
       "0  MODIS/Terra Land Surface Temperature/Emissivity 8-Day L3 Global 1km SIN Grid V061   \n",
       "1  MODIS/Terra Land Surface Temperature/Emissivity 8-Day L3 Global 1km SIN Grid V061   \n",
       "2  MODIS/Terra Land Surface Temperature/Emissivity 8-Day L3 Global 1km SIN Grid V061   \n",
       "4  MODIS/Terra Land Surface Temperature/Emissivity 8-Day L3 Global 1km SIN Grid V061   \n",
       "5  MODIS/Terra Land Surface Temperature/Emissivity 8-Day L3 Global 1km SIN Grid V061   \n",
       "\n",
       "                 start_time                  end_time spatial_extent type  \n",
       "0  2023-05-25T00:00:00.000Z  2023-06-01T23:59:59.000Z            N/A  hdf  \n",
       "1  2023-05-25T00:00:00.000Z  2023-06-01T23:59:59.000Z            N/A  xml  \n",
       "2  2023-05-25T00:00:00.000Z  2023-06-01T23:59:59.000Z            N/A  xml  \n",
       "4  2023-06-02T00:00:00.000Z  2023-06-09T23:59:59.000Z            N/A  hdf  \n",
       "5  2023-06-02T00:00:00.000Z  2023-06-09T23:59:59.000Z            N/A  xml  "
      ]
     },
     "execution_count": 24,
     "metadata": {},
     "output_type": "execute_result"
    }
   ],
   "source": [
    "# saving both hdf and xml files\n",
    "hdf_files = files_df[files_df['fpath'].str.endswith('.hdf')|files_df['fpath'].str.endswith('.xml')].copy()\n",
    "hdf_files['type'] = hdf_files['fpath'].apply(lambda x: x.split('.')[-1])\n",
    "\n",
    "# Save to csv\n",
    "fpath_hdf5_files_csv = \"./data/MODIS-LST/hdf_files.csv\"\n",
    "hdf_files.to_csv(fpath_hdf5_files_csv,index=False)\n",
    "hdf_files.head()"
   ]
  },
  {
   "cell_type": "markdown",
   "metadata": {},
   "source": [
    "### Using Xarray on the first row of the dataset"
   ]
  },
  {
   "cell_type": "code",
   "execution_count": 25,
   "metadata": {},
   "outputs": [
    {
     "name": "stdout",
     "output_type": "stream",
     "text": [
      "<xarray.Dataset>\n",
      "Dimensions:           (YDim:MODIS_Grid_8Day_1km_LST: 1200,\n",
      "                       XDim:MODIS_Grid_8Day_1km_LST: 1200)\n",
      "Dimensions without coordinates: YDim:MODIS_Grid_8Day_1km_LST,\n",
      "                                XDim:MODIS_Grid_8Day_1km_LST\n",
      "Data variables:\n",
      "    LST_Day_1km       (YDim:MODIS_Grid_8Day_1km_LST, XDim:MODIS_Grid_8Day_1km_LST) float32 ...\n",
      "    QC_Day            (YDim:MODIS_Grid_8Day_1km_LST, XDim:MODIS_Grid_8Day_1km_LST) float32 ...\n",
      "    Day_view_time     (YDim:MODIS_Grid_8Day_1km_LST, XDim:MODIS_Grid_8Day_1km_LST) float32 ...\n",
      "    Day_view_angl     (YDim:MODIS_Grid_8Day_1km_LST, XDim:MODIS_Grid_8Day_1km_LST) float32 ...\n",
      "    LST_Night_1km     (YDim:MODIS_Grid_8Day_1km_LST, XDim:MODIS_Grid_8Day_1km_LST) float32 ...\n",
      "    QC_Night          (YDim:MODIS_Grid_8Day_1km_LST, XDim:MODIS_Grid_8Day_1km_LST) float32 ...\n",
      "    Night_view_time   (YDim:MODIS_Grid_8Day_1km_LST, XDim:MODIS_Grid_8Day_1km_LST) float32 ...\n",
      "    Night_view_angl   (YDim:MODIS_Grid_8Day_1km_LST, XDim:MODIS_Grid_8Day_1km_LST) float32 ...\n",
      "    Emis_31           (YDim:MODIS_Grid_8Day_1km_LST, XDim:MODIS_Grid_8Day_1km_LST) float32 ...\n",
      "    Emis_32           (YDim:MODIS_Grid_8Day_1km_LST, XDim:MODIS_Grid_8Day_1km_LST) float32 ...\n",
      "    Clear_sky_days    (YDim:MODIS_Grid_8Day_1km_LST, XDim:MODIS_Grid_8Day_1km_LST) float32 ...\n",
      "    Clear_sky_nights  (YDim:MODIS_Grid_8Day_1km_LST, XDim:MODIS_Grid_8Day_1km_LST) float32 ...\n",
      "Attributes:\n",
      "    HDFEOSVersion:                     HDFEOS_V2.19\n",
      "    StructMetadata.0:                  GROUP=SwathStructure\\nEND_GROUP=SwathS...\n",
      "    identifier_product_doi:            10.5067/MODIS/MOD11A2.061\n",
      "    identifier_product_doi_authority:  https://doi.org\n",
      "    CoreMetadata.0:                    \\nGROUP                  = INVENTORYME...\n",
      "    ArchiveMetadata.0:                 \\nGROUP                  = ARCHIVEDMET...\n"
     ]
    }
   ],
   "source": [
    "# grabbing one ropw of the dataset to test on\n",
    "fpath = hdf_files.iloc[0]['fpath']\n",
    "\n",
    "# Load in example dataset\n",
    "dataset = xr.open_dataset(fpath, engine='netcdf4')\n",
    "[i for i in dir(dataset) if not i.startswith('_')]\n",
    "# dataset\n",
    "print(dataset)"
   ]
  },
  {
   "cell_type": "markdown",
   "metadata": {},
   "source": [
    "### Checking to make sure Coordinates are on land\n",
    "\n",
    "To determine whether your coordinates are over land or sea, you can use a geographic information system (GIS) library like `geopandas` along with a shapefile that contains land and sea boundaries. One such dataset is the Natural Earth dataset, which provides vector data for land and water boundaries.\n",
    "\n",
    "Here’s how you can achieve this using Python:\n",
    "\n",
    "1. **Install the required libraries:**\n",
    "   - `geopandas`: For handling geographic data.\n",
    "   - `shapely`: For geometric operations.\n",
    "\n",
    "2. **Download the Natural Earth dataset:**\n",
    "   - You can download the Natural Earth land polygons dataset from [Natural Earth](https://www.naturalearthdata.com/downloads/110m-physical-vectors/).\n",
    "\n",
    "3. **Load the shapefile and check the coordinates:**"
   ]
  },
  {
   "cell_type": "code",
   "execution_count": 27,
   "metadata": {},
   "outputs": [
    {
     "data": {
      "text/html": [
       "<div>\n",
       "<style scoped>\n",
       "    .dataframe tbody tr th:only-of-type {\n",
       "        vertical-align: middle;\n",
       "    }\n",
       "\n",
       "    .dataframe tbody tr th {\n",
       "        vertical-align: top;\n",
       "    }\n",
       "\n",
       "    .dataframe thead th {\n",
       "        text-align: right;\n",
       "    }\n",
       "</style>\n",
       "<table border=\"1\" class=\"dataframe\">\n",
       "  <thead>\n",
       "    <tr style=\"text-align: right;\">\n",
       "      <th></th>\n",
       "      <th>featurecla</th>\n",
       "      <th>scalerank</th>\n",
       "      <th>min_zoom</th>\n",
       "      <th>geometry</th>\n",
       "    </tr>\n",
       "  </thead>\n",
       "  <tbody>\n",
       "    <tr>\n",
       "      <th>0</th>\n",
       "      <td>Land</td>\n",
       "      <td>1</td>\n",
       "      <td>1.0</td>\n",
       "      <td>POLYGON ((-59.57209 -80.04018, -59.86585 -80.54966, -60.15966 -81.00033, -62.25539 -80.86318, -64.48813 -80.92193, -65.74167 -80.58883, -65.74167 -80.54966, -66.29003 -80.25577, -64.03769 -80.29494, -61.88325 -80.39287, -61.13898 -79.98137, -60.6...</td>\n",
       "    </tr>\n",
       "    <tr>\n",
       "      <th>1</th>\n",
       "      <td>Land</td>\n",
       "      <td>1</td>\n",
       "      <td>1.0</td>\n",
       "      <td>POLYGON ((-159.20818 -79.49706, -161.1276 -79.63421, -162.43985 -79.28147, -163.02741 -78.92877, -163.0666 -78.86997, -163.7129 -78.59567, -163.7129 -78.59567, -163.1058 -78.22334, -161.24511 -78.38018, -160.24621 -78.69365, -159.4824 -79.04634, ...</td>\n",
       "    </tr>\n",
       "    <tr>\n",
       "      <th>2</th>\n",
       "      <td>Land</td>\n",
       "      <td>1</td>\n",
       "      <td>0.0</td>\n",
       "      <td>POLYGON ((-45.15476 -78.04707, -43.92083 -78.4781, -43.48995 -79.08556, -43.37244 -79.51664, -43.33327 -80.02612, -44.88054 -80.33964, -46.50617 -80.59436, -48.38642 -80.82948, -50.48211 -81.02544, -52.85199 -80.96669, -54.16426 -80.63353, -53.98...</td>\n",
       "    </tr>\n",
       "    <tr>\n",
       "      <th>3</th>\n",
       "      <td>Land</td>\n",
       "      <td>1</td>\n",
       "      <td>1.0</td>\n",
       "      <td>POLYGON ((-121.21151 -73.50099, -119.91885 -73.65773, -118.72414 -73.48135, -119.29212 -73.8341, -120.23222 -74.08881, -121.62283 -74.01047, -122.62173 -73.65778, -122.62174 -73.65778, -122.40624 -73.32462, -121.21151 -73.50099))</td>\n",
       "    </tr>\n",
       "    <tr>\n",
       "      <th>4</th>\n",
       "      <td>Land</td>\n",
       "      <td>1</td>\n",
       "      <td>1.0</td>\n",
       "      <td>POLYGON ((-125.55957 -73.48135, -124.03188 -73.87327, -124.61947 -73.8341, -125.91218 -73.73612, -127.28313 -73.46177, -127.28313 -73.46177, -126.55847 -73.24623, -125.55957 -73.48135))</td>\n",
       "    </tr>\n",
       "    <tr>\n",
       "      <th>...</th>\n",
       "      <td>...</td>\n",
       "      <td>...</td>\n",
       "      <td>...</td>\n",
       "      <td>...</td>\n",
       "    </tr>\n",
       "    <tr>\n",
       "      <th>122</th>\n",
       "      <td>Land</td>\n",
       "      <td>1</td>\n",
       "      <td>1.0</td>\n",
       "      <td>POLYGON ((51.13619 80.54728, 49.79368 80.41543, 48.89441 80.33957, 48.75494 80.17547, 47.58612 80.01018, 46.50283 80.24725, 47.07246 80.55942, 44.84696 80.58981, 46.79914 80.77192, 48.31848 80.78401, 48.52281 80.51457, 49.09719 80.75399, 50.03977...</td>\n",
       "    </tr>\n",
       "    <tr>\n",
       "      <th>123</th>\n",
       "      <td>Land</td>\n",
       "      <td>0</td>\n",
       "      <td>0.0</td>\n",
       "      <td>POLYGON ((99.93976 78.88094, 97.75794 78.7562, 94.97259 79.04475, 93.31288 79.4265, 92.5454 80.14379, 91.18107 80.34146, 93.77766 81.0246, 95.9409 81.2504, 97.88385 80.74698, 100.18666 79.78014, 99.93976 78.88094))</td>\n",
       "    </tr>\n",
       "    <tr>\n",
       "      <th>124</th>\n",
       "      <td>Land</td>\n",
       "      <td>0</td>\n",
       "      <td>0.0</td>\n",
       "      <td>POLYGON ((-87.02 79.66, -85.81435 79.3369, -87.18756 79.0393, -89.03535 78.28723, -90.80436 78.21533, -92.87669 78.34333, -93.95116 78.75099, -93.93574 79.11373, -93.14524 79.3801, -94.974 79.37248, -96.07614 79.70502, -96.70972 80.15777, -96.016...</td>\n",
       "    </tr>\n",
       "    <tr>\n",
       "      <th>125</th>\n",
       "      <td>Land</td>\n",
       "      <td>0</td>\n",
       "      <td>0.0</td>\n",
       "      <td>POLYGON ((-68.5 83.10632, -65.82735 83.02801, -63.68 82.9, -61.85 82.6286, -61.89388 82.36165, -64.334 81.92775, -66.75342 81.72527, -67.65755 81.50141, -65.48031 81.50657, -67.84 80.9, -69.4697 80.61683, -71.18 79.8, -73.2428 79.63415, -73.88 79...</td>\n",
       "    </tr>\n",
       "    <tr>\n",
       "      <th>126</th>\n",
       "      <td>Land</td>\n",
       "      <td>0</td>\n",
       "      <td>0.0</td>\n",
       "      <td>POLYGON ((-27.10046 83.51966, -20.84539 82.72669, -22.69182 82.34165, -26.51753 82.29765, -31.9 82.2, -31.39646 82.02154, -27.85666 82.13178, -24.84448 81.78697, -22.90328 82.09317, -22.07175 81.73449, -23.16961 81.15271, -20.62363 81.52462, -15....</td>\n",
       "    </tr>\n",
       "  </tbody>\n",
       "</table>\n",
       "<p>127 rows × 4 columns</p>\n",
       "</div>"
      ],
      "text/plain": [
       "    featurecla  scalerank  min_zoom  \\\n",
       "0         Land          1       1.0   \n",
       "1         Land          1       1.0   \n",
       "2         Land          1       0.0   \n",
       "3         Land          1       1.0   \n",
       "4         Land          1       1.0   \n",
       "..         ...        ...       ...   \n",
       "122       Land          1       1.0   \n",
       "123       Land          0       0.0   \n",
       "124       Land          0       0.0   \n",
       "125       Land          0       0.0   \n",
       "126       Land          0       0.0   \n",
       "\n",
       "                                                                                                                                                                                                                                                      geometry  \n",
       "0    POLYGON ((-59.57209 -80.04018, -59.86585 -80.54966, -60.15966 -81.00033, -62.25539 -80.86318, -64.48813 -80.92193, -65.74167 -80.58883, -65.74167 -80.54966, -66.29003 -80.25577, -64.03769 -80.29494, -61.88325 -80.39287, -61.13898 -79.98137, -60.6...  \n",
       "1    POLYGON ((-159.20818 -79.49706, -161.1276 -79.63421, -162.43985 -79.28147, -163.02741 -78.92877, -163.0666 -78.86997, -163.7129 -78.59567, -163.7129 -78.59567, -163.1058 -78.22334, -161.24511 -78.38018, -160.24621 -78.69365, -159.4824 -79.04634, ...  \n",
       "2    POLYGON ((-45.15476 -78.04707, -43.92083 -78.4781, -43.48995 -79.08556, -43.37244 -79.51664, -43.33327 -80.02612, -44.88054 -80.33964, -46.50617 -80.59436, -48.38642 -80.82948, -50.48211 -81.02544, -52.85199 -80.96669, -54.16426 -80.63353, -53.98...  \n",
       "3                        POLYGON ((-121.21151 -73.50099, -119.91885 -73.65773, -118.72414 -73.48135, -119.29212 -73.8341, -120.23222 -74.08881, -121.62283 -74.01047, -122.62173 -73.65778, -122.62174 -73.65778, -122.40624 -73.32462, -121.21151 -73.50099))  \n",
       "4                                                                    POLYGON ((-125.55957 -73.48135, -124.03188 -73.87327, -124.61947 -73.8341, -125.91218 -73.73612, -127.28313 -73.46177, -127.28313 -73.46177, -126.55847 -73.24623, -125.55957 -73.48135))  \n",
       "..                                                                                                                                                                                                                                                         ...  \n",
       "122  POLYGON ((51.13619 80.54728, 49.79368 80.41543, 48.89441 80.33957, 48.75494 80.17547, 47.58612 80.01018, 46.50283 80.24725, 47.07246 80.55942, 44.84696 80.58981, 46.79914 80.77192, 48.31848 80.78401, 48.52281 80.51457, 49.09719 80.75399, 50.03977...  \n",
       "123                                     POLYGON ((99.93976 78.88094, 97.75794 78.7562, 94.97259 79.04475, 93.31288 79.4265, 92.5454 80.14379, 91.18107 80.34146, 93.77766 81.0246, 95.9409 81.2504, 97.88385 80.74698, 100.18666 79.78014, 99.93976 78.88094))  \n",
       "124  POLYGON ((-87.02 79.66, -85.81435 79.3369, -87.18756 79.0393, -89.03535 78.28723, -90.80436 78.21533, -92.87669 78.34333, -93.95116 78.75099, -93.93574 79.11373, -93.14524 79.3801, -94.974 79.37248, -96.07614 79.70502, -96.70972 80.15777, -96.016...  \n",
       "125  POLYGON ((-68.5 83.10632, -65.82735 83.02801, -63.68 82.9, -61.85 82.6286, -61.89388 82.36165, -64.334 81.92775, -66.75342 81.72527, -67.65755 81.50141, -65.48031 81.50657, -67.84 80.9, -69.4697 80.61683, -71.18 79.8, -73.2428 79.63415, -73.88 79...  \n",
       "126  POLYGON ((-27.10046 83.51966, -20.84539 82.72669, -22.69182 82.34165, -26.51753 82.29765, -31.9 82.2, -31.39646 82.02154, -27.85666 82.13178, -24.84448 81.78697, -22.90328 82.09317, -22.07175 81.73449, -23.16961 81.15271, -20.62363 81.52462, -15....  \n",
       "\n",
       "[127 rows x 4 columns]"
      ]
     },
     "execution_count": 27,
     "metadata": {},
     "output_type": "execute_result"
    }
   ],
   "source": [
    "# Load the Natural Earth land polygons shapefile (see above link to download data)\n",
    "land_shapefile = \"./data/110m_physical/ne_110m_land.shp\" #\"path/to/ne_110m_land.shp\"\n",
    "land = gpd.read_file(land_shapefile, engine='fiona')\n",
    "land"
   ]
  },
  {
   "cell_type": "code",
   "execution_count": 28,
   "metadata": {},
   "outputs": [],
   "source": [
    "# Function to check if a coordinate is over land\n",
    "def is_land(lat, lon, land_gdf):\n",
    "    point = Point(lon, lat)\n",
    "    return any(land_gdf.contains(point))"
   ]
  },
  {
   "cell_type": "code",
   "execution_count": 30,
   "metadata": {},
   "outputs": [],
   "source": [
    "\n",
    "# Function to generate sample points within a bounding box\n",
    "def generate_sample_points(sw, ne, num_points=10):\n",
    "    latitudes = [sw[0] + i * (ne[0] - sw[0]) / (num_points - 1) for i in range(num_points)]\n",
    "    longitudes = [sw[1] + i * (ne[1] - sw[1]) / (num_points - 1) for i in range(num_points)]\n",
    "    return [(lat, lon) for lat in latitudes for lon in longitudes]"
   ]
  },
  {
   "cell_type": "markdown",
   "metadata": {},
   "source": [
    "Looping through all the regions and bounds within our coordinates to identify how many points are over land and sea (should all be over land)"
   ]
  },
  {
   "cell_type": "code",
   "execution_count": 31,
   "metadata": {},
   "outputs": [
    {
     "name": "stdout",
     "output_type": "stream",
     "text": [
      "Region: urban is entirely over land.\n",
      "Number of land points: 10000\n",
      "Number of sea points: 0\n",
      "Region: rural is entirely over land.\n",
      "Number of land points: 10000\n",
      "Number of sea points: 0\n"
     ]
    }
   ],
   "source": [
    "# # Define your coordinates\n",
    "# coordinates = {\n",
    "#     'urban': {\"SW\": [29.5, -95.5], \"NE\": [30.0, -95.0]},\n",
    "#     'rural': {\"SW\": [30.5, -96.5], \"NE\": [31.0, -96.0]},\n",
    "# }\n",
    "\n",
    "# Check if any coordinates within the bounding boxes are over sea\n",
    "# coordinates variable comes from: data_params['coordinates']\n",
    "for region, bounds in coordinates.items():\n",
    "    sw = bounds['SW']\n",
    "    ne = bounds['NE']\n",
    "    \n",
    "    # Generate sample points within the bounding box\n",
    "    sample_points = generate_sample_points(sw, ne, num_points=100)\n",
    "    \n",
    "    sea_points = []\n",
    "    land_points = []\n",
    "    for lat, lon in sample_points:\n",
    "        if is_land(lat, lon, land):\n",
    "            land_points.append((lat, lon))\n",
    "        else:\n",
    "            sea_points.append((lat, lon))\n",
    "    \n",
    "    if sea_points:\n",
    "        print(f\"Region: {region} has points over the sea.\")\n",
    "    else:\n",
    "        print(f\"Region: {region} is entirely over land.\")\n",
    "    \n",
    "    # Print details\n",
    "    print(f\"Number of land points: {len(land_points)}\")\n",
    "    print(f\"Number of sea points: {len(sea_points)}\")"
   ]
  },
  {
   "cell_type": "code",
   "execution_count": null,
   "metadata": {},
   "outputs": [],
   "source": []
  }
 ],
 "metadata": {
  "kernelspec": {
   "display_name": "nasa-env",
   "language": "python",
   "name": "python3"
  },
  "language_info": {
   "codemirror_mode": {
    "name": "ipython",
    "version": 3
   },
   "file_extension": ".py",
   "mimetype": "text/x-python",
   "name": "python",
   "nbconvert_exporter": "python",
   "pygments_lexer": "ipython3",
   "version": "3.11.9"
  }
 },
 "nbformat": 4,
 "nbformat_minor": 2
}
