{
 "cells": [
  {
   "cell_type": "markdown",
   "metadata": {},
   "source": [
    "# Structured Output with LangChain + OpenAI"
   ]
  },
  {
   "cell_type": "markdown",
   "metadata": {},
   "source": [
    "Introduction:\n",
    "\n",
    "Performing an Urban Heat Island Analysis Project using NASA's EarthData API to access MODIS Land Surface Temperature (LST) data for a major metropolitan area to compare the average temperatures within the dense urban areas vs. the rural areas outside the  city. \n",
    "\n",
    "To do so, we consulted with ChatGPT to select an appropriate city and dates to use that would best show off the contrast between urban vs. rural LST, and extracted a bouding box for an urban area and a rural area located near the same metropolitan area. \n",
    "\n",
    "We then manually saved this information in a parameter dictionary with the following structure, using Python:"
   ]
  },
  {
   "cell_type": "code",
   "execution_count": 15,
   "metadata": {},
   "outputs": [
    {
     "data": {
      "text/plain": [
       "{'city_region_name': 'Houston, TX',\n",
       " 'coordinates': {'urban': {'SW': [29.69193, -95.47998],\n",
       "   'NE': [29.90719, -95.2251]},\n",
       "  'rural': {'SW': [30.5, -96.5], 'NE': [31.0, -96.0]}},\n",
       " 'time': {'start': '2023-06-01T00:00:00Z', 'end': '2023-08-31T23:59:59Z'}}"
      ]
     },
     "execution_count": 15,
     "metadata": {},
     "output_type": "execute_result"
    }
   ],
   "source": [
    "# Starting Parameters (manual)\n",
    "data_params = {'city_region_name':'Houston, TX',\n",
    "               'coordinates': {\n",
    "                   'urban': {\n",
    "                       'SW': [29.69193, -95.47998],\n",
    "                        'NE': [29.90719, -95.2251]\n",
    "                        },\n",
    "                   'rural': {\n",
    "                       'SW': [30.5, -96.5],\n",
    "                       'NE': [31.0, -96.0]\n",
    "                       }\n",
    "                   },\n",
    "               'time': {\n",
    "                   'start': '2023-06-01T00:00:00Z',\n",
    "                   'end': '2023-08-31T23:59:59Z'\n",
    "                   }\n",
    "               }\n",
    "data_params"
   ]
  },
  {
   "cell_type": "code",
   "execution_count": 35,
   "metadata": {},
   "outputs": [],
   "source": [
    "import pandas as pd\n",
    "import plotly.express as px\n",
    "import plotly.graph_objects as go\n",
    "import numpy as np\n",
    "import os, json, requests"
   ]
  },
  {
   "cell_type": "code",
   "execution_count": 36,
   "metadata": {},
   "outputs": [],
   "source": [
    "## Plot the region suggested\n",
    "# Function to generate sample points within a bounding box\n",
    "def generate_sample_points(sw, ne, num_points=10):\n",
    "    \"\"\"\n",
    "    Generate sample points within a given bounding box.\n",
    "\n",
    "    Parameters:\n",
    "    - sw (tuple): The southwest coordinates of the bounding box (latitude, longitude).\n",
    "    - ne (tuple): The northeast coordinates of the bounding box (latitude, longitude).\n",
    "    - num_points (int): The number of sample points to generate (default: 10).\n",
    "\n",
    "    Returns:\n",
    "    - list: A list of sample points, where each point is represented as a tuple (latitude, longitude).\n",
    "    \"\"\"\n",
    "    latitudes = [sw[0] + i * (ne[0] - sw[0]) / (num_points - 1) for i in range(num_points)]\n",
    "    longitudes = [sw[1] + i * (ne[1] - sw[1]) / (num_points - 1) for i in range(num_points)]\n",
    "    return [(lat, lon) for lat in latitudes for lon in longitudes]\n"
   ]
  },
  {
   "cell_type": "code",
   "execution_count": 37,
   "metadata": {},
   "outputs": [
    {
     "data": {
      "text/html": [
       "<div>\n",
       "<style scoped>\n",
       "    .dataframe tbody tr th:only-of-type {\n",
       "        vertical-align: middle;\n",
       "    }\n",
       "\n",
       "    .dataframe tbody tr th {\n",
       "        vertical-align: top;\n",
       "    }\n",
       "\n",
       "    .dataframe thead th {\n",
       "        text-align: right;\n",
       "    }\n",
       "</style>\n",
       "<table border=\"1\" class=\"dataframe\">\n",
       "  <thead>\n",
       "    <tr style=\"text-align: right;\">\n",
       "      <th></th>\n",
       "      <th>Region</th>\n",
       "      <th>Latitude</th>\n",
       "      <th>Longitude</th>\n",
       "    </tr>\n",
       "  </thead>\n",
       "  <tbody>\n",
       "    <tr>\n",
       "      <th>0</th>\n",
       "      <td>urban</td>\n",
       "      <td>29.69193</td>\n",
       "      <td>-95.47998</td>\n",
       "    </tr>\n",
       "    <tr>\n",
       "      <th>1</th>\n",
       "      <td>urban</td>\n",
       "      <td>29.69193</td>\n",
       "      <td>-95.45166</td>\n",
       "    </tr>\n",
       "  </tbody>\n",
       "</table>\n",
       "</div>"
      ],
      "text/plain": [
       "  Region  Latitude  Longitude\n",
       "0  urban  29.69193  -95.47998\n",
       "1  urban  29.69193  -95.45166"
      ]
     },
     "metadata": {},
     "output_type": "display_data"
    },
    {
     "data": {
      "text/html": [
       "<div>\n",
       "<style scoped>\n",
       "    .dataframe tbody tr th:only-of-type {\n",
       "        vertical-align: middle;\n",
       "    }\n",
       "\n",
       "    .dataframe tbody tr th {\n",
       "        vertical-align: top;\n",
       "    }\n",
       "\n",
       "    .dataframe thead th {\n",
       "        text-align: right;\n",
       "    }\n",
       "</style>\n",
       "<table border=\"1\" class=\"dataframe\">\n",
       "  <thead>\n",
       "    <tr style=\"text-align: right;\">\n",
       "      <th></th>\n",
       "      <th>Region</th>\n",
       "      <th>Latitude</th>\n",
       "      <th>Longitude</th>\n",
       "    </tr>\n",
       "  </thead>\n",
       "  <tbody>\n",
       "    <tr>\n",
       "      <th>198</th>\n",
       "      <td>rural</td>\n",
       "      <td>31.0</td>\n",
       "      <td>-96.055556</td>\n",
       "    </tr>\n",
       "    <tr>\n",
       "      <th>199</th>\n",
       "      <td>rural</td>\n",
       "      <td>31.0</td>\n",
       "      <td>-96.000000</td>\n",
       "    </tr>\n",
       "  </tbody>\n",
       "</table>\n",
       "</div>"
      ],
      "text/plain": [
       "    Region  Latitude  Longitude\n",
       "198  rural      31.0 -96.055556\n",
       "199  rural      31.0 -96.000000"
      ]
     },
     "metadata": {},
     "output_type": "display_data"
    }
   ],
   "source": [
    "\n",
    "\n",
    "# Dataframe to store results\n",
    "sampled_coordinates = []\n",
    "\n",
    "# Check if any coordinates within the bounding boxes are over sea\n",
    "for region, bounding_box in data_params['coordinates'].items():\n",
    "    # Generate sample points within the bounding box\n",
    "    sample_points = generate_sample_points(bounding_box['SW'], bounding_box['NE'], num_points=10)\n",
    "    for lat, lon in sample_points:\n",
    "        sampled_coordinates.append({'Region': region, 'Latitude': lat, 'Longitude': lon})\n",
    "\n",
    "# Convert results to DataFrame\n",
    "coords_df = pd.DataFrame(sampled_coordinates)\n",
    "display(coords_df.head(2), coords_df.tail(2))"
   ]
  },
  {
   "cell_type": "markdown",
   "metadata": {},
   "source": [
    "We can visualize the selected regions using Plotly Express and generating a range of sample coordinates from the defined regions."
   ]
  },
  {
   "cell_type": "code",
   "execution_count": 39,
   "metadata": {},
   "outputs": [],
   "source": [
    "# ADMIN: DELETE FROM FINAL VERSION\n",
    "img_dir = \"images/blog/\"\n",
    "if not os.path.exists(img_dir):\n",
    "    os.makedirs(img_dir)"
   ]
  },
  {
   "cell_type": "code",
   "execution_count": 62,
   "metadata": {},
   "outputs": [
    {
     "data": {
      "application/vnd.plotly.v1+json": {
       "config": {
        "plotlyServerURL": "https://plot.ly"
       },
       "data": [
        {
         "hovertemplate": "Region=urban<br>Latitude=%{lat}<br>Longitude=%{lon}<extra></extra>",
         "lat": [
          29.69193,
          29.69193,
          29.69193,
          29.69193,
          29.69193,
          29.69193,
          29.69193,
          29.69193,
          29.69193,
          29.69193,
          29.71584777777778,
          29.71584777777778,
          29.71584777777778,
          29.71584777777778,
          29.71584777777778,
          29.71584777777778,
          29.71584777777778,
          29.71584777777778,
          29.71584777777778,
          29.71584777777778,
          29.739765555555554,
          29.739765555555554,
          29.739765555555554,
          29.739765555555554,
          29.739765555555554,
          29.739765555555554,
          29.739765555555554,
          29.739765555555554,
          29.739765555555554,
          29.739765555555554,
          29.763683333333333,
          29.763683333333333,
          29.763683333333333,
          29.763683333333333,
          29.763683333333333,
          29.763683333333333,
          29.763683333333333,
          29.763683333333333,
          29.763683333333333,
          29.763683333333333,
          29.787601111111112,
          29.787601111111112,
          29.787601111111112,
          29.787601111111112,
          29.787601111111112,
          29.787601111111112,
          29.787601111111112,
          29.787601111111112,
          29.787601111111112,
          29.787601111111112,
          29.811518888888887,
          29.811518888888887,
          29.811518888888887,
          29.811518888888887,
          29.811518888888887,
          29.811518888888887,
          29.811518888888887,
          29.811518888888887,
          29.811518888888887,
          29.811518888888887,
          29.835436666666666,
          29.835436666666666,
          29.835436666666666,
          29.835436666666666,
          29.835436666666666,
          29.835436666666666,
          29.835436666666666,
          29.835436666666666,
          29.835436666666666,
          29.835436666666666,
          29.859354444444445,
          29.859354444444445,
          29.859354444444445,
          29.859354444444445,
          29.859354444444445,
          29.859354444444445,
          29.859354444444445,
          29.859354444444445,
          29.859354444444445,
          29.859354444444445,
          29.88327222222222,
          29.88327222222222,
          29.88327222222222,
          29.88327222222222,
          29.88327222222222,
          29.88327222222222,
          29.88327222222222,
          29.88327222222222,
          29.88327222222222,
          29.88327222222222,
          29.90719,
          29.90719,
          29.90719,
          29.90719,
          29.90719,
          29.90719,
          29.90719,
          29.90719,
          29.90719,
          29.90719
         ],
         "legendgroup": "urban",
         "lon": [
          -95.47998,
          -95.45166,
          -95.42334,
          -95.39502,
          -95.3667,
          -95.33838,
          -95.31006,
          -95.28174,
          -95.25341999999999,
          -95.2251,
          -95.47998,
          -95.45166,
          -95.42334,
          -95.39502,
          -95.3667,
          -95.33838,
          -95.31006,
          -95.28174,
          -95.25341999999999,
          -95.2251,
          -95.47998,
          -95.45166,
          -95.42334,
          -95.39502,
          -95.3667,
          -95.33838,
          -95.31006,
          -95.28174,
          -95.25341999999999,
          -95.2251,
          -95.47998,
          -95.45166,
          -95.42334,
          -95.39502,
          -95.3667,
          -95.33838,
          -95.31006,
          -95.28174,
          -95.25341999999999,
          -95.2251,
          -95.47998,
          -95.45166,
          -95.42334,
          -95.39502,
          -95.3667,
          -95.33838,
          -95.31006,
          -95.28174,
          -95.25341999999999,
          -95.2251,
          -95.47998,
          -95.45166,
          -95.42334,
          -95.39502,
          -95.3667,
          -95.33838,
          -95.31006,
          -95.28174,
          -95.25341999999999,
          -95.2251,
          -95.47998,
          -95.45166,
          -95.42334,
          -95.39502,
          -95.3667,
          -95.33838,
          -95.31006,
          -95.28174,
          -95.25341999999999,
          -95.2251,
          -95.47998,
          -95.45166,
          -95.42334,
          -95.39502,
          -95.3667,
          -95.33838,
          -95.31006,
          -95.28174,
          -95.25341999999999,
          -95.2251,
          -95.47998,
          -95.45166,
          -95.42334,
          -95.39502,
          -95.3667,
          -95.33838,
          -95.31006,
          -95.28174,
          -95.25341999999999,
          -95.2251,
          -95.47998,
          -95.45166,
          -95.42334,
          -95.39502,
          -95.3667,
          -95.33838,
          -95.31006,
          -95.28174,
          -95.25341999999999,
          -95.2251
         ],
         "marker": {
          "color": "#636efa"
         },
         "mode": "markers",
         "name": "urban",
         "showlegend": true,
         "subplot": "mapbox",
         "type": "scattermapbox"
        },
        {
         "hovertemplate": "Region=rural<br>Latitude=%{lat}<br>Longitude=%{lon}<extra></extra>",
         "lat": [
          30.5,
          30.5,
          30.5,
          30.5,
          30.5,
          30.5,
          30.5,
          30.5,
          30.5,
          30.5,
          30.555555555555557,
          30.555555555555557,
          30.555555555555557,
          30.555555555555557,
          30.555555555555557,
          30.555555555555557,
          30.555555555555557,
          30.555555555555557,
          30.555555555555557,
          30.555555555555557,
          30.61111111111111,
          30.61111111111111,
          30.61111111111111,
          30.61111111111111,
          30.61111111111111,
          30.61111111111111,
          30.61111111111111,
          30.61111111111111,
          30.61111111111111,
          30.61111111111111,
          30.666666666666668,
          30.666666666666668,
          30.666666666666668,
          30.666666666666668,
          30.666666666666668,
          30.666666666666668,
          30.666666666666668,
          30.666666666666668,
          30.666666666666668,
          30.666666666666668,
          30.72222222222222,
          30.72222222222222,
          30.72222222222222,
          30.72222222222222,
          30.72222222222222,
          30.72222222222222,
          30.72222222222222,
          30.72222222222222,
          30.72222222222222,
          30.72222222222222,
          30.77777777777778,
          30.77777777777778,
          30.77777777777778,
          30.77777777777778,
          30.77777777777778,
          30.77777777777778,
          30.77777777777778,
          30.77777777777778,
          30.77777777777778,
          30.77777777777778,
          30.833333333333332,
          30.833333333333332,
          30.833333333333332,
          30.833333333333332,
          30.833333333333332,
          30.833333333333332,
          30.833333333333332,
          30.833333333333332,
          30.833333333333332,
          30.833333333333332,
          30.88888888888889,
          30.88888888888889,
          30.88888888888889,
          30.88888888888889,
          30.88888888888889,
          30.88888888888889,
          30.88888888888889,
          30.88888888888889,
          30.88888888888889,
          30.88888888888889,
          30.944444444444443,
          30.944444444444443,
          30.944444444444443,
          30.944444444444443,
          30.944444444444443,
          30.944444444444443,
          30.944444444444443,
          30.944444444444443,
          30.944444444444443,
          30.944444444444443,
          31,
          31,
          31,
          31,
          31,
          31,
          31,
          31,
          31,
          31
         ],
         "legendgroup": "rural",
         "lon": [
          -96.5,
          -96.44444444444444,
          -96.38888888888889,
          -96.33333333333333,
          -96.27777777777777,
          -96.22222222222223,
          -96.16666666666667,
          -96.11111111111111,
          -96.05555555555556,
          -96,
          -96.5,
          -96.44444444444444,
          -96.38888888888889,
          -96.33333333333333,
          -96.27777777777777,
          -96.22222222222223,
          -96.16666666666667,
          -96.11111111111111,
          -96.05555555555556,
          -96,
          -96.5,
          -96.44444444444444,
          -96.38888888888889,
          -96.33333333333333,
          -96.27777777777777,
          -96.22222222222223,
          -96.16666666666667,
          -96.11111111111111,
          -96.05555555555556,
          -96,
          -96.5,
          -96.44444444444444,
          -96.38888888888889,
          -96.33333333333333,
          -96.27777777777777,
          -96.22222222222223,
          -96.16666666666667,
          -96.11111111111111,
          -96.05555555555556,
          -96,
          -96.5,
          -96.44444444444444,
          -96.38888888888889,
          -96.33333333333333,
          -96.27777777777777,
          -96.22222222222223,
          -96.16666666666667,
          -96.11111111111111,
          -96.05555555555556,
          -96,
          -96.5,
          -96.44444444444444,
          -96.38888888888889,
          -96.33333333333333,
          -96.27777777777777,
          -96.22222222222223,
          -96.16666666666667,
          -96.11111111111111,
          -96.05555555555556,
          -96,
          -96.5,
          -96.44444444444444,
          -96.38888888888889,
          -96.33333333333333,
          -96.27777777777777,
          -96.22222222222223,
          -96.16666666666667,
          -96.11111111111111,
          -96.05555555555556,
          -96,
          -96.5,
          -96.44444444444444,
          -96.38888888888889,
          -96.33333333333333,
          -96.27777777777777,
          -96.22222222222223,
          -96.16666666666667,
          -96.11111111111111,
          -96.05555555555556,
          -96,
          -96.5,
          -96.44444444444444,
          -96.38888888888889,
          -96.33333333333333,
          -96.27777777777777,
          -96.22222222222223,
          -96.16666666666667,
          -96.11111111111111,
          -96.05555555555556,
          -96,
          -96.5,
          -96.44444444444444,
          -96.38888888888889,
          -96.33333333333333,
          -96.27777777777777,
          -96.22222222222223,
          -96.16666666666667,
          -96.11111111111111,
          -96.05555555555556,
          -96
         ],
         "marker": {
          "color": "#EF553B"
         },
         "mode": "markers",
         "name": "rural",
         "showlegend": true,
         "subplot": "mapbox",
         "type": "scattermapbox"
        }
       ],
       "layout": {
        "height": 600,
        "legend": {
         "orientation": "h",
         "title": {
          "text": "Region"
         },
         "tracegroupgap": 0,
         "x": 0,
         "xanchor": "left",
         "y": 1.05,
         "yanchor": "top"
        },
        "mapbox": {
         "center": {
          "lat": 30.27478,
          "lon": -95.80126999999999
         },
         "domain": {
          "x": [
           0,
           1
          ],
          "y": [
           0,
           1
          ]
         },
         "style": "carto-positron",
         "zoom": 8
        },
        "margin": {
         "b": 0,
         "l": 0,
         "r": 0,
         "t": 100
        },
        "template": {
         "data": {
          "bar": [
           {
            "error_x": {
             "color": "#2a3f5f"
            },
            "error_y": {
             "color": "#2a3f5f"
            },
            "marker": {
             "line": {
              "color": "#E5ECF6",
              "width": 0.5
             },
             "pattern": {
              "fillmode": "overlay",
              "size": 10,
              "solidity": 0.2
             }
            },
            "type": "bar"
           }
          ],
          "barpolar": [
           {
            "marker": {
             "line": {
              "color": "#E5ECF6",
              "width": 0.5
             },
             "pattern": {
              "fillmode": "overlay",
              "size": 10,
              "solidity": 0.2
             }
            },
            "type": "barpolar"
           }
          ],
          "carpet": [
           {
            "aaxis": {
             "endlinecolor": "#2a3f5f",
             "gridcolor": "white",
             "linecolor": "white",
             "minorgridcolor": "white",
             "startlinecolor": "#2a3f5f"
            },
            "baxis": {
             "endlinecolor": "#2a3f5f",
             "gridcolor": "white",
             "linecolor": "white",
             "minorgridcolor": "white",
             "startlinecolor": "#2a3f5f"
            },
            "type": "carpet"
           }
          ],
          "choropleth": [
           {
            "colorbar": {
             "outlinewidth": 0,
             "ticks": ""
            },
            "type": "choropleth"
           }
          ],
          "contour": [
           {
            "colorbar": {
             "outlinewidth": 0,
             "ticks": ""
            },
            "colorscale": [
             [
              0,
              "#0d0887"
             ],
             [
              0.1111111111111111,
              "#46039f"
             ],
             [
              0.2222222222222222,
              "#7201a8"
             ],
             [
              0.3333333333333333,
              "#9c179e"
             ],
             [
              0.4444444444444444,
              "#bd3786"
             ],
             [
              0.5555555555555556,
              "#d8576b"
             ],
             [
              0.6666666666666666,
              "#ed7953"
             ],
             [
              0.7777777777777778,
              "#fb9f3a"
             ],
             [
              0.8888888888888888,
              "#fdca26"
             ],
             [
              1,
              "#f0f921"
             ]
            ],
            "type": "contour"
           }
          ],
          "contourcarpet": [
           {
            "colorbar": {
             "outlinewidth": 0,
             "ticks": ""
            },
            "type": "contourcarpet"
           }
          ],
          "heatmap": [
           {
            "colorbar": {
             "outlinewidth": 0,
             "ticks": ""
            },
            "colorscale": [
             [
              0,
              "#0d0887"
             ],
             [
              0.1111111111111111,
              "#46039f"
             ],
             [
              0.2222222222222222,
              "#7201a8"
             ],
             [
              0.3333333333333333,
              "#9c179e"
             ],
             [
              0.4444444444444444,
              "#bd3786"
             ],
             [
              0.5555555555555556,
              "#d8576b"
             ],
             [
              0.6666666666666666,
              "#ed7953"
             ],
             [
              0.7777777777777778,
              "#fb9f3a"
             ],
             [
              0.8888888888888888,
              "#fdca26"
             ],
             [
              1,
              "#f0f921"
             ]
            ],
            "type": "heatmap"
           }
          ],
          "heatmapgl": [
           {
            "colorbar": {
             "outlinewidth": 0,
             "ticks": ""
            },
            "colorscale": [
             [
              0,
              "#0d0887"
             ],
             [
              0.1111111111111111,
              "#46039f"
             ],
             [
              0.2222222222222222,
              "#7201a8"
             ],
             [
              0.3333333333333333,
              "#9c179e"
             ],
             [
              0.4444444444444444,
              "#bd3786"
             ],
             [
              0.5555555555555556,
              "#d8576b"
             ],
             [
              0.6666666666666666,
              "#ed7953"
             ],
             [
              0.7777777777777778,
              "#fb9f3a"
             ],
             [
              0.8888888888888888,
              "#fdca26"
             ],
             [
              1,
              "#f0f921"
             ]
            ],
            "type": "heatmapgl"
           }
          ],
          "histogram": [
           {
            "marker": {
             "pattern": {
              "fillmode": "overlay",
              "size": 10,
              "solidity": 0.2
             }
            },
            "type": "histogram"
           }
          ],
          "histogram2d": [
           {
            "colorbar": {
             "outlinewidth": 0,
             "ticks": ""
            },
            "colorscale": [
             [
              0,
              "#0d0887"
             ],
             [
              0.1111111111111111,
              "#46039f"
             ],
             [
              0.2222222222222222,
              "#7201a8"
             ],
             [
              0.3333333333333333,
              "#9c179e"
             ],
             [
              0.4444444444444444,
              "#bd3786"
             ],
             [
              0.5555555555555556,
              "#d8576b"
             ],
             [
              0.6666666666666666,
              "#ed7953"
             ],
             [
              0.7777777777777778,
              "#fb9f3a"
             ],
             [
              0.8888888888888888,
              "#fdca26"
             ],
             [
              1,
              "#f0f921"
             ]
            ],
            "type": "histogram2d"
           }
          ],
          "histogram2dcontour": [
           {
            "colorbar": {
             "outlinewidth": 0,
             "ticks": ""
            },
            "colorscale": [
             [
              0,
              "#0d0887"
             ],
             [
              0.1111111111111111,
              "#46039f"
             ],
             [
              0.2222222222222222,
              "#7201a8"
             ],
             [
              0.3333333333333333,
              "#9c179e"
             ],
             [
              0.4444444444444444,
              "#bd3786"
             ],
             [
              0.5555555555555556,
              "#d8576b"
             ],
             [
              0.6666666666666666,
              "#ed7953"
             ],
             [
              0.7777777777777778,
              "#fb9f3a"
             ],
             [
              0.8888888888888888,
              "#fdca26"
             ],
             [
              1,
              "#f0f921"
             ]
            ],
            "type": "histogram2dcontour"
           }
          ],
          "mesh3d": [
           {
            "colorbar": {
             "outlinewidth": 0,
             "ticks": ""
            },
            "type": "mesh3d"
           }
          ],
          "parcoords": [
           {
            "line": {
             "colorbar": {
              "outlinewidth": 0,
              "ticks": ""
             }
            },
            "type": "parcoords"
           }
          ],
          "pie": [
           {
            "automargin": true,
            "type": "pie"
           }
          ],
          "scatter": [
           {
            "fillpattern": {
             "fillmode": "overlay",
             "size": 10,
             "solidity": 0.2
            },
            "type": "scatter"
           }
          ],
          "scatter3d": [
           {
            "line": {
             "colorbar": {
              "outlinewidth": 0,
              "ticks": ""
             }
            },
            "marker": {
             "colorbar": {
              "outlinewidth": 0,
              "ticks": ""
             }
            },
            "type": "scatter3d"
           }
          ],
          "scattercarpet": [
           {
            "marker": {
             "colorbar": {
              "outlinewidth": 0,
              "ticks": ""
             }
            },
            "type": "scattercarpet"
           }
          ],
          "scattergeo": [
           {
            "marker": {
             "colorbar": {
              "outlinewidth": 0,
              "ticks": ""
             }
            },
            "type": "scattergeo"
           }
          ],
          "scattergl": [
           {
            "marker": {
             "colorbar": {
              "outlinewidth": 0,
              "ticks": ""
             }
            },
            "type": "scattergl"
           }
          ],
          "scattermapbox": [
           {
            "marker": {
             "colorbar": {
              "outlinewidth": 0,
              "ticks": ""
             }
            },
            "type": "scattermapbox"
           }
          ],
          "scatterpolar": [
           {
            "marker": {
             "colorbar": {
              "outlinewidth": 0,
              "ticks": ""
             }
            },
            "type": "scatterpolar"
           }
          ],
          "scatterpolargl": [
           {
            "marker": {
             "colorbar": {
              "outlinewidth": 0,
              "ticks": ""
             }
            },
            "type": "scatterpolargl"
           }
          ],
          "scatterternary": [
           {
            "marker": {
             "colorbar": {
              "outlinewidth": 0,
              "ticks": ""
             }
            },
            "type": "scatterternary"
           }
          ],
          "surface": [
           {
            "colorbar": {
             "outlinewidth": 0,
             "ticks": ""
            },
            "colorscale": [
             [
              0,
              "#0d0887"
             ],
             [
              0.1111111111111111,
              "#46039f"
             ],
             [
              0.2222222222222222,
              "#7201a8"
             ],
             [
              0.3333333333333333,
              "#9c179e"
             ],
             [
              0.4444444444444444,
              "#bd3786"
             ],
             [
              0.5555555555555556,
              "#d8576b"
             ],
             [
              0.6666666666666666,
              "#ed7953"
             ],
             [
              0.7777777777777778,
              "#fb9f3a"
             ],
             [
              0.8888888888888888,
              "#fdca26"
             ],
             [
              1,
              "#f0f921"
             ]
            ],
            "type": "surface"
           }
          ],
          "table": [
           {
            "cells": {
             "fill": {
              "color": "#EBF0F8"
             },
             "line": {
              "color": "white"
             }
            },
            "header": {
             "fill": {
              "color": "#C8D4E3"
             },
             "line": {
              "color": "white"
             }
            },
            "type": "table"
           }
          ]
         },
         "layout": {
          "annotationdefaults": {
           "arrowcolor": "#2a3f5f",
           "arrowhead": 0,
           "arrowwidth": 1
          },
          "autotypenumbers": "strict",
          "coloraxis": {
           "colorbar": {
            "outlinewidth": 0,
            "ticks": ""
           }
          },
          "colorscale": {
           "diverging": [
            [
             0,
             "#8e0152"
            ],
            [
             0.1,
             "#c51b7d"
            ],
            [
             0.2,
             "#de77ae"
            ],
            [
             0.3,
             "#f1b6da"
            ],
            [
             0.4,
             "#fde0ef"
            ],
            [
             0.5,
             "#f7f7f7"
            ],
            [
             0.6,
             "#e6f5d0"
            ],
            [
             0.7,
             "#b8e186"
            ],
            [
             0.8,
             "#7fbc41"
            ],
            [
             0.9,
             "#4d9221"
            ],
            [
             1,
             "#276419"
            ]
           ],
           "sequential": [
            [
             0,
             "#0d0887"
            ],
            [
             0.1111111111111111,
             "#46039f"
            ],
            [
             0.2222222222222222,
             "#7201a8"
            ],
            [
             0.3333333333333333,
             "#9c179e"
            ],
            [
             0.4444444444444444,
             "#bd3786"
            ],
            [
             0.5555555555555556,
             "#d8576b"
            ],
            [
             0.6666666666666666,
             "#ed7953"
            ],
            [
             0.7777777777777778,
             "#fb9f3a"
            ],
            [
             0.8888888888888888,
             "#fdca26"
            ],
            [
             1,
             "#f0f921"
            ]
           ],
           "sequentialminus": [
            [
             0,
             "#0d0887"
            ],
            [
             0.1111111111111111,
             "#46039f"
            ],
            [
             0.2222222222222222,
             "#7201a8"
            ],
            [
             0.3333333333333333,
             "#9c179e"
            ],
            [
             0.4444444444444444,
             "#bd3786"
            ],
            [
             0.5555555555555556,
             "#d8576b"
            ],
            [
             0.6666666666666666,
             "#ed7953"
            ],
            [
             0.7777777777777778,
             "#fb9f3a"
            ],
            [
             0.8888888888888888,
             "#fdca26"
            ],
            [
             1,
             "#f0f921"
            ]
           ]
          },
          "colorway": [
           "#636efa",
           "#EF553B",
           "#00cc96",
           "#ab63fa",
           "#FFA15A",
           "#19d3f3",
           "#FF6692",
           "#B6E880",
           "#FF97FF",
           "#FECB52"
          ],
          "font": {
           "color": "#2a3f5f"
          },
          "geo": {
           "bgcolor": "white",
           "lakecolor": "white",
           "landcolor": "#E5ECF6",
           "showlakes": true,
           "showland": true,
           "subunitcolor": "white"
          },
          "hoverlabel": {
           "align": "left"
          },
          "hovermode": "closest",
          "mapbox": {
           "style": "light"
          },
          "paper_bgcolor": "white",
          "plot_bgcolor": "#E5ECF6",
          "polar": {
           "angularaxis": {
            "gridcolor": "white",
            "linecolor": "white",
            "ticks": ""
           },
           "bgcolor": "#E5ECF6",
           "radialaxis": {
            "gridcolor": "white",
            "linecolor": "white",
            "ticks": ""
           }
          },
          "scene": {
           "xaxis": {
            "backgroundcolor": "#E5ECF6",
            "gridcolor": "white",
            "gridwidth": 2,
            "linecolor": "white",
            "showbackground": true,
            "ticks": "",
            "zerolinecolor": "white"
           },
           "yaxis": {
            "backgroundcolor": "#E5ECF6",
            "gridcolor": "white",
            "gridwidth": 2,
            "linecolor": "white",
            "showbackground": true,
            "ticks": "",
            "zerolinecolor": "white"
           },
           "zaxis": {
            "backgroundcolor": "#E5ECF6",
            "gridcolor": "white",
            "gridwidth": 2,
            "linecolor": "white",
            "showbackground": true,
            "ticks": "",
            "zerolinecolor": "white"
           }
          },
          "shapedefaults": {
           "line": {
            "color": "#2a3f5f"
           }
          },
          "ternary": {
           "aaxis": {
            "gridcolor": "white",
            "linecolor": "white",
            "ticks": ""
           },
           "baxis": {
            "gridcolor": "white",
            "linecolor": "white",
            "ticks": ""
           },
           "bgcolor": "#E5ECF6",
           "caxis": {
            "gridcolor": "white",
            "linecolor": "white",
            "ticks": ""
           }
          },
          "title": {
           "x": 0.05
          },
          "xaxis": {
           "automargin": true,
           "gridcolor": "white",
           "linecolor": "white",
           "ticks": "",
           "title": {
            "standoff": 15
           },
           "zerolinecolor": "white",
           "zerolinewidth": 2
          },
          "yaxis": {
           "automargin": true,
           "gridcolor": "white",
           "linecolor": "white",
           "ticks": "",
           "title": {
            "standoff": 15
           },
           "zerolinecolor": "white",
           "zerolinewidth": 2
          }
         }
        },
        "title": {
         "text": "Preview of Selected Bounding Boxes"
        },
        "width": 600
       }
      }
     },
     "metadata": {},
     "output_type": "display_data"
    }
   ],
   "source": [
    "## Plot the region suggested\n",
    "fig = px.scatter_mapbox(coords_df, lat=\"Latitude\", lon=\"Longitude\", color='Region',\n",
    "                        # color_continuous_scale=\"Viridis\", \n",
    "                        mapbox_style=\"carto-positron\",\n",
    "                        title=\"Preview of Selected Bounding Boxes\",\n",
    "                        height=600, width=600)\n",
    "\n",
    "# Remove left and right side margins\n",
    "fig.update_layout(\n",
    "    margin={\"r\":0, \"l\":0,'b':0, 't':100},\n",
    "    legend={'orientation':\"h\", 'yanchor':\"top\", 'y':1.05, 'xanchor':\"left\", 'x':0},\n",
    "    \n",
    ")\n",
    "\n",
    "fig.show()\n",
    "## Save fig for README\n",
    "fig.write_image(f\"{img_dir}selected_regions.png\")"
   ]
  },
  {
   "cell_type": "markdown",
   "metadata": {},
   "source": [
    "If we are happy with the coordinates, we will proceed with using the Earth Data API `TO DO GET RIGHT NAME` to download the corresponding MODIS data."
   ]
  },
  {
   "cell_type": "code",
   "execution_count": null,
   "metadata": {},
   "outputs": [],
   "source": []
  },
  {
   "cell_type": "markdown",
   "metadata": {},
   "source": [
    "# DECISION: Download Data next or LangChain Next?"
   ]
  },
  {
   "cell_type": "markdown",
   "metadata": {},
   "source": [
    "## Download Data from NASA's Earth Data API  (`To Do: granules endpoint?`)"
   ]
  },
  {
   "cell_type": "markdown",
   "metadata": {},
   "source": [
    "Now that we have the parameters for the locations, we need to ask the NASA Earthdata API for the data  "
   ]
  },
  {
   "cell_type": "markdown",
   "metadata": {},
   "source": [
    "#### Sign up For NASA's Earth Data Api\n",
    "\n",
    "To use the NASA Earthdata API with a token, you need to generate a token from the NASA Earthdata Login (EDL) and use it in your API requests.\n",
    "\n",
    "\n",
    "\n",
    "#### Step-by-Step Guide\n",
    "\n",
    "1. **Generate a Token from NASA Earthdata Login:**\n",
    "   - Log in to your [NASA Earthdata Login](https://urs.earthdata.nasa.gov).\n",
    "   - Navigate to the \"My Profile\" section.\n",
    "   - Generate a new token under the \"User Profile\" section.\n",
    "   - Save the crednetials in a .json file on your local machine. \n",
    "    > - Note: if you store this file within a repository, make sure to add the credentials file to your `.gitignore`!"
   ]
  },
  {
   "cell_type": "code",
   "execution_count": null,
   "metadata": {},
   "outputs": [
    {
     "name": "stdout",
     "output_type": "stream",
     "text": [
      "dict_keys(['username', 'password', 'token'])\n"
     ]
    }
   ],
   "source": [
    "import json\n",
    "# where we stored the token locally on our PC\n",
    "creds_json = \"./earthdata_creds.json\"\n",
    "with open(creds_json) as f:\n",
    "    creds = json.load(f)\n",
    "print(creds.keys())\n",
    "\n",
    "# Your NASA Earthdata token\n",
    "token = creds['token']"
   ]
  },
  {
   "cell_type": "markdown",
   "metadata": {},
   "source": [
    "\n",
    "2. **Use the Token in Your API Requests:**\n",
    "   - Use the generated token in the `Authorization: Bearer` header of your API requests."
   ]
  },
  {
   "cell_type": "code",
   "execution_count": null,
   "metadata": {},
   "outputs": [],
   "source": [
    "def search_and_download(region_name, bounding_box, time_range, token, dest_folder='./data/MODIS-LST/',\n",
    "                        force_download=False, verbose=True):\n",
    "    \"\"\"\n",
    "    Searches for granules using the NASA Earthdata API and downloads the data files for a given region.\n",
    "\n",
    "    Args:\n",
    "        region_name (str): The name of the region.\n",
    "        bounding_box (dict): The bounding box coordinates of the region in the format {'SW': [lat, lon], 'NE': [lat, lon]}.\n",
    "        time_range (dict): The temporal range of the data in the format {'start': 'YYYY-MM-DD', 'end': 'YYYY-MM-DD'}.\n",
    "        token (str): The access token for the NASA Earthdata API.\n",
    "        dest_folder (str, optional): The destination folder to save the downloaded data files. Defaults to './data/MODIS-LST/'.\n",
    "\n",
    "    Returns:\n",
    "        list: A list of dictionaries containing the region name and the URL of each downloaded data file.\n",
    "    \"\"\"\n",
    "    # Authorization header with the token\n",
    "    headers = {\n",
    "            'Authorization': f'Bearer {token}'\n",
    "        }\n",
    "\n",
    "    # Base URL for searching granules\n",
    "    search_url = 'https://cmr.earthdata.nasa.gov/search/granules.json'\n",
    "    \n",
    "    # Pagination settings\n",
    "    page_size = 10\n",
    "    page_num = 1\n",
    "    total_hits = None\n",
    "\n",
    "    # List to store entries and links\n",
    "    entries_links = []\n",
    "\n",
    "    while True:\n",
    "        # Set up the parameters for the search query\n",
    "        params = {\n",
    "            'short_name': 'MOD11A2',  # Dataset short name\n",
    "            'version': '061',         # Dataset version\n",
    "            'temporal': f\"{time_range['start']},{time_range['end']}\",  # Temporal range\n",
    "            'bounding_box': f\"{bounding_box['SW'][1]},{bounding_box['SW'][0]},{bounding_box['NE'][1]},{bounding_box['NE'][0]}\",  # Bounding box coordinates\n",
    "            'page_size': page_size,   # Number of results per page\n",
    "            'page_num': page_num      # Current page number\n",
    "        }\n",
    "        \n",
    "        # Send the request to the NASA Earthdata API\n",
    "        response = requests.get(search_url, params=params, headers=headers)\n",
    "\n",
    "        if response.status_code == 200:\n",
    "            # Parse the JSON response\n",
    "            data = response.json()\n",
    "            \n",
    "            # Determine the total number of hits on the first request\n",
    "            if total_hits is None:\n",
    "                total_hits = int(response.headers.get('CMR-Hits', 0))\n",
    "                print(f\"Total hits for {region_name}: {total_hits}\")\n",
    "\n",
    "            # Check if there are entries in the response\n",
    "            if data['feed']['entry']:\n",
    "                for entry in data['feed']['entry']:\n",
    "                    # Extract relevant metadata from each entry\n",
    "                    granule_id = entry.get('id', 'N/A')\n",
    "                    dataset_id = entry.get('dataset_id', 'N/A')\n",
    "                    start_time = entry.get('time_start', 'N/A')\n",
    "                    end_time = entry.get('time_end', 'N/A')\n",
    "                    spatial_extent = entry.get('boxes', ['N/A'])[0]\n",
    "                    \n",
    "                    \n",
    "                    # Extract the data links for downloading\n",
    "                    data_links = [link['href'] for link in entry['links'] if 'data#' in link['rel']]\n",
    "                    \n",
    "                    # Download each data link and store the entries and links\n",
    "                    for url in data_links:\n",
    "                        dir_for_dl = os.path.join(dest_folder, region_name)\n",
    "                        # Define the filename based on the URL (to check if the file is a directory)\n",
    "                        filename = os.path.join(dir_for_dl,#dest_folder, \n",
    "                                                url.split('/')[-1])\n",
    "                        \n",
    "                        # Check if directory\n",
    "                        if os.path.isdir(filename):\n",
    "                            if verbose:\n",
    "                                print(f\"- Skipping directory {filename}\")\n",
    "                            continue\n",
    "                        \n",
    "                        if \"s3credentials\" in filename:\n",
    "                            if verbose:\n",
    "                                print(f\"- Skipping S3 credentials link {filename}\")\n",
    "                            continue\n",
    "                        \n",
    "                        if '?p' in filename:\n",
    "                            if verbose:\n",
    "                                print(f\"- Skipping link with query parameters {filename}\")\n",
    "                            continue\n",
    "                        # Remove question marks\n",
    "                        filename = filename.replace(\"?\", \"-\")\n",
    "                        \n",
    "                        # Use the helper function to download the file\n",
    "                        filepath = download_file(url, dir_for_dl, token, force_download=force_download, \n",
    "                                                 verbose=verbose # Always be verbose for download\n",
    "                                                 )\n",
    "                        # Add the entry to the list\n",
    "                        entries_links.append({'region': region_name, 'url': url,\"fpath\":filepath, 'granule_id': granule_id, 'dataset_id': dataset_id,\n",
    "                                            'start_time': start_time, 'end_time': end_time, 'spatial_extent': spatial_extent})\n",
    "            else:\n",
    "                print(f\"\\n[!] No entries found for region: {region_name}\")\n",
    "\n",
    "            # Check if we have fetched all results\n",
    "            if page_num * page_size >= total_hits:\n",
    "                break\n",
    "            else:\n",
    "                page_num += 1\n",
    "        else:\n",
    "            print(f\"\\n[!] Error: {response.status_code} - {response.text}\")\n",
    "            break\n",
    "\n",
    "    return entries_links"
   ]
  },
  {
   "cell_type": "code",
   "execution_count": null,
   "metadata": {},
   "outputs": [],
   "source": [
    "def download_file(url, dest_folder, token, force_download=False, verbose=True):\n",
    "    \"\"\"\n",
    "    Downloads a file from the given URL and saves it to the specified destination folder.\n",
    "\n",
    "    Args:\n",
    "        url (str): The URL of the file to download.\n",
    "        dest_folder (str): The destination folder where the file will be saved.\n",
    "        token (str): The authorization token for accessing the file.\n",
    "        force_download (bool, optional): If set to True, the file will be downloaded even if it already exists in the destination folder. Defaults to False.\n",
    "\n",
    "    Returns:\n",
    "        str: The path of the downloaded file.\n",
    "\n",
    "    Raises:\n",
    "        None\n",
    "\n",
    "    \"\"\"\n",
    "    # Create the destination folder if it doesn't exist\n",
    "    if not os.path.exists(dest_folder):\n",
    "        os.makedirs(dest_folder)\n",
    "    \n",
    "    # Define the filename based on the URL\n",
    "    filename = os.path.join(dest_folder, url.split('/')[-1])\n",
    "    \n",
    "    # Check if the file already exists\n",
    "    if os.path.exists(filename) and not force_download:\n",
    "        if verbose:\n",
    "            print(f\"- File {filename} already exists, skipping download.\")\n",
    "        return filename\n",
    "\n",
    "    # Authorization header with the token\n",
    "    headers = {\n",
    "        'Authorization': f'Bearer {token}'\n",
    "    }\n",
    "    \n",
    "    try:\n",
    "        # Send the request to download the file\n",
    "        response = requests.get(url, headers=headers)\n",
    "        \n",
    "    except Exception as e:\n",
    "        print(f\"- [!] An error occurred while downloading {url}: {e}\")\n",
    "        return\n",
    "    \n",
    "    # Save the file if the request is successful\n",
    "    if response.status_code == 200:\n",
    "        with open(filename, 'wb') as f:\n",
    "            f.write(response.content)\n",
    "        # if verbose:\n",
    "        print(f\"- Downloaded {filename}\")\n",
    "    else:\n",
    "        print(f\"- [!] Failed to download {url}: {response.status_code}\")\n",
    "    \n",
    "    return filename"
   ]
  },
  {
   "cell_type": "code",
   "execution_count": null,
   "metadata": {},
   "outputs": [
    {
     "data": {
      "text/plain": [
       "'./data/MODIS-LST/Atlanta_GA/'"
      ]
     },
     "metadata": {},
     "output_type": "display_data"
    }
   ],
   "source": [
    "# Set DATA_DIR using region name from data params\n",
    "region_name = data_params['city_region_name'].replace(',','_').replace(' ','')\n",
    "DATA_DIR = f\"./data/MODIS-LST/{region_name}/\"\n",
    "DATA_DIR"
   ]
  },
  {
   "cell_type": "code",
   "execution_count": null,
   "metadata": {},
   "outputs": [],
   "source": [
    "# List to store all entries and links\n",
    "all_entries_links = []\n",
    "\n",
    "# Iterate through the regions and download data\n",
    "for region_name, bounding_box in data_params['coordinates'].items():\n",
    "    # group_links=  []\n",
    "    entries_links = search_and_download(region_name, bounding_box, \n",
    "                                        data_params['time'], \n",
    "                                        token=creds['token'],\n",
    "                                        dest_folder=DATA_DIR, \n",
    "                                        force_download=False, \n",
    "                                        verbose=False # new verbose flag\n",
    "                                        )\n",
    "    all_entries_links.extend(entries_links)\n",
    "    print('\\n\\n')"
   ]
  },
  {
   "cell_type": "markdown",
   "metadata": {},
   "source": [
    "The processing code for working with the downloaded files is beyond the scope of this blog post. However, suffice it to say that there may be data quality issues or other challenges that need to be addressed. \n",
    "\n",
    "For example, the downloaded files may contain a large amount of missing or corrupted data. These issues can be addressed using a combination of data preprocessing techniques, data cleaning methods, and data transformation tools. However, if we can adjust our starting parameters dynamically, we can find parameters with fewer issues, allowing a cleaner analysis.\n",
    "\n",
    "To do so, we will leverage the OpenAI API with LangChain to query ChatGPT for new suggested parameters from within our notebook."
   ]
  },
  {
   "cell_type": "markdown",
   "metadata": {},
   "source": [
    "## Getting New Suggested Parameters from OpenAI "
   ]
  },
  {
   "cell_type": "code",
   "execution_count": null,
   "metadata": {},
   "outputs": [],
   "source": []
  },
  {
   "cell_type": "markdown",
   "metadata": {},
   "source": [
    "### Setting Up OpenAI + LangChain"
   ]
  },
  {
   "cell_type": "markdown",
   "metadata": {},
   "source": [
    "1. **Sign up for OpenAI's API:** \n",
    "   - Visit the [OpenAI website](https://www.openai.com) and sign up for an API key.\n",
    "\n",
    "2. **Create a `.secret` folder:**\n",
    "   ```bash\n",
    "   cd ~\n",
    "   mkdir .secret\n",
    "   ```\n",
    "\n",
    "3. **Save your API key as a text file in the `.secret` folder:**\n",
    "   - Open a text editor and paste your API key.\n",
    "   - Save the file as `open-ai.txt` in the `.secret` folder. For example, you can use the following command in the terminal to create the file and save the API key:\n",
    "   ```bash\n",
    "   echo \"your_openai_api_key_here\" > ~/.secret/open-ai.txt\n",
    "   ```\n",
    "\n",
    "4. **Export the key from the file to your `.bash_profile` or `.zshrc`:**\n",
    "   - Open your `.bash_profile` for editing:\n",
    "   ```bash\n",
    "   code ~/.bash_profile\n",
    "   ```\n",
    "   If using zsh, use: \n",
    "   ```bash\n",
    "   code ~/.zshrc\n",
    "   ```\n",
    "   - Add the following line to export the API key:\n",
    "   ```bash\n",
    "   export OPENAI_API_KEY=$(cat ~/.secret/open-ai.txt)\n",
    "   ```\n",
    "   - Save the file and exit the editor \n",
    "\n",
    "5. **Reload your `.bash_profile` to apply the changes:**\n",
    "   ```bash\n",
    "   source ~/.bash_profile\n",
    "   ```\n",
    "   If you're using zsh:\n",
    "   ```bash\n",
    "   source ~/.zshrc\n",
    "   ```\n",
    "\n",
    "After following these steps, your API key will be available in your environment variables as `OPENAI_API_KEY`.\n",
    "\n",
    "You can confirm this with Python by importing the `os` module and checking the `os.environ` dictionary for 'OPENAI_API_KEY'.\n"
   ]
  },
  {
   "cell_type": "code",
   "execution_count": 1,
   "metadata": {},
   "outputs": [
    {
     "data": {
      "text/plain": [
       "True"
      ]
     },
     "execution_count": 1,
     "metadata": {},
     "output_type": "execute_result"
    }
   ],
   "source": [
    "import os\n",
    "'OPENAI_API_KEY' in os.environ"
   ]
  },
  {
   "cell_type": "markdown",
   "metadata": {},
   "source": [
    "\n",
    "> Note: Do NOT display the value of your OPENAI_API_KEY. If you accidentally expose your API credentials, OpenAI will automatically deactivate them, causing any program or app that uses it to break. "
   ]
  },
  {
   "cell_type": "markdown",
   "metadata": {},
   "source": [
    "### Using LangChain with ChatGPT"
   ]
  },
  {
   "cell_type": "code",
   "execution_count": 77,
   "metadata": {},
   "outputs": [],
   "source": [
    "# !pip install langchain_openai langchain_core langchain_community\n"
   ]
  },
  {
   "cell_type": "markdown",
   "metadata": {},
   "source": [
    "Prompt engineering/construction is vital for obtaining high-quality results from any Large Langauge Model (LLM). To get the best suggestions from the API, it is important to provide sufficient context in our prompt/query. "
   ]
  },
  {
   "cell_type": "code",
   "execution_count": 81,
   "metadata": {},
   "outputs": [
    {
     "data": {
      "text/plain": [
       "AIMessage(content='Performing an urban heat island (UHI) analysis using MODIS data is a great way to understand the temperature differences between urban and rural areas. Here’s a step-by-step guide to help you select the regions and time range for your analysis:\\n\\n### Step 1: Select Urban and Rural Regions\\n\\n1. **Identify the Urban Area:**\\n   - Choose a city that is well-documented and has a significant urban footprint. For example, you could select a major city like New York City, Los Angeles, or Chicago in the United States.\\n   - Use geographic coordinates to define the urban area. For instance, for New York City, you might use coordinates that encompass the entire metropolitan area.\\n\\n2. **Identify the Rural Area:**\\n   - Select a rural area that is sufficiently far from the urban area to avoid overlap but close enough to have similar climatic conditions.\\n   - Ensure the rural area is predominantly non-urban, with minimal human development. For example, you could choose a rural area in upstate New York if your urban area is New York City.\\n\\n### Step 2: Define Geographic Coordinates\\n\\n- **Urban Area Example (New York City):**\\n  - Latitude: 40.7128° N\\n  - Longitude: 74.0060° W\\n  - Define a bounding box around the city, e.g., (40.4774° N, 74.2591° W) to (40.9176° N, 73.7004° W).\\n\\n- **Rural Area Example (Upstate New York):**\\n  - Latitude: 42.6526° N\\n  - Longitude: 73.7562° W\\n  - Define a bounding box around a rural area, e.g., (42.0° N, 74.0° W) to (43.0° N, 73.0° W).\\n\\n### Step 3: Select the Time Range\\n\\n- Choose a time range that covers different seasons to capture seasonal variations in temperature. A common approach is to select data for an entire year or multiple years.\\n- For example, you could select data from January 1, 2022, to December 31, 2022.\\n\\n### Step 4: Download MODIS Data\\n\\n1. **Access MODIS Data:**\\n   - Use NASA’s Earthdata Search (https://search.earthdata.nasa.gov/) to access MODIS data.\\n   - You can also use the LP DAAC Data Pool (https://lpdaac.usgs.gov/data_access/data_pool) or the NASA Worldview tool (https://worldview.earthdata.nasa.gov/).\\n\\n2. **Select the Appropriate MODIS Product:**\\n   - For UHI analysis, you might use MODIS Land Surface Temperature (LST) products such as MOD11A2 (Aqua) or MYD11A2 (Terra), which provide 8-day LST data at 1 km resolution.\\n\\n3. **Download Data for the Defined Regions and Time Range:**\\n   - Use the geographic coordinates and time range to filter and download the data.\\n   - Ensure you download data for both the urban and rural regions separately.\\n\\n### Step 5: Process and Analyze the Data\\n\\n- Use GIS software (e.g., QGIS, ArcGIS) or programming languages (e.g., Python with libraries like GDAL, rasterio) to process the downloaded MODIS data.\\n- Calculate the average LST for both urban and rural areas for the selected time range.\\n- Compare the temperature differences to analyze the UHI effect.\\n\\n### Example Coordinates and Time Range\\n\\n- **Urban Area (New York City):**\\n  - Bounding Box: (40.4774° N, 74.2591° W) to (40.9176° N, 73.7004° W)\\n- **Rural Area (Upstate New York):**\\n  - Bounding Box: (42.0° N, 74.0° W) to (43.0° N, 73.0° W)\\n- **Time Range:**\\n  - January 1, 2022, to December 31, 2022\\n\\nBy following these steps, you should be able to select appropriate urban and rural regions and download the necessary MODIS data for your UHI analysis project.', response_metadata={'token_usage': {'completion_tokens': 888, 'prompt_tokens': 69, 'total_tokens': 957}, 'model_name': 'gpt-4o-2024-05-13', 'system_fingerprint': 'fp_400f27fa1f', 'finish_reason': 'stop', 'logprobs': None}, id='run-5ffea550-119f-4d7d-80e4-c46805742e71-0', usage_metadata={'input_tokens': 69, 'output_tokens': 888, 'total_tokens': 957})"
      ]
     },
     "execution_count": 81,
     "metadata": {},
     "output_type": "execute_result"
    }
   ],
   "source": [
    "from langchain_openai import ChatOpenAI \n",
    "chat = ChatOpenAI(api_key=os.environ['OPENAI_API_KEY'], model=\"gpt-4o\", temperature=0.0)\n",
    "\n",
    "prompt = \"\"\"I am performing an urban heat island analysis project with MODIS data comparing urban areas vs. rural areas. \n",
    "I need to download MODIS data for 2 nearby non-overlapping regions (urban area and rural area outside of city) and time range.\n",
    "Help me select the urban and rural regions and time.\n",
    "\"\"\"\n",
    "response = chat.invoke(prompt)\n",
    "response"
   ]
  },
  {
   "cell_type": "code",
   "execution_count": 80,
   "metadata": {},
   "outputs": [
    {
     "data": {
      "text/markdown": [
       "Certainly! Conducting an Urban Heat Island (UHI) analysis using MODIS (Moderate Resolution Imaging Spectroradiometer) data is a great approach. Here’s a step-by-step guide to help you select urban and rural regions and the time range for your analysis.\n",
       "\n",
       "### Step 1: Selecting Urban and Rural Regions\n",
       "\n",
       "**Urban Region:**\n",
       "1. **Identify a City:** Choose a city known for having a significant urban heat island effect. For example, you could select cities like New York, Los Angeles, Beijing, or Delhi.\n",
       "2. **Define the Urban Area:** Use a shapefile or a bounding box that covers the core urban area of the city. You may refer to urban extents or city boundaries available from sources such as the Global Urban Footprint (GUF) or the Global Human Settlement Layer (GHSL).\n",
       "\n",
       "**Rural Region:**\n",
       "1. **Select a Nearby Rural Area:** Choose an area outside the urban boundary with minimal human impact (e.g., farmlands, forests). Ensure this region is at least 10-20 km away from the urban boundary to avoid overlapping influences.\n",
       "2. **Define the Rural Area:** Use a similar shapefile or bounding box approach to define the rural area.\n",
       "\n",
       "### Example Selections:\n",
       "- **Urban Region:**\n",
       "  - City: New York City, USA\n",
       "  - Bounding Box: (40.4774° N, -74.2591° W) to (40.9176° N, -73.7004° W)\n",
       "\n",
       "- **Rural Region:**\n",
       "  - Nearby rural area: Rural region outside New York City, towards the northwest\n",
       "  - Bounding Box: (41.0° N, -74.5° W) to (41.5° N, -74.0° W)\n",
       "\n",
       "### Step 2: Selecting the Time Range\n",
       "\n",
       "1. **Seasonal Analysis:** UHI effects are often more pronounced during the summer. Choose a summer period to observe the maximum temperature differences.\n",
       "2. **Multi-Year Analysis:** To observe trends, it’s beneficial to use data from multiple years. A common range is over a few years, such as 2015-2020.\n",
       "\n",
       "### Example Time Range:\n",
       "- **Start Date:** June 1, 2015\n",
       "- **End Date:** August 31, 2020\n",
       "\n",
       "### Step 3: Downloading MODIS Data\n",
       "\n",
       "1. **MODIS Products:** For UHI analysis, commonly used MODIS products include:\n",
       "   - **MOD11A2:** MODIS/Terra Land Surface Temperature/Emissivity 8-Day L3 Global 1km SIN Grid\n",
       "   - **MYD11A2:** MODIS/Aqua Land Surface Temperature/Emissivity 8-Day L3 Global 1km SIN Grid\n",
       "\n",
       "2. **Data Access:**\n",
       "   - Visit NASA’s Earthdata website [https://earthdata.nasa.gov/](https://earthdata.nasa.gov/)\n",
       "   - Use the Earthdata Search tool [https://search.earthdata.nasa.gov/](https://search.earthdata.nasa.gov/)\n",
       "   - Log in with your Earthdata account (create one if you don't have it).\n",
       "   - Search for MOD11A2 and MYD11A2 products.\n",
       "   - Define your spatial and temporal extents using the bounding box and time range selected above.\n",
       "   - Download data for further analysis.\n",
       "\n",
       "### Step 4: Analysis\n",
       "\n",
       "1. **Preprocessing:** Convert MODIS HDF files to a usable format (e.g., GeoTIFF). Use tools like GDAL or software like QGIS.\n",
       "2. **Extracting Data:** Extract land surface temperature data for your urban and rural regions.\n",
       "3. **Comparative Analysis:** Compare the temperature data between urban and rural regions to quantify the UHI effect.\n",
       "\n",
       "This should help you get started with your UHI analysis project using MODIS data. If you have any more specific questions or need further assistance, feel free to ask!"
      ],
      "text/plain": [
       "<IPython.core.display.Markdown object>"
      ]
     },
     "metadata": {},
     "output_type": "display_data"
    }
   ],
   "source": [
    "# ChatGPT responds with Markdown-stytled text, so we can use IPython's `Markdown` class to render it\n",
    "from IPython.display import Markdown, display\n",
    "display(Markdown(response.content))"
   ]
  },
  {
   "cell_type": "markdown",
   "metadata": {},
   "source": [
    "### Reproducible and Customizable Queries/Prompts"
   ]
  },
  {
   "cell_type": "markdown",
   "metadata": {},
   "source": [
    "We got a lot of great information from our prompt:\n",
    "- We have new coordinates includes in our result,\n",
    "- We have new time period\n",
    "\n",
    "but there are 2 issues to resolve:\n",
    "- Continuing to tweak and iterate on our prompt to get updated results \n",
    "- we received a large amount of unnecessary text, if all we want is the new values for our data_params dictionary. \n",
    "\n",
    "\n",
    "Therefore, we will construct a detailed system prompt that includes a `query` parameter, which is where we will add additional details to our requests. \n"
   ]
  },
  {
   "cell_type": "code",
   "execution_count": null,
   "metadata": {},
   "outputs": [],
   "source": []
  },
  {
   "cell_type": "code",
   "execution_count": null,
   "metadata": {},
   "outputs": [],
   "source": []
  },
  {
   "cell_type": "markdown",
   "metadata": {},
   "source": [
    "### Structured Output"
   ]
  },
  {
   "cell_type": "code",
   "execution_count": null,
   "metadata": {},
   "outputs": [],
   "source": []
  },
  {
   "cell_type": "code",
   "execution_count": null,
   "metadata": {},
   "outputs": [],
   "source": []
  },
  {
   "cell_type": "code",
   "execution_count": null,
   "metadata": {},
   "outputs": [],
   "source": []
  },
  {
   "cell_type": "code",
   "execution_count": null,
   "metadata": {},
   "outputs": [],
   "source": []
  },
  {
   "cell_type": "code",
   "execution_count": 63,
   "metadata": {},
   "outputs": [],
   "source": [
    "## Create a chain for the language model\n",
    "\n",
    "# The prompt template for suggesting data parameters\n",
    "prompt = \"\"\"\n",
    "I am performing an urban heat island analysis project with MODIS data comparing urban areas vs. rural areas. \n",
    "I need to download MODIS data for 2 nearby non-overlapping regions (urban area and rural area outside of city) and time range.\n",
    "Help me select the urban and rural regions and time following the instructions below.\n",
    "{query}\n",
    "Provide me the data parameters for the download (city_region_name, coordinates as SW [lat,long] NE [lat,long], time_start named 'start', time_end named 'end'):\n",
    "\"\"\"\n"
   ]
  },
  {
   "cell_type": "markdown",
   "metadata": {},
   "source": [
    "Instead of using f-strings to construct the final prompt for the language model, we can use `langchain` library to create an LLM chain that automatically formats the prompt with the query provided by the user. We do so by converting our string prompt to a PromptTemplate object using the .from_template method. \n"
   ]
  },
  {
   "cell_type": "code",
   "execution_count": 66,
   "metadata": {},
   "outputs": [],
   "source": [
    "from langchain_core.prompts import PromptTemplate\n"
   ]
  },
  {
   "cell_type": "code",
   "execution_count": 67,
   "metadata": {},
   "outputs": [],
   "source": [
    "\n",
    "from langchain_core.output_parsers import StrOutputParser\n",
    "from pydantic import BaseModel, Field, create_model\n",
    "from typing import List, Optional, Text, Dict\n",
    "\n",
    "# Create a ChatPromptTemplate object\n",
    "final_prompt_template = PromptTemplate.from_template(prompt)\n"
   ]
  },
  {
   "cell_type": "code",
   "execution_count": null,
   "metadata": {},
   "outputs": [],
   "source": [
    "\n",
    "# Get api key for OpenAI from the environment (or you can hardcode it)\n",
    "api_key = os.getenv('OPENAI_API_KEY')    \n",
    "\n",
    "# Instantiate the language model and setting the specific model (chat-gpto is newest and reasonable price)\n",
    "# and  set the temperature (creativity level)\n",
    "llm = ChatOpenAI(temperature=temperature, model=model_type, api_key=api_key)\n",
    "\n",
    "## StrOutputParser will return the response as a string\n",
    "parser = StrOutputParser(output_key=\"response\")\n",
    "\n",
    "# Making the final chain\n",
    "llm_chain = final_prompt_template | llm | parser\n"
   ]
  },
  {
   "cell_type": "code",
   "execution_count": null,
   "metadata": {},
   "outputs": [],
   "source": [
    "\n",
    "    # Invoke the chain with the query to get the response\n",
    "    response = llm_chain.invoke(input=dict(query=query))\n",
    "    return response"
   ]
  },
  {
   "cell_type": "markdown",
   "metadata": {},
   "source": [
    "### Structured Output"
   ]
  },
  {
   "cell_type": "markdown",
   "metadata": {},
   "source": [
    "- Using a Pydantic data model to control structured output of API parameters from ChatGPT."
   ]
  },
  {
   "cell_type": "code",
   "execution_count": null,
   "metadata": {},
   "outputs": [],
   "source": [
    "## Defining the structured output desired from chat gpt\n",
    "## Tip was to use make_model\n",
    "# https://stackoverflow.com/questions/63257839/best-way-to-specify-nested-dict-with-pydantic\n",
    "class Coordinates(BaseModel):\n",
    "    SW: List[float]\n",
    "    NE: List[float]\n",
    "    \n",
    "class RegionCoordinates(BaseModel):\n",
    "    rural: Optional[Coordinates]\n",
    "    urban: Optional[Coordinates]\n",
    "                            \n",
    "class DataParams(BaseModel):\n",
    "    \"\"\"\n",
    "    Represents the parameters for data analysis.\n",
    "\n",
    "    Attributes:\n",
    "        city_region_name (str): The name of the city or region.\n",
    "        coordinates (Optional[RegionCoordinates]): The coordinates of the city or region.\n",
    "        time (Dict[str, str]): A dictionary containing time-related information.\n",
    "    \"\"\"\n",
    "    city_region_name: str\n",
    "    coordinates: Optional[RegionCoordinates]\n",
    "    time: Dict[str, str]"
   ]
  },
  {
   "cell_type": "markdown",
   "metadata": {},
   "source": [
    "### Created a function that asks ChatGPT for suggested parameters"
   ]
  },
  {
   "cell_type": "code",
   "execution_count": null,
   "metadata": {},
   "outputs": [],
   "source": [
    "def suggest_data_params(query: str, temperature=0.0, model_type='gpt-4o',\n",
    "                       return_llm = False, return_json=True) -> str:\n",
    "    \"\"\"\n",
    "    Suggests data parameters for downloading MODIS data for a specific region and time range.\n",
    "    \n",
    "    Args:\n",
    "        query (str): The query describing the requirements for the data download.\n",
    "        temperature (float, optional): The temperature parameter for the language model. Defaults to 0.1.\n",
    "        model_type (str, optional): The type of language model to use. Defaults to 'gpt-4o'.\n",
    "        return_llm (bool, optional): Whether to return the language model chain. Defaults to False.\n",
    "        return_json (bool, optional): Whether to return the response as JSON. Defaults to True.\n",
    "    \n",
    "    Returns:\n",
    "        str: The response from the language model chain or the JSON response, depending on the value of return_json.\n",
    "    \"\"\"\n",
    "    \n",
    "    # The prompt template for suggesting data parameters\n",
    "    prompt = \"\"\"\n",
    "    I am performing an urban heat island analysis project with MODIS data comparing urban areas vs. rural areas. \n",
    "    I need to download MODIS data for 2 nearby non-overlapping regions (urban area and rural area outside of city) and time range.\n",
    "    Help me select the urban and rural regions and time following the instructions below.\n",
    "    {query}\n",
    "    \n",
    "    Provide me the data parameters for the download (city_region_name, coordinates as SW [lat,long] NE [lat,long], time_start named 'start', time_end named 'end') in the following format:\n",
    "    Format Instructions:\n",
    "    Use the 2-letter abbreviations for the state.\n",
    "    {format_instructions}\n",
    "    \"\"\"\n",
    "    # Create a ChatPromptTemplate object\n",
    "    final_prompt_template = PromptTemplate.from_template(prompt)\n",
    "\n",
    "    # Get api key for OpenAI from the environment or session state (if on Streamlit)\n",
    "    try:\n",
    "        api_key = st.session_state.OPENAI_API_KEY\n",
    "    except:\n",
    "        api_key = os.getenv('OPENAI_API_KEY')\n",
    "        \n",
    "    # Instantiate the language model and setting the specific model (chat-gpto is newest and reasonable price)\n",
    "    # and  set the temperature (creativity level)\n",
    "    llm = ChatOpenAI(temperature=temperature, model=model_type, api_key=api_key)\n",
    "    \n",
    "    if return_json:\n",
    "        # # JsonOutputParser will use the data model classes from above\n",
    "        parser = JsonOutputParser(pydantic_object=DataParams,)    \n",
    "        # Add formatting instructions for pydantic\n",
    "        instructions =  parser.get_format_instructions()\n",
    "            \n",
    "    else:\n",
    "        ## StrOutputParser will return the response as a string\n",
    "        parser = StrOutputParser(output_key=\"response\")\n",
    "        # Manually defining the format instructions\n",
    "        instructions = \"Respond with text for each topic as a nested list with the topic number,  descriptive label,top words, and short insight.\"\n",
    "        \n",
    "        \n",
    "    ## Adding the instructions to the prompt template\n",
    "    final_prompt_template = final_prompt_template.partial(format_instructions=instructions)\n",
    "    \n",
    "    \n",
    "    # Making the final chain\n",
    "    llm_chain = final_prompt_template | llm | parser\n",
    "    \n",
    "    # Return the chain if specified\n",
    "    if return_llm:\n",
    "        return llm_chain\n",
    "    else:\n",
    "    \n",
    "        # Invoke the chain with the query to get the response\n",
    "        response = llm_chain.invoke(input=dict(query=query))\n",
    "        return response"
   ]
  },
  {
   "cell_type": "code",
   "execution_count": null,
   "metadata": {},
   "outputs": [
    {
     "data": {
      "text/plain": [
       "{'city_region_name': 'Atlanta, GA',\n",
       " 'coordinates': {'urban': {'SW': [33.640411, -84.442575],\n",
       "   'NE': [33.790411, -84.292575]},\n",
       "  'rural': {'SW': [33.290411, -84.842575], 'NE': [33.440411, -84.692575]}},\n",
       " 'time': {'start': '2023-06-01', 'end': '2023-08-31'},\n",
       " 'coordinates_lat_lon': {'urban': {'lat': [33.640411, 33.790411],\n",
       "   'lon': [-84.442575, -84.292575]},\n",
       "  'rural': {'lat': [33.290411, 33.440411], 'lon': [-84.842575, -84.692575]}}}"
      ]
     },
     "metadata": {},
     "output_type": "display_data"
    }
   ],
   "source": [
    "# GET_NEW_LOCATION = True # moved to top of notebook\n",
    "# Where we are storing our parameters\n",
    "fpath_params = \"./config/data_params.json\"\n",
    "\n",
    "# If we want a new location\n",
    "if GET_NEW_LOCATION:\n",
    "    # prompt = \"\"\"Select a region in the southern USA to avoid political bias/spin \n",
    "    #                                     and a time range to highlight the effects of climate change (like 06/01/2023-08/31/2023).\n",
    "    #                                     Make sure to select a region that does not cover a body of water.\n",
    "    #                                     Select small regions from the selected area to minimize the size of the dataset.\n",
    "    #                                     Do not use Texas.\"\"\"\n",
    "    \n",
    "    prompt = \"\"\"Select a region that will be a perfect example of the effects of urban heat islands.\n",
    "    Select a region in the southern USA to avoid political bias/spin \n",
    "    and a time range to highlight the effects of climate change (like 06/01/2023-08/31/2023).\n",
    "    Make sure to select a region that does not cover a body of water.\n",
    "    Select small identically-sized nearby non-overlapping regions from the selected area to minimize the size of the dataset.\n",
    "    Do not use Texas.\"\"\"\n",
    "\n",
    "    # ask ChatGPT to suggest another set of parameters\n",
    "    chatgpt_params = suggest_data_params(query=prompt, \n",
    "                                        return_json=True, temperature=0.0)\n",
    "\n",
    "\n",
    "else:\n",
    "    # otherwise, use the parameters we already have\n",
    "    with open(fpath_params) as f:\n",
    "        chatgpt_params = json.load(f)\n",
    "\n",
    "chatgpt_params"
   ]
  },
  {
   "cell_type": "code",
   "execution_count": null,
   "metadata": {},
   "outputs": [],
   "source": [
    "\n",
    "data_params = {'city_region_name': 'Atlanta, GA',\n",
    "               'coordinates': {'urban': {'SW': [33.640411, -84.442575],\n",
    "                                         'NE': [33.790411, -84.292575]},\n",
    "                               'rural': {'SW': [33.290411, -84.842575],\n",
    "                                         'NE': [33.440411, -84.692575]}},\n",
    "               'time': {'start': '2023-06-01', 'end': '2023-08-31'},\n",
    "               }\n",
    "data_params"
   ]
  }
 ],
 "metadata": {
  "kernelspec": {
   "display_name": "nasa-env",
   "language": "python",
   "name": "python3"
  },
  "language_info": {
   "codemirror_mode": {
    "name": "ipython",
    "version": 3
   },
   "file_extension": ".py",
   "mimetype": "text/x-python",
   "name": "python",
   "nbconvert_exporter": "python",
   "pygments_lexer": "ipython3",
   "version": "3.11.9"
  }
 },
 "nbformat": 4,
 "nbformat_minor": 2
}
