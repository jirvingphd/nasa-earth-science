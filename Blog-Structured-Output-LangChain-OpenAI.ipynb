{
 "cells": [
  {
   "cell_type": "markdown",
   "metadata": {},
   "source": [
    "# Structured Output with LangChain + OpenAI"
   ]
  },
  {
   "cell_type": "markdown",
   "metadata": {},
   "source": [
    "Introduction:\n",
    "\n",
    "Performing an Urban Heat Island Analysis Project using NASA's EarthData API to access MODIS Land Surface Temperature (LST) data for a major metropolitan area to compare the average temperatures within the dense urban areas vs. the rural areas outside the  city. \n",
    "\n",
    "To do so, we consulted with ChatGPT to select an appropriate city and dates to use that would best show off the contrast between urban vs. rural LST, and extracted a bouding box for an urban area and a rural area located near the same metropolitan area. \n",
    "\n",
    "We then manually saved this information in a parameter dictionary with the following structure, using Python:"
   ]
  },
  {
   "cell_type": "code",
   "execution_count": 1,
   "metadata": {},
   "outputs": [
    {
     "data": {
      "text/plain": [
       "{'city_region_name': 'Houston, TX',\n",
       " 'coordinates': {'urban': {'SW': [29.69193, -95.47998],\n",
       "   'NE': [29.90719, -95.2251]},\n",
       "  'rural': {'SW': [30.5, -96.5], 'NE': [31.0, -96.0]}},\n",
       " 'time': {'start': '2023-06-01T00:00:00Z', 'end': '2023-08-31T23:59:59Z'}}"
      ]
     },
     "execution_count": 1,
     "metadata": {},
     "output_type": "execute_result"
    }
   ],
   "source": [
    "# Starting Parameters (manual)\n",
    "data_params = {'city_region_name':'Houston, TX',\n",
    "               'coordinates': {\n",
    "                   'urban': {\n",
    "                       'SW': [29.69193, -95.47998],\n",
    "                        'NE': [29.90719, -95.2251]\n",
    "                        },\n",
    "                   'rural': {\n",
    "                       'SW': [30.5, -96.5],\n",
    "                       'NE': [31.0, -96.0]\n",
    "                       }\n",
    "                   },\n",
    "               'time': {\n",
    "                   'start': '2023-06-01T00:00:00Z',\n",
    "                   'end': '2023-08-31T23:59:59Z'\n",
    "                   }\n",
    "               }\n",
    "data_params"
   ]
  },
  {
   "cell_type": "code",
   "execution_count": 2,
   "metadata": {},
   "outputs": [],
   "source": [
    "import pandas as pd\n",
    "import plotly.express as px\n",
    "import plotly.graph_objects as go\n",
    "import numpy as np\n",
    "import os, json, requests\n",
    "from pprint import pprint"
   ]
  },
  {
   "cell_type": "code",
   "execution_count": 3,
   "metadata": {},
   "outputs": [],
   "source": [
    "## Plot the region suggested\n",
    "# Function to generate sample points within a bounding box\n",
    "def generate_sample_points(sw, ne, num_points=10):\n",
    "    \"\"\"\n",
    "    Generate sample points within a given bounding box.\n",
    "\n",
    "    Parameters:\n",
    "    - sw (tuple): The southwest coordinates of the bounding box (latitude, longitude).\n",
    "    - ne (tuple): The northeast coordinates of the bounding box (latitude, longitude).\n",
    "    - num_points (int): The number of sample points to generate (default: 10).\n",
    "\n",
    "    Returns:\n",
    "    - list: A list of sample points, where each point is represented as a tuple (latitude, longitude).\n",
    "    \"\"\"\n",
    "    latitudes = [sw[0] + i * (ne[0] - sw[0]) / (num_points - 1) for i in range(num_points)]\n",
    "    longitudes = [sw[1] + i * (ne[1] - sw[1]) / (num_points - 1) for i in range(num_points)]\n",
    "    return [(lat, lon) for lat in latitudes for lon in longitudes]\n"
   ]
  },
  {
   "cell_type": "code",
   "execution_count": 4,
   "metadata": {},
   "outputs": [
    {
     "data": {
      "text/html": [
       "<div>\n",
       "<style scoped>\n",
       "    .dataframe tbody tr th:only-of-type {\n",
       "        vertical-align: middle;\n",
       "    }\n",
       "\n",
       "    .dataframe tbody tr th {\n",
       "        vertical-align: top;\n",
       "    }\n",
       "\n",
       "    .dataframe thead th {\n",
       "        text-align: right;\n",
       "    }\n",
       "</style>\n",
       "<table border=\"1\" class=\"dataframe\">\n",
       "  <thead>\n",
       "    <tr style=\"text-align: right;\">\n",
       "      <th></th>\n",
       "      <th>Region</th>\n",
       "      <th>Latitude</th>\n",
       "      <th>Longitude</th>\n",
       "    </tr>\n",
       "  </thead>\n",
       "  <tbody>\n",
       "    <tr>\n",
       "      <th>0</th>\n",
       "      <td>urban</td>\n",
       "      <td>29.69193</td>\n",
       "      <td>-95.47998</td>\n",
       "    </tr>\n",
       "    <tr>\n",
       "      <th>1</th>\n",
       "      <td>urban</td>\n",
       "      <td>29.69193</td>\n",
       "      <td>-95.45166</td>\n",
       "    </tr>\n",
       "  </tbody>\n",
       "</table>\n",
       "</div>"
      ],
      "text/plain": [
       "  Region  Latitude  Longitude\n",
       "0  urban  29.69193  -95.47998\n",
       "1  urban  29.69193  -95.45166"
      ]
     },
     "metadata": {},
     "output_type": "display_data"
    },
    {
     "data": {
      "text/html": [
       "<div>\n",
       "<style scoped>\n",
       "    .dataframe tbody tr th:only-of-type {\n",
       "        vertical-align: middle;\n",
       "    }\n",
       "\n",
       "    .dataframe tbody tr th {\n",
       "        vertical-align: top;\n",
       "    }\n",
       "\n",
       "    .dataframe thead th {\n",
       "        text-align: right;\n",
       "    }\n",
       "</style>\n",
       "<table border=\"1\" class=\"dataframe\">\n",
       "  <thead>\n",
       "    <tr style=\"text-align: right;\">\n",
       "      <th></th>\n",
       "      <th>Region</th>\n",
       "      <th>Latitude</th>\n",
       "      <th>Longitude</th>\n",
       "    </tr>\n",
       "  </thead>\n",
       "  <tbody>\n",
       "    <tr>\n",
       "      <th>198</th>\n",
       "      <td>rural</td>\n",
       "      <td>31.0</td>\n",
       "      <td>-96.055556</td>\n",
       "    </tr>\n",
       "    <tr>\n",
       "      <th>199</th>\n",
       "      <td>rural</td>\n",
       "      <td>31.0</td>\n",
       "      <td>-96.000000</td>\n",
       "    </tr>\n",
       "  </tbody>\n",
       "</table>\n",
       "</div>"
      ],
      "text/plain": [
       "    Region  Latitude  Longitude\n",
       "198  rural      31.0 -96.055556\n",
       "199  rural      31.0 -96.000000"
      ]
     },
     "metadata": {},
     "output_type": "display_data"
    }
   ],
   "source": [
    "\n",
    "\n",
    "# Dataframe to store results\n",
    "sampled_coordinates = []\n",
    "\n",
    "# Check if any coordinates within the bounding boxes are over sea\n",
    "for region, bounding_box in data_params['coordinates'].items():\n",
    "    # Generate sample points within the bounding box\n",
    "    sample_points = generate_sample_points(bounding_box['SW'], bounding_box['NE'], num_points=10)\n",
    "    for lat, lon in sample_points:\n",
    "        sampled_coordinates.append({'Region': region, 'Latitude': lat, 'Longitude': lon})\n",
    "\n",
    "# Convert results to DataFrame\n",
    "coords_df = pd.DataFrame(sampled_coordinates)\n",
    "display(coords_df.head(2), coords_df.tail(2))"
   ]
  },
  {
   "cell_type": "markdown",
   "metadata": {},
   "source": [
    "We can visualize the selected regions using Plotly Express and generating a range of sample coordinates from the defined regions."
   ]
  },
  {
   "cell_type": "code",
   "execution_count": 5,
   "metadata": {},
   "outputs": [],
   "source": [
    "# ADMIN: DELETE FROM FINAL VERSION\n",
    "img_dir = \"images/blog/\"\n",
    "if not os.path.exists(img_dir):\n",
    "    os.makedirs(img_dir)"
   ]
  },
  {
   "cell_type": "code",
   "execution_count": 32,
   "metadata": {},
   "outputs": [
    {
     "data": {
      "application/vnd.plotly.v1+json": {
       "config": {
        "plotlyServerURL": "https://plot.ly"
       },
       "data": [
        {
         "hovertemplate": "Region=urban<br>Latitude=%{lat}<br>Longitude=%{lon}<extra></extra>",
         "lat": [
          29.69193,
          29.69193,
          29.69193,
          29.69193,
          29.69193,
          29.69193,
          29.69193,
          29.69193,
          29.69193,
          29.69193,
          29.71584777777778,
          29.71584777777778,
          29.71584777777778,
          29.71584777777778,
          29.71584777777778,
          29.71584777777778,
          29.71584777777778,
          29.71584777777778,
          29.71584777777778,
          29.71584777777778,
          29.739765555555554,
          29.739765555555554,
          29.739765555555554,
          29.739765555555554,
          29.739765555555554,
          29.739765555555554,
          29.739765555555554,
          29.739765555555554,
          29.739765555555554,
          29.739765555555554,
          29.763683333333333,
          29.763683333333333,
          29.763683333333333,
          29.763683333333333,
          29.763683333333333,
          29.763683333333333,
          29.763683333333333,
          29.763683333333333,
          29.763683333333333,
          29.763683333333333,
          29.787601111111112,
          29.787601111111112,
          29.787601111111112,
          29.787601111111112,
          29.787601111111112,
          29.787601111111112,
          29.787601111111112,
          29.787601111111112,
          29.787601111111112,
          29.787601111111112,
          29.811518888888887,
          29.811518888888887,
          29.811518888888887,
          29.811518888888887,
          29.811518888888887,
          29.811518888888887,
          29.811518888888887,
          29.811518888888887,
          29.811518888888887,
          29.811518888888887,
          29.835436666666666,
          29.835436666666666,
          29.835436666666666,
          29.835436666666666,
          29.835436666666666,
          29.835436666666666,
          29.835436666666666,
          29.835436666666666,
          29.835436666666666,
          29.835436666666666,
          29.859354444444445,
          29.859354444444445,
          29.859354444444445,
          29.859354444444445,
          29.859354444444445,
          29.859354444444445,
          29.859354444444445,
          29.859354444444445,
          29.859354444444445,
          29.859354444444445,
          29.88327222222222,
          29.88327222222222,
          29.88327222222222,
          29.88327222222222,
          29.88327222222222,
          29.88327222222222,
          29.88327222222222,
          29.88327222222222,
          29.88327222222222,
          29.88327222222222,
          29.90719,
          29.90719,
          29.90719,
          29.90719,
          29.90719,
          29.90719,
          29.90719,
          29.90719,
          29.90719,
          29.90719
         ],
         "legendgroup": "urban",
         "lon": [
          -95.47998,
          -95.45166,
          -95.42334,
          -95.39502,
          -95.3667,
          -95.33838,
          -95.31006,
          -95.28174,
          -95.25341999999999,
          -95.2251,
          -95.47998,
          -95.45166,
          -95.42334,
          -95.39502,
          -95.3667,
          -95.33838,
          -95.31006,
          -95.28174,
          -95.25341999999999,
          -95.2251,
          -95.47998,
          -95.45166,
          -95.42334,
          -95.39502,
          -95.3667,
          -95.33838,
          -95.31006,
          -95.28174,
          -95.25341999999999,
          -95.2251,
          -95.47998,
          -95.45166,
          -95.42334,
          -95.39502,
          -95.3667,
          -95.33838,
          -95.31006,
          -95.28174,
          -95.25341999999999,
          -95.2251,
          -95.47998,
          -95.45166,
          -95.42334,
          -95.39502,
          -95.3667,
          -95.33838,
          -95.31006,
          -95.28174,
          -95.25341999999999,
          -95.2251,
          -95.47998,
          -95.45166,
          -95.42334,
          -95.39502,
          -95.3667,
          -95.33838,
          -95.31006,
          -95.28174,
          -95.25341999999999,
          -95.2251,
          -95.47998,
          -95.45166,
          -95.42334,
          -95.39502,
          -95.3667,
          -95.33838,
          -95.31006,
          -95.28174,
          -95.25341999999999,
          -95.2251,
          -95.47998,
          -95.45166,
          -95.42334,
          -95.39502,
          -95.3667,
          -95.33838,
          -95.31006,
          -95.28174,
          -95.25341999999999,
          -95.2251,
          -95.47998,
          -95.45166,
          -95.42334,
          -95.39502,
          -95.3667,
          -95.33838,
          -95.31006,
          -95.28174,
          -95.25341999999999,
          -95.2251,
          -95.47998,
          -95.45166,
          -95.42334,
          -95.39502,
          -95.3667,
          -95.33838,
          -95.31006,
          -95.28174,
          -95.25341999999999,
          -95.2251
         ],
         "marker": {
          "color": "#636efa"
         },
         "mode": "markers",
         "name": "urban",
         "showlegend": true,
         "subplot": "mapbox",
         "type": "scattermapbox"
        },
        {
         "hovertemplate": "Region=rural<br>Latitude=%{lat}<br>Longitude=%{lon}<extra></extra>",
         "lat": [
          30.5,
          30.5,
          30.5,
          30.5,
          30.5,
          30.5,
          30.5,
          30.5,
          30.5,
          30.5,
          30.555555555555557,
          30.555555555555557,
          30.555555555555557,
          30.555555555555557,
          30.555555555555557,
          30.555555555555557,
          30.555555555555557,
          30.555555555555557,
          30.555555555555557,
          30.555555555555557,
          30.61111111111111,
          30.61111111111111,
          30.61111111111111,
          30.61111111111111,
          30.61111111111111,
          30.61111111111111,
          30.61111111111111,
          30.61111111111111,
          30.61111111111111,
          30.61111111111111,
          30.666666666666668,
          30.666666666666668,
          30.666666666666668,
          30.666666666666668,
          30.666666666666668,
          30.666666666666668,
          30.666666666666668,
          30.666666666666668,
          30.666666666666668,
          30.666666666666668,
          30.72222222222222,
          30.72222222222222,
          30.72222222222222,
          30.72222222222222,
          30.72222222222222,
          30.72222222222222,
          30.72222222222222,
          30.72222222222222,
          30.72222222222222,
          30.72222222222222,
          30.77777777777778,
          30.77777777777778,
          30.77777777777778,
          30.77777777777778,
          30.77777777777778,
          30.77777777777778,
          30.77777777777778,
          30.77777777777778,
          30.77777777777778,
          30.77777777777778,
          30.833333333333332,
          30.833333333333332,
          30.833333333333332,
          30.833333333333332,
          30.833333333333332,
          30.833333333333332,
          30.833333333333332,
          30.833333333333332,
          30.833333333333332,
          30.833333333333332,
          30.88888888888889,
          30.88888888888889,
          30.88888888888889,
          30.88888888888889,
          30.88888888888889,
          30.88888888888889,
          30.88888888888889,
          30.88888888888889,
          30.88888888888889,
          30.88888888888889,
          30.944444444444443,
          30.944444444444443,
          30.944444444444443,
          30.944444444444443,
          30.944444444444443,
          30.944444444444443,
          30.944444444444443,
          30.944444444444443,
          30.944444444444443,
          30.944444444444443,
          31,
          31,
          31,
          31,
          31,
          31,
          31,
          31,
          31,
          31
         ],
         "legendgroup": "rural",
         "lon": [
          -96.5,
          -96.44444444444444,
          -96.38888888888889,
          -96.33333333333333,
          -96.27777777777777,
          -96.22222222222223,
          -96.16666666666667,
          -96.11111111111111,
          -96.05555555555556,
          -96,
          -96.5,
          -96.44444444444444,
          -96.38888888888889,
          -96.33333333333333,
          -96.27777777777777,
          -96.22222222222223,
          -96.16666666666667,
          -96.11111111111111,
          -96.05555555555556,
          -96,
          -96.5,
          -96.44444444444444,
          -96.38888888888889,
          -96.33333333333333,
          -96.27777777777777,
          -96.22222222222223,
          -96.16666666666667,
          -96.11111111111111,
          -96.05555555555556,
          -96,
          -96.5,
          -96.44444444444444,
          -96.38888888888889,
          -96.33333333333333,
          -96.27777777777777,
          -96.22222222222223,
          -96.16666666666667,
          -96.11111111111111,
          -96.05555555555556,
          -96,
          -96.5,
          -96.44444444444444,
          -96.38888888888889,
          -96.33333333333333,
          -96.27777777777777,
          -96.22222222222223,
          -96.16666666666667,
          -96.11111111111111,
          -96.05555555555556,
          -96,
          -96.5,
          -96.44444444444444,
          -96.38888888888889,
          -96.33333333333333,
          -96.27777777777777,
          -96.22222222222223,
          -96.16666666666667,
          -96.11111111111111,
          -96.05555555555556,
          -96,
          -96.5,
          -96.44444444444444,
          -96.38888888888889,
          -96.33333333333333,
          -96.27777777777777,
          -96.22222222222223,
          -96.16666666666667,
          -96.11111111111111,
          -96.05555555555556,
          -96,
          -96.5,
          -96.44444444444444,
          -96.38888888888889,
          -96.33333333333333,
          -96.27777777777777,
          -96.22222222222223,
          -96.16666666666667,
          -96.11111111111111,
          -96.05555555555556,
          -96,
          -96.5,
          -96.44444444444444,
          -96.38888888888889,
          -96.33333333333333,
          -96.27777777777777,
          -96.22222222222223,
          -96.16666666666667,
          -96.11111111111111,
          -96.05555555555556,
          -96,
          -96.5,
          -96.44444444444444,
          -96.38888888888889,
          -96.33333333333333,
          -96.27777777777777,
          -96.22222222222223,
          -96.16666666666667,
          -96.11111111111111,
          -96.05555555555556,
          -96
         ],
         "marker": {
          "color": "#EF553B"
         },
         "mode": "markers",
         "name": "rural",
         "showlegend": true,
         "subplot": "mapbox",
         "type": "scattermapbox"
        }
       ],
       "layout": {
        "height": 600,
        "legend": {
         "orientation": "h",
         "title": {
          "text": "Region"
         },
         "tracegroupgap": 0,
         "x": 0,
         "xanchor": "left",
         "y": 1.05,
         "yanchor": "top"
        },
        "mapbox": {
         "center": {
          "lat": 30.27478,
          "lon": -95.80126999999999
         },
         "domain": {
          "x": [
           0,
           1
          ],
          "y": [
           0,
           1
          ]
         },
         "style": "carto-positron",
         "zoom": 8
        },
        "margin": {
         "b": 0,
         "l": 0,
         "r": 0,
         "t": 100
        },
        "template": {
         "data": {
          "bar": [
           {
            "error_x": {
             "color": "#2a3f5f"
            },
            "error_y": {
             "color": "#2a3f5f"
            },
            "marker": {
             "line": {
              "color": "#E5ECF6",
              "width": 0.5
             },
             "pattern": {
              "fillmode": "overlay",
              "size": 10,
              "solidity": 0.2
             }
            },
            "type": "bar"
           }
          ],
          "barpolar": [
           {
            "marker": {
             "line": {
              "color": "#E5ECF6",
              "width": 0.5
             },
             "pattern": {
              "fillmode": "overlay",
              "size": 10,
              "solidity": 0.2
             }
            },
            "type": "barpolar"
           }
          ],
          "carpet": [
           {
            "aaxis": {
             "endlinecolor": "#2a3f5f",
             "gridcolor": "white",
             "linecolor": "white",
             "minorgridcolor": "white",
             "startlinecolor": "#2a3f5f"
            },
            "baxis": {
             "endlinecolor": "#2a3f5f",
             "gridcolor": "white",
             "linecolor": "white",
             "minorgridcolor": "white",
             "startlinecolor": "#2a3f5f"
            },
            "type": "carpet"
           }
          ],
          "choropleth": [
           {
            "colorbar": {
             "outlinewidth": 0,
             "ticks": ""
            },
            "type": "choropleth"
           }
          ],
          "contour": [
           {
            "colorbar": {
             "outlinewidth": 0,
             "ticks": ""
            },
            "colorscale": [
             [
              0,
              "#0d0887"
             ],
             [
              0.1111111111111111,
              "#46039f"
             ],
             [
              0.2222222222222222,
              "#7201a8"
             ],
             [
              0.3333333333333333,
              "#9c179e"
             ],
             [
              0.4444444444444444,
              "#bd3786"
             ],
             [
              0.5555555555555556,
              "#d8576b"
             ],
             [
              0.6666666666666666,
              "#ed7953"
             ],
             [
              0.7777777777777778,
              "#fb9f3a"
             ],
             [
              0.8888888888888888,
              "#fdca26"
             ],
             [
              1,
              "#f0f921"
             ]
            ],
            "type": "contour"
           }
          ],
          "contourcarpet": [
           {
            "colorbar": {
             "outlinewidth": 0,
             "ticks": ""
            },
            "type": "contourcarpet"
           }
          ],
          "heatmap": [
           {
            "colorbar": {
             "outlinewidth": 0,
             "ticks": ""
            },
            "colorscale": [
             [
              0,
              "#0d0887"
             ],
             [
              0.1111111111111111,
              "#46039f"
             ],
             [
              0.2222222222222222,
              "#7201a8"
             ],
             [
              0.3333333333333333,
              "#9c179e"
             ],
             [
              0.4444444444444444,
              "#bd3786"
             ],
             [
              0.5555555555555556,
              "#d8576b"
             ],
             [
              0.6666666666666666,
              "#ed7953"
             ],
             [
              0.7777777777777778,
              "#fb9f3a"
             ],
             [
              0.8888888888888888,
              "#fdca26"
             ],
             [
              1,
              "#f0f921"
             ]
            ],
            "type": "heatmap"
           }
          ],
          "heatmapgl": [
           {
            "colorbar": {
             "outlinewidth": 0,
             "ticks": ""
            },
            "colorscale": [
             [
              0,
              "#0d0887"
             ],
             [
              0.1111111111111111,
              "#46039f"
             ],
             [
              0.2222222222222222,
              "#7201a8"
             ],
             [
              0.3333333333333333,
              "#9c179e"
             ],
             [
              0.4444444444444444,
              "#bd3786"
             ],
             [
              0.5555555555555556,
              "#d8576b"
             ],
             [
              0.6666666666666666,
              "#ed7953"
             ],
             [
              0.7777777777777778,
              "#fb9f3a"
             ],
             [
              0.8888888888888888,
              "#fdca26"
             ],
             [
              1,
              "#f0f921"
             ]
            ],
            "type": "heatmapgl"
           }
          ],
          "histogram": [
           {
            "marker": {
             "pattern": {
              "fillmode": "overlay",
              "size": 10,
              "solidity": 0.2
             }
            },
            "type": "histogram"
           }
          ],
          "histogram2d": [
           {
            "colorbar": {
             "outlinewidth": 0,
             "ticks": ""
            },
            "colorscale": [
             [
              0,
              "#0d0887"
             ],
             [
              0.1111111111111111,
              "#46039f"
             ],
             [
              0.2222222222222222,
              "#7201a8"
             ],
             [
              0.3333333333333333,
              "#9c179e"
             ],
             [
              0.4444444444444444,
              "#bd3786"
             ],
             [
              0.5555555555555556,
              "#d8576b"
             ],
             [
              0.6666666666666666,
              "#ed7953"
             ],
             [
              0.7777777777777778,
              "#fb9f3a"
             ],
             [
              0.8888888888888888,
              "#fdca26"
             ],
             [
              1,
              "#f0f921"
             ]
            ],
            "type": "histogram2d"
           }
          ],
          "histogram2dcontour": [
           {
            "colorbar": {
             "outlinewidth": 0,
             "ticks": ""
            },
            "colorscale": [
             [
              0,
              "#0d0887"
             ],
             [
              0.1111111111111111,
              "#46039f"
             ],
             [
              0.2222222222222222,
              "#7201a8"
             ],
             [
              0.3333333333333333,
              "#9c179e"
             ],
             [
              0.4444444444444444,
              "#bd3786"
             ],
             [
              0.5555555555555556,
              "#d8576b"
             ],
             [
              0.6666666666666666,
              "#ed7953"
             ],
             [
              0.7777777777777778,
              "#fb9f3a"
             ],
             [
              0.8888888888888888,
              "#fdca26"
             ],
             [
              1,
              "#f0f921"
             ]
            ],
            "type": "histogram2dcontour"
           }
          ],
          "mesh3d": [
           {
            "colorbar": {
             "outlinewidth": 0,
             "ticks": ""
            },
            "type": "mesh3d"
           }
          ],
          "parcoords": [
           {
            "line": {
             "colorbar": {
              "outlinewidth": 0,
              "ticks": ""
             }
            },
            "type": "parcoords"
           }
          ],
          "pie": [
           {
            "automargin": true,
            "type": "pie"
           }
          ],
          "scatter": [
           {
            "fillpattern": {
             "fillmode": "overlay",
             "size": 10,
             "solidity": 0.2
            },
            "type": "scatter"
           }
          ],
          "scatter3d": [
           {
            "line": {
             "colorbar": {
              "outlinewidth": 0,
              "ticks": ""
             }
            },
            "marker": {
             "colorbar": {
              "outlinewidth": 0,
              "ticks": ""
             }
            },
            "type": "scatter3d"
           }
          ],
          "scattercarpet": [
           {
            "marker": {
             "colorbar": {
              "outlinewidth": 0,
              "ticks": ""
             }
            },
            "type": "scattercarpet"
           }
          ],
          "scattergeo": [
           {
            "marker": {
             "colorbar": {
              "outlinewidth": 0,
              "ticks": ""
             }
            },
            "type": "scattergeo"
           }
          ],
          "scattergl": [
           {
            "marker": {
             "colorbar": {
              "outlinewidth": 0,
              "ticks": ""
             }
            },
            "type": "scattergl"
           }
          ],
          "scattermapbox": [
           {
            "marker": {
             "colorbar": {
              "outlinewidth": 0,
              "ticks": ""
             }
            },
            "type": "scattermapbox"
           }
          ],
          "scatterpolar": [
           {
            "marker": {
             "colorbar": {
              "outlinewidth": 0,
              "ticks": ""
             }
            },
            "type": "scatterpolar"
           }
          ],
          "scatterpolargl": [
           {
            "marker": {
             "colorbar": {
              "outlinewidth": 0,
              "ticks": ""
             }
            },
            "type": "scatterpolargl"
           }
          ],
          "scatterternary": [
           {
            "marker": {
             "colorbar": {
              "outlinewidth": 0,
              "ticks": ""
             }
            },
            "type": "scatterternary"
           }
          ],
          "surface": [
           {
            "colorbar": {
             "outlinewidth": 0,
             "ticks": ""
            },
            "colorscale": [
             [
              0,
              "#0d0887"
             ],
             [
              0.1111111111111111,
              "#46039f"
             ],
             [
              0.2222222222222222,
              "#7201a8"
             ],
             [
              0.3333333333333333,
              "#9c179e"
             ],
             [
              0.4444444444444444,
              "#bd3786"
             ],
             [
              0.5555555555555556,
              "#d8576b"
             ],
             [
              0.6666666666666666,
              "#ed7953"
             ],
             [
              0.7777777777777778,
              "#fb9f3a"
             ],
             [
              0.8888888888888888,
              "#fdca26"
             ],
             [
              1,
              "#f0f921"
             ]
            ],
            "type": "surface"
           }
          ],
          "table": [
           {
            "cells": {
             "fill": {
              "color": "#EBF0F8"
             },
             "line": {
              "color": "white"
             }
            },
            "header": {
             "fill": {
              "color": "#C8D4E3"
             },
             "line": {
              "color": "white"
             }
            },
            "type": "table"
           }
          ]
         },
         "layout": {
          "annotationdefaults": {
           "arrowcolor": "#2a3f5f",
           "arrowhead": 0,
           "arrowwidth": 1
          },
          "autotypenumbers": "strict",
          "coloraxis": {
           "colorbar": {
            "outlinewidth": 0,
            "ticks": ""
           }
          },
          "colorscale": {
           "diverging": [
            [
             0,
             "#8e0152"
            ],
            [
             0.1,
             "#c51b7d"
            ],
            [
             0.2,
             "#de77ae"
            ],
            [
             0.3,
             "#f1b6da"
            ],
            [
             0.4,
             "#fde0ef"
            ],
            [
             0.5,
             "#f7f7f7"
            ],
            [
             0.6,
             "#e6f5d0"
            ],
            [
             0.7,
             "#b8e186"
            ],
            [
             0.8,
             "#7fbc41"
            ],
            [
             0.9,
             "#4d9221"
            ],
            [
             1,
             "#276419"
            ]
           ],
           "sequential": [
            [
             0,
             "#0d0887"
            ],
            [
             0.1111111111111111,
             "#46039f"
            ],
            [
             0.2222222222222222,
             "#7201a8"
            ],
            [
             0.3333333333333333,
             "#9c179e"
            ],
            [
             0.4444444444444444,
             "#bd3786"
            ],
            [
             0.5555555555555556,
             "#d8576b"
            ],
            [
             0.6666666666666666,
             "#ed7953"
            ],
            [
             0.7777777777777778,
             "#fb9f3a"
            ],
            [
             0.8888888888888888,
             "#fdca26"
            ],
            [
             1,
             "#f0f921"
            ]
           ],
           "sequentialminus": [
            [
             0,
             "#0d0887"
            ],
            [
             0.1111111111111111,
             "#46039f"
            ],
            [
             0.2222222222222222,
             "#7201a8"
            ],
            [
             0.3333333333333333,
             "#9c179e"
            ],
            [
             0.4444444444444444,
             "#bd3786"
            ],
            [
             0.5555555555555556,
             "#d8576b"
            ],
            [
             0.6666666666666666,
             "#ed7953"
            ],
            [
             0.7777777777777778,
             "#fb9f3a"
            ],
            [
             0.8888888888888888,
             "#fdca26"
            ],
            [
             1,
             "#f0f921"
            ]
           ]
          },
          "colorway": [
           "#636efa",
           "#EF553B",
           "#00cc96",
           "#ab63fa",
           "#FFA15A",
           "#19d3f3",
           "#FF6692",
           "#B6E880",
           "#FF97FF",
           "#FECB52"
          ],
          "font": {
           "color": "#2a3f5f"
          },
          "geo": {
           "bgcolor": "white",
           "lakecolor": "white",
           "landcolor": "#E5ECF6",
           "showlakes": true,
           "showland": true,
           "subunitcolor": "white"
          },
          "hoverlabel": {
           "align": "left"
          },
          "hovermode": "closest",
          "mapbox": {
           "style": "light"
          },
          "paper_bgcolor": "white",
          "plot_bgcolor": "#E5ECF6",
          "polar": {
           "angularaxis": {
            "gridcolor": "white",
            "linecolor": "white",
            "ticks": ""
           },
           "bgcolor": "#E5ECF6",
           "radialaxis": {
            "gridcolor": "white",
            "linecolor": "white",
            "ticks": ""
           }
          },
          "scene": {
           "xaxis": {
            "backgroundcolor": "#E5ECF6",
            "gridcolor": "white",
            "gridwidth": 2,
            "linecolor": "white",
            "showbackground": true,
            "ticks": "",
            "zerolinecolor": "white"
           },
           "yaxis": {
            "backgroundcolor": "#E5ECF6",
            "gridcolor": "white",
            "gridwidth": 2,
            "linecolor": "white",
            "showbackground": true,
            "ticks": "",
            "zerolinecolor": "white"
           },
           "zaxis": {
            "backgroundcolor": "#E5ECF6",
            "gridcolor": "white",
            "gridwidth": 2,
            "linecolor": "white",
            "showbackground": true,
            "ticks": "",
            "zerolinecolor": "white"
           }
          },
          "shapedefaults": {
           "line": {
            "color": "#2a3f5f"
           }
          },
          "ternary": {
           "aaxis": {
            "gridcolor": "white",
            "linecolor": "white",
            "ticks": ""
           },
           "baxis": {
            "gridcolor": "white",
            "linecolor": "white",
            "ticks": ""
           },
           "bgcolor": "#E5ECF6",
           "caxis": {
            "gridcolor": "white",
            "linecolor": "white",
            "ticks": ""
           }
          },
          "title": {
           "x": 0.05
          },
          "xaxis": {
           "automargin": true,
           "gridcolor": "white",
           "linecolor": "white",
           "ticks": "",
           "title": {
            "standoff": 15
           },
           "zerolinecolor": "white",
           "zerolinewidth": 2
          },
          "yaxis": {
           "automargin": true,
           "gridcolor": "white",
           "linecolor": "white",
           "ticks": "",
           "title": {
            "standoff": 15
           },
           "zerolinecolor": "white",
           "zerolinewidth": 2
          }
         }
        },
        "title": {
         "text": "Preview of Selected Bounding Boxes for Houston, TX"
        },
        "width": 600
       }
      }
     },
     "metadata": {},
     "output_type": "display_data"
    }
   ],
   "source": [
    "## Plot the region suggested\n",
    "fig = px.scatter_mapbox(coords_df, lat=\"Latitude\", lon=\"Longitude\", color='Region',\n",
    "                        # color_continuous_scale=\"Viridis\", \n",
    "                        mapbox_style=\"carto-positron\",\n",
    "                        title=f\"Preview of Selected Bounding Boxes for {data_params['city_region_name']}\",\n",
    "                        height=600, width=600)\n",
    "\n",
    "# Remove left and right side margins\n",
    "fig.update_layout(\n",
    "    margin={\"r\":0, \"l\":0,'b':0, 't':100},\n",
    "    legend={'orientation':\"h\", 'yanchor':\"top\", 'y':1.05, 'xanchor':\"left\", 'x':0},\n",
    "    \n",
    ")\n",
    "\n",
    "fig.show()\n",
    "## Save fig for README\n",
    "fig.write_image(f\"{img_dir}selected_regions.png\")"
   ]
  },
  {
   "cell_type": "code",
   "execution_count": 33,
   "metadata": {},
   "outputs": [],
   "source": [
    "def preview_regions(data_params):\n",
    "    \n",
    "\n",
    "    # Dataframe to store results\n",
    "    sampled_coordinates = []\n",
    "\n",
    "    # Check if any coordinates within the bounding boxes are over sea\n",
    "    for region, bounding_box in data_params['coordinates'].items():\n",
    "        # Generate sample points within the bounding box\n",
    "        sample_points = generate_sample_points(bounding_box['SW'], bounding_box['NE'], num_points=10)\n",
    "        for lat, lon in sample_points:\n",
    "            sampled_coordinates.append({'Region': region, 'Latitude': lat, 'Longitude': lon})\n",
    "\n",
    "    # Convert results to DataFrame\n",
    "    coords_df = pd.DataFrame(sampled_coordinates)\n",
    "    \n",
    "    \n",
    "        ## Plot the region suggested\n",
    "    fig = px.scatter_mapbox(coords_df, lat=\"Latitude\", lon=\"Longitude\", color='Region',\n",
    "                            # color_continuous_scale=\"Viridis\", \n",
    "                            mapbox_style=\"carto-positron\",\n",
    "                            title=f\"Preview of Selected Bounding Boxes for {data_params['city_region_name']}\",\n",
    "                            height=600, width=600)\n",
    "\n",
    "    # Remove left and right side margins\n",
    "    fig.update_layout(\n",
    "        margin={\"r\":0, \"l\":0,'b':0, 't':100},\n",
    "        legend={'orientation':\"h\", 'yanchor':\"top\", 'y':1.05, 'xanchor':\"left\", 'x':0},\n",
    "        \n",
    "    )\n",
    "\n",
    "    return fig\n",
    "    ## Save fig for README\n",
    "    # fig.write_image(f\"{img_dir}selected_regions.png\")"
   ]
  },
  {
   "cell_type": "code",
   "execution_count": 34,
   "metadata": {},
   "outputs": [
    {
     "data": {
      "application/vnd.plotly.v1+json": {
       "config": {
        "plotlyServerURL": "https://plot.ly"
       },
       "data": [
        {
         "hovertemplate": "Region=urban<br>Latitude=%{lat}<br>Longitude=%{lon}<extra></extra>",
         "lat": [
          29.69193,
          29.69193,
          29.69193,
          29.69193,
          29.69193,
          29.69193,
          29.69193,
          29.69193,
          29.69193,
          29.69193,
          29.71584777777778,
          29.71584777777778,
          29.71584777777778,
          29.71584777777778,
          29.71584777777778,
          29.71584777777778,
          29.71584777777778,
          29.71584777777778,
          29.71584777777778,
          29.71584777777778,
          29.739765555555554,
          29.739765555555554,
          29.739765555555554,
          29.739765555555554,
          29.739765555555554,
          29.739765555555554,
          29.739765555555554,
          29.739765555555554,
          29.739765555555554,
          29.739765555555554,
          29.763683333333333,
          29.763683333333333,
          29.763683333333333,
          29.763683333333333,
          29.763683333333333,
          29.763683333333333,
          29.763683333333333,
          29.763683333333333,
          29.763683333333333,
          29.763683333333333,
          29.787601111111112,
          29.787601111111112,
          29.787601111111112,
          29.787601111111112,
          29.787601111111112,
          29.787601111111112,
          29.787601111111112,
          29.787601111111112,
          29.787601111111112,
          29.787601111111112,
          29.811518888888887,
          29.811518888888887,
          29.811518888888887,
          29.811518888888887,
          29.811518888888887,
          29.811518888888887,
          29.811518888888887,
          29.811518888888887,
          29.811518888888887,
          29.811518888888887,
          29.835436666666666,
          29.835436666666666,
          29.835436666666666,
          29.835436666666666,
          29.835436666666666,
          29.835436666666666,
          29.835436666666666,
          29.835436666666666,
          29.835436666666666,
          29.835436666666666,
          29.859354444444445,
          29.859354444444445,
          29.859354444444445,
          29.859354444444445,
          29.859354444444445,
          29.859354444444445,
          29.859354444444445,
          29.859354444444445,
          29.859354444444445,
          29.859354444444445,
          29.88327222222222,
          29.88327222222222,
          29.88327222222222,
          29.88327222222222,
          29.88327222222222,
          29.88327222222222,
          29.88327222222222,
          29.88327222222222,
          29.88327222222222,
          29.88327222222222,
          29.90719,
          29.90719,
          29.90719,
          29.90719,
          29.90719,
          29.90719,
          29.90719,
          29.90719,
          29.90719,
          29.90719
         ],
         "legendgroup": "urban",
         "lon": [
          -95.47998,
          -95.45166,
          -95.42334,
          -95.39502,
          -95.3667,
          -95.33838,
          -95.31006,
          -95.28174,
          -95.25341999999999,
          -95.2251,
          -95.47998,
          -95.45166,
          -95.42334,
          -95.39502,
          -95.3667,
          -95.33838,
          -95.31006,
          -95.28174,
          -95.25341999999999,
          -95.2251,
          -95.47998,
          -95.45166,
          -95.42334,
          -95.39502,
          -95.3667,
          -95.33838,
          -95.31006,
          -95.28174,
          -95.25341999999999,
          -95.2251,
          -95.47998,
          -95.45166,
          -95.42334,
          -95.39502,
          -95.3667,
          -95.33838,
          -95.31006,
          -95.28174,
          -95.25341999999999,
          -95.2251,
          -95.47998,
          -95.45166,
          -95.42334,
          -95.39502,
          -95.3667,
          -95.33838,
          -95.31006,
          -95.28174,
          -95.25341999999999,
          -95.2251,
          -95.47998,
          -95.45166,
          -95.42334,
          -95.39502,
          -95.3667,
          -95.33838,
          -95.31006,
          -95.28174,
          -95.25341999999999,
          -95.2251,
          -95.47998,
          -95.45166,
          -95.42334,
          -95.39502,
          -95.3667,
          -95.33838,
          -95.31006,
          -95.28174,
          -95.25341999999999,
          -95.2251,
          -95.47998,
          -95.45166,
          -95.42334,
          -95.39502,
          -95.3667,
          -95.33838,
          -95.31006,
          -95.28174,
          -95.25341999999999,
          -95.2251,
          -95.47998,
          -95.45166,
          -95.42334,
          -95.39502,
          -95.3667,
          -95.33838,
          -95.31006,
          -95.28174,
          -95.25341999999999,
          -95.2251,
          -95.47998,
          -95.45166,
          -95.42334,
          -95.39502,
          -95.3667,
          -95.33838,
          -95.31006,
          -95.28174,
          -95.25341999999999,
          -95.2251
         ],
         "marker": {
          "color": "#636efa"
         },
         "mode": "markers",
         "name": "urban",
         "showlegend": true,
         "subplot": "mapbox",
         "type": "scattermapbox"
        },
        {
         "hovertemplate": "Region=rural<br>Latitude=%{lat}<br>Longitude=%{lon}<extra></extra>",
         "lat": [
          30.5,
          30.5,
          30.5,
          30.5,
          30.5,
          30.5,
          30.5,
          30.5,
          30.5,
          30.5,
          30.555555555555557,
          30.555555555555557,
          30.555555555555557,
          30.555555555555557,
          30.555555555555557,
          30.555555555555557,
          30.555555555555557,
          30.555555555555557,
          30.555555555555557,
          30.555555555555557,
          30.61111111111111,
          30.61111111111111,
          30.61111111111111,
          30.61111111111111,
          30.61111111111111,
          30.61111111111111,
          30.61111111111111,
          30.61111111111111,
          30.61111111111111,
          30.61111111111111,
          30.666666666666668,
          30.666666666666668,
          30.666666666666668,
          30.666666666666668,
          30.666666666666668,
          30.666666666666668,
          30.666666666666668,
          30.666666666666668,
          30.666666666666668,
          30.666666666666668,
          30.72222222222222,
          30.72222222222222,
          30.72222222222222,
          30.72222222222222,
          30.72222222222222,
          30.72222222222222,
          30.72222222222222,
          30.72222222222222,
          30.72222222222222,
          30.72222222222222,
          30.77777777777778,
          30.77777777777778,
          30.77777777777778,
          30.77777777777778,
          30.77777777777778,
          30.77777777777778,
          30.77777777777778,
          30.77777777777778,
          30.77777777777778,
          30.77777777777778,
          30.833333333333332,
          30.833333333333332,
          30.833333333333332,
          30.833333333333332,
          30.833333333333332,
          30.833333333333332,
          30.833333333333332,
          30.833333333333332,
          30.833333333333332,
          30.833333333333332,
          30.88888888888889,
          30.88888888888889,
          30.88888888888889,
          30.88888888888889,
          30.88888888888889,
          30.88888888888889,
          30.88888888888889,
          30.88888888888889,
          30.88888888888889,
          30.88888888888889,
          30.944444444444443,
          30.944444444444443,
          30.944444444444443,
          30.944444444444443,
          30.944444444444443,
          30.944444444444443,
          30.944444444444443,
          30.944444444444443,
          30.944444444444443,
          30.944444444444443,
          31,
          31,
          31,
          31,
          31,
          31,
          31,
          31,
          31,
          31
         ],
         "legendgroup": "rural",
         "lon": [
          -96.5,
          -96.44444444444444,
          -96.38888888888889,
          -96.33333333333333,
          -96.27777777777777,
          -96.22222222222223,
          -96.16666666666667,
          -96.11111111111111,
          -96.05555555555556,
          -96,
          -96.5,
          -96.44444444444444,
          -96.38888888888889,
          -96.33333333333333,
          -96.27777777777777,
          -96.22222222222223,
          -96.16666666666667,
          -96.11111111111111,
          -96.05555555555556,
          -96,
          -96.5,
          -96.44444444444444,
          -96.38888888888889,
          -96.33333333333333,
          -96.27777777777777,
          -96.22222222222223,
          -96.16666666666667,
          -96.11111111111111,
          -96.05555555555556,
          -96,
          -96.5,
          -96.44444444444444,
          -96.38888888888889,
          -96.33333333333333,
          -96.27777777777777,
          -96.22222222222223,
          -96.16666666666667,
          -96.11111111111111,
          -96.05555555555556,
          -96,
          -96.5,
          -96.44444444444444,
          -96.38888888888889,
          -96.33333333333333,
          -96.27777777777777,
          -96.22222222222223,
          -96.16666666666667,
          -96.11111111111111,
          -96.05555555555556,
          -96,
          -96.5,
          -96.44444444444444,
          -96.38888888888889,
          -96.33333333333333,
          -96.27777777777777,
          -96.22222222222223,
          -96.16666666666667,
          -96.11111111111111,
          -96.05555555555556,
          -96,
          -96.5,
          -96.44444444444444,
          -96.38888888888889,
          -96.33333333333333,
          -96.27777777777777,
          -96.22222222222223,
          -96.16666666666667,
          -96.11111111111111,
          -96.05555555555556,
          -96,
          -96.5,
          -96.44444444444444,
          -96.38888888888889,
          -96.33333333333333,
          -96.27777777777777,
          -96.22222222222223,
          -96.16666666666667,
          -96.11111111111111,
          -96.05555555555556,
          -96,
          -96.5,
          -96.44444444444444,
          -96.38888888888889,
          -96.33333333333333,
          -96.27777777777777,
          -96.22222222222223,
          -96.16666666666667,
          -96.11111111111111,
          -96.05555555555556,
          -96,
          -96.5,
          -96.44444444444444,
          -96.38888888888889,
          -96.33333333333333,
          -96.27777777777777,
          -96.22222222222223,
          -96.16666666666667,
          -96.11111111111111,
          -96.05555555555556,
          -96
         ],
         "marker": {
          "color": "#EF553B"
         },
         "mode": "markers",
         "name": "rural",
         "showlegend": true,
         "subplot": "mapbox",
         "type": "scattermapbox"
        }
       ],
       "layout": {
        "height": 600,
        "legend": {
         "orientation": "h",
         "title": {
          "text": "Region"
         },
         "tracegroupgap": 0,
         "x": 0,
         "xanchor": "left",
         "y": 1.05,
         "yanchor": "top"
        },
        "mapbox": {
         "center": {
          "lat": 30.27478,
          "lon": -95.80126999999999
         },
         "domain": {
          "x": [
           0,
           1
          ],
          "y": [
           0,
           1
          ]
         },
         "style": "carto-positron",
         "zoom": 8
        },
        "margin": {
         "b": 0,
         "l": 0,
         "r": 0,
         "t": 100
        },
        "template": {
         "data": {
          "bar": [
           {
            "error_x": {
             "color": "#2a3f5f"
            },
            "error_y": {
             "color": "#2a3f5f"
            },
            "marker": {
             "line": {
              "color": "#E5ECF6",
              "width": 0.5
             },
             "pattern": {
              "fillmode": "overlay",
              "size": 10,
              "solidity": 0.2
             }
            },
            "type": "bar"
           }
          ],
          "barpolar": [
           {
            "marker": {
             "line": {
              "color": "#E5ECF6",
              "width": 0.5
             },
             "pattern": {
              "fillmode": "overlay",
              "size": 10,
              "solidity": 0.2
             }
            },
            "type": "barpolar"
           }
          ],
          "carpet": [
           {
            "aaxis": {
             "endlinecolor": "#2a3f5f",
             "gridcolor": "white",
             "linecolor": "white",
             "minorgridcolor": "white",
             "startlinecolor": "#2a3f5f"
            },
            "baxis": {
             "endlinecolor": "#2a3f5f",
             "gridcolor": "white",
             "linecolor": "white",
             "minorgridcolor": "white",
             "startlinecolor": "#2a3f5f"
            },
            "type": "carpet"
           }
          ],
          "choropleth": [
           {
            "colorbar": {
             "outlinewidth": 0,
             "ticks": ""
            },
            "type": "choropleth"
           }
          ],
          "contour": [
           {
            "colorbar": {
             "outlinewidth": 0,
             "ticks": ""
            },
            "colorscale": [
             [
              0,
              "#0d0887"
             ],
             [
              0.1111111111111111,
              "#46039f"
             ],
             [
              0.2222222222222222,
              "#7201a8"
             ],
             [
              0.3333333333333333,
              "#9c179e"
             ],
             [
              0.4444444444444444,
              "#bd3786"
             ],
             [
              0.5555555555555556,
              "#d8576b"
             ],
             [
              0.6666666666666666,
              "#ed7953"
             ],
             [
              0.7777777777777778,
              "#fb9f3a"
             ],
             [
              0.8888888888888888,
              "#fdca26"
             ],
             [
              1,
              "#f0f921"
             ]
            ],
            "type": "contour"
           }
          ],
          "contourcarpet": [
           {
            "colorbar": {
             "outlinewidth": 0,
             "ticks": ""
            },
            "type": "contourcarpet"
           }
          ],
          "heatmap": [
           {
            "colorbar": {
             "outlinewidth": 0,
             "ticks": ""
            },
            "colorscale": [
             [
              0,
              "#0d0887"
             ],
             [
              0.1111111111111111,
              "#46039f"
             ],
             [
              0.2222222222222222,
              "#7201a8"
             ],
             [
              0.3333333333333333,
              "#9c179e"
             ],
             [
              0.4444444444444444,
              "#bd3786"
             ],
             [
              0.5555555555555556,
              "#d8576b"
             ],
             [
              0.6666666666666666,
              "#ed7953"
             ],
             [
              0.7777777777777778,
              "#fb9f3a"
             ],
             [
              0.8888888888888888,
              "#fdca26"
             ],
             [
              1,
              "#f0f921"
             ]
            ],
            "type": "heatmap"
           }
          ],
          "heatmapgl": [
           {
            "colorbar": {
             "outlinewidth": 0,
             "ticks": ""
            },
            "colorscale": [
             [
              0,
              "#0d0887"
             ],
             [
              0.1111111111111111,
              "#46039f"
             ],
             [
              0.2222222222222222,
              "#7201a8"
             ],
             [
              0.3333333333333333,
              "#9c179e"
             ],
             [
              0.4444444444444444,
              "#bd3786"
             ],
             [
              0.5555555555555556,
              "#d8576b"
             ],
             [
              0.6666666666666666,
              "#ed7953"
             ],
             [
              0.7777777777777778,
              "#fb9f3a"
             ],
             [
              0.8888888888888888,
              "#fdca26"
             ],
             [
              1,
              "#f0f921"
             ]
            ],
            "type": "heatmapgl"
           }
          ],
          "histogram": [
           {
            "marker": {
             "pattern": {
              "fillmode": "overlay",
              "size": 10,
              "solidity": 0.2
             }
            },
            "type": "histogram"
           }
          ],
          "histogram2d": [
           {
            "colorbar": {
             "outlinewidth": 0,
             "ticks": ""
            },
            "colorscale": [
             [
              0,
              "#0d0887"
             ],
             [
              0.1111111111111111,
              "#46039f"
             ],
             [
              0.2222222222222222,
              "#7201a8"
             ],
             [
              0.3333333333333333,
              "#9c179e"
             ],
             [
              0.4444444444444444,
              "#bd3786"
             ],
             [
              0.5555555555555556,
              "#d8576b"
             ],
             [
              0.6666666666666666,
              "#ed7953"
             ],
             [
              0.7777777777777778,
              "#fb9f3a"
             ],
             [
              0.8888888888888888,
              "#fdca26"
             ],
             [
              1,
              "#f0f921"
             ]
            ],
            "type": "histogram2d"
           }
          ],
          "histogram2dcontour": [
           {
            "colorbar": {
             "outlinewidth": 0,
             "ticks": ""
            },
            "colorscale": [
             [
              0,
              "#0d0887"
             ],
             [
              0.1111111111111111,
              "#46039f"
             ],
             [
              0.2222222222222222,
              "#7201a8"
             ],
             [
              0.3333333333333333,
              "#9c179e"
             ],
             [
              0.4444444444444444,
              "#bd3786"
             ],
             [
              0.5555555555555556,
              "#d8576b"
             ],
             [
              0.6666666666666666,
              "#ed7953"
             ],
             [
              0.7777777777777778,
              "#fb9f3a"
             ],
             [
              0.8888888888888888,
              "#fdca26"
             ],
             [
              1,
              "#f0f921"
             ]
            ],
            "type": "histogram2dcontour"
           }
          ],
          "mesh3d": [
           {
            "colorbar": {
             "outlinewidth": 0,
             "ticks": ""
            },
            "type": "mesh3d"
           }
          ],
          "parcoords": [
           {
            "line": {
             "colorbar": {
              "outlinewidth": 0,
              "ticks": ""
             }
            },
            "type": "parcoords"
           }
          ],
          "pie": [
           {
            "automargin": true,
            "type": "pie"
           }
          ],
          "scatter": [
           {
            "fillpattern": {
             "fillmode": "overlay",
             "size": 10,
             "solidity": 0.2
            },
            "type": "scatter"
           }
          ],
          "scatter3d": [
           {
            "line": {
             "colorbar": {
              "outlinewidth": 0,
              "ticks": ""
             }
            },
            "marker": {
             "colorbar": {
              "outlinewidth": 0,
              "ticks": ""
             }
            },
            "type": "scatter3d"
           }
          ],
          "scattercarpet": [
           {
            "marker": {
             "colorbar": {
              "outlinewidth": 0,
              "ticks": ""
             }
            },
            "type": "scattercarpet"
           }
          ],
          "scattergeo": [
           {
            "marker": {
             "colorbar": {
              "outlinewidth": 0,
              "ticks": ""
             }
            },
            "type": "scattergeo"
           }
          ],
          "scattergl": [
           {
            "marker": {
             "colorbar": {
              "outlinewidth": 0,
              "ticks": ""
             }
            },
            "type": "scattergl"
           }
          ],
          "scattermapbox": [
           {
            "marker": {
             "colorbar": {
              "outlinewidth": 0,
              "ticks": ""
             }
            },
            "type": "scattermapbox"
           }
          ],
          "scatterpolar": [
           {
            "marker": {
             "colorbar": {
              "outlinewidth": 0,
              "ticks": ""
             }
            },
            "type": "scatterpolar"
           }
          ],
          "scatterpolargl": [
           {
            "marker": {
             "colorbar": {
              "outlinewidth": 0,
              "ticks": ""
             }
            },
            "type": "scatterpolargl"
           }
          ],
          "scatterternary": [
           {
            "marker": {
             "colorbar": {
              "outlinewidth": 0,
              "ticks": ""
             }
            },
            "type": "scatterternary"
           }
          ],
          "surface": [
           {
            "colorbar": {
             "outlinewidth": 0,
             "ticks": ""
            },
            "colorscale": [
             [
              0,
              "#0d0887"
             ],
             [
              0.1111111111111111,
              "#46039f"
             ],
             [
              0.2222222222222222,
              "#7201a8"
             ],
             [
              0.3333333333333333,
              "#9c179e"
             ],
             [
              0.4444444444444444,
              "#bd3786"
             ],
             [
              0.5555555555555556,
              "#d8576b"
             ],
             [
              0.6666666666666666,
              "#ed7953"
             ],
             [
              0.7777777777777778,
              "#fb9f3a"
             ],
             [
              0.8888888888888888,
              "#fdca26"
             ],
             [
              1,
              "#f0f921"
             ]
            ],
            "type": "surface"
           }
          ],
          "table": [
           {
            "cells": {
             "fill": {
              "color": "#EBF0F8"
             },
             "line": {
              "color": "white"
             }
            },
            "header": {
             "fill": {
              "color": "#C8D4E3"
             },
             "line": {
              "color": "white"
             }
            },
            "type": "table"
           }
          ]
         },
         "layout": {
          "annotationdefaults": {
           "arrowcolor": "#2a3f5f",
           "arrowhead": 0,
           "arrowwidth": 1
          },
          "autotypenumbers": "strict",
          "coloraxis": {
           "colorbar": {
            "outlinewidth": 0,
            "ticks": ""
           }
          },
          "colorscale": {
           "diverging": [
            [
             0,
             "#8e0152"
            ],
            [
             0.1,
             "#c51b7d"
            ],
            [
             0.2,
             "#de77ae"
            ],
            [
             0.3,
             "#f1b6da"
            ],
            [
             0.4,
             "#fde0ef"
            ],
            [
             0.5,
             "#f7f7f7"
            ],
            [
             0.6,
             "#e6f5d0"
            ],
            [
             0.7,
             "#b8e186"
            ],
            [
             0.8,
             "#7fbc41"
            ],
            [
             0.9,
             "#4d9221"
            ],
            [
             1,
             "#276419"
            ]
           ],
           "sequential": [
            [
             0,
             "#0d0887"
            ],
            [
             0.1111111111111111,
             "#46039f"
            ],
            [
             0.2222222222222222,
             "#7201a8"
            ],
            [
             0.3333333333333333,
             "#9c179e"
            ],
            [
             0.4444444444444444,
             "#bd3786"
            ],
            [
             0.5555555555555556,
             "#d8576b"
            ],
            [
             0.6666666666666666,
             "#ed7953"
            ],
            [
             0.7777777777777778,
             "#fb9f3a"
            ],
            [
             0.8888888888888888,
             "#fdca26"
            ],
            [
             1,
             "#f0f921"
            ]
           ],
           "sequentialminus": [
            [
             0,
             "#0d0887"
            ],
            [
             0.1111111111111111,
             "#46039f"
            ],
            [
             0.2222222222222222,
             "#7201a8"
            ],
            [
             0.3333333333333333,
             "#9c179e"
            ],
            [
             0.4444444444444444,
             "#bd3786"
            ],
            [
             0.5555555555555556,
             "#d8576b"
            ],
            [
             0.6666666666666666,
             "#ed7953"
            ],
            [
             0.7777777777777778,
             "#fb9f3a"
            ],
            [
             0.8888888888888888,
             "#fdca26"
            ],
            [
             1,
             "#f0f921"
            ]
           ]
          },
          "colorway": [
           "#636efa",
           "#EF553B",
           "#00cc96",
           "#ab63fa",
           "#FFA15A",
           "#19d3f3",
           "#FF6692",
           "#B6E880",
           "#FF97FF",
           "#FECB52"
          ],
          "font": {
           "color": "#2a3f5f"
          },
          "geo": {
           "bgcolor": "white",
           "lakecolor": "white",
           "landcolor": "#E5ECF6",
           "showlakes": true,
           "showland": true,
           "subunitcolor": "white"
          },
          "hoverlabel": {
           "align": "left"
          },
          "hovermode": "closest",
          "mapbox": {
           "style": "light"
          },
          "paper_bgcolor": "white",
          "plot_bgcolor": "#E5ECF6",
          "polar": {
           "angularaxis": {
            "gridcolor": "white",
            "linecolor": "white",
            "ticks": ""
           },
           "bgcolor": "#E5ECF6",
           "radialaxis": {
            "gridcolor": "white",
            "linecolor": "white",
            "ticks": ""
           }
          },
          "scene": {
           "xaxis": {
            "backgroundcolor": "#E5ECF6",
            "gridcolor": "white",
            "gridwidth": 2,
            "linecolor": "white",
            "showbackground": true,
            "ticks": "",
            "zerolinecolor": "white"
           },
           "yaxis": {
            "backgroundcolor": "#E5ECF6",
            "gridcolor": "white",
            "gridwidth": 2,
            "linecolor": "white",
            "showbackground": true,
            "ticks": "",
            "zerolinecolor": "white"
           },
           "zaxis": {
            "backgroundcolor": "#E5ECF6",
            "gridcolor": "white",
            "gridwidth": 2,
            "linecolor": "white",
            "showbackground": true,
            "ticks": "",
            "zerolinecolor": "white"
           }
          },
          "shapedefaults": {
           "line": {
            "color": "#2a3f5f"
           }
          },
          "ternary": {
           "aaxis": {
            "gridcolor": "white",
            "linecolor": "white",
            "ticks": ""
           },
           "baxis": {
            "gridcolor": "white",
            "linecolor": "white",
            "ticks": ""
           },
           "bgcolor": "#E5ECF6",
           "caxis": {
            "gridcolor": "white",
            "linecolor": "white",
            "ticks": ""
           }
          },
          "title": {
           "x": 0.05
          },
          "xaxis": {
           "automargin": true,
           "gridcolor": "white",
           "linecolor": "white",
           "ticks": "",
           "title": {
            "standoff": 15
           },
           "zerolinecolor": "white",
           "zerolinewidth": 2
          },
          "yaxis": {
           "automargin": true,
           "gridcolor": "white",
           "linecolor": "white",
           "ticks": "",
           "title": {
            "standoff": 15
           },
           "zerolinecolor": "white",
           "zerolinewidth": 2
          }
         }
        },
        "title": {
         "text": "Preview of Selected Bounding Boxes for Houston, TX"
        },
        "width": 600
       }
      }
     },
     "metadata": {},
     "output_type": "display_data"
    }
   ],
   "source": [
    "preview_regions(data_params)"
   ]
  },
  {
   "cell_type": "markdown",
   "metadata": {},
   "source": [
    "If we are happy with the coordinates, we will proceed with using the Earth Data API `TO DO GET RIGHT NAME` to download the corresponding MODIS data."
   ]
  },
  {
   "cell_type": "code",
   "execution_count": null,
   "metadata": {},
   "outputs": [],
   "source": []
  },
  {
   "cell_type": "markdown",
   "metadata": {},
   "source": [
    "`ADD SEGWAY NOW THAT DOWNLOAD CODE NOT INCLUDED`\n",
    "The processing code for working with the downloaded files is beyond the scope of this blog post. However, suffice it to say that there may be data quality issues or other challenges that need to be addressed. \n",
    "\n",
    "For example, the downloaded files may contain a large amount of missing or corrupted data. These issues can be addressed using a combination of data preprocessing techniques, data cleaning methods, and data transformation tools. However, if we can adjust our starting parameters dynamically, we can find parameters with fewer issues, allowing a cleaner analysis.\n",
    "\n",
    "To do so, we will leverage the OpenAI API with LangChain to query ChatGPT for new suggested parameters from within our notebook."
   ]
  },
  {
   "cell_type": "markdown",
   "metadata": {},
   "source": [
    "## Getting New Suggested Parameters from OpenAI "
   ]
  },
  {
   "cell_type": "code",
   "execution_count": null,
   "metadata": {},
   "outputs": [],
   "source": []
  },
  {
   "cell_type": "markdown",
   "metadata": {},
   "source": [
    "### Setting Up OpenAI + LangChain"
   ]
  },
  {
   "cell_type": "markdown",
   "metadata": {},
   "source": [
    "1. **Sign up for OpenAI's API:** \n",
    "   - Visit the [OpenAI website](https://www.openai.com) and sign up for an API key.\n",
    "\n",
    "2. **Create a `.secret` folder:**\n",
    "   ```bash\n",
    "   cd ~\n",
    "   mkdir .secret\n",
    "   ```\n",
    "\n",
    "3. **Save your API key as a text file in the `.secret` folder:**\n",
    "   - Open a text editor and paste your API key.\n",
    "   - Save the file as `open-ai.txt` in the `.secret` folder. For example, you can use the following command in the terminal to create the file and save the API key:\n",
    "   ```bash\n",
    "   echo \"your_openai_api_key_here\" > ~/.secret/open-ai.txt\n",
    "   ```\n",
    "\n",
    "4. **Export the key from the file to your `.bash_profile` or `.zshrc`:**\n",
    "   - Open your `.bash_profile` for editing:\n",
    "   ```bash\n",
    "   code ~/.bash_profile\n",
    "   ```\n",
    "   If using zsh, use: \n",
    "   ```bash\n",
    "   code ~/.zshrc\n",
    "   ```\n",
    "   - Add the following line to export the API key:\n",
    "   ```bash\n",
    "   export OPENAI_API_KEY=$(cat ~/.secret/open-ai.txt)\n",
    "   ```\n",
    "   - Save the file and exit the editor \n",
    "\n",
    "5. **Reload your `.bash_profile` to apply the changes:**\n",
    "   ```bash\n",
    "   source ~/.bash_profile\n",
    "   ```\n",
    "   If you're using zsh:\n",
    "   ```bash\n",
    "   source ~/.zshrc\n",
    "   ```\n",
    "\n",
    "After following these steps, your API key will be available in your environment variables as `OPENAI_API_KEY`.\n",
    "\n",
    "You can confirm this with Python by importing the `os` module and checking the `os.environ` dictionary for 'OPENAI_API_KEY'.\n"
   ]
  },
  {
   "cell_type": "code",
   "execution_count": 35,
   "metadata": {},
   "outputs": [
    {
     "data": {
      "text/plain": [
       "True"
      ]
     },
     "execution_count": 35,
     "metadata": {},
     "output_type": "execute_result"
    }
   ],
   "source": [
    "import os\n",
    "'OPENAI_API_KEY' in os.environ"
   ]
  },
  {
   "cell_type": "markdown",
   "metadata": {},
   "source": [
    "\n",
    "> Note: Do NOT display the value of your OPENAI_API_KEY. If you accidentally expose your API credentials, OpenAI will automatically deactivate them, causing any program or app that uses it to break. "
   ]
  },
  {
   "cell_type": "markdown",
   "metadata": {},
   "source": [
    "### Using LangChain with ChatGPT"
   ]
  },
  {
   "cell_type": "markdown",
   "metadata": {},
   "source": [
    "LangChain is a versatile framework designed to simplify the integration of language models into various applications, enabling seamless management of inputs and outputs, including structured data formats. By leveraging LangChain, developers can efficiently implement advanced AI functionalities, such as function calling, tool calling, and JSON mode, ensuring consistent and reliable outputs tailored to specific needs. This framework facilitates the creation of sophisticated AI-driven solutions across different domains, making it an essential tool for modern AI development. "
   ]
  },
  {
   "cell_type": "code",
   "execution_count": 36,
   "metadata": {},
   "outputs": [],
   "source": [
    "# !pip install langchain_openai langchain_core langchain_community"
   ]
  },
  {
   "cell_type": "markdown",
   "metadata": {},
   "source": [
    "To consruct a chain using LangChain's newer LCEL (LangChain Execution Language) we need to define the following:\n",
    "- The prompt\n",
    "- The llm model\n",
    "- The output format"
   ]
  },
  {
   "cell_type": "markdown",
   "metadata": {},
   "source": [
    "#### LangChain's `PromptTemplate`"
   ]
  },
  {
   "cell_type": "markdown",
   "metadata": {},
   "source": [
    "Prompt engineering/construction is vital for obtaining high-quality results from any Large Langauge Model (LLM). To get the best suggestions from the API, it is important to provide sufficient context in our prompt/query, while leaving the option to customize the prompt on-the-fly.\n",
    "\n",
    "To do so, we will create a prompt_string that has our prompt plus a set of curly brackets around a `specs` variable, as-if it was an f-string ( but note that we are not actually using it as an f-string)."
   ]
  },
  {
   "cell_type": "code",
   "execution_count": 11,
   "metadata": {},
   "outputs": [
    {
     "name": "stdout",
     "output_type": "stream",
     "text": [
      "I am performing an urban heat island analysis project with MODIS data comparing urban areas vs. rural areas. \n",
      "I need to download MODIS data for 2 nearby non-overlapping regions (urban area and rural area outside of city) and time range.\n",
      "Help me select the urban and rural regions and time, keeping the following in mind:\n",
      "{specs}\n",
      "\n"
     ]
    }
   ],
   "source": [
    "\n",
    "prompt_string = \"\"\"I am performing an urban heat island analysis project with MODIS data comparing urban areas vs. rural areas. \n",
    "I need to download MODIS data for 2 nearby non-overlapping regions (urban area and rural area outside of city) and time range.\n",
    "Help me select the urban and rural regions and time, keeping the following in mind:\n",
    "{specs}\n",
    "\"\"\"\n",
    "print(prompt_string)"
   ]
  },
  {
   "cell_type": "markdown",
   "metadata": {},
   "source": [
    "We will use this prompt_string to construct a PromptTemplate object with LangChain, which will turn our f-string variable into a parameter that we pass in with our request. "
   ]
  },
  {
   "cell_type": "code",
   "execution_count": 12,
   "metadata": {},
   "outputs": [
    {
     "data": {
      "text/plain": [
       "PromptTemplate(input_variables=['specs'], template='I am performing an urban heat island analysis project with MODIS data comparing urban areas vs. rural areas. \\nI need to download MODIS data for 2 nearby non-overlapping regions (urban area and rural area outside of city) and time range.\\nHelp me select the urban and rural regions and time, keeping the following in mind:\\n{specs}\\n')"
      ]
     },
     "execution_count": 12,
     "metadata": {},
     "output_type": "execute_result"
    }
   ],
   "source": [
    "from langchain_core.prompts import PromptTemplate\n",
    "\n",
    "# Converting the prompt_string to a PromptTemplate\n",
    "prompt = PromptTemplate.from_template(prompt_string) \n",
    "prompt"
   ]
  },
  {
   "cell_type": "code",
   "execution_count": 13,
   "metadata": {},
   "outputs": [
    {
     "data": {
      "text/plain": [
       "['specs']"
      ]
     },
     "execution_count": 13,
     "metadata": {},
     "output_type": "execute_result"
    }
   ],
   "source": [
    "# Any f-string variables in the prompt string become input_variables.\n",
    "prompt.input_variables"
   ]
  },
  {
   "cell_type": "code",
   "execution_count": 14,
   "metadata": {},
   "outputs": [
    {
     "name": "stdout",
     "output_type": "stream",
     "text": [
      "I am performing an urban heat island analysis project with MODIS data comparing urban areas vs. rural areas. \n",
      "I need to download MODIS data for 2 nearby non-overlapping regions (urban area and rural area outside of city) and time range.\n",
      "Help me select the urban and rural regions and time, keeping the following in mind:\n",
      "1. Urban area should be within the city limits and rural area should be outside the city limits.\n",
      "\n"
     ]
    }
   ],
   "source": [
    "# The prompt string with the f-string variables replaced by the input values using the .format() method\n",
    "specs_string= \"1. Urban area should be within the city limits and rural area should be outside the city limits.\"\n",
    "print(prompt.format(specs=specs_string))"
   ]
  },
  {
   "cell_type": "markdown",
   "metadata": {},
   "source": [
    "#### Instantiating an LLM"
   ]
  },
  {
   "cell_type": "markdown",
   "metadata": {},
   "source": [
    "Next, we need to instantiate a language model. LangChain has separate packages for each of the LLMs it is compatible with. Since we are using OpenAI, we will use the ChatOpenAI object from `langchain_openai`."
   ]
  },
  {
   "cell_type": "markdown",
   "metadata": {},
   "source": []
  },
  {
   "cell_type": "code",
   "execution_count": 15,
   "metadata": {},
   "outputs": [
    {
     "data": {
      "text/plain": [
       "ChatOpenAI(client=<openai.resources.chat.completions.Completions object at 0x17d7a7a90>, async_client=<openai.resources.chat.completions.AsyncCompletions object at 0x17d7b7c90>, model_name='gpt-4o', temperature=0.0, openai_api_key=SecretStr('**********'), openai_proxy='')"
      ]
     },
     "execution_count": 15,
     "metadata": {},
     "output_type": "execute_result"
    }
   ],
   "source": [
    "from langchain_openai import ChatOpenAI \n",
    "chat = ChatOpenAI(api_key=os.environ['OPENAI_API_KEY'], model=\"gpt-4o\", temperature=0.0)\n",
    "chat"
   ]
  },
  {
   "cell_type": "markdown",
   "metadata": {},
   "source": [
    "#### Adding an Output Parser"
   ]
  },
  {
   "cell_type": "markdown",
   "metadata": {},
   "source": [
    "The final piece of our chain is the output parser. While we could technically leave this out of our chain, it is better that we use the default StrOutputParser to convert our response into a simple string (instead of a JSON-like dictionary)."
   ]
  },
  {
   "cell_type": "code",
   "execution_count": 16,
   "metadata": {},
   "outputs": [],
   "source": [
    "from langchain_core.output_parsers import StrOutputParser\n",
    "output_parser = StrOutputParser()"
   ]
  },
  {
   "cell_type": "markdown",
   "metadata": {},
   "source": [
    "### Putting it All Together: Our First Chain"
   ]
  },
  {
   "cell_type": "markdown",
   "metadata": {},
   "source": [
    "Now that we have the 3 components of our chain, we construct the final chain using LCEL. \n",
    "\n",
    "Our chain starts with the prompt, followed by a pipe symbol `|` and then the LLM object, followed by another pipe, and finally the output parser. "
   ]
  },
  {
   "cell_type": "code",
   "execution_count": 17,
   "metadata": {},
   "outputs": [
    {
     "data": {
      "text/plain": [
       "PromptTemplate(input_variables=['specs'], template='I am performing an urban heat island analysis project with MODIS data comparing urban areas vs. rural areas. \\nI need to download MODIS data for 2 nearby non-overlapping regions (urban area and rural area outside of city) and time range.\\nHelp me select the urban and rural regions and time, keeping the following in mind:\\n{specs}\\n')\n",
       "| ChatOpenAI(client=<openai.resources.chat.completions.Completions object at 0x17d7a7a90>, async_client=<openai.resources.chat.completions.AsyncCompletions object at 0x17d7b7c90>, model_name='gpt-4o', temperature=0.0, openai_api_key=SecretStr('**********'), openai_proxy='')\n",
       "| StrOutputParser()"
      ]
     },
     "execution_count": 17,
     "metadata": {},
     "output_type": "execute_result"
    }
   ],
   "source": [
    "# Constructing Our Chain\n",
    "chain = prompt | chat | output_parser\n",
    "chain\n"
   ]
  },
  {
   "cell_type": "markdown",
   "metadata": {},
   "source": [
    "To use the chain we use the .invoke method and must provide the `input_variables` that are required by the prompt template."
   ]
  },
  {
   "cell_type": "code",
   "execution_count": 18,
   "metadata": {},
   "outputs": [
    {
     "data": {
      "text/plain": [
       "TypeError(\"RunnableSequence.invoke() missing 1 required positional argument: 'input'\")"
      ]
     },
     "metadata": {},
     "output_type": "display_data"
    }
   ],
   "source": [
    "# Attempting to use .invoke without input variables\n",
    "try:\n",
    "    response = chain.invoke()\n",
    "    print(response)\n",
    "except Exception as e:\n",
    "    display(e)\n"
   ]
  },
  {
   "cell_type": "code",
   "execution_count": 19,
   "metadata": {},
   "outputs": [
    {
     "name": "stdout",
     "output_type": "stream",
     "text": [
      "To perform an urban heat island analysis using MODIS data, you need to carefully select your urban and rural regions to ensure they are representative and non-overlapping. Here’s a step-by-step guide to help you select the regions and time range:\n",
      "\n",
      "### Step 1: Select the City\n",
      "Choose a city in the southern US that is known for its urban heat island effect. For this example, let's select **Houston, Texas**. Houston is a large metropolitan area with significant urban development and is surrounded by rural areas.\n",
      "\n",
      "### Step 2: Define the Urban Area\n",
      "Identify the urban area within Houston city limits. You can use city boundary data from sources like the U.S. Census Bureau or GIS data from local government websites. For simplicity, let's define the urban area as the central part of Houston.\n",
      "\n",
      "### Step 3: Define the Rural Area\n",
      "Select a rural area outside the city limits of Houston. Ensure this area is sufficiently far from the urban area to avoid overlap and influence from urban heat. A good choice would be an area to the northwest of Houston, such as around **Hempstead, Texas**.\n",
      "\n",
      "### Step 4: Determine the Time Range\n",
      "Choose a time range that covers different seasons to capture variations in the urban heat island effect. A good time range would be one year, for example, from **January 1, 2022, to December 31, 2022**.\n",
      "\n",
      "### Step 5: Download MODIS Data\n",
      "Use NASA's Earthdata Search or other platforms like Google Earth Engine to download MODIS data for the selected regions and time range. You will need to download data for both the urban and rural areas separately.\n",
      "\n",
      "#### Example Coordinates:\n",
      "- **Urban Area (Houston, TX):**\n",
      "  - Latitude: 29.7604° N\n",
      "  - Longitude: 95.3698° W\n",
      "  - Approximate bounding box: \n",
      "    - North: 29.8700° N\n",
      "    - South: 29.6500° N\n",
      "    - East: 95.2000° W\n",
      "    - West: 95.5000° W\n",
      "\n",
      "- **Rural Area (Hempstead, TX):**\n",
      "  - Latitude: 30.0977° N\n",
      "  - Longitude: 96.0780° W\n",
      "  - Approximate bounding box:\n",
      "    - North: 30.2000° N\n",
      "    - South: 30.0000° N\n",
      "    - East: 96.0000° W\n",
      "    - West: 96.2000° W\n",
      "\n",
      "### Step 6: Data Processing and Analysis\n",
      "1. **Preprocess the Data:** Ensure the data is in the correct format and projection. MODIS data often requires preprocessing steps such as reprojecting, resampling, and masking clouds.\n",
      "2. **Calculate Land Surface Temperature (LST):** Use the MODIS LST product to extract temperature data for both urban and rural areas.\n",
      "3. **Analyze the Data:** Compare the temperature data between the urban and rural areas to identify the urban heat island effect. Look for temperature differences, seasonal variations, and any trends over the selected time range.\n",
      "\n",
      "### Tools and Resources:\n",
      "- **NASA Earthdata Search:** [https://search.earthdata.nasa.gov/](https://search.earthdata.nasa.gov/)\n",
      "- **Google Earth Engine:** [https://earthengine.google.com/](https://earthengine.google.com/)\n",
      "- **MODIS Land Surface Temperature Products:** [https://modis.gsfc.nasa.gov/data/dataprod/mod11.php](https://modis.gsfc.nasa.gov/data/dataprod/mod11.php)\n",
      "\n",
      "By following these steps, you should be able to effectively select and analyze the urban and rural regions for your urban heat island study using MODIS data.\n"
     ]
    }
   ],
   "source": [
    "# Using the input variables to provide the necessary information\n",
    "specs_string = \"\"\"1. Urban area should be within the city limits and rural area should be outside the city limits.\n",
    "2. The urban area should be selected within the southern US region to study the urban heat island effect. \n",
    "\"\"\"\n",
    "response = chain.invoke({'specs':specs_string})\n",
    "print(response)"
   ]
  },
  {
   "cell_type": "code",
   "execution_count": 20,
   "metadata": {},
   "outputs": [
    {
     "data": {
      "text/markdown": [
       "To perform an urban heat island analysis using MODIS data, you need to carefully select your urban and rural regions to ensure they are representative and non-overlapping. Here’s a step-by-step guide to help you select the regions and time range:\n",
       "\n",
       "### Step 1: Select the City\n",
       "Choose a city in the southern US that is known for its urban heat island effect. For this example, let's select **Houston, Texas**. Houston is a large metropolitan area with significant urban development and is surrounded by rural areas.\n",
       "\n",
       "### Step 2: Define the Urban Area\n",
       "Identify the urban area within Houston city limits. You can use city boundary data from sources like the U.S. Census Bureau or GIS data from local government websites. For simplicity, let's define the urban area as the central part of Houston.\n",
       "\n",
       "### Step 3: Define the Rural Area\n",
       "Select a rural area outside the city limits of Houston. Ensure this area is sufficiently far from the urban area to avoid overlap and influence from urban heat. A good choice would be an area to the northwest of Houston, such as around **Hempstead, Texas**.\n",
       "\n",
       "### Step 4: Determine the Time Range\n",
       "Choose a time range that covers different seasons to capture variations in the urban heat island effect. A good time range would be one year, for example, from **January 1, 2022, to December 31, 2022**.\n",
       "\n",
       "### Step 5: Download MODIS Data\n",
       "Use NASA's Earthdata Search or other platforms like Google Earth Engine to download MODIS data for the selected regions and time range. You will need to download data for both the urban and rural areas separately.\n",
       "\n",
       "#### Example Coordinates:\n",
       "- **Urban Area (Houston, TX):**\n",
       "  - Latitude: 29.7604° N\n",
       "  - Longitude: 95.3698° W\n",
       "  - Approximate bounding box: \n",
       "    - North: 29.8700° N\n",
       "    - South: 29.6500° N\n",
       "    - East: 95.2000° W\n",
       "    - West: 95.5000° W\n",
       "\n",
       "- **Rural Area (Hempstead, TX):**\n",
       "  - Latitude: 30.0977° N\n",
       "  - Longitude: 96.0780° W\n",
       "  - Approximate bounding box:\n",
       "    - North: 30.2000° N\n",
       "    - South: 30.0000° N\n",
       "    - East: 96.0000° W\n",
       "    - West: 96.2000° W\n",
       "\n",
       "### Step 6: Data Processing and Analysis\n",
       "1. **Preprocess the Data:** Ensure the data is in the correct format and projection. MODIS data often requires preprocessing steps such as reprojecting, resampling, and masking clouds.\n",
       "2. **Calculate Land Surface Temperature (LST):** Use the MODIS LST product to extract temperature data for both urban and rural areas.\n",
       "3. **Analyze the Data:** Compare the temperature data between the urban and rural areas to identify the urban heat island effect. Look for temperature differences, seasonal variations, and any trends over the selected time range.\n",
       "\n",
       "### Tools and Resources:\n",
       "- **NASA Earthdata Search:** [https://search.earthdata.nasa.gov/](https://search.earthdata.nasa.gov/)\n",
       "- **Google Earth Engine:** [https://earthengine.google.com/](https://earthengine.google.com/)\n",
       "- **MODIS Land Surface Temperature Products:** [https://modis.gsfc.nasa.gov/data/dataprod/mod11.php](https://modis.gsfc.nasa.gov/data/dataprod/mod11.php)\n",
       "\n",
       "By following these steps, you should be able to effectively select and analyze the urban and rural regions for your urban heat island study using MODIS data."
      ],
      "text/plain": [
       "<IPython.core.display.Markdown object>"
      ]
     },
     "metadata": {},
     "output_type": "display_data"
    }
   ],
   "source": [
    "# ChatGPT responds with Markdown-stytled text, so we can use IPython's `Markdown` class to render it\n",
    "from IPython.display import Markdown, display\n",
    "display(Markdown(response))"
   ]
  },
  {
   "cell_type": "markdown",
   "metadata": {},
   "source": [
    "To leverage the new suggestions from ChatGPT, we would have to manually construct a new `data_params` dict using the raw text from the response. This is a manual process that can be automated by using a more complex Output Parser: the Json."
   ]
  },
  {
   "cell_type": "markdown",
   "metadata": {},
   "source": [
    "### Getting Structured Output from LangChain"
   ]
  },
  {
   "cell_type": "markdown",
   "metadata": {},
   "source": [
    "We want to produce a JSON-dictionary with the same structure as our original `data_params`. \n"
   ]
  },
  {
   "cell_type": "code",
   "execution_count": 21,
   "metadata": {},
   "outputs": [
    {
     "data": {
      "text/plain": [
       "{'city_region_name': 'Houston, TX',\n",
       " 'coordinates': {'urban': {'SW': [29.69193, -95.47998],\n",
       "   'NE': [29.90719, -95.2251]},\n",
       "  'rural': {'SW': [30.5, -96.5], 'NE': [31.0, -96.0]}},\n",
       " 'time': {'start': '2023-06-01T00:00:00Z', 'end': '2023-08-31T23:59:59Z'}}"
      ]
     },
     "execution_count": 21,
     "metadata": {},
     "output_type": "execute_result"
    }
   ],
   "source": [
    "# Starting Parameters (manual)\n",
    "data_params = {'city_region_name':'Houston, TX',\n",
    "               'coordinates': {\n",
    "                   'urban': {\n",
    "                       'SW': [29.69193, -95.47998],\n",
    "                        'NE': [29.90719, -95.2251]\n",
    "                        },\n",
    "                   'rural': {\n",
    "                       'SW': [30.5, -96.5],\n",
    "                       'NE': [31.0, -96.0]\n",
    "                       }\n",
    "                   },\n",
    "               'time': {\n",
    "                   'start': '2023-06-01T00:00:00Z',\n",
    "                   'end': '2023-08-31T23:59:59Z'\n",
    "                   }\n",
    "               }\n",
    "data_params"
   ]
  },
  {
   "cell_type": "markdown",
   "metadata": {},
   "source": [
    "\n",
    "To review, the `data_params` will have the following 3 keys:\n",
    "- `city_region_name`: the name of the metro area associated with the selected urban and rural coordinates.\n",
    "- `coordinates`: a nested dictionary with keys for the `urban` region and `rural` region.\n",
    "    - `urban` and `rural` keys both contain a `SW` and `NE` coordinate.\n",
    "        - the `SW` and `NE` coordinates are provided as a list of [latitude, longitude]\n",
    "- `time`: a nested dictionary with a `start` and `end` time."
   ]
  },
  {
   "cell_type": "code",
   "execution_count": null,
   "metadata": {},
   "outputs": [],
   "source": []
  },
  {
   "cell_type": "markdown",
   "metadata": {},
   "source": [
    "### Structured Output"
   ]
  },
  {
   "cell_type": "markdown",
   "metadata": {},
   "source": [
    "- We can construct a Pydantic data model to control structured output of API parameters from ChatGPT.\n",
    "\n",
    "The pydantic data model will be a class that contains defined the exact structure of the desired output, including data types."
   ]
  },
  {
   "cell_type": "markdown",
   "metadata": {},
   "source": [
    "The default example from the langchain documentation is as follows:"
   ]
  },
  {
   "cell_type": "code",
   "execution_count": 22,
   "metadata": {},
   "outputs": [
    {
     "data": {
      "text/plain": [
       "PromptTemplate(input_variables=['topic'], partial_variables={'format_instructions': 'The output should be formatted as a JSON instance that conforms to the JSON schema below.\\n\\nAs an example, for the schema {\"properties\": {\"foo\": {\"title\": \"Foo\", \"description\": \"a list of strings\", \"type\": \"array\", \"items\": {\"type\": \"string\"}}}, \"required\": [\"foo\"]}\\nthe object {\"foo\": [\"bar\", \"baz\"]} is a well-formatted instance of the schema. The object {\"properties\": {\"foo\": [\"bar\", \"baz\"]}} is not well-formatted.\\n\\nHere is the output schema:\\n```\\n{\"properties\": {\"setup\": {\"title\": \"Setup\", \"description\": \"The setup of the joke\", \"type\": \"string\"}, \"punchline\": {\"title\": \"Punchline\", \"description\": \"The punchline to the joke\", \"type\": \"string\"}}, \"required\": [\"setup\", \"punchline\"]}\\n```'}, template='Tell me a joke about {topic}\\nFormat Instructions:\\n{format_instructions}\\n')\n",
       "| ChatOpenAI(client=<openai.resources.chat.completions.Completions object at 0x17d7b8250>, async_client=<openai.resources.chat.completions.AsyncCompletions object at 0x17d8025d0>, model_name='gpt-4o', temperature=0.0, openai_api_key=SecretStr('**********'), openai_proxy='')\n",
       "| JsonOutputParser(pydantic_object=<class '__main__.Joke'>)"
      ]
     },
     "execution_count": 22,
     "metadata": {},
     "output_type": "execute_result"
    }
   ],
   "source": [
    "from langchain_core.pydantic_v1 import BaseModel, Field\n",
    "from langchain_core.output_parsers import JsonOutputParser\n",
    "\n",
    "# Create the prompt    \n",
    "prompt_template_string = \"\"\"Tell me a joke about {topic}\n",
    "Format Instructions:\n",
    "{format_instructions}\n",
    "\"\"\"\n",
    "prompt = PromptTemplate.from_template(prompt_template_string)\n",
    "\n",
    "# Create the LLM\n",
    "chat = ChatOpenAI(api_key=os.environ['OPENAI_API_KEY'], model=\"gpt-4o\", temperature=0.0)\n",
    "\n",
    "\n",
    "# Specify the structured output for the LLM\n",
    "class Joke(BaseModel):\n",
    "    setup: str = Field(description=\"The setup of the joke\")\n",
    "    punchline: str = Field(description=\"The punchline to the joke\")\n",
    "    \n",
    "# Create the output parser with the structured output\n",
    "output_parser = JsonOutputParser(pydantic_object=Joke)\n",
    "\n",
    "# Add the format instructions from the Output Parser using the .partial PromptTemplate method\n",
    "prompt = prompt.partial(format_instructions=output_parser.get_format_instructions())\n",
    "\n",
    "# Construct the chain\n",
    "chain = prompt | chat | output_parser\n",
    "chain"
   ]
  },
  {
   "cell_type": "code",
   "execution_count": 23,
   "metadata": {},
   "outputs": [
    {
     "data": {
      "text/plain": [
       "dict_keys(['setup', 'punchline'])"
      ]
     },
     "execution_count": 23,
     "metadata": {},
     "output_type": "execute_result"
    }
   ],
   "source": [
    "response = chain.invoke({'topic':'chickens'})\n",
    "response.keys()"
   ]
  },
  {
   "cell_type": "code",
   "execution_count": 24,
   "metadata": {},
   "outputs": [
    {
     "name": "stdout",
     "output_type": "stream",
     "text": [
      "Why did the chicken join a band?\n",
      "Because it had the drumsticks!\n"
     ]
    }
   ],
   "source": [
    "print(response['setup'])\n",
    "print(response['punchline'])"
   ]
  },
  {
   "cell_type": "markdown",
   "metadata": {},
   "source": [
    "### Nested-Structured Output\n",
    "\n",
    "- Since we have several requirements for the format of our data_params dictionary, we will need to create classes to represent each type of formatting needed, with a final class that contains all of them."
   ]
  },
  {
   "cell_type": "code",
   "execution_count": 25,
   "metadata": {},
   "outputs": [],
   "source": [
    "from pydantic import BaseModel, Field, create_model\n",
    "from typing import List, Optional, Text, Dict"
   ]
  },
  {
   "cell_type": "code",
   "execution_count": 26,
   "metadata": {},
   "outputs": [],
   "source": [
    "## Defining the structured output desired from chat gpt\n",
    "## Tip was to use make_model\n",
    "# https://stackoverflow.com/questions/63257839/best-way-to-specify-nested-dict-with-pydantic\n",
    "class Coordinates(BaseModel):\n",
    "    SW: List[float]\n",
    "    NE: List[float]\n",
    "    \n",
    "class RegionCoordinates(BaseModel):\n",
    "    rural: Optional[Coordinates]\n",
    "    urban: Optional[Coordinates]\n",
    "                            \n",
    "class DataParams(BaseModel):\n",
    "    \"\"\"\n",
    "    Represents the parameters for data analysis.\n",
    "\n",
    "    Attributes:\n",
    "        city_region_name (str): The name of the city or region.\n",
    "        coordinates (Optional[RegionCoordinates]): The coordinates of the city or region.\n",
    "        time (Dict[str, str]): A dictionary containing time-related information.\n",
    "    \"\"\"\n",
    "    city_region_name: str\n",
    "    coordinates: Optional[RegionCoordinates]\n",
    "    time: Dict[str, str]"
   ]
  },
  {
   "cell_type": "code",
   "execution_count": null,
   "metadata": {},
   "outputs": [],
   "source": []
  },
  {
   "cell_type": "markdown",
   "metadata": {},
   "source": [
    "### Created a function that asks ChatGPT for suggested parameters"
   ]
  },
  {
   "cell_type": "code",
   "execution_count": 27,
   "metadata": {},
   "outputs": [],
   "source": [
    "def suggest_data_params(specs: str, temperature=0.0, model_type='gpt-4o', return_json=True) -> str:\n",
    "    \"\"\"\n",
    "    Suggests data parameters for downloading MODIS data for a specific region and time range.\n",
    "    \n",
    "    Args:\n",
    "        query (str): The query describing the requirements for the data download.\n",
    "        temperature (float, optional): The temperature parameter for the language model. Defaults to 0.1.\n",
    "        model_type (str, optional): The type of language model to use. Defaults to 'gpt-4o'.\n",
    "        return_llm (bool, optional): Whether to return the language model chain. Defaults to False.\n",
    "        return_json (bool, optional): Whether to return the response as JSON. Defaults to True.\n",
    "    \n",
    "    Returns:\n",
    "        str: The response from the language model chain or the JSON response, depending on the value of return_json.\n",
    "    \"\"\"\n",
    "    \n",
    "    # The prompt template for suggesting data parameters\n",
    "    prompt = \"\"\"\n",
    "    I am performing an urban heat island analysis project with MODIS data comparing urban areas vs. rural areas. \n",
    "    I need to download MODIS data for 2 nearby non-overlapping regions (urban area and rural area outside of city) and time range.\n",
    "    Help me select the urban and rural regions and time following the instructions below.\n",
    "    {specs}\n",
    "    \n",
    "    Provide me the data parameters for the download (city_region_name, coordinates as SW [lat,long] NE [lat,long], time_start named 'start', time_end named 'end') in the following format:\n",
    "    Format Instructions:\n",
    "    Use the 2-letter abbreviations for the state.\n",
    "    {format_instructions}\n",
    "    \"\"\"\n",
    "    # Create a ChatPromptTemplate object\n",
    "    final_prompt_template = PromptTemplate.from_template(prompt)\n",
    "\n",
    "    # Get api key for OpenAI from the environment or session state (if on Streamlit)\n",
    "    api_key = os.getenv('OPENAI_API_KEY')\n",
    "        \n",
    "    # Instantiate the language model and setting the specific model (chat-gpto is newest and reasonable price)\n",
    "    # and  set the temperature (creativity level)\n",
    "    llm = ChatOpenAI(temperature=temperature, model=model_type, api_key=api_key)\n",
    "    \n",
    "    if return_json:\n",
    "        # # JsonOutputParser will use the data model classes from above\n",
    "        parser = JsonOutputParser(pydantic_object=DataParams,)    \n",
    "        # Add formatting instructions for pydantic\n",
    "        instructions =  parser.get_format_instructions()\n",
    "            \n",
    "    else:\n",
    "        ## StrOutputParser will return the response as a string\n",
    "        parser = StrOutputParser(output_key=\"response\")\n",
    "        # Manually defining the format instructions\n",
    "        instructions = \"Respond with text for each topic as a nested list with the topic number,  descriptive label,top words, and short insight.\"\n",
    "        \n",
    "        \n",
    "    ## Adding the instructions to the prompt template\n",
    "    final_prompt_template = final_prompt_template.partial(format_instructions=instructions)\n",
    "    \n",
    "    \n",
    "    # Making the final chain\n",
    "    llm_chain = final_prompt_template | llm | parser\n",
    "    \n",
    "    # Invoke the chain with the query to get the response\n",
    "    return llm_chain.invoke(input=dict(specs=specs))"
   ]
  },
  {
   "cell_type": "code",
   "execution_count": 28,
   "metadata": {},
   "outputs": [
    {
     "data": {
      "text/plain": [
       "{'city_region_name': 'Phoenix, AZ',\n",
       " 'coordinates': {'rural': {'SW': [33.2, -112.5], 'NE': [33.3, -112.4]},\n",
       "  'urban': {'SW': [33.4, -112.1], 'NE': [33.5, -112.0]}},\n",
       " 'time': {'start': '2022-01-01', 'end': '2022-12-31'}}"
      ]
     },
     "execution_count": 28,
     "metadata": {},
     "output_type": "execute_result"
    }
   ],
   "source": [
    "\n",
    "specs = \"\"\"Select a region that will be a perfect example of the effects of urban heat islands.\n",
    "Select small identically-sized nearby non-overlapping regions from the selected area to minimize the size of the dataset.\n",
    "Do not use Texas.\"\"\"\n",
    "\n",
    "# ask ChatGPT to suggest another set of parameters\n",
    "chatgpt_params = suggest_data_params(specs=specs, \n",
    "                                    return_json=True, temperature=0.0)\n",
    "chatgpt_params"
   ]
  },
  {
   "cell_type": "code",
   "execution_count": 29,
   "metadata": {},
   "outputs": [
    {
     "data": {
      "application/vnd.plotly.v1+json": {
       "config": {
        "plotlyServerURL": "https://plot.ly"
       },
       "data": [
        {
         "hovertemplate": "Region=rural<br>Latitude=%{lat}<br>Longitude=%{lon}<extra></extra>",
         "lat": [
          33.2,
          33.2,
          33.2,
          33.2,
          33.2,
          33.2,
          33.2,
          33.2,
          33.2,
          33.2,
          33.211111111111116,
          33.211111111111116,
          33.211111111111116,
          33.211111111111116,
          33.211111111111116,
          33.211111111111116,
          33.211111111111116,
          33.211111111111116,
          33.211111111111116,
          33.211111111111116,
          33.22222222222222,
          33.22222222222222,
          33.22222222222222,
          33.22222222222222,
          33.22222222222222,
          33.22222222222222,
          33.22222222222222,
          33.22222222222222,
          33.22222222222222,
          33.22222222222222,
          33.233333333333334,
          33.233333333333334,
          33.233333333333334,
          33.233333333333334,
          33.233333333333334,
          33.233333333333334,
          33.233333333333334,
          33.233333333333334,
          33.233333333333334,
          33.233333333333334,
          33.24444444444445,
          33.24444444444445,
          33.24444444444445,
          33.24444444444445,
          33.24444444444445,
          33.24444444444445,
          33.24444444444445,
          33.24444444444445,
          33.24444444444445,
          33.24444444444445,
          33.25555555555555,
          33.25555555555555,
          33.25555555555555,
          33.25555555555555,
          33.25555555555555,
          33.25555555555555,
          33.25555555555555,
          33.25555555555555,
          33.25555555555555,
          33.25555555555555,
          33.266666666666666,
          33.266666666666666,
          33.266666666666666,
          33.266666666666666,
          33.266666666666666,
          33.266666666666666,
          33.266666666666666,
          33.266666666666666,
          33.266666666666666,
          33.266666666666666,
          33.27777777777778,
          33.27777777777778,
          33.27777777777778,
          33.27777777777778,
          33.27777777777778,
          33.27777777777778,
          33.27777777777778,
          33.27777777777778,
          33.27777777777778,
          33.27777777777778,
          33.288888888888884,
          33.288888888888884,
          33.288888888888884,
          33.288888888888884,
          33.288888888888884,
          33.288888888888884,
          33.288888888888884,
          33.288888888888884,
          33.288888888888884,
          33.288888888888884,
          33.3,
          33.3,
          33.3,
          33.3,
          33.3,
          33.3,
          33.3,
          33.3,
          33.3,
          33.3
         ],
         "legendgroup": "rural",
         "lon": [
          -112.5,
          -112.4888888888889,
          -112.47777777777777,
          -112.46666666666667,
          -112.45555555555556,
          -112.44444444444444,
          -112.43333333333334,
          -112.42222222222223,
          -112.41111111111111,
          -112.4,
          -112.5,
          -112.4888888888889,
          -112.47777777777777,
          -112.46666666666667,
          -112.45555555555556,
          -112.44444444444444,
          -112.43333333333334,
          -112.42222222222223,
          -112.41111111111111,
          -112.4,
          -112.5,
          -112.4888888888889,
          -112.47777777777777,
          -112.46666666666667,
          -112.45555555555556,
          -112.44444444444444,
          -112.43333333333334,
          -112.42222222222223,
          -112.41111111111111,
          -112.4,
          -112.5,
          -112.4888888888889,
          -112.47777777777777,
          -112.46666666666667,
          -112.45555555555556,
          -112.44444444444444,
          -112.43333333333334,
          -112.42222222222223,
          -112.41111111111111,
          -112.4,
          -112.5,
          -112.4888888888889,
          -112.47777777777777,
          -112.46666666666667,
          -112.45555555555556,
          -112.44444444444444,
          -112.43333333333334,
          -112.42222222222223,
          -112.41111111111111,
          -112.4,
          -112.5,
          -112.4888888888889,
          -112.47777777777777,
          -112.46666666666667,
          -112.45555555555556,
          -112.44444444444444,
          -112.43333333333334,
          -112.42222222222223,
          -112.41111111111111,
          -112.4,
          -112.5,
          -112.4888888888889,
          -112.47777777777777,
          -112.46666666666667,
          -112.45555555555556,
          -112.44444444444444,
          -112.43333333333334,
          -112.42222222222223,
          -112.41111111111111,
          -112.4,
          -112.5,
          -112.4888888888889,
          -112.47777777777777,
          -112.46666666666667,
          -112.45555555555556,
          -112.44444444444444,
          -112.43333333333334,
          -112.42222222222223,
          -112.41111111111111,
          -112.4,
          -112.5,
          -112.4888888888889,
          -112.47777777777777,
          -112.46666666666667,
          -112.45555555555556,
          -112.44444444444444,
          -112.43333333333334,
          -112.42222222222223,
          -112.41111111111111,
          -112.4,
          -112.5,
          -112.4888888888889,
          -112.47777777777777,
          -112.46666666666667,
          -112.45555555555556,
          -112.44444444444444,
          -112.43333333333334,
          -112.42222222222223,
          -112.41111111111111,
          -112.4
         ],
         "marker": {
          "color": "#636efa"
         },
         "mode": "markers",
         "name": "rural",
         "showlegend": true,
         "subplot": "mapbox",
         "type": "scattermapbox"
        },
        {
         "hovertemplate": "Region=urban<br>Latitude=%{lat}<br>Longitude=%{lon}<extra></extra>",
         "lat": [
          33.4,
          33.4,
          33.4,
          33.4,
          33.4,
          33.4,
          33.4,
          33.4,
          33.4,
          33.4,
          33.41111111111111,
          33.41111111111111,
          33.41111111111111,
          33.41111111111111,
          33.41111111111111,
          33.41111111111111,
          33.41111111111111,
          33.41111111111111,
          33.41111111111111,
          33.41111111111111,
          33.422222222222224,
          33.422222222222224,
          33.422222222222224,
          33.422222222222224,
          33.422222222222224,
          33.422222222222224,
          33.422222222222224,
          33.422222222222224,
          33.422222222222224,
          33.422222222222224,
          33.43333333333333,
          33.43333333333333,
          33.43333333333333,
          33.43333333333333,
          33.43333333333333,
          33.43333333333333,
          33.43333333333333,
          33.43333333333333,
          33.43333333333333,
          33.43333333333333,
          33.44444444444444,
          33.44444444444444,
          33.44444444444444,
          33.44444444444444,
          33.44444444444444,
          33.44444444444444,
          33.44444444444444,
          33.44444444444444,
          33.44444444444444,
          33.44444444444444,
          33.455555555555556,
          33.455555555555556,
          33.455555555555556,
          33.455555555555556,
          33.455555555555556,
          33.455555555555556,
          33.455555555555556,
          33.455555555555556,
          33.455555555555556,
          33.455555555555556,
          33.46666666666667,
          33.46666666666667,
          33.46666666666667,
          33.46666666666667,
          33.46666666666667,
          33.46666666666667,
          33.46666666666667,
          33.46666666666667,
          33.46666666666667,
          33.46666666666667,
          33.477777777777774,
          33.477777777777774,
          33.477777777777774,
          33.477777777777774,
          33.477777777777774,
          33.477777777777774,
          33.477777777777774,
          33.477777777777774,
          33.477777777777774,
          33.477777777777774,
          33.48888888888889,
          33.48888888888889,
          33.48888888888889,
          33.48888888888889,
          33.48888888888889,
          33.48888888888889,
          33.48888888888889,
          33.48888888888889,
          33.48888888888889,
          33.48888888888889,
          33.5,
          33.5,
          33.5,
          33.5,
          33.5,
          33.5,
          33.5,
          33.5,
          33.5,
          33.5
         ],
         "legendgroup": "urban",
         "lon": [
          -112.1,
          -112.08888888888889,
          -112.07777777777777,
          -112.06666666666666,
          -112.05555555555556,
          -112.04444444444444,
          -112.03333333333333,
          -112.02222222222223,
          -112.0111111111111,
          -112,
          -112.1,
          -112.08888888888889,
          -112.07777777777777,
          -112.06666666666666,
          -112.05555555555556,
          -112.04444444444444,
          -112.03333333333333,
          -112.02222222222223,
          -112.0111111111111,
          -112,
          -112.1,
          -112.08888888888889,
          -112.07777777777777,
          -112.06666666666666,
          -112.05555555555556,
          -112.04444444444444,
          -112.03333333333333,
          -112.02222222222223,
          -112.0111111111111,
          -112,
          -112.1,
          -112.08888888888889,
          -112.07777777777777,
          -112.06666666666666,
          -112.05555555555556,
          -112.04444444444444,
          -112.03333333333333,
          -112.02222222222223,
          -112.0111111111111,
          -112,
          -112.1,
          -112.08888888888889,
          -112.07777777777777,
          -112.06666666666666,
          -112.05555555555556,
          -112.04444444444444,
          -112.03333333333333,
          -112.02222222222223,
          -112.0111111111111,
          -112,
          -112.1,
          -112.08888888888889,
          -112.07777777777777,
          -112.06666666666666,
          -112.05555555555556,
          -112.04444444444444,
          -112.03333333333333,
          -112.02222222222223,
          -112.0111111111111,
          -112,
          -112.1,
          -112.08888888888889,
          -112.07777777777777,
          -112.06666666666666,
          -112.05555555555556,
          -112.04444444444444,
          -112.03333333333333,
          -112.02222222222223,
          -112.0111111111111,
          -112,
          -112.1,
          -112.08888888888889,
          -112.07777777777777,
          -112.06666666666666,
          -112.05555555555556,
          -112.04444444444444,
          -112.03333333333333,
          -112.02222222222223,
          -112.0111111111111,
          -112,
          -112.1,
          -112.08888888888889,
          -112.07777777777777,
          -112.06666666666666,
          -112.05555555555556,
          -112.04444444444444,
          -112.03333333333333,
          -112.02222222222223,
          -112.0111111111111,
          -112,
          -112.1,
          -112.08888888888889,
          -112.07777777777777,
          -112.06666666666666,
          -112.05555555555556,
          -112.04444444444444,
          -112.03333333333333,
          -112.02222222222223,
          -112.0111111111111,
          -112
         ],
         "marker": {
          "color": "#EF553B"
         },
         "mode": "markers",
         "name": "urban",
         "showlegend": true,
         "subplot": "mapbox",
         "type": "scattermapbox"
        }
       ],
       "layout": {
        "height": 600,
        "legend": {
         "orientation": "h",
         "title": {
          "text": "Region"
         },
         "tracegroupgap": 0,
         "x": 0,
         "xanchor": "left",
         "y": 1.05,
         "yanchor": "top"
        },
        "mapbox": {
         "center": {
          "lat": 33.35,
          "lon": -112.25
         },
         "domain": {
          "x": [
           0,
           1
          ],
          "y": [
           0,
           1
          ]
         },
         "style": "carto-positron",
         "zoom": 8
        },
        "margin": {
         "b": 0,
         "l": 0,
         "r": 0,
         "t": 100
        },
        "template": {
         "data": {
          "bar": [
           {
            "error_x": {
             "color": "#2a3f5f"
            },
            "error_y": {
             "color": "#2a3f5f"
            },
            "marker": {
             "line": {
              "color": "#E5ECF6",
              "width": 0.5
             },
             "pattern": {
              "fillmode": "overlay",
              "size": 10,
              "solidity": 0.2
             }
            },
            "type": "bar"
           }
          ],
          "barpolar": [
           {
            "marker": {
             "line": {
              "color": "#E5ECF6",
              "width": 0.5
             },
             "pattern": {
              "fillmode": "overlay",
              "size": 10,
              "solidity": 0.2
             }
            },
            "type": "barpolar"
           }
          ],
          "carpet": [
           {
            "aaxis": {
             "endlinecolor": "#2a3f5f",
             "gridcolor": "white",
             "linecolor": "white",
             "minorgridcolor": "white",
             "startlinecolor": "#2a3f5f"
            },
            "baxis": {
             "endlinecolor": "#2a3f5f",
             "gridcolor": "white",
             "linecolor": "white",
             "minorgridcolor": "white",
             "startlinecolor": "#2a3f5f"
            },
            "type": "carpet"
           }
          ],
          "choropleth": [
           {
            "colorbar": {
             "outlinewidth": 0,
             "ticks": ""
            },
            "type": "choropleth"
           }
          ],
          "contour": [
           {
            "colorbar": {
             "outlinewidth": 0,
             "ticks": ""
            },
            "colorscale": [
             [
              0,
              "#0d0887"
             ],
             [
              0.1111111111111111,
              "#46039f"
             ],
             [
              0.2222222222222222,
              "#7201a8"
             ],
             [
              0.3333333333333333,
              "#9c179e"
             ],
             [
              0.4444444444444444,
              "#bd3786"
             ],
             [
              0.5555555555555556,
              "#d8576b"
             ],
             [
              0.6666666666666666,
              "#ed7953"
             ],
             [
              0.7777777777777778,
              "#fb9f3a"
             ],
             [
              0.8888888888888888,
              "#fdca26"
             ],
             [
              1,
              "#f0f921"
             ]
            ],
            "type": "contour"
           }
          ],
          "contourcarpet": [
           {
            "colorbar": {
             "outlinewidth": 0,
             "ticks": ""
            },
            "type": "contourcarpet"
           }
          ],
          "heatmap": [
           {
            "colorbar": {
             "outlinewidth": 0,
             "ticks": ""
            },
            "colorscale": [
             [
              0,
              "#0d0887"
             ],
             [
              0.1111111111111111,
              "#46039f"
             ],
             [
              0.2222222222222222,
              "#7201a8"
             ],
             [
              0.3333333333333333,
              "#9c179e"
             ],
             [
              0.4444444444444444,
              "#bd3786"
             ],
             [
              0.5555555555555556,
              "#d8576b"
             ],
             [
              0.6666666666666666,
              "#ed7953"
             ],
             [
              0.7777777777777778,
              "#fb9f3a"
             ],
             [
              0.8888888888888888,
              "#fdca26"
             ],
             [
              1,
              "#f0f921"
             ]
            ],
            "type": "heatmap"
           }
          ],
          "heatmapgl": [
           {
            "colorbar": {
             "outlinewidth": 0,
             "ticks": ""
            },
            "colorscale": [
             [
              0,
              "#0d0887"
             ],
             [
              0.1111111111111111,
              "#46039f"
             ],
             [
              0.2222222222222222,
              "#7201a8"
             ],
             [
              0.3333333333333333,
              "#9c179e"
             ],
             [
              0.4444444444444444,
              "#bd3786"
             ],
             [
              0.5555555555555556,
              "#d8576b"
             ],
             [
              0.6666666666666666,
              "#ed7953"
             ],
             [
              0.7777777777777778,
              "#fb9f3a"
             ],
             [
              0.8888888888888888,
              "#fdca26"
             ],
             [
              1,
              "#f0f921"
             ]
            ],
            "type": "heatmapgl"
           }
          ],
          "histogram": [
           {
            "marker": {
             "pattern": {
              "fillmode": "overlay",
              "size": 10,
              "solidity": 0.2
             }
            },
            "type": "histogram"
           }
          ],
          "histogram2d": [
           {
            "colorbar": {
             "outlinewidth": 0,
             "ticks": ""
            },
            "colorscale": [
             [
              0,
              "#0d0887"
             ],
             [
              0.1111111111111111,
              "#46039f"
             ],
             [
              0.2222222222222222,
              "#7201a8"
             ],
             [
              0.3333333333333333,
              "#9c179e"
             ],
             [
              0.4444444444444444,
              "#bd3786"
             ],
             [
              0.5555555555555556,
              "#d8576b"
             ],
             [
              0.6666666666666666,
              "#ed7953"
             ],
             [
              0.7777777777777778,
              "#fb9f3a"
             ],
             [
              0.8888888888888888,
              "#fdca26"
             ],
             [
              1,
              "#f0f921"
             ]
            ],
            "type": "histogram2d"
           }
          ],
          "histogram2dcontour": [
           {
            "colorbar": {
             "outlinewidth": 0,
             "ticks": ""
            },
            "colorscale": [
             [
              0,
              "#0d0887"
             ],
             [
              0.1111111111111111,
              "#46039f"
             ],
             [
              0.2222222222222222,
              "#7201a8"
             ],
             [
              0.3333333333333333,
              "#9c179e"
             ],
             [
              0.4444444444444444,
              "#bd3786"
             ],
             [
              0.5555555555555556,
              "#d8576b"
             ],
             [
              0.6666666666666666,
              "#ed7953"
             ],
             [
              0.7777777777777778,
              "#fb9f3a"
             ],
             [
              0.8888888888888888,
              "#fdca26"
             ],
             [
              1,
              "#f0f921"
             ]
            ],
            "type": "histogram2dcontour"
           }
          ],
          "mesh3d": [
           {
            "colorbar": {
             "outlinewidth": 0,
             "ticks": ""
            },
            "type": "mesh3d"
           }
          ],
          "parcoords": [
           {
            "line": {
             "colorbar": {
              "outlinewidth": 0,
              "ticks": ""
             }
            },
            "type": "parcoords"
           }
          ],
          "pie": [
           {
            "automargin": true,
            "type": "pie"
           }
          ],
          "scatter": [
           {
            "fillpattern": {
             "fillmode": "overlay",
             "size": 10,
             "solidity": 0.2
            },
            "type": "scatter"
           }
          ],
          "scatter3d": [
           {
            "line": {
             "colorbar": {
              "outlinewidth": 0,
              "ticks": ""
             }
            },
            "marker": {
             "colorbar": {
              "outlinewidth": 0,
              "ticks": ""
             }
            },
            "type": "scatter3d"
           }
          ],
          "scattercarpet": [
           {
            "marker": {
             "colorbar": {
              "outlinewidth": 0,
              "ticks": ""
             }
            },
            "type": "scattercarpet"
           }
          ],
          "scattergeo": [
           {
            "marker": {
             "colorbar": {
              "outlinewidth": 0,
              "ticks": ""
             }
            },
            "type": "scattergeo"
           }
          ],
          "scattergl": [
           {
            "marker": {
             "colorbar": {
              "outlinewidth": 0,
              "ticks": ""
             }
            },
            "type": "scattergl"
           }
          ],
          "scattermapbox": [
           {
            "marker": {
             "colorbar": {
              "outlinewidth": 0,
              "ticks": ""
             }
            },
            "type": "scattermapbox"
           }
          ],
          "scatterpolar": [
           {
            "marker": {
             "colorbar": {
              "outlinewidth": 0,
              "ticks": ""
             }
            },
            "type": "scatterpolar"
           }
          ],
          "scatterpolargl": [
           {
            "marker": {
             "colorbar": {
              "outlinewidth": 0,
              "ticks": ""
             }
            },
            "type": "scatterpolargl"
           }
          ],
          "scatterternary": [
           {
            "marker": {
             "colorbar": {
              "outlinewidth": 0,
              "ticks": ""
             }
            },
            "type": "scatterternary"
           }
          ],
          "surface": [
           {
            "colorbar": {
             "outlinewidth": 0,
             "ticks": ""
            },
            "colorscale": [
             [
              0,
              "#0d0887"
             ],
             [
              0.1111111111111111,
              "#46039f"
             ],
             [
              0.2222222222222222,
              "#7201a8"
             ],
             [
              0.3333333333333333,
              "#9c179e"
             ],
             [
              0.4444444444444444,
              "#bd3786"
             ],
             [
              0.5555555555555556,
              "#d8576b"
             ],
             [
              0.6666666666666666,
              "#ed7953"
             ],
             [
              0.7777777777777778,
              "#fb9f3a"
             ],
             [
              0.8888888888888888,
              "#fdca26"
             ],
             [
              1,
              "#f0f921"
             ]
            ],
            "type": "surface"
           }
          ],
          "table": [
           {
            "cells": {
             "fill": {
              "color": "#EBF0F8"
             },
             "line": {
              "color": "white"
             }
            },
            "header": {
             "fill": {
              "color": "#C8D4E3"
             },
             "line": {
              "color": "white"
             }
            },
            "type": "table"
           }
          ]
         },
         "layout": {
          "annotationdefaults": {
           "arrowcolor": "#2a3f5f",
           "arrowhead": 0,
           "arrowwidth": 1
          },
          "autotypenumbers": "strict",
          "coloraxis": {
           "colorbar": {
            "outlinewidth": 0,
            "ticks": ""
           }
          },
          "colorscale": {
           "diverging": [
            [
             0,
             "#8e0152"
            ],
            [
             0.1,
             "#c51b7d"
            ],
            [
             0.2,
             "#de77ae"
            ],
            [
             0.3,
             "#f1b6da"
            ],
            [
             0.4,
             "#fde0ef"
            ],
            [
             0.5,
             "#f7f7f7"
            ],
            [
             0.6,
             "#e6f5d0"
            ],
            [
             0.7,
             "#b8e186"
            ],
            [
             0.8,
             "#7fbc41"
            ],
            [
             0.9,
             "#4d9221"
            ],
            [
             1,
             "#276419"
            ]
           ],
           "sequential": [
            [
             0,
             "#0d0887"
            ],
            [
             0.1111111111111111,
             "#46039f"
            ],
            [
             0.2222222222222222,
             "#7201a8"
            ],
            [
             0.3333333333333333,
             "#9c179e"
            ],
            [
             0.4444444444444444,
             "#bd3786"
            ],
            [
             0.5555555555555556,
             "#d8576b"
            ],
            [
             0.6666666666666666,
             "#ed7953"
            ],
            [
             0.7777777777777778,
             "#fb9f3a"
            ],
            [
             0.8888888888888888,
             "#fdca26"
            ],
            [
             1,
             "#f0f921"
            ]
           ],
           "sequentialminus": [
            [
             0,
             "#0d0887"
            ],
            [
             0.1111111111111111,
             "#46039f"
            ],
            [
             0.2222222222222222,
             "#7201a8"
            ],
            [
             0.3333333333333333,
             "#9c179e"
            ],
            [
             0.4444444444444444,
             "#bd3786"
            ],
            [
             0.5555555555555556,
             "#d8576b"
            ],
            [
             0.6666666666666666,
             "#ed7953"
            ],
            [
             0.7777777777777778,
             "#fb9f3a"
            ],
            [
             0.8888888888888888,
             "#fdca26"
            ],
            [
             1,
             "#f0f921"
            ]
           ]
          },
          "colorway": [
           "#636efa",
           "#EF553B",
           "#00cc96",
           "#ab63fa",
           "#FFA15A",
           "#19d3f3",
           "#FF6692",
           "#B6E880",
           "#FF97FF",
           "#FECB52"
          ],
          "font": {
           "color": "#2a3f5f"
          },
          "geo": {
           "bgcolor": "white",
           "lakecolor": "white",
           "landcolor": "#E5ECF6",
           "showlakes": true,
           "showland": true,
           "subunitcolor": "white"
          },
          "hoverlabel": {
           "align": "left"
          },
          "hovermode": "closest",
          "mapbox": {
           "style": "light"
          },
          "paper_bgcolor": "white",
          "plot_bgcolor": "#E5ECF6",
          "polar": {
           "angularaxis": {
            "gridcolor": "white",
            "linecolor": "white",
            "ticks": ""
           },
           "bgcolor": "#E5ECF6",
           "radialaxis": {
            "gridcolor": "white",
            "linecolor": "white",
            "ticks": ""
           }
          },
          "scene": {
           "xaxis": {
            "backgroundcolor": "#E5ECF6",
            "gridcolor": "white",
            "gridwidth": 2,
            "linecolor": "white",
            "showbackground": true,
            "ticks": "",
            "zerolinecolor": "white"
           },
           "yaxis": {
            "backgroundcolor": "#E5ECF6",
            "gridcolor": "white",
            "gridwidth": 2,
            "linecolor": "white",
            "showbackground": true,
            "ticks": "",
            "zerolinecolor": "white"
           },
           "zaxis": {
            "backgroundcolor": "#E5ECF6",
            "gridcolor": "white",
            "gridwidth": 2,
            "linecolor": "white",
            "showbackground": true,
            "ticks": "",
            "zerolinecolor": "white"
           }
          },
          "shapedefaults": {
           "line": {
            "color": "#2a3f5f"
           }
          },
          "ternary": {
           "aaxis": {
            "gridcolor": "white",
            "linecolor": "white",
            "ticks": ""
           },
           "baxis": {
            "gridcolor": "white",
            "linecolor": "white",
            "ticks": ""
           },
           "bgcolor": "#E5ECF6",
           "caxis": {
            "gridcolor": "white",
            "linecolor": "white",
            "ticks": ""
           }
          },
          "title": {
           "x": 0.05
          },
          "xaxis": {
           "automargin": true,
           "gridcolor": "white",
           "linecolor": "white",
           "ticks": "",
           "title": {
            "standoff": 15
           },
           "zerolinecolor": "white",
           "zerolinewidth": 2
          },
          "yaxis": {
           "automargin": true,
           "gridcolor": "white",
           "linecolor": "white",
           "ticks": "",
           "title": {
            "standoff": 15
           },
           "zerolinecolor": "white",
           "zerolinewidth": 2
          }
         }
        },
        "title": {
         "text": "Preview of Selected Bounding Boxes"
        },
        "width": 600
       }
      }
     },
     "metadata": {},
     "output_type": "display_data"
    }
   ],
   "source": [
    "preview_regions(chatgpt_params)"
   ]
  },
  {
   "cell_type": "code",
   "execution_count": 30,
   "metadata": {},
   "outputs": [
    {
     "name": "stdout",
     "output_type": "stream",
     "text": [
      "{'city_region_name': 'Atlanta, GA',\n",
      " 'coordinates': {'rural': {'NE': [33.6, -84.4], 'SW': [33.5, -84.5]},\n",
      "                 'urban': {'NE': [33.8, -84.3], 'SW': [33.7, -84.4]}},\n",
      " 'time': {'end': '2022-08-31', 'start': '2022-06-01'}}\n"
     ]
    },
    {
     "data": {
      "application/vnd.plotly.v1+json": {
       "config": {
        "plotlyServerURL": "https://plot.ly"
       },
       "data": [
        {
         "hovertemplate": "Region=rural<br>Latitude=%{lat}<br>Longitude=%{lon}<extra></extra>",
         "lat": [
          33.5,
          33.5,
          33.5,
          33.5,
          33.5,
          33.5,
          33.5,
          33.5,
          33.5,
          33.5,
          33.51111111111111,
          33.51111111111111,
          33.51111111111111,
          33.51111111111111,
          33.51111111111111,
          33.51111111111111,
          33.51111111111111,
          33.51111111111111,
          33.51111111111111,
          33.51111111111111,
          33.522222222222226,
          33.522222222222226,
          33.522222222222226,
          33.522222222222226,
          33.522222222222226,
          33.522222222222226,
          33.522222222222226,
          33.522222222222226,
          33.522222222222226,
          33.522222222222226,
          33.53333333333333,
          33.53333333333333,
          33.53333333333333,
          33.53333333333333,
          33.53333333333333,
          33.53333333333333,
          33.53333333333333,
          33.53333333333333,
          33.53333333333333,
          33.53333333333333,
          33.544444444444444,
          33.544444444444444,
          33.544444444444444,
          33.544444444444444,
          33.544444444444444,
          33.544444444444444,
          33.544444444444444,
          33.544444444444444,
          33.544444444444444,
          33.544444444444444,
          33.55555555555556,
          33.55555555555556,
          33.55555555555556,
          33.55555555555556,
          33.55555555555556,
          33.55555555555556,
          33.55555555555556,
          33.55555555555556,
          33.55555555555556,
          33.55555555555556,
          33.56666666666667,
          33.56666666666667,
          33.56666666666667,
          33.56666666666667,
          33.56666666666667,
          33.56666666666667,
          33.56666666666667,
          33.56666666666667,
          33.56666666666667,
          33.56666666666667,
          33.577777777777776,
          33.577777777777776,
          33.577777777777776,
          33.577777777777776,
          33.577777777777776,
          33.577777777777776,
          33.577777777777776,
          33.577777777777776,
          33.577777777777776,
          33.577777777777776,
          33.58888888888889,
          33.58888888888889,
          33.58888888888889,
          33.58888888888889,
          33.58888888888889,
          33.58888888888889,
          33.58888888888889,
          33.58888888888889,
          33.58888888888889,
          33.58888888888889,
          33.6,
          33.6,
          33.6,
          33.6,
          33.6,
          33.6,
          33.6,
          33.6,
          33.6,
          33.6
         ],
         "legendgroup": "rural",
         "lon": [
          -84.5,
          -84.4888888888889,
          -84.47777777777777,
          -84.46666666666667,
          -84.45555555555556,
          -84.44444444444444,
          -84.43333333333334,
          -84.42222222222223,
          -84.41111111111111,
          -84.4,
          -84.5,
          -84.4888888888889,
          -84.47777777777777,
          -84.46666666666667,
          -84.45555555555556,
          -84.44444444444444,
          -84.43333333333334,
          -84.42222222222223,
          -84.41111111111111,
          -84.4,
          -84.5,
          -84.4888888888889,
          -84.47777777777777,
          -84.46666666666667,
          -84.45555555555556,
          -84.44444444444444,
          -84.43333333333334,
          -84.42222222222223,
          -84.41111111111111,
          -84.4,
          -84.5,
          -84.4888888888889,
          -84.47777777777777,
          -84.46666666666667,
          -84.45555555555556,
          -84.44444444444444,
          -84.43333333333334,
          -84.42222222222223,
          -84.41111111111111,
          -84.4,
          -84.5,
          -84.4888888888889,
          -84.47777777777777,
          -84.46666666666667,
          -84.45555555555556,
          -84.44444444444444,
          -84.43333333333334,
          -84.42222222222223,
          -84.41111111111111,
          -84.4,
          -84.5,
          -84.4888888888889,
          -84.47777777777777,
          -84.46666666666667,
          -84.45555555555556,
          -84.44444444444444,
          -84.43333333333334,
          -84.42222222222223,
          -84.41111111111111,
          -84.4,
          -84.5,
          -84.4888888888889,
          -84.47777777777777,
          -84.46666666666667,
          -84.45555555555556,
          -84.44444444444444,
          -84.43333333333334,
          -84.42222222222223,
          -84.41111111111111,
          -84.4,
          -84.5,
          -84.4888888888889,
          -84.47777777777777,
          -84.46666666666667,
          -84.45555555555556,
          -84.44444444444444,
          -84.43333333333334,
          -84.42222222222223,
          -84.41111111111111,
          -84.4,
          -84.5,
          -84.4888888888889,
          -84.47777777777777,
          -84.46666666666667,
          -84.45555555555556,
          -84.44444444444444,
          -84.43333333333334,
          -84.42222222222223,
          -84.41111111111111,
          -84.4,
          -84.5,
          -84.4888888888889,
          -84.47777777777777,
          -84.46666666666667,
          -84.45555555555556,
          -84.44444444444444,
          -84.43333333333334,
          -84.42222222222223,
          -84.41111111111111,
          -84.4
         ],
         "marker": {
          "color": "#636efa"
         },
         "mode": "markers",
         "name": "rural",
         "showlegend": true,
         "subplot": "mapbox",
         "type": "scattermapbox"
        },
        {
         "hovertemplate": "Region=urban<br>Latitude=%{lat}<br>Longitude=%{lon}<extra></extra>",
         "lat": [
          33.7,
          33.7,
          33.7,
          33.7,
          33.7,
          33.7,
          33.7,
          33.7,
          33.7,
          33.7,
          33.711111111111116,
          33.711111111111116,
          33.711111111111116,
          33.711111111111116,
          33.711111111111116,
          33.711111111111116,
          33.711111111111116,
          33.711111111111116,
          33.711111111111116,
          33.711111111111116,
          33.72222222222222,
          33.72222222222222,
          33.72222222222222,
          33.72222222222222,
          33.72222222222222,
          33.72222222222222,
          33.72222222222222,
          33.72222222222222,
          33.72222222222222,
          33.72222222222222,
          33.733333333333334,
          33.733333333333334,
          33.733333333333334,
          33.733333333333334,
          33.733333333333334,
          33.733333333333334,
          33.733333333333334,
          33.733333333333334,
          33.733333333333334,
          33.733333333333334,
          33.74444444444445,
          33.74444444444445,
          33.74444444444445,
          33.74444444444445,
          33.74444444444445,
          33.74444444444445,
          33.74444444444445,
          33.74444444444445,
          33.74444444444445,
          33.74444444444445,
          33.75555555555555,
          33.75555555555555,
          33.75555555555555,
          33.75555555555555,
          33.75555555555555,
          33.75555555555555,
          33.75555555555555,
          33.75555555555555,
          33.75555555555555,
          33.75555555555555,
          33.766666666666666,
          33.766666666666666,
          33.766666666666666,
          33.766666666666666,
          33.766666666666666,
          33.766666666666666,
          33.766666666666666,
          33.766666666666666,
          33.766666666666666,
          33.766666666666666,
          33.77777777777778,
          33.77777777777778,
          33.77777777777778,
          33.77777777777778,
          33.77777777777778,
          33.77777777777778,
          33.77777777777778,
          33.77777777777778,
          33.77777777777778,
          33.77777777777778,
          33.788888888888884,
          33.788888888888884,
          33.788888888888884,
          33.788888888888884,
          33.788888888888884,
          33.788888888888884,
          33.788888888888884,
          33.788888888888884,
          33.788888888888884,
          33.788888888888884,
          33.8,
          33.8,
          33.8,
          33.8,
          33.8,
          33.8,
          33.8,
          33.8,
          33.8,
          33.8
         ],
         "legendgroup": "urban",
         "lon": [
          -84.4,
          -84.3888888888889,
          -84.37777777777778,
          -84.36666666666667,
          -84.35555555555555,
          -84.34444444444445,
          -84.33333333333333,
          -84.32222222222222,
          -84.3111111111111,
          -84.3,
          -84.4,
          -84.3888888888889,
          -84.37777777777778,
          -84.36666666666667,
          -84.35555555555555,
          -84.34444444444445,
          -84.33333333333333,
          -84.32222222222222,
          -84.3111111111111,
          -84.3,
          -84.4,
          -84.3888888888889,
          -84.37777777777778,
          -84.36666666666667,
          -84.35555555555555,
          -84.34444444444445,
          -84.33333333333333,
          -84.32222222222222,
          -84.3111111111111,
          -84.3,
          -84.4,
          -84.3888888888889,
          -84.37777777777778,
          -84.36666666666667,
          -84.35555555555555,
          -84.34444444444445,
          -84.33333333333333,
          -84.32222222222222,
          -84.3111111111111,
          -84.3,
          -84.4,
          -84.3888888888889,
          -84.37777777777778,
          -84.36666666666667,
          -84.35555555555555,
          -84.34444444444445,
          -84.33333333333333,
          -84.32222222222222,
          -84.3111111111111,
          -84.3,
          -84.4,
          -84.3888888888889,
          -84.37777777777778,
          -84.36666666666667,
          -84.35555555555555,
          -84.34444444444445,
          -84.33333333333333,
          -84.32222222222222,
          -84.3111111111111,
          -84.3,
          -84.4,
          -84.3888888888889,
          -84.37777777777778,
          -84.36666666666667,
          -84.35555555555555,
          -84.34444444444445,
          -84.33333333333333,
          -84.32222222222222,
          -84.3111111111111,
          -84.3,
          -84.4,
          -84.3888888888889,
          -84.37777777777778,
          -84.36666666666667,
          -84.35555555555555,
          -84.34444444444445,
          -84.33333333333333,
          -84.32222222222222,
          -84.3111111111111,
          -84.3,
          -84.4,
          -84.3888888888889,
          -84.37777777777778,
          -84.36666666666667,
          -84.35555555555555,
          -84.34444444444445,
          -84.33333333333333,
          -84.32222222222222,
          -84.3111111111111,
          -84.3,
          -84.4,
          -84.3888888888889,
          -84.37777777777778,
          -84.36666666666667,
          -84.35555555555555,
          -84.34444444444445,
          -84.33333333333333,
          -84.32222222222222,
          -84.3111111111111,
          -84.3
         ],
         "marker": {
          "color": "#EF553B"
         },
         "mode": "markers",
         "name": "urban",
         "showlegend": true,
         "subplot": "mapbox",
         "type": "scattermapbox"
        }
       ],
       "layout": {
        "height": 600,
        "legend": {
         "orientation": "h",
         "title": {
          "text": "Region"
         },
         "tracegroupgap": 0,
         "x": 0,
         "xanchor": "left",
         "y": 1.05,
         "yanchor": "top"
        },
        "mapbox": {
         "center": {
          "lat": 33.65,
          "lon": -84.4
         },
         "domain": {
          "x": [
           0,
           1
          ],
          "y": [
           0,
           1
          ]
         },
         "style": "carto-positron",
         "zoom": 8
        },
        "margin": {
         "b": 0,
         "l": 0,
         "r": 0,
         "t": 100
        },
        "template": {
         "data": {
          "bar": [
           {
            "error_x": {
             "color": "#2a3f5f"
            },
            "error_y": {
             "color": "#2a3f5f"
            },
            "marker": {
             "line": {
              "color": "#E5ECF6",
              "width": 0.5
             },
             "pattern": {
              "fillmode": "overlay",
              "size": 10,
              "solidity": 0.2
             }
            },
            "type": "bar"
           }
          ],
          "barpolar": [
           {
            "marker": {
             "line": {
              "color": "#E5ECF6",
              "width": 0.5
             },
             "pattern": {
              "fillmode": "overlay",
              "size": 10,
              "solidity": 0.2
             }
            },
            "type": "barpolar"
           }
          ],
          "carpet": [
           {
            "aaxis": {
             "endlinecolor": "#2a3f5f",
             "gridcolor": "white",
             "linecolor": "white",
             "minorgridcolor": "white",
             "startlinecolor": "#2a3f5f"
            },
            "baxis": {
             "endlinecolor": "#2a3f5f",
             "gridcolor": "white",
             "linecolor": "white",
             "minorgridcolor": "white",
             "startlinecolor": "#2a3f5f"
            },
            "type": "carpet"
           }
          ],
          "choropleth": [
           {
            "colorbar": {
             "outlinewidth": 0,
             "ticks": ""
            },
            "type": "choropleth"
           }
          ],
          "contour": [
           {
            "colorbar": {
             "outlinewidth": 0,
             "ticks": ""
            },
            "colorscale": [
             [
              0,
              "#0d0887"
             ],
             [
              0.1111111111111111,
              "#46039f"
             ],
             [
              0.2222222222222222,
              "#7201a8"
             ],
             [
              0.3333333333333333,
              "#9c179e"
             ],
             [
              0.4444444444444444,
              "#bd3786"
             ],
             [
              0.5555555555555556,
              "#d8576b"
             ],
             [
              0.6666666666666666,
              "#ed7953"
             ],
             [
              0.7777777777777778,
              "#fb9f3a"
             ],
             [
              0.8888888888888888,
              "#fdca26"
             ],
             [
              1,
              "#f0f921"
             ]
            ],
            "type": "contour"
           }
          ],
          "contourcarpet": [
           {
            "colorbar": {
             "outlinewidth": 0,
             "ticks": ""
            },
            "type": "contourcarpet"
           }
          ],
          "heatmap": [
           {
            "colorbar": {
             "outlinewidth": 0,
             "ticks": ""
            },
            "colorscale": [
             [
              0,
              "#0d0887"
             ],
             [
              0.1111111111111111,
              "#46039f"
             ],
             [
              0.2222222222222222,
              "#7201a8"
             ],
             [
              0.3333333333333333,
              "#9c179e"
             ],
             [
              0.4444444444444444,
              "#bd3786"
             ],
             [
              0.5555555555555556,
              "#d8576b"
             ],
             [
              0.6666666666666666,
              "#ed7953"
             ],
             [
              0.7777777777777778,
              "#fb9f3a"
             ],
             [
              0.8888888888888888,
              "#fdca26"
             ],
             [
              1,
              "#f0f921"
             ]
            ],
            "type": "heatmap"
           }
          ],
          "heatmapgl": [
           {
            "colorbar": {
             "outlinewidth": 0,
             "ticks": ""
            },
            "colorscale": [
             [
              0,
              "#0d0887"
             ],
             [
              0.1111111111111111,
              "#46039f"
             ],
             [
              0.2222222222222222,
              "#7201a8"
             ],
             [
              0.3333333333333333,
              "#9c179e"
             ],
             [
              0.4444444444444444,
              "#bd3786"
             ],
             [
              0.5555555555555556,
              "#d8576b"
             ],
             [
              0.6666666666666666,
              "#ed7953"
             ],
             [
              0.7777777777777778,
              "#fb9f3a"
             ],
             [
              0.8888888888888888,
              "#fdca26"
             ],
             [
              1,
              "#f0f921"
             ]
            ],
            "type": "heatmapgl"
           }
          ],
          "histogram": [
           {
            "marker": {
             "pattern": {
              "fillmode": "overlay",
              "size": 10,
              "solidity": 0.2
             }
            },
            "type": "histogram"
           }
          ],
          "histogram2d": [
           {
            "colorbar": {
             "outlinewidth": 0,
             "ticks": ""
            },
            "colorscale": [
             [
              0,
              "#0d0887"
             ],
             [
              0.1111111111111111,
              "#46039f"
             ],
             [
              0.2222222222222222,
              "#7201a8"
             ],
             [
              0.3333333333333333,
              "#9c179e"
             ],
             [
              0.4444444444444444,
              "#bd3786"
             ],
             [
              0.5555555555555556,
              "#d8576b"
             ],
             [
              0.6666666666666666,
              "#ed7953"
             ],
             [
              0.7777777777777778,
              "#fb9f3a"
             ],
             [
              0.8888888888888888,
              "#fdca26"
             ],
             [
              1,
              "#f0f921"
             ]
            ],
            "type": "histogram2d"
           }
          ],
          "histogram2dcontour": [
           {
            "colorbar": {
             "outlinewidth": 0,
             "ticks": ""
            },
            "colorscale": [
             [
              0,
              "#0d0887"
             ],
             [
              0.1111111111111111,
              "#46039f"
             ],
             [
              0.2222222222222222,
              "#7201a8"
             ],
             [
              0.3333333333333333,
              "#9c179e"
             ],
             [
              0.4444444444444444,
              "#bd3786"
             ],
             [
              0.5555555555555556,
              "#d8576b"
             ],
             [
              0.6666666666666666,
              "#ed7953"
             ],
             [
              0.7777777777777778,
              "#fb9f3a"
             ],
             [
              0.8888888888888888,
              "#fdca26"
             ],
             [
              1,
              "#f0f921"
             ]
            ],
            "type": "histogram2dcontour"
           }
          ],
          "mesh3d": [
           {
            "colorbar": {
             "outlinewidth": 0,
             "ticks": ""
            },
            "type": "mesh3d"
           }
          ],
          "parcoords": [
           {
            "line": {
             "colorbar": {
              "outlinewidth": 0,
              "ticks": ""
             }
            },
            "type": "parcoords"
           }
          ],
          "pie": [
           {
            "automargin": true,
            "type": "pie"
           }
          ],
          "scatter": [
           {
            "fillpattern": {
             "fillmode": "overlay",
             "size": 10,
             "solidity": 0.2
            },
            "type": "scatter"
           }
          ],
          "scatter3d": [
           {
            "line": {
             "colorbar": {
              "outlinewidth": 0,
              "ticks": ""
             }
            },
            "marker": {
             "colorbar": {
              "outlinewidth": 0,
              "ticks": ""
             }
            },
            "type": "scatter3d"
           }
          ],
          "scattercarpet": [
           {
            "marker": {
             "colorbar": {
              "outlinewidth": 0,
              "ticks": ""
             }
            },
            "type": "scattercarpet"
           }
          ],
          "scattergeo": [
           {
            "marker": {
             "colorbar": {
              "outlinewidth": 0,
              "ticks": ""
             }
            },
            "type": "scattergeo"
           }
          ],
          "scattergl": [
           {
            "marker": {
             "colorbar": {
              "outlinewidth": 0,
              "ticks": ""
             }
            },
            "type": "scattergl"
           }
          ],
          "scattermapbox": [
           {
            "marker": {
             "colorbar": {
              "outlinewidth": 0,
              "ticks": ""
             }
            },
            "type": "scattermapbox"
           }
          ],
          "scatterpolar": [
           {
            "marker": {
             "colorbar": {
              "outlinewidth": 0,
              "ticks": ""
             }
            },
            "type": "scatterpolar"
           }
          ],
          "scatterpolargl": [
           {
            "marker": {
             "colorbar": {
              "outlinewidth": 0,
              "ticks": ""
             }
            },
            "type": "scatterpolargl"
           }
          ],
          "scatterternary": [
           {
            "marker": {
             "colorbar": {
              "outlinewidth": 0,
              "ticks": ""
             }
            },
            "type": "scatterternary"
           }
          ],
          "surface": [
           {
            "colorbar": {
             "outlinewidth": 0,
             "ticks": ""
            },
            "colorscale": [
             [
              0,
              "#0d0887"
             ],
             [
              0.1111111111111111,
              "#46039f"
             ],
             [
              0.2222222222222222,
              "#7201a8"
             ],
             [
              0.3333333333333333,
              "#9c179e"
             ],
             [
              0.4444444444444444,
              "#bd3786"
             ],
             [
              0.5555555555555556,
              "#d8576b"
             ],
             [
              0.6666666666666666,
              "#ed7953"
             ],
             [
              0.7777777777777778,
              "#fb9f3a"
             ],
             [
              0.8888888888888888,
              "#fdca26"
             ],
             [
              1,
              "#f0f921"
             ]
            ],
            "type": "surface"
           }
          ],
          "table": [
           {
            "cells": {
             "fill": {
              "color": "#EBF0F8"
             },
             "line": {
              "color": "white"
             }
            },
            "header": {
             "fill": {
              "color": "#C8D4E3"
             },
             "line": {
              "color": "white"
             }
            },
            "type": "table"
           }
          ]
         },
         "layout": {
          "annotationdefaults": {
           "arrowcolor": "#2a3f5f",
           "arrowhead": 0,
           "arrowwidth": 1
          },
          "autotypenumbers": "strict",
          "coloraxis": {
           "colorbar": {
            "outlinewidth": 0,
            "ticks": ""
           }
          },
          "colorscale": {
           "diverging": [
            [
             0,
             "#8e0152"
            ],
            [
             0.1,
             "#c51b7d"
            ],
            [
             0.2,
             "#de77ae"
            ],
            [
             0.3,
             "#f1b6da"
            ],
            [
             0.4,
             "#fde0ef"
            ],
            [
             0.5,
             "#f7f7f7"
            ],
            [
             0.6,
             "#e6f5d0"
            ],
            [
             0.7,
             "#b8e186"
            ],
            [
             0.8,
             "#7fbc41"
            ],
            [
             0.9,
             "#4d9221"
            ],
            [
             1,
             "#276419"
            ]
           ],
           "sequential": [
            [
             0,
             "#0d0887"
            ],
            [
             0.1111111111111111,
             "#46039f"
            ],
            [
             0.2222222222222222,
             "#7201a8"
            ],
            [
             0.3333333333333333,
             "#9c179e"
            ],
            [
             0.4444444444444444,
             "#bd3786"
            ],
            [
             0.5555555555555556,
             "#d8576b"
            ],
            [
             0.6666666666666666,
             "#ed7953"
            ],
            [
             0.7777777777777778,
             "#fb9f3a"
            ],
            [
             0.8888888888888888,
             "#fdca26"
            ],
            [
             1,
             "#f0f921"
            ]
           ],
           "sequentialminus": [
            [
             0,
             "#0d0887"
            ],
            [
             0.1111111111111111,
             "#46039f"
            ],
            [
             0.2222222222222222,
             "#7201a8"
            ],
            [
             0.3333333333333333,
             "#9c179e"
            ],
            [
             0.4444444444444444,
             "#bd3786"
            ],
            [
             0.5555555555555556,
             "#d8576b"
            ],
            [
             0.6666666666666666,
             "#ed7953"
            ],
            [
             0.7777777777777778,
             "#fb9f3a"
            ],
            [
             0.8888888888888888,
             "#fdca26"
            ],
            [
             1,
             "#f0f921"
            ]
           ]
          },
          "colorway": [
           "#636efa",
           "#EF553B",
           "#00cc96",
           "#ab63fa",
           "#FFA15A",
           "#19d3f3",
           "#FF6692",
           "#B6E880",
           "#FF97FF",
           "#FECB52"
          ],
          "font": {
           "color": "#2a3f5f"
          },
          "geo": {
           "bgcolor": "white",
           "lakecolor": "white",
           "landcolor": "#E5ECF6",
           "showlakes": true,
           "showland": true,
           "subunitcolor": "white"
          },
          "hoverlabel": {
           "align": "left"
          },
          "hovermode": "closest",
          "mapbox": {
           "style": "light"
          },
          "paper_bgcolor": "white",
          "plot_bgcolor": "#E5ECF6",
          "polar": {
           "angularaxis": {
            "gridcolor": "white",
            "linecolor": "white",
            "ticks": ""
           },
           "bgcolor": "#E5ECF6",
           "radialaxis": {
            "gridcolor": "white",
            "linecolor": "white",
            "ticks": ""
           }
          },
          "scene": {
           "xaxis": {
            "backgroundcolor": "#E5ECF6",
            "gridcolor": "white",
            "gridwidth": 2,
            "linecolor": "white",
            "showbackground": true,
            "ticks": "",
            "zerolinecolor": "white"
           },
           "yaxis": {
            "backgroundcolor": "#E5ECF6",
            "gridcolor": "white",
            "gridwidth": 2,
            "linecolor": "white",
            "showbackground": true,
            "ticks": "",
            "zerolinecolor": "white"
           },
           "zaxis": {
            "backgroundcolor": "#E5ECF6",
            "gridcolor": "white",
            "gridwidth": 2,
            "linecolor": "white",
            "showbackground": true,
            "ticks": "",
            "zerolinecolor": "white"
           }
          },
          "shapedefaults": {
           "line": {
            "color": "#2a3f5f"
           }
          },
          "ternary": {
           "aaxis": {
            "gridcolor": "white",
            "linecolor": "white",
            "ticks": ""
           },
           "baxis": {
            "gridcolor": "white",
            "linecolor": "white",
            "ticks": ""
           },
           "bgcolor": "#E5ECF6",
           "caxis": {
            "gridcolor": "white",
            "linecolor": "white",
            "ticks": ""
           }
          },
          "title": {
           "x": 0.05
          },
          "xaxis": {
           "automargin": true,
           "gridcolor": "white",
           "linecolor": "white",
           "ticks": "",
           "title": {
            "standoff": 15
           },
           "zerolinecolor": "white",
           "zerolinewidth": 2
          },
          "yaxis": {
           "automargin": true,
           "gridcolor": "white",
           "linecolor": "white",
           "ticks": "",
           "title": {
            "standoff": 15
           },
           "zerolinecolor": "white",
           "zerolinewidth": 2
          }
         }
        },
        "title": {
         "text": "Preview of Selected Bounding Boxes"
        },
        "width": 600
       }
      }
     },
     "metadata": {},
     "output_type": "display_data"
    }
   ],
   "source": [
    "\n",
    "specs = \"\"\"Select a region that will be a perfect example of the effects of urban heat islands.\n",
    "Select small identically-sized nearby non-overlapping regions from the selected area to minimize the size of the dataset.\n",
    "Select a region in a non-desert area.\"\"\"\n",
    "\n",
    "# ask ChatGPT to suggest another set of parameters\n",
    "chatgpt_params = suggest_data_params(specs=specs, \n",
    "                                    return_json=True, temperature=0.0)\n",
    "pprint(chatgpt_params)\n",
    "preview_regions(chatgpt_params)"
   ]
  },
  {
   "cell_type": "markdown",
   "metadata": {},
   "source": [
    "# APPENDIX"
   ]
  },
  {
   "cell_type": "code",
   "execution_count": 31,
   "metadata": {},
   "outputs": [
    {
     "ename": "Exception",
     "evalue": "Stop here",
     "output_type": "error",
     "traceback": [
      "\u001b[0;31m---------------------------------------------------------------------------\u001b[0m",
      "\u001b[0;31mException\u001b[0m                                 Traceback (most recent call last)",
      "Cell \u001b[0;32mIn[31], line 1\u001b[0m\n\u001b[0;32m----> 1\u001b[0m \u001b[38;5;28;01mraise\u001b[39;00m \u001b[38;5;167;01mException\u001b[39;00m(\u001b[38;5;124m\"\u001b[39m\u001b[38;5;124mStop here\u001b[39m\u001b[38;5;124m\"\u001b[39m) \n",
      "\u001b[0;31mException\u001b[0m: Stop here"
     ]
    }
   ],
   "source": [
    "raise Exception(\"Stop here\") "
   ]
  },
  {
   "cell_type": "markdown",
   "metadata": {},
   "source": [
    "# DECISION: Download Data next or LangChain Next?"
   ]
  },
  {
   "cell_type": "markdown",
   "metadata": {},
   "source": [
    "## Download Data from NASA's Earth Data API  (`To Do: granules endpoint?`)"
   ]
  },
  {
   "cell_type": "markdown",
   "metadata": {},
   "source": [
    "Now that we have the parameters for the locations, we need to ask the NASA Earthdata API for the data  "
   ]
  },
  {
   "cell_type": "markdown",
   "metadata": {},
   "source": [
    "#### Sign up For NASA's Earth Data Api\n",
    "\n",
    "To use the NASA Earthdata API with a token, you need to generate a token from the NASA Earthdata Login (EDL) and use it in your API requests.\n",
    "\n",
    "\n",
    "\n",
    "#### Step-by-Step Guide\n",
    "\n",
    "1. **Generate a Token from NASA Earthdata Login:**\n",
    "   - Log in to your [NASA Earthdata Login](https://urs.earthdata.nasa.gov).\n",
    "   - Navigate to the \"My Profile\" section.\n",
    "   - Generate a new token under the \"User Profile\" section.\n",
    "   - Save the crednetials in a .json file on your local machine. \n",
    "    > - Note: if you store this file within a repository, make sure to add the credentials file to your `.gitignore`!"
   ]
  },
  {
   "cell_type": "code",
   "execution_count": null,
   "metadata": {},
   "outputs": [],
   "source": [
    "import json\n",
    "# where we stored the token locally on our PC\n",
    "creds_json = \"./earthdata_creds.json\"\n",
    "with open(creds_json) as f:\n",
    "    creds = json.load(f)\n",
    "print(creds.keys())\n",
    "\n",
    "# Your NASA Earthdata token\n",
    "token = creds['token']"
   ]
  },
  {
   "cell_type": "markdown",
   "metadata": {},
   "source": [
    "\n",
    "2. **Use the Token in Your API Requests:**\n",
    "   - Use the generated token in the `Authorization: Bearer` header of your API requests."
   ]
  },
  {
   "cell_type": "code",
   "execution_count": null,
   "metadata": {},
   "outputs": [],
   "source": [
    "def search_and_download(region_name, bounding_box, time_range, token, dest_folder='./data/MODIS-LST/',\n",
    "                        force_download=False, verbose=True):\n",
    "    \"\"\"\n",
    "    Searches for granules using the NASA Earthdata API and downloads the data files for a given region.\n",
    "\n",
    "    Args:\n",
    "        region_name (str): The name of the region.\n",
    "        bounding_box (dict): The bounding box coordinates of the region in the format {'SW': [lat, lon], 'NE': [lat, lon]}.\n",
    "        time_range (dict): The temporal range of the data in the format {'start': 'YYYY-MM-DD', 'end': 'YYYY-MM-DD'}.\n",
    "        token (str): The access token for the NASA Earthdata API.\n",
    "        dest_folder (str, optional): The destination folder to save the downloaded data files. Defaults to './data/MODIS-LST/'.\n",
    "\n",
    "    Returns:\n",
    "        list: A list of dictionaries containing the region name and the URL of each downloaded data file.\n",
    "    \"\"\"\n",
    "    # Authorization header with the token\n",
    "    headers = {\n",
    "            'Authorization': f'Bearer {token}'\n",
    "        }\n",
    "\n",
    "    # Base URL for searching granules\n",
    "    search_url = 'https://cmr.earthdata.nasa.gov/search/granules.json'\n",
    "    \n",
    "    # Pagination settings\n",
    "    page_size = 10\n",
    "    page_num = 1\n",
    "    total_hits = None\n",
    "\n",
    "    # List to store entries and links\n",
    "    entries_links = []\n",
    "\n",
    "    while True:\n",
    "        # Set up the parameters for the search query\n",
    "        params = {\n",
    "            'short_name': 'MOD11A2',  # Dataset short name\n",
    "            'version': '061',         # Dataset version\n",
    "            'temporal': f\"{time_range['start']},{time_range['end']}\",  # Temporal range\n",
    "            'bounding_box': f\"{bounding_box['SW'][1]},{bounding_box['SW'][0]},{bounding_box['NE'][1]},{bounding_box['NE'][0]}\",  # Bounding box coordinates\n",
    "            'page_size': page_size,   # Number of results per page\n",
    "            'page_num': page_num      # Current page number\n",
    "        }\n",
    "        \n",
    "        # Send the request to the NASA Earthdata API\n",
    "        response = requests.get(search_url, params=params, headers=headers)\n",
    "\n",
    "        if response.status_code == 200:\n",
    "            # Parse the JSON response\n",
    "            data = response.json()\n",
    "            \n",
    "            # Determine the total number of hits on the first request\n",
    "            if total_hits is None:\n",
    "                total_hits = int(response.headers.get('CMR-Hits', 0))\n",
    "                print(f\"Total hits for {region_name}: {total_hits}\")\n",
    "\n",
    "            # Check if there are entries in the response\n",
    "            if data['feed']['entry']:\n",
    "                for entry in data['feed']['entry']:\n",
    "                    # Extract relevant metadata from each entry\n",
    "                    granule_id = entry.get('id', 'N/A')\n",
    "                    dataset_id = entry.get('dataset_id', 'N/A')\n",
    "                    start_time = entry.get('time_start', 'N/A')\n",
    "                    end_time = entry.get('time_end', 'N/A')\n",
    "                    spatial_extent = entry.get('boxes', ['N/A'])[0]\n",
    "                    \n",
    "                    \n",
    "                    # Extract the data links for downloading\n",
    "                    data_links = [link['href'] for link in entry['links'] if 'data#' in link['rel']]\n",
    "                    \n",
    "                    # Download each data link and store the entries and links\n",
    "                    for url in data_links:\n",
    "                        dir_for_dl = os.path.join(dest_folder, region_name)\n",
    "                        # Define the filename based on the URL (to check if the file is a directory)\n",
    "                        filename = os.path.join(dir_for_dl,#dest_folder, \n",
    "                                                url.split('/')[-1])\n",
    "                        \n",
    "                        # Check if directory\n",
    "                        if os.path.isdir(filename):\n",
    "                            if verbose:\n",
    "                                print(f\"- Skipping directory {filename}\")\n",
    "                            continue\n",
    "                        \n",
    "                        if \"s3credentials\" in filename:\n",
    "                            if verbose:\n",
    "                                print(f\"- Skipping S3 credentials link {filename}\")\n",
    "                            continue\n",
    "                        \n",
    "                        if '?p' in filename:\n",
    "                            if verbose:\n",
    "                                print(f\"- Skipping link with query parameters {filename}\")\n",
    "                            continue\n",
    "                        # Remove question marks\n",
    "                        filename = filename.replace(\"?\", \"-\")\n",
    "                        \n",
    "                        # Use the helper function to download the file\n",
    "                        filepath = download_file(url, dir_for_dl, token, force_download=force_download, \n",
    "                                                 verbose=verbose # Always be verbose for download\n",
    "                                                 )\n",
    "                        # Add the entry to the list\n",
    "                        entries_links.append({'region': region_name, 'url': url,\"fpath\":filepath, 'granule_id': granule_id, 'dataset_id': dataset_id,\n",
    "                                            'start_time': start_time, 'end_time': end_time, 'spatial_extent': spatial_extent})\n",
    "            else:\n",
    "                print(f\"\\n[!] No entries found for region: {region_name}\")\n",
    "\n",
    "            # Check if we have fetched all results\n",
    "            if page_num * page_size >= total_hits:\n",
    "                break\n",
    "            else:\n",
    "                page_num += 1\n",
    "        else:\n",
    "            print(f\"\\n[!] Error: {response.status_code} - {response.text}\")\n",
    "            break\n",
    "\n",
    "    return entries_links"
   ]
  },
  {
   "cell_type": "code",
   "execution_count": null,
   "metadata": {},
   "outputs": [],
   "source": [
    "def download_file(url, dest_folder, token, force_download=False, verbose=True):\n",
    "    \"\"\"\n",
    "    Downloads a file from the given URL and saves it to the specified destination folder.\n",
    "\n",
    "    Args:\n",
    "        url (str): The URL of the file to download.\n",
    "        dest_folder (str): The destination folder where the file will be saved.\n",
    "        token (str): The authorization token for accessing the file.\n",
    "        force_download (bool, optional): If set to True, the file will be downloaded even if it already exists in the destination folder. Defaults to False.\n",
    "\n",
    "    Returns:\n",
    "        str: The path of the downloaded file.\n",
    "\n",
    "    Raises:\n",
    "        None\n",
    "\n",
    "    \"\"\"\n",
    "    # Create the destination folder if it doesn't exist\n",
    "    if not os.path.exists(dest_folder):\n",
    "        os.makedirs(dest_folder)\n",
    "    \n",
    "    # Define the filename based on the URL\n",
    "    filename = os.path.join(dest_folder, url.split('/')[-1])\n",
    "    \n",
    "    # Check if the file already exists\n",
    "    if os.path.exists(filename) and not force_download:\n",
    "        if verbose:\n",
    "            print(f\"- File {filename} already exists, skipping download.\")\n",
    "        return filename\n",
    "\n",
    "    # Authorization header with the token\n",
    "    headers = {\n",
    "        'Authorization': f'Bearer {token}'\n",
    "    }\n",
    "    \n",
    "    try:\n",
    "        # Send the request to download the file\n",
    "        response = requests.get(url, headers=headers)\n",
    "        \n",
    "    except Exception as e:\n",
    "        print(f\"- [!] An error occurred while downloading {url}: {e}\")\n",
    "        return\n",
    "    \n",
    "    # Save the file if the request is successful\n",
    "    if response.status_code == 200:\n",
    "        with open(filename, 'wb') as f:\n",
    "            f.write(response.content)\n",
    "        # if verbose:\n",
    "        print(f\"- Downloaded {filename}\")\n",
    "    else:\n",
    "        print(f\"- [!] Failed to download {url}: {response.status_code}\")\n",
    "    \n",
    "    return filename"
   ]
  },
  {
   "cell_type": "code",
   "execution_count": null,
   "metadata": {},
   "outputs": [],
   "source": [
    "# Set DATA_DIR using region name from data params\n",
    "region_name = data_params['city_region_name'].replace(',','_').replace(' ','')\n",
    "DATA_DIR = f\"./data/MODIS-LST/{region_name}/\"\n",
    "DATA_DIR"
   ]
  },
  {
   "cell_type": "code",
   "execution_count": null,
   "metadata": {},
   "outputs": [],
   "source": [
    "# List to store all entries and links\n",
    "all_entries_links = []\n",
    "\n",
    "# Iterate through the regions and download data\n",
    "for region_name, bounding_box in data_params['coordinates'].items():\n",
    "    # group_links=  []\n",
    "    entries_links = search_and_download(region_name, bounding_box, \n",
    "                                        data_params['time'], \n",
    "                                        token=creds['token'],\n",
    "                                        dest_folder=DATA_DIR, \n",
    "                                        force_download=False, \n",
    "                                        verbose=False # new verbose flag\n",
    "                                        )\n",
    "    all_entries_links.extend(entries_links)\n",
    "    print('\\n\\n')"
   ]
  },
  {
   "cell_type": "markdown",
   "metadata": {},
   "source": []
  },
  {
   "cell_type": "markdown",
   "metadata": {},
   "source": [
    "### Unused Sentence"
   ]
  },
  {
   "cell_type": "markdown",
   "metadata": {},
   "source": [
    "Instead of using f-strings to construct the final prompt for the language model, we can use `langchain` library to create an LLM chain that automatically formats the prompt with the query provided by the user. We do so by converting our string prompt to a PromptTemplate object using the .from_template method. \n"
   ]
  },
  {
   "cell_type": "code",
   "execution_count": null,
   "metadata": {},
   "outputs": [],
   "source": []
  },
  {
   "cell_type": "markdown",
   "metadata": {},
   "source": [
    "### [`STILL NEEDED?`]Reproducible and Customizable Queries/Prompts "
   ]
  },
  {
   "cell_type": "markdown",
   "metadata": {},
   "source": [
    "We got a lot of great information from our prompt:\n",
    "- We have new coordinates includes in our result,\n",
    "- We have new time period\n",
    "\n",
    "but there are 2 issues to resolve:\n",
    "- Continuing to tweak and iterate on our prompt to get updated results \n",
    "- we received a large amount of unnecessary text, if all we want is the new values for our data_params dictionary. \n",
    "\n",
    "\n",
    "Therefore, we will construct a detailed system prompt that includes a `query` parameter, which is where we will add additional details to our requests. \n"
   ]
  }
 ],
 "metadata": {
  "kernelspec": {
   "display_name": "nasa-env",
   "language": "python",
   "name": "python3"
  },
  "language_info": {
   "codemirror_mode": {
    "name": "ipython",
    "version": 3
   },
   "file_extension": ".py",
   "mimetype": "text/x-python",
   "name": "python",
   "nbconvert_exporter": "python",
   "pygments_lexer": "ipython3",
   "version": "3.11.9"
  }
 },
 "nbformat": 4,
 "nbformat_minor": 2
}
