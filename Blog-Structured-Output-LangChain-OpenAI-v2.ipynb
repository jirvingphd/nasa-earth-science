{
 "cells": [
  {
   "cell_type": "markdown",
   "metadata": {},
   "source": [
    "# Structured Output with LangChain + OpenAI"
   ]
  },
  {
   "cell_type": "markdown",
   "metadata": {},
   "source": [
    "## Introduction\n",
    "In this blog post, we will explore how to produce structured output using LangChain with OpenAI. LangChain is a powerful framework that simplifies the integration of language models into various applications, enabling us to manage inputs and outputs, including structured data formats, with ease. We will apply these capabilities to an Urban Heat Island Analysis project, leveraging NASA’s EarthData API to access MODIS Land Surface Temperature (LST) data. Our goal is to dynamically adjust parameters to ensure high-quality data for our analysis.\n",
    "\n",
    "### Objectives\n",
    "\n",
    "By the end of this lesson, you will be able to:\n",
    "\n",
    "1. Set up the initial parameters for a data analysis project.\n",
    "2. Visualize selected regions using Plotly Express.\n",
    "3. Use LangChain and OpenAI to dynamically adjust project parameters.\n",
    "4. Produce structured output using Pydantic models and LangChain."
   ]
  },
  {
   "cell_type": "markdown",
   "metadata": {},
   "source": [
    "## 1. Initial Setup"
   ]
  },
  {
   "cell_type": "markdown",
   "metadata": {},
   "source": [
    "First, we need to manually set parameters for our analysis, such as the city region, coordinates for urban and rural areas, and the time range. This serves as our starting point and ensures we have a baseline for our project."
   ]
  },
  {
   "cell_type": "code",
   "execution_count": 28,
   "metadata": {},
   "outputs": [
    {
     "data": {
      "text/plain": [
       "{'city_region_name': 'Houston, TX',\n",
       " 'coordinates': {'urban': {'SW': [29.69193, -95.47998],\n",
       "   'NE': [29.90719, -95.2251]},\n",
       "  'rural': {'SW': [30.5, -96.5], 'NE': [31.0, -96.0]}},\n",
       " 'time': {'start': '2023-06-01T00:00:00Z', 'end': '2023-08-31T23:59:59Z'}}"
      ]
     },
     "execution_count": 28,
     "metadata": {},
     "output_type": "execute_result"
    }
   ],
   "source": [
    "# Define the initial data parameters for the analysis\n",
    "data_params = {\n",
    "    'city_region_name': 'Houston, TX',  # Name of the city region\n",
    "    'coordinates': {\n",
    "        'urban': {'SW': [29.69193, -95.47998], 'NE': [29.90719, -95.2251]},  # Coordinates for the urban area\n",
    "        'rural': {'SW': [30.5, -96.5], 'NE': [31.0, -96.0]}  # Coordinates for the rural area\n",
    "    },\n",
    "    'time': {\n",
    "        'start': '2023-06-01T00:00:00Z',  # Start time for data collection\n",
    "        'end': '2023-08-31T23:59:59Z'  # End time for data collection\n",
    "    }\n",
    "}\n",
    "data_params"
   ]
  },
  {
   "cell_type": "markdown",
   "metadata": {},
   "source": [
    "In this step, we specify the city region as Houston, TX, define the coordinates for both urban and rural areas, and set a time range for our analysis.\n"
   ]
  },
  {
   "cell_type": "markdown",
   "metadata": {},
   "source": [
    "## 2. Visualizing Selected Regions:\n"
   ]
  },
  {
   "cell_type": "markdown",
   "metadata": {},
   "source": [
    "Visualizing the selected regions helps us verify the accuracy of our coordinates. We use Plotly Express to generate sample points within the bounding boxes and plot them."
   ]
  },
  {
   "cell_type": "code",
   "execution_count": 29,
   "metadata": {},
   "outputs": [
    {
     "data": {
      "text/html": [
       "<div>\n",
       "<style scoped>\n",
       "    .dataframe tbody tr th:only-of-type {\n",
       "        vertical-align: middle;\n",
       "    }\n",
       "\n",
       "    .dataframe tbody tr th {\n",
       "        vertical-align: top;\n",
       "    }\n",
       "\n",
       "    .dataframe thead th {\n",
       "        text-align: right;\n",
       "    }\n",
       "</style>\n",
       "<table border=\"1\" class=\"dataframe\">\n",
       "  <thead>\n",
       "    <tr style=\"text-align: right;\">\n",
       "      <th></th>\n",
       "      <th>Region</th>\n",
       "      <th>Latitude</th>\n",
       "      <th>Longitude</th>\n",
       "    </tr>\n",
       "  </thead>\n",
       "  <tbody>\n",
       "    <tr>\n",
       "      <th>0</th>\n",
       "      <td>urban</td>\n",
       "      <td>29.69193</td>\n",
       "      <td>-95.47998</td>\n",
       "    </tr>\n",
       "    <tr>\n",
       "      <th>1</th>\n",
       "      <td>urban</td>\n",
       "      <td>29.69193</td>\n",
       "      <td>-95.45166</td>\n",
       "    </tr>\n",
       "  </tbody>\n",
       "</table>\n",
       "</div>"
      ],
      "text/plain": [
       "  Region  Latitude  Longitude\n",
       "0  urban  29.69193  -95.47998\n",
       "1  urban  29.69193  -95.45166"
      ]
     },
     "execution_count": 29,
     "metadata": {},
     "output_type": "execute_result"
    }
   ],
   "source": [
    "import pandas as pd\n",
    "import plotly.express as px\n",
    "\n",
    "def generate_sample_points(sw, ne, num_points=10):\n",
    "    \"\"\"Generate sample points within a given bounding box.\"\"\"\n",
    "    latitudes = [sw[0] + i * (ne[0] - sw[0]) / (num_points - 1) for i in range(num_points)]\n",
    "    longitudes = [sw[1] + i * (ne[1] - sw[1]) / (num_points - 1) for i in range(num_points)]\n",
    "    return [(lat, lon) for lat in latitudes for lon in longitudes]\n",
    "\n",
    "# Generate sample points for urban and rural areas\n",
    "sampled_coordinates = []\n",
    "for region, bounding_box in data_params['coordinates'].items():\n",
    "    \n",
    "    sample_points = generate_sample_points(bounding_box['SW'], bounding_box['NE'])\n",
    "    for lat, lon in sample_points:\n",
    "        sampled_coordinates.append({'Region': region, 'Latitude': lat, 'Longitude': lon})\n",
    "\n",
    "# Convert the sample points to a DataFrame\n",
    "coords_df = pd.DataFrame(sampled_coordinates)\n",
    "coords_df.head(2)"
   ]
  },
  {
   "cell_type": "code",
   "execution_count": 30,
   "metadata": {},
   "outputs": [
    {
     "data": {
      "application/vnd.plotly.v1+json": {
       "config": {
        "plotlyServerURL": "https://plot.ly"
       },
       "data": [
        {
         "hovertemplate": "Region=urban<br>Latitude=%{lat}<br>Longitude=%{lon}<extra></extra>",
         "lat": [
          29.69193,
          29.69193,
          29.69193,
          29.69193,
          29.69193,
          29.69193,
          29.69193,
          29.69193,
          29.69193,
          29.69193,
          29.71584777777778,
          29.71584777777778,
          29.71584777777778,
          29.71584777777778,
          29.71584777777778,
          29.71584777777778,
          29.71584777777778,
          29.71584777777778,
          29.71584777777778,
          29.71584777777778,
          29.739765555555554,
          29.739765555555554,
          29.739765555555554,
          29.739765555555554,
          29.739765555555554,
          29.739765555555554,
          29.739765555555554,
          29.739765555555554,
          29.739765555555554,
          29.739765555555554,
          29.763683333333333,
          29.763683333333333,
          29.763683333333333,
          29.763683333333333,
          29.763683333333333,
          29.763683333333333,
          29.763683333333333,
          29.763683333333333,
          29.763683333333333,
          29.763683333333333,
          29.787601111111112,
          29.787601111111112,
          29.787601111111112,
          29.787601111111112,
          29.787601111111112,
          29.787601111111112,
          29.787601111111112,
          29.787601111111112,
          29.787601111111112,
          29.787601111111112,
          29.811518888888887,
          29.811518888888887,
          29.811518888888887,
          29.811518888888887,
          29.811518888888887,
          29.811518888888887,
          29.811518888888887,
          29.811518888888887,
          29.811518888888887,
          29.811518888888887,
          29.835436666666666,
          29.835436666666666,
          29.835436666666666,
          29.835436666666666,
          29.835436666666666,
          29.835436666666666,
          29.835436666666666,
          29.835436666666666,
          29.835436666666666,
          29.835436666666666,
          29.859354444444445,
          29.859354444444445,
          29.859354444444445,
          29.859354444444445,
          29.859354444444445,
          29.859354444444445,
          29.859354444444445,
          29.859354444444445,
          29.859354444444445,
          29.859354444444445,
          29.88327222222222,
          29.88327222222222,
          29.88327222222222,
          29.88327222222222,
          29.88327222222222,
          29.88327222222222,
          29.88327222222222,
          29.88327222222222,
          29.88327222222222,
          29.88327222222222,
          29.90719,
          29.90719,
          29.90719,
          29.90719,
          29.90719,
          29.90719,
          29.90719,
          29.90719,
          29.90719,
          29.90719
         ],
         "legendgroup": "urban",
         "lon": [
          -95.47998,
          -95.45166,
          -95.42334,
          -95.39502,
          -95.3667,
          -95.33838,
          -95.31006,
          -95.28174,
          -95.25341999999999,
          -95.2251,
          -95.47998,
          -95.45166,
          -95.42334,
          -95.39502,
          -95.3667,
          -95.33838,
          -95.31006,
          -95.28174,
          -95.25341999999999,
          -95.2251,
          -95.47998,
          -95.45166,
          -95.42334,
          -95.39502,
          -95.3667,
          -95.33838,
          -95.31006,
          -95.28174,
          -95.25341999999999,
          -95.2251,
          -95.47998,
          -95.45166,
          -95.42334,
          -95.39502,
          -95.3667,
          -95.33838,
          -95.31006,
          -95.28174,
          -95.25341999999999,
          -95.2251,
          -95.47998,
          -95.45166,
          -95.42334,
          -95.39502,
          -95.3667,
          -95.33838,
          -95.31006,
          -95.28174,
          -95.25341999999999,
          -95.2251,
          -95.47998,
          -95.45166,
          -95.42334,
          -95.39502,
          -95.3667,
          -95.33838,
          -95.31006,
          -95.28174,
          -95.25341999999999,
          -95.2251,
          -95.47998,
          -95.45166,
          -95.42334,
          -95.39502,
          -95.3667,
          -95.33838,
          -95.31006,
          -95.28174,
          -95.25341999999999,
          -95.2251,
          -95.47998,
          -95.45166,
          -95.42334,
          -95.39502,
          -95.3667,
          -95.33838,
          -95.31006,
          -95.28174,
          -95.25341999999999,
          -95.2251,
          -95.47998,
          -95.45166,
          -95.42334,
          -95.39502,
          -95.3667,
          -95.33838,
          -95.31006,
          -95.28174,
          -95.25341999999999,
          -95.2251,
          -95.47998,
          -95.45166,
          -95.42334,
          -95.39502,
          -95.3667,
          -95.33838,
          -95.31006,
          -95.28174,
          -95.25341999999999,
          -95.2251
         ],
         "marker": {
          "color": "#636efa"
         },
         "mode": "markers",
         "name": "urban",
         "showlegend": true,
         "subplot": "mapbox",
         "type": "scattermapbox"
        },
        {
         "hovertemplate": "Region=rural<br>Latitude=%{lat}<br>Longitude=%{lon}<extra></extra>",
         "lat": [
          30.5,
          30.5,
          30.5,
          30.5,
          30.5,
          30.5,
          30.5,
          30.5,
          30.5,
          30.5,
          30.555555555555557,
          30.555555555555557,
          30.555555555555557,
          30.555555555555557,
          30.555555555555557,
          30.555555555555557,
          30.555555555555557,
          30.555555555555557,
          30.555555555555557,
          30.555555555555557,
          30.61111111111111,
          30.61111111111111,
          30.61111111111111,
          30.61111111111111,
          30.61111111111111,
          30.61111111111111,
          30.61111111111111,
          30.61111111111111,
          30.61111111111111,
          30.61111111111111,
          30.666666666666668,
          30.666666666666668,
          30.666666666666668,
          30.666666666666668,
          30.666666666666668,
          30.666666666666668,
          30.666666666666668,
          30.666666666666668,
          30.666666666666668,
          30.666666666666668,
          30.72222222222222,
          30.72222222222222,
          30.72222222222222,
          30.72222222222222,
          30.72222222222222,
          30.72222222222222,
          30.72222222222222,
          30.72222222222222,
          30.72222222222222,
          30.72222222222222,
          30.77777777777778,
          30.77777777777778,
          30.77777777777778,
          30.77777777777778,
          30.77777777777778,
          30.77777777777778,
          30.77777777777778,
          30.77777777777778,
          30.77777777777778,
          30.77777777777778,
          30.833333333333332,
          30.833333333333332,
          30.833333333333332,
          30.833333333333332,
          30.833333333333332,
          30.833333333333332,
          30.833333333333332,
          30.833333333333332,
          30.833333333333332,
          30.833333333333332,
          30.88888888888889,
          30.88888888888889,
          30.88888888888889,
          30.88888888888889,
          30.88888888888889,
          30.88888888888889,
          30.88888888888889,
          30.88888888888889,
          30.88888888888889,
          30.88888888888889,
          30.944444444444443,
          30.944444444444443,
          30.944444444444443,
          30.944444444444443,
          30.944444444444443,
          30.944444444444443,
          30.944444444444443,
          30.944444444444443,
          30.944444444444443,
          30.944444444444443,
          31,
          31,
          31,
          31,
          31,
          31,
          31,
          31,
          31,
          31
         ],
         "legendgroup": "rural",
         "lon": [
          -96.5,
          -96.44444444444444,
          -96.38888888888889,
          -96.33333333333333,
          -96.27777777777777,
          -96.22222222222223,
          -96.16666666666667,
          -96.11111111111111,
          -96.05555555555556,
          -96,
          -96.5,
          -96.44444444444444,
          -96.38888888888889,
          -96.33333333333333,
          -96.27777777777777,
          -96.22222222222223,
          -96.16666666666667,
          -96.11111111111111,
          -96.05555555555556,
          -96,
          -96.5,
          -96.44444444444444,
          -96.38888888888889,
          -96.33333333333333,
          -96.27777777777777,
          -96.22222222222223,
          -96.16666666666667,
          -96.11111111111111,
          -96.05555555555556,
          -96,
          -96.5,
          -96.44444444444444,
          -96.38888888888889,
          -96.33333333333333,
          -96.27777777777777,
          -96.22222222222223,
          -96.16666666666667,
          -96.11111111111111,
          -96.05555555555556,
          -96,
          -96.5,
          -96.44444444444444,
          -96.38888888888889,
          -96.33333333333333,
          -96.27777777777777,
          -96.22222222222223,
          -96.16666666666667,
          -96.11111111111111,
          -96.05555555555556,
          -96,
          -96.5,
          -96.44444444444444,
          -96.38888888888889,
          -96.33333333333333,
          -96.27777777777777,
          -96.22222222222223,
          -96.16666666666667,
          -96.11111111111111,
          -96.05555555555556,
          -96,
          -96.5,
          -96.44444444444444,
          -96.38888888888889,
          -96.33333333333333,
          -96.27777777777777,
          -96.22222222222223,
          -96.16666666666667,
          -96.11111111111111,
          -96.05555555555556,
          -96,
          -96.5,
          -96.44444444444444,
          -96.38888888888889,
          -96.33333333333333,
          -96.27777777777777,
          -96.22222222222223,
          -96.16666666666667,
          -96.11111111111111,
          -96.05555555555556,
          -96,
          -96.5,
          -96.44444444444444,
          -96.38888888888889,
          -96.33333333333333,
          -96.27777777777777,
          -96.22222222222223,
          -96.16666666666667,
          -96.11111111111111,
          -96.05555555555556,
          -96,
          -96.5,
          -96.44444444444444,
          -96.38888888888889,
          -96.33333333333333,
          -96.27777777777777,
          -96.22222222222223,
          -96.16666666666667,
          -96.11111111111111,
          -96.05555555555556,
          -96
         ],
         "marker": {
          "color": "#EF553B"
         },
         "mode": "markers",
         "name": "rural",
         "showlegend": true,
         "subplot": "mapbox",
         "type": "scattermapbox"
        }
       ],
       "layout": {
        "height": 600,
        "legend": {
         "orientation": "h",
         "title": {
          "text": "Region"
         },
         "tracegroupgap": 0,
         "x": 0,
         "xanchor": "left",
         "y": 1.05,
         "yanchor": "top"
        },
        "mapbox": {
         "center": {
          "lat": 30.27478,
          "lon": -95.80126999999999
         },
         "domain": {
          "x": [
           0,
           1
          ],
          "y": [
           0,
           1
          ]
         },
         "style": "carto-positron",
         "zoom": 8
        },
        "margin": {
         "b": 0,
         "l": 0,
         "r": 0,
         "t": 100
        },
        "template": {
         "data": {
          "bar": [
           {
            "error_x": {
             "color": "#2a3f5f"
            },
            "error_y": {
             "color": "#2a3f5f"
            },
            "marker": {
             "line": {
              "color": "#E5ECF6",
              "width": 0.5
             },
             "pattern": {
              "fillmode": "overlay",
              "size": 10,
              "solidity": 0.2
             }
            },
            "type": "bar"
           }
          ],
          "barpolar": [
           {
            "marker": {
             "line": {
              "color": "#E5ECF6",
              "width": 0.5
             },
             "pattern": {
              "fillmode": "overlay",
              "size": 10,
              "solidity": 0.2
             }
            },
            "type": "barpolar"
           }
          ],
          "carpet": [
           {
            "aaxis": {
             "endlinecolor": "#2a3f5f",
             "gridcolor": "white",
             "linecolor": "white",
             "minorgridcolor": "white",
             "startlinecolor": "#2a3f5f"
            },
            "baxis": {
             "endlinecolor": "#2a3f5f",
             "gridcolor": "white",
             "linecolor": "white",
             "minorgridcolor": "white",
             "startlinecolor": "#2a3f5f"
            },
            "type": "carpet"
           }
          ],
          "choropleth": [
           {
            "colorbar": {
             "outlinewidth": 0,
             "ticks": ""
            },
            "type": "choropleth"
           }
          ],
          "contour": [
           {
            "colorbar": {
             "outlinewidth": 0,
             "ticks": ""
            },
            "colorscale": [
             [
              0,
              "#0d0887"
             ],
             [
              0.1111111111111111,
              "#46039f"
             ],
             [
              0.2222222222222222,
              "#7201a8"
             ],
             [
              0.3333333333333333,
              "#9c179e"
             ],
             [
              0.4444444444444444,
              "#bd3786"
             ],
             [
              0.5555555555555556,
              "#d8576b"
             ],
             [
              0.6666666666666666,
              "#ed7953"
             ],
             [
              0.7777777777777778,
              "#fb9f3a"
             ],
             [
              0.8888888888888888,
              "#fdca26"
             ],
             [
              1,
              "#f0f921"
             ]
            ],
            "type": "contour"
           }
          ],
          "contourcarpet": [
           {
            "colorbar": {
             "outlinewidth": 0,
             "ticks": ""
            },
            "type": "contourcarpet"
           }
          ],
          "heatmap": [
           {
            "colorbar": {
             "outlinewidth": 0,
             "ticks": ""
            },
            "colorscale": [
             [
              0,
              "#0d0887"
             ],
             [
              0.1111111111111111,
              "#46039f"
             ],
             [
              0.2222222222222222,
              "#7201a8"
             ],
             [
              0.3333333333333333,
              "#9c179e"
             ],
             [
              0.4444444444444444,
              "#bd3786"
             ],
             [
              0.5555555555555556,
              "#d8576b"
             ],
             [
              0.6666666666666666,
              "#ed7953"
             ],
             [
              0.7777777777777778,
              "#fb9f3a"
             ],
             [
              0.8888888888888888,
              "#fdca26"
             ],
             [
              1,
              "#f0f921"
             ]
            ],
            "type": "heatmap"
           }
          ],
          "heatmapgl": [
           {
            "colorbar": {
             "outlinewidth": 0,
             "ticks": ""
            },
            "colorscale": [
             [
              0,
              "#0d0887"
             ],
             [
              0.1111111111111111,
              "#46039f"
             ],
             [
              0.2222222222222222,
              "#7201a8"
             ],
             [
              0.3333333333333333,
              "#9c179e"
             ],
             [
              0.4444444444444444,
              "#bd3786"
             ],
             [
              0.5555555555555556,
              "#d8576b"
             ],
             [
              0.6666666666666666,
              "#ed7953"
             ],
             [
              0.7777777777777778,
              "#fb9f3a"
             ],
             [
              0.8888888888888888,
              "#fdca26"
             ],
             [
              1,
              "#f0f921"
             ]
            ],
            "type": "heatmapgl"
           }
          ],
          "histogram": [
           {
            "marker": {
             "pattern": {
              "fillmode": "overlay",
              "size": 10,
              "solidity": 0.2
             }
            },
            "type": "histogram"
           }
          ],
          "histogram2d": [
           {
            "colorbar": {
             "outlinewidth": 0,
             "ticks": ""
            },
            "colorscale": [
             [
              0,
              "#0d0887"
             ],
             [
              0.1111111111111111,
              "#46039f"
             ],
             [
              0.2222222222222222,
              "#7201a8"
             ],
             [
              0.3333333333333333,
              "#9c179e"
             ],
             [
              0.4444444444444444,
              "#bd3786"
             ],
             [
              0.5555555555555556,
              "#d8576b"
             ],
             [
              0.6666666666666666,
              "#ed7953"
             ],
             [
              0.7777777777777778,
              "#fb9f3a"
             ],
             [
              0.8888888888888888,
              "#fdca26"
             ],
             [
              1,
              "#f0f921"
             ]
            ],
            "type": "histogram2d"
           }
          ],
          "histogram2dcontour": [
           {
            "colorbar": {
             "outlinewidth": 0,
             "ticks": ""
            },
            "colorscale": [
             [
              0,
              "#0d0887"
             ],
             [
              0.1111111111111111,
              "#46039f"
             ],
             [
              0.2222222222222222,
              "#7201a8"
             ],
             [
              0.3333333333333333,
              "#9c179e"
             ],
             [
              0.4444444444444444,
              "#bd3786"
             ],
             [
              0.5555555555555556,
              "#d8576b"
             ],
             [
              0.6666666666666666,
              "#ed7953"
             ],
             [
              0.7777777777777778,
              "#fb9f3a"
             ],
             [
              0.8888888888888888,
              "#fdca26"
             ],
             [
              1,
              "#f0f921"
             ]
            ],
            "type": "histogram2dcontour"
           }
          ],
          "mesh3d": [
           {
            "colorbar": {
             "outlinewidth": 0,
             "ticks": ""
            },
            "type": "mesh3d"
           }
          ],
          "parcoords": [
           {
            "line": {
             "colorbar": {
              "outlinewidth": 0,
              "ticks": ""
             }
            },
            "type": "parcoords"
           }
          ],
          "pie": [
           {
            "automargin": true,
            "type": "pie"
           }
          ],
          "scatter": [
           {
            "fillpattern": {
             "fillmode": "overlay",
             "size": 10,
             "solidity": 0.2
            },
            "type": "scatter"
           }
          ],
          "scatter3d": [
           {
            "line": {
             "colorbar": {
              "outlinewidth": 0,
              "ticks": ""
             }
            },
            "marker": {
             "colorbar": {
              "outlinewidth": 0,
              "ticks": ""
             }
            },
            "type": "scatter3d"
           }
          ],
          "scattercarpet": [
           {
            "marker": {
             "colorbar": {
              "outlinewidth": 0,
              "ticks": ""
             }
            },
            "type": "scattercarpet"
           }
          ],
          "scattergeo": [
           {
            "marker": {
             "colorbar": {
              "outlinewidth": 0,
              "ticks": ""
             }
            },
            "type": "scattergeo"
           }
          ],
          "scattergl": [
           {
            "marker": {
             "colorbar": {
              "outlinewidth": 0,
              "ticks": ""
             }
            },
            "type": "scattergl"
           }
          ],
          "scattermapbox": [
           {
            "marker": {
             "colorbar": {
              "outlinewidth": 0,
              "ticks": ""
             }
            },
            "type": "scattermapbox"
           }
          ],
          "scatterpolar": [
           {
            "marker": {
             "colorbar": {
              "outlinewidth": 0,
              "ticks": ""
             }
            },
            "type": "scatterpolar"
           }
          ],
          "scatterpolargl": [
           {
            "marker": {
             "colorbar": {
              "outlinewidth": 0,
              "ticks": ""
             }
            },
            "type": "scatterpolargl"
           }
          ],
          "scatterternary": [
           {
            "marker": {
             "colorbar": {
              "outlinewidth": 0,
              "ticks": ""
             }
            },
            "type": "scatterternary"
           }
          ],
          "surface": [
           {
            "colorbar": {
             "outlinewidth": 0,
             "ticks": ""
            },
            "colorscale": [
             [
              0,
              "#0d0887"
             ],
             [
              0.1111111111111111,
              "#46039f"
             ],
             [
              0.2222222222222222,
              "#7201a8"
             ],
             [
              0.3333333333333333,
              "#9c179e"
             ],
             [
              0.4444444444444444,
              "#bd3786"
             ],
             [
              0.5555555555555556,
              "#d8576b"
             ],
             [
              0.6666666666666666,
              "#ed7953"
             ],
             [
              0.7777777777777778,
              "#fb9f3a"
             ],
             [
              0.8888888888888888,
              "#fdca26"
             ],
             [
              1,
              "#f0f921"
             ]
            ],
            "type": "surface"
           }
          ],
          "table": [
           {
            "cells": {
             "fill": {
              "color": "#EBF0F8"
             },
             "line": {
              "color": "white"
             }
            },
            "header": {
             "fill": {
              "color": "#C8D4E3"
             },
             "line": {
              "color": "white"
             }
            },
            "type": "table"
           }
          ]
         },
         "layout": {
          "annotationdefaults": {
           "arrowcolor": "#2a3f5f",
           "arrowhead": 0,
           "arrowwidth": 1
          },
          "autotypenumbers": "strict",
          "coloraxis": {
           "colorbar": {
            "outlinewidth": 0,
            "ticks": ""
           }
          },
          "colorscale": {
           "diverging": [
            [
             0,
             "#8e0152"
            ],
            [
             0.1,
             "#c51b7d"
            ],
            [
             0.2,
             "#de77ae"
            ],
            [
             0.3,
             "#f1b6da"
            ],
            [
             0.4,
             "#fde0ef"
            ],
            [
             0.5,
             "#f7f7f7"
            ],
            [
             0.6,
             "#e6f5d0"
            ],
            [
             0.7,
             "#b8e186"
            ],
            [
             0.8,
             "#7fbc41"
            ],
            [
             0.9,
             "#4d9221"
            ],
            [
             1,
             "#276419"
            ]
           ],
           "sequential": [
            [
             0,
             "#0d0887"
            ],
            [
             0.1111111111111111,
             "#46039f"
            ],
            [
             0.2222222222222222,
             "#7201a8"
            ],
            [
             0.3333333333333333,
             "#9c179e"
            ],
            [
             0.4444444444444444,
             "#bd3786"
            ],
            [
             0.5555555555555556,
             "#d8576b"
            ],
            [
             0.6666666666666666,
             "#ed7953"
            ],
            [
             0.7777777777777778,
             "#fb9f3a"
            ],
            [
             0.8888888888888888,
             "#fdca26"
            ],
            [
             1,
             "#f0f921"
            ]
           ],
           "sequentialminus": [
            [
             0,
             "#0d0887"
            ],
            [
             0.1111111111111111,
             "#46039f"
            ],
            [
             0.2222222222222222,
             "#7201a8"
            ],
            [
             0.3333333333333333,
             "#9c179e"
            ],
            [
             0.4444444444444444,
             "#bd3786"
            ],
            [
             0.5555555555555556,
             "#d8576b"
            ],
            [
             0.6666666666666666,
             "#ed7953"
            ],
            [
             0.7777777777777778,
             "#fb9f3a"
            ],
            [
             0.8888888888888888,
             "#fdca26"
            ],
            [
             1,
             "#f0f921"
            ]
           ]
          },
          "colorway": [
           "#636efa",
           "#EF553B",
           "#00cc96",
           "#ab63fa",
           "#FFA15A",
           "#19d3f3",
           "#FF6692",
           "#B6E880",
           "#FF97FF",
           "#FECB52"
          ],
          "font": {
           "color": "#2a3f5f"
          },
          "geo": {
           "bgcolor": "white",
           "lakecolor": "white",
           "landcolor": "#E5ECF6",
           "showlakes": true,
           "showland": true,
           "subunitcolor": "white"
          },
          "hoverlabel": {
           "align": "left"
          },
          "hovermode": "closest",
          "mapbox": {
           "style": "light"
          },
          "paper_bgcolor": "white",
          "plot_bgcolor": "#E5ECF6",
          "polar": {
           "angularaxis": {
            "gridcolor": "white",
            "linecolor": "white",
            "ticks": ""
           },
           "bgcolor": "#E5ECF6",
           "radialaxis": {
            "gridcolor": "white",
            "linecolor": "white",
            "ticks": ""
           }
          },
          "scene": {
           "xaxis": {
            "backgroundcolor": "#E5ECF6",
            "gridcolor": "white",
            "gridwidth": 2,
            "linecolor": "white",
            "showbackground": true,
            "ticks": "",
            "zerolinecolor": "white"
           },
           "yaxis": {
            "backgroundcolor": "#E5ECF6",
            "gridcolor": "white",
            "gridwidth": 2,
            "linecolor": "white",
            "showbackground": true,
            "ticks": "",
            "zerolinecolor": "white"
           },
           "zaxis": {
            "backgroundcolor": "#E5ECF6",
            "gridcolor": "white",
            "gridwidth": 2,
            "linecolor": "white",
            "showbackground": true,
            "ticks": "",
            "zerolinecolor": "white"
           }
          },
          "shapedefaults": {
           "line": {
            "color": "#2a3f5f"
           }
          },
          "ternary": {
           "aaxis": {
            "gridcolor": "white",
            "linecolor": "white",
            "ticks": ""
           },
           "baxis": {
            "gridcolor": "white",
            "linecolor": "white",
            "ticks": ""
           },
           "bgcolor": "#E5ECF6",
           "caxis": {
            "gridcolor": "white",
            "linecolor": "white",
            "ticks": ""
           }
          },
          "title": {
           "x": 0.05
          },
          "xaxis": {
           "automargin": true,
           "gridcolor": "white",
           "linecolor": "white",
           "ticks": "",
           "title": {
            "standoff": 15
           },
           "zerolinecolor": "white",
           "zerolinewidth": 2
          },
          "yaxis": {
           "automargin": true,
           "gridcolor": "white",
           "linecolor": "white",
           "ticks": "",
           "title": {
            "standoff": 15
           },
           "zerolinecolor": "white",
           "zerolinewidth": 2
          }
         }
        },
        "title": {
         "text": "Preview of Selected Bounding Boxes for Houston, TX"
        },
        "width": 800
       }
      }
     },
     "metadata": {},
     "output_type": "display_data"
    }
   ],
   "source": [
    "## Plot the region suggested\n",
    "fig = px.scatter_mapbox(coords_df, lat=\"Latitude\", lon=\"Longitude\", color='Region',\n",
    "                        # color_continuous_scale=\"Viridis\", \n",
    "                        mapbox_style=\"carto-positron\",\n",
    "                        title=f\"Preview of Selected Bounding Boxes for {data_params['city_region_name']}\",\n",
    "                        height=600, width=800)\n",
    "## Update the layout\n",
    "fig.update_layout(\n",
    "    margin={\"r\":0, \"l\":0,'b':0, 't':100},# Remove left and right side margins\n",
    "    legend={'orientation':\"h\", 'yanchor':\"top\", 'y':1.05, 'xanchor':\"left\", 'x':0}, # Move legend to top   \n",
    ")\n",
    "fig.show()"
   ]
  },
  {
   "cell_type": "markdown",
   "metadata": {},
   "source": [
    "This visualization helps us confirm that the regions are correctly defined and prepares us for the next steps.\n"
   ]
  },
  {
   "cell_type": "markdown",
   "metadata": {},
   "source": [
    "## 3. Getting New Suggested Parameters from OpenAI "
   ]
  },
  {
   "cell_type": "markdown",
   "metadata": {},
   "source": [
    "### Setting Up OpenAI + LangChain\n"
   ]
  },
  {
   "cell_type": "markdown",
   "metadata": {},
   "source": [
    "Before using OpenAI’s API, we need to set up our environment. Follow these steps:\n",
    "\n"
   ]
  },
  {
   "cell_type": "markdown",
   "metadata": {},
   "source": [
    "1. **Sign up for OpenAI's API:** \n",
    "   - Visit the [OpenAI website](https://www.openai.com) and sign up for an API key.\n"
   ]
  },
  {
   "cell_type": "markdown",
   "metadata": {},
   "source": [
    "\n",
    "2. **Create a `.secret` folder in your home directory:**\n",
    "   ```bash\n",
    "   cd ~\n",
    "   mkdir .secret\n",
    "   ```"
   ]
  },
  {
   "cell_type": "markdown",
   "metadata": {},
   "source": [
    "3. **Save your API key as a text file in the `.secret` folder:**\n",
    "   - Open a text editor and paste your API key.\n",
    "   - Save the file as `open-ai.txt` in the `.secret` folder. For example, you can use the following command in the terminal to create the file and save the API key:\n",
    "   \n"
   ]
  },
  {
   "cell_type": "markdown",
   "metadata": {},
   "source": [
    "4. **Export the key from the file to your `.bash_profile` or `.zshrc`:**\n",
    "   - Open your `.bash_profile` for editing in VS Code:\n",
    "   ```bash\n",
    "   # If using bash\n",
    "    code ~/.bash_profile\n",
    "\n",
    "    # If using zsh, use: \n",
    "    code ~/.zshrc\n",
    "    ```\n",
    "\n",
    "- Add the following line to export the API key:\n",
    "   ```bash\n",
    "   export OPENAI_API_KEY=$(cat ~/.secret/open-ai.txt)\n",
    "   ```\n",
    "   \n",
    "- Save the file and exit the editor \n"
   ]
  },
  {
   "cell_type": "markdown",
   "metadata": {},
   "source": [
    "After following these steps, your API key will be available in your environment variables as `OPENAI_API_KEY`.\n"
   ]
  },
  {
   "cell_type": "markdown",
   "metadata": {},
   "source": [
    "\n",
    "**5.\tConfirm the setup with Python to ensure the key is correctly loaded.**\n",
    "\n",
    "You can confirm this with Python by importing the `os` module and checking the `os.environ` dictionary for 'OPENAI_API_KEY'.\n"
   ]
  },
  {
   "cell_type": "code",
   "execution_count": 31,
   "metadata": {},
   "outputs": [
    {
     "data": {
      "text/plain": [
       "True"
      ]
     },
     "execution_count": 31,
     "metadata": {},
     "output_type": "execute_result"
    }
   ],
   "source": [
    "import os\n",
    "'OPENAI_API_KEY' in os.environ  # Should return True if the key is correctly loaded"
   ]
  },
  {
   "cell_type": "markdown",
   "metadata": {},
   "source": [
    "\n",
    "> Note: Do NOT display the value of your OPENAI_API_KEY. If you accidentally expose your API credentials, OpenAI will automatically deactivate them, causing any program or app that uses it to break. "
   ]
  },
  {
   "cell_type": "markdown",
   "metadata": {},
   "source": [
    "### Using LangChain with ChatGPT"
   ]
  },
  {
   "cell_type": "markdown",
   "metadata": {},
   "source": [
    "LangChain is a versatile framework designed to simplify the integration of language models into various applications, enabling seamless management of inputs and outputs, including structured data formats.\n",
    "\n",
    " By leveraging LangChain, developers can efficiently implement advanced AI functionalities, such as function calling, tool calling, and JSON mode, ensuring consistent and reliable outputs tailored to specific needs. This framework facilitates the creation of sophisticated AI-driven solutions across different domains, making it an essential tool for modern AI development. "
   ]
  },
  {
   "cell_type": "code",
   "execution_count": 32,
   "metadata": {},
   "outputs": [],
   "source": [
    "## Installing langchain\n",
    "# !pip install -U langchain_openai langchain_core langchain_community pydantic"
   ]
  },
  {
   "cell_type": "markdown",
   "metadata": {},
   "source": [
    "To consruct a chain using LangChain's newer LCEL (LangChain Execution Language) we need to define the following elements:\n",
    "- The PromptTemplate\n",
    "- The LLM model/Chat object.\n",
    "- The OutputParser"
   ]
  },
  {
   "cell_type": "markdown",
   "metadata": {},
   "source": [
    "#### LangChain's `PromptTemplate`"
   ]
  },
  {
   "cell_type": "markdown",
   "metadata": {},
   "source": [
    "Prompt engineering/construction is vital for obtaining high-quality results from any Large Langauge Model (LLM). To get the best suggestions from the API, it is important to provide sufficient context in our prompt/query, while leaving the option to customize the prompt on-the-fly.\n",
    "\n",
    "To do so, we will create a prompt_string that has our prompt plus a set of curly brackets around a `specs` variable, as-if it was an f-string ( but note that we are not actually using it as an f-string)."
   ]
  },
  {
   "cell_type": "code",
   "execution_count": 33,
   "metadata": {},
   "outputs": [
    {
     "name": "stdout",
     "output_type": "stream",
     "text": [
      "I am performing an urban heat island analysis project with MODIS data comparing urban areas vs. rural areas. \n",
      "I need to download MODIS data for 2 nearby non-overlapping regions (urban area and rural area outside of city) and time range.\n",
      "Help me select the urban and rural regions and time, keeping the following in mind:\n",
      "{specs}\n",
      "\n"
     ]
    }
   ],
   "source": [
    "\n",
    "prompt_string = \"\"\"I am performing an urban heat island analysis project with MODIS data comparing urban areas vs. rural areas. \n",
    "I need to download MODIS data for 2 nearby non-overlapping regions (urban area and rural area outside of city) and time range.\n",
    "Help me select the urban and rural regions and time, keeping the following in mind:\n",
    "{specs}\n",
    "\"\"\"\n",
    "print(prompt_string)"
   ]
  },
  {
   "cell_type": "markdown",
   "metadata": {},
   "source": [
    "We will use this prompt_string to construct a PromptTemplate object with LangChain, which will turn our f-string variable into a parameter that we pass in with our request. "
   ]
  },
  {
   "cell_type": "code",
   "execution_count": 34,
   "metadata": {},
   "outputs": [
    {
     "data": {
      "text/plain": [
       "PromptTemplate(input_variables=['specs'], template='I am performing an urban heat island analysis project with MODIS data comparing urban areas vs. rural areas. \\nI need to download MODIS data for 2 nearby non-overlapping regions (urban area and rural area outside of city) and time range.\\nHelp me select the urban and rural regions and time, keeping the following in mind:\\n{specs}\\n')"
      ]
     },
     "execution_count": 34,
     "metadata": {},
     "output_type": "execute_result"
    }
   ],
   "source": [
    "from langchain_core.prompts import PromptTemplate\n",
    "\n",
    "# Converting the prompt_string to a PromptTemplate\n",
    "prompt = PromptTemplate.from_template(prompt_string) \n",
    "prompt"
   ]
  },
  {
   "cell_type": "code",
   "execution_count": 35,
   "metadata": {},
   "outputs": [
    {
     "data": {
      "text/plain": [
       "['specs']"
      ]
     },
     "execution_count": 35,
     "metadata": {},
     "output_type": "execute_result"
    }
   ],
   "source": [
    "# Any f-string variables in the prompt string become input_variables.\n",
    "prompt.input_variables"
   ]
  },
  {
   "cell_type": "code",
   "execution_count": 36,
   "metadata": {},
   "outputs": [
    {
     "name": "stdout",
     "output_type": "stream",
     "text": [
      "I am performing an urban heat island analysis project with MODIS data comparing urban areas vs. rural areas. \n",
      "I need to download MODIS data for 2 nearby non-overlapping regions (urban area and rural area outside of city) and time range.\n",
      "Help me select the urban and rural regions and time, keeping the following in mind:\n",
      "1. Urban area should be within the city limits and rural area should be outside the city limits.\n",
      "\n"
     ]
    }
   ],
   "source": [
    "# The prompt string with the f-string variables replaced by the input values using the .format() method\n",
    "specs_string= \"1. Urban area should be within the city limits and rural area should be outside the city limits.\"\n",
    "print(prompt.format(specs=specs_string))"
   ]
  },
  {
   "cell_type": "markdown",
   "metadata": {},
   "source": [
    "#### Instantiating an LLM"
   ]
  },
  {
   "cell_type": "markdown",
   "metadata": {},
   "source": [
    "Next, we need to instantiate a language model. LangChain has separate packages for each of the LLMs it is compatible with. Since we are using OpenAI, we will use the ChatOpenAI object from `langchain_openai`. The ChatOpenAI object from LangChain will interact with the OpenAI API."
   ]
  },
  {
   "cell_type": "code",
   "execution_count": 37,
   "metadata": {},
   "outputs": [
    {
     "data": {
      "text/plain": [
       "ChatOpenAI(client=<openai.resources.chat.completions.Completions object at 0x177379710>, async_client=<openai.resources.chat.completions.AsyncCompletions object at 0x1773cb450>, model_name='gpt-4o', temperature=0.0, openai_api_key=SecretStr('**********'), openai_proxy='')"
      ]
     },
     "execution_count": 37,
     "metadata": {},
     "output_type": "execute_result"
    }
   ],
   "source": [
    "from langchain_openai import ChatOpenAI \n",
    "chat = ChatOpenAI(api_key=os.environ['OPENAI_API_KEY'], model=\"gpt-4o\", temperature=0.0)\n",
    "chat"
   ]
  },
  {
   "cell_type": "markdown",
   "metadata": {},
   "source": [
    "Setting the temperature to 0.0 ensures that the responses are deterministic and consistent.\n"
   ]
  },
  {
   "cell_type": "markdown",
   "metadata": {},
   "source": [
    "#### Adding an Output Parser"
   ]
  },
  {
   "cell_type": "markdown",
   "metadata": {},
   "source": [
    "The final piece of our chain is the output parser. While we could technically leave this out of our chain, it is better that we use the default StrOutputParser to convert our response into a simple string (instead of a JSON-like dictionary)."
   ]
  },
  {
   "cell_type": "code",
   "execution_count": 38,
   "metadata": {},
   "outputs": [],
   "source": [
    "from langchain_core.output_parsers import StrOutputParser\n",
    "output_parser = StrOutputParser()"
   ]
  },
  {
   "cell_type": "markdown",
   "metadata": {},
   "source": [
    "### 4. Putting it All Together: Our First Chain"
   ]
  },
  {
   "cell_type": "markdown",
   "metadata": {},
   "source": [
    "We construct the final chain using the prompt, LLM, and output parser. This chain allows us to query OpenAI for new parameters.\n",
    "\n",
    "\n",
    "Our chain starts with the prompt, followed by a pipe symbol `|` and then the LLM object, followed by another pipe, and finally the output parser. "
   ]
  },
  {
   "cell_type": "code",
   "execution_count": 39,
   "metadata": {},
   "outputs": [
    {
     "data": {
      "text/plain": [
       "PromptTemplate(input_variables=['specs'], template='I am performing an urban heat island analysis project with MODIS data comparing urban areas vs. rural areas. \\nI need to download MODIS data for 2 nearby non-overlapping regions (urban area and rural area outside of city) and time range.\\nHelp me select the urban and rural regions and time, keeping the following in mind:\\n{specs}\\n')\n",
       "| ChatOpenAI(client=<openai.resources.chat.completions.Completions object at 0x177379710>, async_client=<openai.resources.chat.completions.AsyncCompletions object at 0x1773cb450>, model_name='gpt-4o', temperature=0.0, openai_api_key=SecretStr('**********'), openai_proxy='')\n",
       "| StrOutputParser()"
      ]
     },
     "execution_count": 39,
     "metadata": {},
     "output_type": "execute_result"
    }
   ],
   "source": [
    "# Constructing Our Chain\n",
    "chain = prompt | chat | output_parser\n",
    "chain"
   ]
  },
  {
   "cell_type": "markdown",
   "metadata": {},
   "source": [
    "To use the chain we use the .invoke method and must provide the `input_variables` that are required by the prompt template."
   ]
  },
  {
   "cell_type": "code",
   "execution_count": 40,
   "metadata": {},
   "outputs": [
    {
     "name": "stdout",
     "output_type": "stream",
     "text": [
      "To perform an urban heat island analysis using MODIS data, you need to carefully select your urban and rural regions to ensure they are representative and non-overlapping. Here’s a step-by-step guide to help you select the regions and time range:\n",
      "\n",
      "### Step 1: Select the City\n",
      "Choose a city in the southern US that is known for its urban heat island effect. For this example, let's select **Houston, Texas**. Houston is a large metropolitan area with significant urban development and is surrounded by rural areas.\n",
      "\n",
      "### Step 2: Define the Urban Area\n",
      "Identify the urban area within Houston city limits. You can use city boundary data from sources like the US Census Bureau or city planning departments. For simplicity, let's define the urban area as the central part of Houston.\n",
      "\n",
      "**Urban Area Coordinates (Example):**\n",
      "- Latitude: 29.7604° N\n",
      "- Longitude: 95.3698° W\n",
      "- Approximate Area: 10 km x 10 km centered around downtown Houston\n",
      "\n",
      "### Step 3: Define the Rural Area\n",
      "Select a rural area outside the city limits of Houston. Ensure this area is sufficiently far from the urban area to avoid overlap and influence from urban heat.\n",
      "\n",
      "**Rural Area Coordinates (Example):**\n",
      "- Latitude: 30.0833° N\n",
      "- Longitude: 95.4172° W\n",
      "- Approximate Area: 10 km x 10 km in a rural region north of Houston, such as near Conroe, Texas\n",
      "\n",
      "### Step 4: Select the Time Range\n",
      "Choose a time range that allows you to capture seasonal variations and potential heat island effects. A good starting point is to select data for a full year to observe changes across different seasons.\n",
      "\n",
      "**Time Range:**\n",
      "- Start Date: January 1, 2022\n",
      "- End Date: December 31, 2022\n",
      "\n",
      "### Step 5: Download MODIS Data\n",
      "Use NASA's Earthdata Search or other platforms like Google Earth Engine to download MODIS data for the selected regions and time range. You will need to download Land Surface Temperature (LST) data, which is available from MODIS products such as MOD11A2 (Terra) or MYD11A2 (Aqua).\n",
      "\n",
      "**Steps to Download Data:**\n",
      "1. Go to [NASA Earthdata Search](https://search.earthdata.nasa.gov/).\n",
      "2. Search for MODIS LST products (e.g., MOD11A2 or MYD11A2).\n",
      "3. Define your spatial extent using the coordinates for the urban and rural areas.\n",
      "4. Set the temporal range from January 1, 2022, to December 31, 2022.\n",
      "5. Download the data for both regions.\n",
      "\n",
      "### Step 6: Analyze the Data\n",
      "Once you have downloaded the data, you can use GIS software (e.g., QGIS, ArcGIS) or programming languages (e.g., Python with libraries like rasterio and numpy) to analyze the temperature differences between the urban and rural areas.\n",
      "\n",
      "### Summary\n",
      "- **Urban Area:** Central Houston, Texas (29.7604° N, 95.3698° W)\n",
      "- **Rural Area:** Near Conroe, Texas (30.0833° N, 95.4172° W)\n",
      "- **Time Range:** January 1, 2022, to December 31, 2022\n",
      "- **MODIS Products:** MOD11A2 (Terra) or MYD11A2 (Aqua)\n",
      "\n",
      "By following these steps, you should be able to effectively compare the urban heat island effect between the urban and rural areas using MODIS data.\n"
     ]
    }
   ],
   "source": [
    "# Using the input variables to provide the necessary information\n",
    "specs_string = \"\"\"1. Urban area should be within the city limits and rural area should be outside the city limits.\n",
    "2. The urban area should be selected within the southern US region to study the urban heat island effect. \n",
    "\"\"\"\n",
    "\n",
    "# Invoke the chain to get the response\n",
    "response = chain.invoke({'specs':specs_string})\n",
    "print(response)"
   ]
  },
  {
   "cell_type": "code",
   "execution_count": 41,
   "metadata": {},
   "outputs": [],
   "source": [
    "# ChatGPT responds with Markdown-stytled text, so we can use IPython's `Markdown` class to render it\n",
    "from IPython.display import Markdown, display\n",
    "# display(Markdown(response))"
   ]
  },
  {
   "cell_type": "markdown",
   "metadata": {},
   "source": [
    "To leverage the new suggestions from ChatGPT, we would have to manually construct a new `data_params` dict using the raw text from the response. This is a manual process that can be automated by using a more complex Output Parser: the Json."
   ]
  },
  {
   "cell_type": "markdown",
   "metadata": {},
   "source": [
    "### 5. Getting Structured Output from LangChain"
   ]
  },
  {
   "cell_type": "markdown",
   "metadata": {},
   "source": [
    "#### Structured Output"
   ]
  },
  {
   "cell_type": "markdown",
   "metadata": {},
   "source": [
    "We aim to produce a JSON-dictionary with the same structure as our original data_params. To achieve this, we define a Pydantic data model."
   ]
  },
  {
   "cell_type": "code",
   "execution_count": 42,
   "metadata": {},
   "outputs": [],
   "source": [
    "## Defining the structured output desired from chat gpt\n",
    "from pydantic import BaseModel, Field\n",
    "from typing import List, Optional, Text, Dict\n",
    "from langchain_core.output_parsers import JsonOutputParser\n",
    "\n",
    "# Define Pydantic models for structured output\n",
    "class Coordinates(BaseModel):\n",
    "    SW: List[float]\n",
    "    NE: List[float]\n",
    "\n",
    "class RegionCoordinates(BaseModel):\n",
    "    rural: Optional[Coordinates]\n",
    "    urban: Optional[Coordinates]\n",
    "\n",
    "class DataParams(BaseModel):\n",
    "    city_region_name: str\n",
    "    coordinates: Optional[RegionCoordinates]\n",
    "    time: Dict[str, str]\n",
    "\n"
   ]
  },
  {
   "cell_type": "markdown",
   "metadata": {},
   "source": [
    "We will insert a new input_variable in our PromptTempalte for the format_instructions, which will be filled in as a partial prompt using `prompt.partial().`"
   ]
  },
  {
   "cell_type": "code",
   "execution_count": 61,
   "metadata": {},
   "outputs": [
    {
     "data": {
      "text/plain": [
       "{'city_region_name': 'Atlanta, Georgia',\n",
       " 'coordinates': {'urban': {'SW': [33.640411, -84.551618],\n",
       "   'NE': [33.849181, -84.289389]},\n",
       "  'rural': {'SW': [33.349181, -84.551618], 'NE': [33.558951, -84.289389]}},\n",
       " 'time': {'start': '2022-06-01', 'end': '2022-08-31'}}"
      ]
     },
     "execution_count": 61,
     "metadata": {},
     "output_type": "execute_result"
    }
   ],
   "source": [
    "from langchain_core.prompts import PromptTemplate\n",
    "\n",
    "# Define the prompt template for the language model\n",
    "prompt_string = \"\"\"\n",
    "I am performing an urban heat island analysis project with MODIS data comparing urban areas vs. rural areas.\n",
    "I need to download MODIS data for 2 nearby non-overlapping regions (urban area and rural area outside of city) and time range.\n",
    "Help me select the urban and rural regions and time, keeping the following in mind:\n",
    "{specs}\n",
    "\n",
    "Format Instructions:\n",
    "{format_instructions}\n",
    "\"\"\"\n",
    "prompt = PromptTemplate.from_template(prompt_string)\n",
    "\n",
    "# Define the output parser with the Pydantic model\n",
    "output_parser = JsonOutputParser(pydantic_object=DataParams)\n",
    "\n",
    "# Update the prompt template to include format instructions for JSON output\n",
    "prompt = prompt.partial(format_instructions=output_parser.get_format_instructions())\n",
    "\n",
    "# Construct the chain using the prompt, language model, and output parser\n",
    "chain = prompt | chat | output_parser\n",
    "\n",
    "# Define the specifications for the query\n",
    "\n",
    "specs = \"\"\"Select a region that will be a perfect example of the effects of urban heat islands.\n",
    "Select identically-sized nearby non-overlapping regions from the selected area to minimize the size of the dataset.\n",
    "Do not select a city in the desert or near a large body of water.\"\"\"\n",
    "\n",
    "# Invoke the chain to get the response in structured format\n",
    "data_params = chain.invoke({'specs': specs})\n",
    "data_params # Print the structured response from the language model"
   ]
  },
  {
   "cell_type": "markdown",
   "metadata": {},
   "source": [
    "This structured output can be directly used to adjust our parameters for the Urban Heat Island Analysis project.\n"
   ]
  },
  {
   "cell_type": "code",
   "execution_count": 63,
   "metadata": {},
   "outputs": [
    {
     "data": {
      "application/vnd.plotly.v1+json": {
       "config": {
        "plotlyServerURL": "https://plot.ly"
       },
       "data": [
        {
         "hovertemplate": "Region=urban<br>Latitude=%{lat}<br>Longitude=%{lon}<extra></extra>",
         "lat": [
          33.640411,
          33.640411,
          33.640411,
          33.640411,
          33.640411,
          33.640411,
          33.640411,
          33.640411,
          33.640411,
          33.640411,
          33.663607666666664,
          33.663607666666664,
          33.663607666666664,
          33.663607666666664,
          33.663607666666664,
          33.663607666666664,
          33.663607666666664,
          33.663607666666664,
          33.663607666666664,
          33.663607666666664,
          33.686804333333335,
          33.686804333333335,
          33.686804333333335,
          33.686804333333335,
          33.686804333333335,
          33.686804333333335,
          33.686804333333335,
          33.686804333333335,
          33.686804333333335,
          33.686804333333335,
          33.710001,
          33.710001,
          33.710001,
          33.710001,
          33.710001,
          33.710001,
          33.710001,
          33.710001,
          33.710001,
          33.710001,
          33.73319766666667,
          33.73319766666667,
          33.73319766666667,
          33.73319766666667,
          33.73319766666667,
          33.73319766666667,
          33.73319766666667,
          33.73319766666667,
          33.73319766666667,
          33.73319766666667,
          33.75639433333333,
          33.75639433333333,
          33.75639433333333,
          33.75639433333333,
          33.75639433333333,
          33.75639433333333,
          33.75639433333333,
          33.75639433333333,
          33.75639433333333,
          33.75639433333333,
          33.779591,
          33.779591,
          33.779591,
          33.779591,
          33.779591,
          33.779591,
          33.779591,
          33.779591,
          33.779591,
          33.779591,
          33.80278766666667,
          33.80278766666667,
          33.80278766666667,
          33.80278766666667,
          33.80278766666667,
          33.80278766666667,
          33.80278766666667,
          33.80278766666667,
          33.80278766666667,
          33.80278766666667,
          33.82598433333334,
          33.82598433333334,
          33.82598433333334,
          33.82598433333334,
          33.82598433333334,
          33.82598433333334,
          33.82598433333334,
          33.82598433333334,
          33.82598433333334,
          33.82598433333334,
          33.849181,
          33.849181,
          33.849181,
          33.849181,
          33.849181,
          33.849181,
          33.849181,
          33.849181,
          33.849181,
          33.849181
         ],
         "legendgroup": "urban",
         "lon": [
          -84.551618,
          -84.52248144444445,
          -84.4933448888889,
          -84.46420833333333,
          -84.43507177777778,
          -84.40593522222223,
          -84.37679866666667,
          -84.3476621111111,
          -84.31852555555555,
          -84.289389,
          -84.551618,
          -84.52248144444445,
          -84.4933448888889,
          -84.46420833333333,
          -84.43507177777778,
          -84.40593522222223,
          -84.37679866666667,
          -84.3476621111111,
          -84.31852555555555,
          -84.289389,
          -84.551618,
          -84.52248144444445,
          -84.4933448888889,
          -84.46420833333333,
          -84.43507177777778,
          -84.40593522222223,
          -84.37679866666667,
          -84.3476621111111,
          -84.31852555555555,
          -84.289389,
          -84.551618,
          -84.52248144444445,
          -84.4933448888889,
          -84.46420833333333,
          -84.43507177777778,
          -84.40593522222223,
          -84.37679866666667,
          -84.3476621111111,
          -84.31852555555555,
          -84.289389,
          -84.551618,
          -84.52248144444445,
          -84.4933448888889,
          -84.46420833333333,
          -84.43507177777778,
          -84.40593522222223,
          -84.37679866666667,
          -84.3476621111111,
          -84.31852555555555,
          -84.289389,
          -84.551618,
          -84.52248144444445,
          -84.4933448888889,
          -84.46420833333333,
          -84.43507177777778,
          -84.40593522222223,
          -84.37679866666667,
          -84.3476621111111,
          -84.31852555555555,
          -84.289389,
          -84.551618,
          -84.52248144444445,
          -84.4933448888889,
          -84.46420833333333,
          -84.43507177777778,
          -84.40593522222223,
          -84.37679866666667,
          -84.3476621111111,
          -84.31852555555555,
          -84.289389,
          -84.551618,
          -84.52248144444445,
          -84.4933448888889,
          -84.46420833333333,
          -84.43507177777778,
          -84.40593522222223,
          -84.37679866666667,
          -84.3476621111111,
          -84.31852555555555,
          -84.289389,
          -84.551618,
          -84.52248144444445,
          -84.4933448888889,
          -84.46420833333333,
          -84.43507177777778,
          -84.40593522222223,
          -84.37679866666667,
          -84.3476621111111,
          -84.31852555555555,
          -84.289389,
          -84.551618,
          -84.52248144444445,
          -84.4933448888889,
          -84.46420833333333,
          -84.43507177777778,
          -84.40593522222223,
          -84.37679866666667,
          -84.3476621111111,
          -84.31852555555555,
          -84.289389
         ],
         "marker": {
          "color": "#636efa"
         },
         "mode": "markers",
         "name": "urban",
         "showlegend": true,
         "subplot": "mapbox",
         "type": "scattermapbox"
        },
        {
         "hovertemplate": "Region=rural<br>Latitude=%{lat}<br>Longitude=%{lon}<extra></extra>",
         "lat": [
          33.349181,
          33.349181,
          33.349181,
          33.349181,
          33.349181,
          33.349181,
          33.349181,
          33.349181,
          33.349181,
          33.349181,
          33.37248877777778,
          33.37248877777778,
          33.37248877777778,
          33.37248877777778,
          33.37248877777778,
          33.37248877777778,
          33.37248877777778,
          33.37248877777778,
          33.37248877777778,
          33.37248877777778,
          33.395796555555556,
          33.395796555555556,
          33.395796555555556,
          33.395796555555556,
          33.395796555555556,
          33.395796555555556,
          33.395796555555556,
          33.395796555555556,
          33.395796555555556,
          33.395796555555556,
          33.41910433333334,
          33.41910433333334,
          33.41910433333334,
          33.41910433333334,
          33.41910433333334,
          33.41910433333334,
          33.41910433333334,
          33.41910433333334,
          33.41910433333334,
          33.41910433333334,
          33.44241211111111,
          33.44241211111111,
          33.44241211111111,
          33.44241211111111,
          33.44241211111111,
          33.44241211111111,
          33.44241211111111,
          33.44241211111111,
          33.44241211111111,
          33.44241211111111,
          33.46571988888889,
          33.46571988888889,
          33.46571988888889,
          33.46571988888889,
          33.46571988888889,
          33.46571988888889,
          33.46571988888889,
          33.46571988888889,
          33.46571988888889,
          33.46571988888889,
          33.489027666666665,
          33.489027666666665,
          33.489027666666665,
          33.489027666666665,
          33.489027666666665,
          33.489027666666665,
          33.489027666666665,
          33.489027666666665,
          33.489027666666665,
          33.489027666666665,
          33.512335444444446,
          33.512335444444446,
          33.512335444444446,
          33.512335444444446,
          33.512335444444446,
          33.512335444444446,
          33.512335444444446,
          33.512335444444446,
          33.512335444444446,
          33.512335444444446,
          33.53564322222222,
          33.53564322222222,
          33.53564322222222,
          33.53564322222222,
          33.53564322222222,
          33.53564322222222,
          33.53564322222222,
          33.53564322222222,
          33.53564322222222,
          33.53564322222222,
          33.558951,
          33.558951,
          33.558951,
          33.558951,
          33.558951,
          33.558951,
          33.558951,
          33.558951,
          33.558951,
          33.558951
         ],
         "legendgroup": "rural",
         "lon": [
          -84.551618,
          -84.52248144444445,
          -84.4933448888889,
          -84.46420833333333,
          -84.43507177777778,
          -84.40593522222223,
          -84.37679866666667,
          -84.3476621111111,
          -84.31852555555555,
          -84.289389,
          -84.551618,
          -84.52248144444445,
          -84.4933448888889,
          -84.46420833333333,
          -84.43507177777778,
          -84.40593522222223,
          -84.37679866666667,
          -84.3476621111111,
          -84.31852555555555,
          -84.289389,
          -84.551618,
          -84.52248144444445,
          -84.4933448888889,
          -84.46420833333333,
          -84.43507177777778,
          -84.40593522222223,
          -84.37679866666667,
          -84.3476621111111,
          -84.31852555555555,
          -84.289389,
          -84.551618,
          -84.52248144444445,
          -84.4933448888889,
          -84.46420833333333,
          -84.43507177777778,
          -84.40593522222223,
          -84.37679866666667,
          -84.3476621111111,
          -84.31852555555555,
          -84.289389,
          -84.551618,
          -84.52248144444445,
          -84.4933448888889,
          -84.46420833333333,
          -84.43507177777778,
          -84.40593522222223,
          -84.37679866666667,
          -84.3476621111111,
          -84.31852555555555,
          -84.289389,
          -84.551618,
          -84.52248144444445,
          -84.4933448888889,
          -84.46420833333333,
          -84.43507177777778,
          -84.40593522222223,
          -84.37679866666667,
          -84.3476621111111,
          -84.31852555555555,
          -84.289389,
          -84.551618,
          -84.52248144444445,
          -84.4933448888889,
          -84.46420833333333,
          -84.43507177777778,
          -84.40593522222223,
          -84.37679866666667,
          -84.3476621111111,
          -84.31852555555555,
          -84.289389,
          -84.551618,
          -84.52248144444445,
          -84.4933448888889,
          -84.46420833333333,
          -84.43507177777778,
          -84.40593522222223,
          -84.37679866666667,
          -84.3476621111111,
          -84.31852555555555,
          -84.289389,
          -84.551618,
          -84.52248144444445,
          -84.4933448888889,
          -84.46420833333333,
          -84.43507177777778,
          -84.40593522222223,
          -84.37679866666667,
          -84.3476621111111,
          -84.31852555555555,
          -84.289389,
          -84.551618,
          -84.52248144444445,
          -84.4933448888889,
          -84.46420833333333,
          -84.43507177777778,
          -84.40593522222223,
          -84.37679866666667,
          -84.3476621111111,
          -84.31852555555555,
          -84.289389
         ],
         "marker": {
          "color": "#EF553B"
         },
         "mode": "markers",
         "name": "rural",
         "showlegend": true,
         "subplot": "mapbox",
         "type": "scattermapbox"
        }
       ],
       "layout": {
        "height": 600,
        "legend": {
         "orientation": "h",
         "title": {
          "text": "Region"
         },
         "tracegroupgap": 0,
         "x": 0,
         "xanchor": "left",
         "y": 1.05,
         "yanchor": "top"
        },
        "mapbox": {
         "center": {
          "lat": 33.599431,
          "lon": -84.4205035
         },
         "domain": {
          "x": [
           0,
           1
          ],
          "y": [
           0,
           1
          ]
         },
         "style": "carto-positron",
         "zoom": 8
        },
        "margin": {
         "b": 0,
         "l": 0,
         "r": 0,
         "t": 100
        },
        "template": {
         "data": {
          "bar": [
           {
            "error_x": {
             "color": "#2a3f5f"
            },
            "error_y": {
             "color": "#2a3f5f"
            },
            "marker": {
             "line": {
              "color": "#E5ECF6",
              "width": 0.5
             },
             "pattern": {
              "fillmode": "overlay",
              "size": 10,
              "solidity": 0.2
             }
            },
            "type": "bar"
           }
          ],
          "barpolar": [
           {
            "marker": {
             "line": {
              "color": "#E5ECF6",
              "width": 0.5
             },
             "pattern": {
              "fillmode": "overlay",
              "size": 10,
              "solidity": 0.2
             }
            },
            "type": "barpolar"
           }
          ],
          "carpet": [
           {
            "aaxis": {
             "endlinecolor": "#2a3f5f",
             "gridcolor": "white",
             "linecolor": "white",
             "minorgridcolor": "white",
             "startlinecolor": "#2a3f5f"
            },
            "baxis": {
             "endlinecolor": "#2a3f5f",
             "gridcolor": "white",
             "linecolor": "white",
             "minorgridcolor": "white",
             "startlinecolor": "#2a3f5f"
            },
            "type": "carpet"
           }
          ],
          "choropleth": [
           {
            "colorbar": {
             "outlinewidth": 0,
             "ticks": ""
            },
            "type": "choropleth"
           }
          ],
          "contour": [
           {
            "colorbar": {
             "outlinewidth": 0,
             "ticks": ""
            },
            "colorscale": [
             [
              0,
              "#0d0887"
             ],
             [
              0.1111111111111111,
              "#46039f"
             ],
             [
              0.2222222222222222,
              "#7201a8"
             ],
             [
              0.3333333333333333,
              "#9c179e"
             ],
             [
              0.4444444444444444,
              "#bd3786"
             ],
             [
              0.5555555555555556,
              "#d8576b"
             ],
             [
              0.6666666666666666,
              "#ed7953"
             ],
             [
              0.7777777777777778,
              "#fb9f3a"
             ],
             [
              0.8888888888888888,
              "#fdca26"
             ],
             [
              1,
              "#f0f921"
             ]
            ],
            "type": "contour"
           }
          ],
          "contourcarpet": [
           {
            "colorbar": {
             "outlinewidth": 0,
             "ticks": ""
            },
            "type": "contourcarpet"
           }
          ],
          "heatmap": [
           {
            "colorbar": {
             "outlinewidth": 0,
             "ticks": ""
            },
            "colorscale": [
             [
              0,
              "#0d0887"
             ],
             [
              0.1111111111111111,
              "#46039f"
             ],
             [
              0.2222222222222222,
              "#7201a8"
             ],
             [
              0.3333333333333333,
              "#9c179e"
             ],
             [
              0.4444444444444444,
              "#bd3786"
             ],
             [
              0.5555555555555556,
              "#d8576b"
             ],
             [
              0.6666666666666666,
              "#ed7953"
             ],
             [
              0.7777777777777778,
              "#fb9f3a"
             ],
             [
              0.8888888888888888,
              "#fdca26"
             ],
             [
              1,
              "#f0f921"
             ]
            ],
            "type": "heatmap"
           }
          ],
          "heatmapgl": [
           {
            "colorbar": {
             "outlinewidth": 0,
             "ticks": ""
            },
            "colorscale": [
             [
              0,
              "#0d0887"
             ],
             [
              0.1111111111111111,
              "#46039f"
             ],
             [
              0.2222222222222222,
              "#7201a8"
             ],
             [
              0.3333333333333333,
              "#9c179e"
             ],
             [
              0.4444444444444444,
              "#bd3786"
             ],
             [
              0.5555555555555556,
              "#d8576b"
             ],
             [
              0.6666666666666666,
              "#ed7953"
             ],
             [
              0.7777777777777778,
              "#fb9f3a"
             ],
             [
              0.8888888888888888,
              "#fdca26"
             ],
             [
              1,
              "#f0f921"
             ]
            ],
            "type": "heatmapgl"
           }
          ],
          "histogram": [
           {
            "marker": {
             "pattern": {
              "fillmode": "overlay",
              "size": 10,
              "solidity": 0.2
             }
            },
            "type": "histogram"
           }
          ],
          "histogram2d": [
           {
            "colorbar": {
             "outlinewidth": 0,
             "ticks": ""
            },
            "colorscale": [
             [
              0,
              "#0d0887"
             ],
             [
              0.1111111111111111,
              "#46039f"
             ],
             [
              0.2222222222222222,
              "#7201a8"
             ],
             [
              0.3333333333333333,
              "#9c179e"
             ],
             [
              0.4444444444444444,
              "#bd3786"
             ],
             [
              0.5555555555555556,
              "#d8576b"
             ],
             [
              0.6666666666666666,
              "#ed7953"
             ],
             [
              0.7777777777777778,
              "#fb9f3a"
             ],
             [
              0.8888888888888888,
              "#fdca26"
             ],
             [
              1,
              "#f0f921"
             ]
            ],
            "type": "histogram2d"
           }
          ],
          "histogram2dcontour": [
           {
            "colorbar": {
             "outlinewidth": 0,
             "ticks": ""
            },
            "colorscale": [
             [
              0,
              "#0d0887"
             ],
             [
              0.1111111111111111,
              "#46039f"
             ],
             [
              0.2222222222222222,
              "#7201a8"
             ],
             [
              0.3333333333333333,
              "#9c179e"
             ],
             [
              0.4444444444444444,
              "#bd3786"
             ],
             [
              0.5555555555555556,
              "#d8576b"
             ],
             [
              0.6666666666666666,
              "#ed7953"
             ],
             [
              0.7777777777777778,
              "#fb9f3a"
             ],
             [
              0.8888888888888888,
              "#fdca26"
             ],
             [
              1,
              "#f0f921"
             ]
            ],
            "type": "histogram2dcontour"
           }
          ],
          "mesh3d": [
           {
            "colorbar": {
             "outlinewidth": 0,
             "ticks": ""
            },
            "type": "mesh3d"
           }
          ],
          "parcoords": [
           {
            "line": {
             "colorbar": {
              "outlinewidth": 0,
              "ticks": ""
             }
            },
            "type": "parcoords"
           }
          ],
          "pie": [
           {
            "automargin": true,
            "type": "pie"
           }
          ],
          "scatter": [
           {
            "fillpattern": {
             "fillmode": "overlay",
             "size": 10,
             "solidity": 0.2
            },
            "type": "scatter"
           }
          ],
          "scatter3d": [
           {
            "line": {
             "colorbar": {
              "outlinewidth": 0,
              "ticks": ""
             }
            },
            "marker": {
             "colorbar": {
              "outlinewidth": 0,
              "ticks": ""
             }
            },
            "type": "scatter3d"
           }
          ],
          "scattercarpet": [
           {
            "marker": {
             "colorbar": {
              "outlinewidth": 0,
              "ticks": ""
             }
            },
            "type": "scattercarpet"
           }
          ],
          "scattergeo": [
           {
            "marker": {
             "colorbar": {
              "outlinewidth": 0,
              "ticks": ""
             }
            },
            "type": "scattergeo"
           }
          ],
          "scattergl": [
           {
            "marker": {
             "colorbar": {
              "outlinewidth": 0,
              "ticks": ""
             }
            },
            "type": "scattergl"
           }
          ],
          "scattermapbox": [
           {
            "marker": {
             "colorbar": {
              "outlinewidth": 0,
              "ticks": ""
             }
            },
            "type": "scattermapbox"
           }
          ],
          "scatterpolar": [
           {
            "marker": {
             "colorbar": {
              "outlinewidth": 0,
              "ticks": ""
             }
            },
            "type": "scatterpolar"
           }
          ],
          "scatterpolargl": [
           {
            "marker": {
             "colorbar": {
              "outlinewidth": 0,
              "ticks": ""
             }
            },
            "type": "scatterpolargl"
           }
          ],
          "scatterternary": [
           {
            "marker": {
             "colorbar": {
              "outlinewidth": 0,
              "ticks": ""
             }
            },
            "type": "scatterternary"
           }
          ],
          "surface": [
           {
            "colorbar": {
             "outlinewidth": 0,
             "ticks": ""
            },
            "colorscale": [
             [
              0,
              "#0d0887"
             ],
             [
              0.1111111111111111,
              "#46039f"
             ],
             [
              0.2222222222222222,
              "#7201a8"
             ],
             [
              0.3333333333333333,
              "#9c179e"
             ],
             [
              0.4444444444444444,
              "#bd3786"
             ],
             [
              0.5555555555555556,
              "#d8576b"
             ],
             [
              0.6666666666666666,
              "#ed7953"
             ],
             [
              0.7777777777777778,
              "#fb9f3a"
             ],
             [
              0.8888888888888888,
              "#fdca26"
             ],
             [
              1,
              "#f0f921"
             ]
            ],
            "type": "surface"
           }
          ],
          "table": [
           {
            "cells": {
             "fill": {
              "color": "#EBF0F8"
             },
             "line": {
              "color": "white"
             }
            },
            "header": {
             "fill": {
              "color": "#C8D4E3"
             },
             "line": {
              "color": "white"
             }
            },
            "type": "table"
           }
          ]
         },
         "layout": {
          "annotationdefaults": {
           "arrowcolor": "#2a3f5f",
           "arrowhead": 0,
           "arrowwidth": 1
          },
          "autotypenumbers": "strict",
          "coloraxis": {
           "colorbar": {
            "outlinewidth": 0,
            "ticks": ""
           }
          },
          "colorscale": {
           "diverging": [
            [
             0,
             "#8e0152"
            ],
            [
             0.1,
             "#c51b7d"
            ],
            [
             0.2,
             "#de77ae"
            ],
            [
             0.3,
             "#f1b6da"
            ],
            [
             0.4,
             "#fde0ef"
            ],
            [
             0.5,
             "#f7f7f7"
            ],
            [
             0.6,
             "#e6f5d0"
            ],
            [
             0.7,
             "#b8e186"
            ],
            [
             0.8,
             "#7fbc41"
            ],
            [
             0.9,
             "#4d9221"
            ],
            [
             1,
             "#276419"
            ]
           ],
           "sequential": [
            [
             0,
             "#0d0887"
            ],
            [
             0.1111111111111111,
             "#46039f"
            ],
            [
             0.2222222222222222,
             "#7201a8"
            ],
            [
             0.3333333333333333,
             "#9c179e"
            ],
            [
             0.4444444444444444,
             "#bd3786"
            ],
            [
             0.5555555555555556,
             "#d8576b"
            ],
            [
             0.6666666666666666,
             "#ed7953"
            ],
            [
             0.7777777777777778,
             "#fb9f3a"
            ],
            [
             0.8888888888888888,
             "#fdca26"
            ],
            [
             1,
             "#f0f921"
            ]
           ],
           "sequentialminus": [
            [
             0,
             "#0d0887"
            ],
            [
             0.1111111111111111,
             "#46039f"
            ],
            [
             0.2222222222222222,
             "#7201a8"
            ],
            [
             0.3333333333333333,
             "#9c179e"
            ],
            [
             0.4444444444444444,
             "#bd3786"
            ],
            [
             0.5555555555555556,
             "#d8576b"
            ],
            [
             0.6666666666666666,
             "#ed7953"
            ],
            [
             0.7777777777777778,
             "#fb9f3a"
            ],
            [
             0.8888888888888888,
             "#fdca26"
            ],
            [
             1,
             "#f0f921"
            ]
           ]
          },
          "colorway": [
           "#636efa",
           "#EF553B",
           "#00cc96",
           "#ab63fa",
           "#FFA15A",
           "#19d3f3",
           "#FF6692",
           "#B6E880",
           "#FF97FF",
           "#FECB52"
          ],
          "font": {
           "color": "#2a3f5f"
          },
          "geo": {
           "bgcolor": "white",
           "lakecolor": "white",
           "landcolor": "#E5ECF6",
           "showlakes": true,
           "showland": true,
           "subunitcolor": "white"
          },
          "hoverlabel": {
           "align": "left"
          },
          "hovermode": "closest",
          "mapbox": {
           "style": "light"
          },
          "paper_bgcolor": "white",
          "plot_bgcolor": "#E5ECF6",
          "polar": {
           "angularaxis": {
            "gridcolor": "white",
            "linecolor": "white",
            "ticks": ""
           },
           "bgcolor": "#E5ECF6",
           "radialaxis": {
            "gridcolor": "white",
            "linecolor": "white",
            "ticks": ""
           }
          },
          "scene": {
           "xaxis": {
            "backgroundcolor": "#E5ECF6",
            "gridcolor": "white",
            "gridwidth": 2,
            "linecolor": "white",
            "showbackground": true,
            "ticks": "",
            "zerolinecolor": "white"
           },
           "yaxis": {
            "backgroundcolor": "#E5ECF6",
            "gridcolor": "white",
            "gridwidth": 2,
            "linecolor": "white",
            "showbackground": true,
            "ticks": "",
            "zerolinecolor": "white"
           },
           "zaxis": {
            "backgroundcolor": "#E5ECF6",
            "gridcolor": "white",
            "gridwidth": 2,
            "linecolor": "white",
            "showbackground": true,
            "ticks": "",
            "zerolinecolor": "white"
           }
          },
          "shapedefaults": {
           "line": {
            "color": "#2a3f5f"
           }
          },
          "ternary": {
           "aaxis": {
            "gridcolor": "white",
            "linecolor": "white",
            "ticks": ""
           },
           "baxis": {
            "gridcolor": "white",
            "linecolor": "white",
            "ticks": ""
           },
           "bgcolor": "#E5ECF6",
           "caxis": {
            "gridcolor": "white",
            "linecolor": "white",
            "ticks": ""
           }
          },
          "title": {
           "x": 0.05
          },
          "xaxis": {
           "automargin": true,
           "gridcolor": "white",
           "linecolor": "white",
           "ticks": "",
           "title": {
            "standoff": 15
           },
           "zerolinecolor": "white",
           "zerolinewidth": 2
          },
          "yaxis": {
           "automargin": true,
           "gridcolor": "white",
           "linecolor": "white",
           "ticks": "",
           "title": {
            "standoff": 15
           },
           "zerolinecolor": "white",
           "zerolinewidth": 2
          }
         }
        },
        "title": {
         "text": "Preview of Selected Bounding Boxes for Atlanta, Georgia"
        },
        "width": 800
       }
      }
     },
     "metadata": {},
     "output_type": "display_data"
    }
   ],
   "source": [
    "# Generate sample points for urban and rural areas\n",
    "sampled_coordinates = []\n",
    "for region, bounding_box in data_params['coordinates'].items():\n",
    "    sample_points = generate_sample_points(bounding_box['SW'], bounding_box['NE'])\n",
    "    for lat, lon in sample_points:\n",
    "        sampled_coordinates.append({'Region': region, 'Latitude': lat, 'Longitude': lon})\n",
    "\n",
    "# Convert the sample points to a DataFrame\n",
    "coords_df = pd.DataFrame(sampled_coordinates)\n",
    "\n",
    "## Plot the region suggested\n",
    "fig = px.scatter_mapbox(coords_df, lat=\"Latitude\", lon=\"Longitude\", color='Region',\n",
    "                        # color_continuous_scale=\"Viridis\", \n",
    "                        mapbox_style=\"carto-positron\",\n",
    "                        title=f\"Preview of Selected Bounding Boxes for {data_params['city_region_name']}\",\n",
    "                        height=600, width=800)\n",
    "## Update the layout\n",
    "fig.update_layout(\n",
    "    margin={\"r\":0, \"l\":0,'b':0, 't':100},# Remove left and right side margins\n",
    "    legend={'orientation':\"h\", 'yanchor':\"top\", 'y':1.05, 'xanchor':\"left\", 'x':0}, # Move legend to top   \n",
    ")\n",
    "fig.show()"
   ]
  },
  {
   "cell_type": "markdown",
   "metadata": {},
   "source": [
    "## Conclusion"
   ]
  },
  {
   "cell_type": "markdown",
   "metadata": {},
   "source": [
    "Using LangChain with OpenAI allows us to dynamically adjust parameters and obtain structured outputs, significantly improving our data analysis workflow. This setup can be adapted for various projects requiring precise and structured data retrieval. By automating the parameter selection process, we can ensure high-quality data and streamline our analysis.\n",
    "\n",
    "Feel free to reach out with questions or feedback, and stay tuned for more advanced tutorials!"
   ]
  },
  {
   "cell_type": "markdown",
   "metadata": {},
   "source": []
  },
  {
   "cell_type": "markdown",
   "metadata": {},
   "source": [
    "\n",
    "___"
   ]
  },
  {
   "cell_type": "markdown",
   "metadata": {},
   "source": []
  },
  {
   "cell_type": "markdown",
   "metadata": {},
   "source": [
    "# APPENDIX"
   ]
  },
  {
   "cell_type": "markdown",
   "metadata": {},
   "source": [
    "### Created a function that asks ChatGPT for suggested parameters"
   ]
  },
  {
   "cell_type": "code",
   "execution_count": 44,
   "metadata": {},
   "outputs": [],
   "source": [
    "def suggest_data_params(specs: str, temperature=0.0, model_type='gpt-4o', return_json=True) -> str:\n",
    "    \"\"\"\n",
    "    Suggests data parameters for downloading MODIS data for a specific region and time range.\n",
    "    \n",
    "    Args:\n",
    "        query (str): The query describing the requirements for the data download.\n",
    "        temperature (float, optional): The temperature parameter for the language model. Defaults to 0.1.\n",
    "        model_type (str, optional): The type of language model to use. Defaults to 'gpt-4o'.\n",
    "        return_llm (bool, optional): Whether to return the language model chain. Defaults to False.\n",
    "        return_json (bool, optional): Whether to return the response as JSON. Defaults to True.\n",
    "    \n",
    "    Returns:\n",
    "        str: The response from the language model chain or the JSON response, depending on the value of return_json.\n",
    "    \"\"\"\n",
    "    \n",
    "    # The prompt template for suggesting data parameters\n",
    "    prompt = \"\"\"\n",
    "    I am performing an urban heat island analysis project with MODIS data comparing urban areas vs. rural areas. \n",
    "    I need to download MODIS data for 2 nearby non-overlapping regions (urban area and rural area outside of city) and time range.\n",
    "    Help me select the urban and rural regions and time following the instructions below.\n",
    "    {specs}\n",
    "    \n",
    "    Provide me the data parameters for the download (city_region_name, coordinates as SW [lat,long] NE [lat,long], time_start named 'start', time_end named 'end') in the following format:\n",
    "    Format Instructions:\n",
    "    Use the 2-letter abbreviations for the state.\n",
    "    {format_instructions}\n",
    "    \"\"\"\n",
    "    # Create a ChatPromptTemplate object\n",
    "    final_prompt_template = PromptTemplate.from_template(prompt)\n",
    "\n",
    "    # Get api key for OpenAI from the environment or session state (if on Streamlit)\n",
    "    api_key = os.getenv('OPENAI_API_KEY')\n",
    "        \n",
    "    # Instantiate the language model and setting the specific model (chat-gpto is newest and reasonable price)\n",
    "    # and  set the temperature (creativity level)\n",
    "    llm = ChatOpenAI(temperature=temperature, model=model_type, api_key=api_key)\n",
    "    \n",
    "    if return_json:\n",
    "        # # JsonOutputParser will use the data model classes from above\n",
    "        parser = JsonOutputParser(pydantic_object=DataParams,)    \n",
    "        # Add formatting instructions for pydantic\n",
    "        instructions =  parser.get_format_instructions()\n",
    "            \n",
    "    else:\n",
    "        ## StrOutputParser will return the response as a string\n",
    "        parser = StrOutputParser(output_key=\"response\")\n",
    "        # Manually defining the format instructions\n",
    "        instructions = \"Respond with text for each topic as a nested list with the topic number,  descriptive label,top words, and short insight.\"\n",
    "        \n",
    "        \n",
    "    ## Adding the instructions to the prompt template\n",
    "    final_prompt_template = final_prompt_template.partial(format_instructions=instructions)\n",
    "    \n",
    "    \n",
    "    # Making the final chain\n",
    "    llm_chain = final_prompt_template | llm | parser\n",
    "    \n",
    "    # Invoke the chain with the query to get the response\n",
    "    return llm_chain.invoke(input=dict(specs=specs))"
   ]
  },
  {
   "cell_type": "code",
   "execution_count": 45,
   "metadata": {},
   "outputs": [
    {
     "data": {
      "text/plain": [
       "{'city_region_name': 'Phoenix, AZ',\n",
       " 'coordinates': {'urban': {'SW': [33.4484, -112.074],\n",
       "   'NE': [33.4584, -112.064]},\n",
       "  'rural': {'SW': [33.3484, -112.174], 'NE': [33.3584, -112.164]}},\n",
       " 'time': {'start': '2022-06-01', 'end': '2022-08-31'}}"
      ]
     },
     "execution_count": 45,
     "metadata": {},
     "output_type": "execute_result"
    }
   ],
   "source": [
    "\n",
    "specs = \"\"\"Select a region that will be a perfect example of the effects of urban heat islands.\n",
    "Select small identically-sized nearby non-overlapping regions from the selected area to minimize the size of the dataset.\n",
    "Do not use Texas.\"\"\"\n",
    "\n",
    "# ask ChatGPT to suggest another set of parameters\n",
    "chatgpt_params = suggest_data_params(specs=specs, \n",
    "                                    return_json=True, temperature=0.0)\n",
    "chatgpt_params"
   ]
  },
  {
   "cell_type": "code",
   "execution_count": 46,
   "metadata": {},
   "outputs": [
    {
     "ename": "NameError",
     "evalue": "name 'preview_regions' is not defined",
     "output_type": "error",
     "traceback": [
      "\u001b[0;31m---------------------------------------------------------------------------\u001b[0m",
      "\u001b[0;31mNameError\u001b[0m                                 Traceback (most recent call last)",
      "Cell \u001b[0;32mIn[46], line 1\u001b[0m\n\u001b[0;32m----> 1\u001b[0m \u001b[43mpreview_regions\u001b[49m(chatgpt_params)\n",
      "\u001b[0;31mNameError\u001b[0m: name 'preview_regions' is not defined"
     ]
    }
   ],
   "source": [
    "preview_regions(chatgpt_params)"
   ]
  },
  {
   "cell_type": "code",
   "execution_count": null,
   "metadata": {},
   "outputs": [],
   "source": [
    "\n",
    "specs = \"\"\"Select a region that will be a perfect example of the effects of urban heat islands.\n",
    "Select small identically-sized nearby non-overlapping regions from the selected area to minimize the size of the dataset.\n",
    "Select a region in a non-desert area.\"\"\"\n",
    "\n",
    "# ask ChatGPT to suggest another set of parameters\n",
    "chatgpt_params = suggest_data_params(specs=specs, \n",
    "                                    return_json=True, temperature=0.0)\n",
    "pprint(chatgpt_params)\n",
    "preview_regions(chatgpt_params)"
   ]
  },
  {
   "cell_type": "markdown",
   "metadata": {},
   "source": [
    "And then we can use these new data_params to download the NASA Earth Science data, which will be covered in a later blog post. \n"
   ]
  },
  {
   "cell_type": "code",
   "execution_count": null,
   "metadata": {},
   "outputs": [],
   "source": [
    "# os.makedirs(\"blog\", exist_ok=True)"
   ]
  },
  {
   "cell_type": "code",
   "execution_count": null,
   "metadata": {},
   "outputs": [],
   "source": [
    "# !pip freeze"
   ]
  },
  {
   "cell_type": "code",
   "execution_count": null,
   "metadata": {},
   "outputs": [],
   "source": [
    "# !pip freeze >> blog/requirements.txt"
   ]
  },
  {
   "cell_type": "code",
   "execution_count": null,
   "metadata": {},
   "outputs": [],
   "source": [
    "# with open(\"blog/requirements.txt\", \"r\") as f:\n",
    "#     print(f.read()) "
   ]
  },
  {
   "cell_type": "markdown",
   "metadata": {},
   "source": [
    "`ADD SEGWAY NOW THAT DOWNLOAD CODE NOT INCLUDED`\n",
    "The processing code for working with the downloaded files is beyond the scope of this blog post. However, suffice it to say that there may be data quality issues or other challenges that need to be addressed. \n",
    "\n",
    "For example, the downloaded files may contain a large amount of missing or corrupted data. These issues can be addressed using a combination of data preprocessing techniques, data cleaning methods, and data transformation tools. However, if we can adjust our starting parameters dynamically, we can find parameters with fewer issues, allowing a cleaner analysis.\n",
    "\n",
    "To do so, we will leverage the OpenAI API with LangChain to query ChatGPT for new suggested parameters from within our notebook."
   ]
  },
  {
   "cell_type": "code",
   "execution_count": null,
   "metadata": {},
   "outputs": [],
   "source": [
    "raise Exception(\"Stop here\") "
   ]
  },
  {
   "cell_type": "code",
   "execution_count": null,
   "metadata": {},
   "outputs": [],
   "source": [
    "def preview_regions(data_params):\n",
    "    \n",
    "\n",
    "    # Dataframe to store results\n",
    "    sampled_coordinates = []\n",
    "\n",
    "    # Check if any coordinates within the bounding boxes are over sea\n",
    "    for region, bounding_box in data_params['coordinates'].items():\n",
    "        # Generate sample points within the bounding box\n",
    "        sample_points = generate_sample_points(bounding_box['SW'], bounding_box['NE'], num_points=10)\n",
    "        for lat, lon in sample_points:\n",
    "            sampled_coordinates.append({'Region': region, 'Latitude': lat, 'Longitude': lon})\n",
    "\n",
    "    # Convert results to DataFrame\n",
    "    coords_df = pd.DataFrame(sampled_coordinates)\n",
    "    \n",
    "    \n",
    "        ## Plot the region suggested\n",
    "    fig = px.scatter_mapbox(coords_df, lat=\"Latitude\", lon=\"Longitude\", color='Region',\n",
    "                            # color_continuous_scale=\"Viridis\", \n",
    "                            mapbox_style=\"carto-positron\",\n",
    "                            title=f\"Preview of Selected Bounding Boxes for {data_params['city_region_name']}\",\n",
    "                            height=600, width=600)\n",
    "\n",
    "    # Remove left and right side margins\n",
    "    fig.update_layout(\n",
    "        margin={\"r\":0, \"l\":0,'b':0, 't':100},\n",
    "        legend={'orientation':\"h\", 'yanchor':\"top\", 'y':1.05, 'xanchor':\"left\", 'x':0},\n",
    "        \n",
    "    )\n",
    "\n",
    "    return fig\n",
    "    ## Save fig for README\n",
    "    # fig.write_image(f\"{img_dir}selected_regions.png\")"
   ]
  },
  {
   "cell_type": "markdown",
   "metadata": {},
   "source": [
    "We aim to produce a JSON-dictionary with the same structure as our original data_params. To achieve this, we define a Pydantic data model."
   ]
  },
  {
   "cell_type": "code",
   "execution_count": null,
   "metadata": {},
   "outputs": [],
   "source": []
  },
  {
   "cell_type": "markdown",
   "metadata": {},
   "source": [
    "### Structured Output"
   ]
  },
  {
   "cell_type": "markdown",
   "metadata": {},
   "source": [
    "- We can construct a Pydantic data model to control structured output of API parameters from ChatGPT.\n",
    "\n",
    "The pydantic data model will be a class that contains defined the exact structure of the desired output, including data types."
   ]
  },
  {
   "cell_type": "markdown",
   "metadata": {},
   "source": [
    "The default example from the langchain documentation is as follows:"
   ]
  },
  {
   "cell_type": "code",
   "execution_count": null,
   "metadata": {},
   "outputs": [],
   "source": [
    "from langchain_core.pydantic_v1 import BaseModel, Field\n",
    "from langchain_core.output_parsers import JsonOutputParser\n",
    "\n",
    "# Create the prompt    \n",
    "prompt_template_string = \"\"\"Tell me a joke about {topic}\n",
    "Format Instructions:\n",
    "{format_instructions}\n",
    "\"\"\"\n",
    "prompt = PromptTemplate.from_template(prompt_template_string)\n",
    "\n",
    "# Create the LLM\n",
    "chat = ChatOpenAI(api_key=os.environ['OPENAI_API_KEY'], model=\"gpt-4o\", temperature=0.0)\n",
    "\n",
    "\n",
    "# Specify the structured output for the LLM\n",
    "class Joke(BaseModel):\n",
    "    setup: str = Field(description=\"The setup of the joke\")\n",
    "    punchline: str = Field(description=\"The punchline to the joke\")\n",
    "    \n",
    "# Create the output parser with the structured output\n",
    "output_parser = JsonOutputParser(pydantic_object=Joke)\n",
    "\n",
    "# Add the format instructions from the Output Parser using the .partial PromptTemplate method\n",
    "prompt = prompt.partial(format_instructions=output_parser.get_format_instructions())\n",
    "\n",
    "# Construct the chain\n",
    "chain = prompt | chat | output_parser\n",
    "chain"
   ]
  },
  {
   "cell_type": "code",
   "execution_count": null,
   "metadata": {},
   "outputs": [],
   "source": [
    "response = chain.invoke({'topic':'chickens'})\n",
    "response.keys()"
   ]
  },
  {
   "cell_type": "code",
   "execution_count": null,
   "metadata": {},
   "outputs": [],
   "source": [
    "print(response['setup'])\n",
    "print(response['punchline'])"
   ]
  },
  {
   "cell_type": "code",
   "execution_count": null,
   "metadata": {},
   "outputs": [],
   "source": [
    "# preview_regions(data_params)"
   ]
  },
  {
   "cell_type": "markdown",
   "metadata": {},
   "source": [
    "### Unused Sentence"
   ]
  },
  {
   "cell_type": "markdown",
   "metadata": {},
   "source": [
    "Instead of using f-strings to construct the final prompt for the language model, we can use `langchain` library to create an LLM chain that automatically formats the prompt with the query provided by the user. We do so by converting our string prompt to a PromptTemplate object using the .from_template method. \n"
   ]
  },
  {
   "cell_type": "markdown",
   "metadata": {},
   "source": [
    "### [`STILL NEEDED?`]Reproducible and Customizable Queries/Prompts "
   ]
  },
  {
   "cell_type": "markdown",
   "metadata": {},
   "source": [
    "We got a lot of great information from our prompt:\n",
    "- We have new coordinates includes in our result,\n",
    "- We have new time period\n",
    "\n",
    "but there are 2 issues to resolve:\n",
    "- Continuing to tweak and iterate on our prompt to get updated results \n",
    "- we received a large amount of unnecessary text, if all we want is the new values for our data_params dictionary. \n",
    "\n",
    "\n",
    "Therefore, we will construct a detailed system prompt that includes a `query` parameter, which is where we will add additional details to our requests. \n"
   ]
  }
 ],
 "metadata": {
  "kernelspec": {
   "display_name": "Python 3 (ipykernel)",
   "language": "python",
   "name": "python3"
  },
  "language_info": {
   "codemirror_mode": {
    "name": "ipython",
    "version": 3
   },
   "file_extension": ".py",
   "mimetype": "text/x-python",
   "name": "python",
   "nbconvert_exporter": "python",
   "pygments_lexer": "ipython3",
   "version": "3.11.9"
  }
 },
 "nbformat": 4,
 "nbformat_minor": 4
}
